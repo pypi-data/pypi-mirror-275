{
 "cells": [
  {
   "cell_type": "markdown",
   "id": "ed61066d",
   "metadata": {},
   "source": [
    "# TCE creation examples"
   ]
  },
  {
   "cell_type": "markdown",
   "id": "448839d3",
   "metadata": {},
   "source": [
    "This notebook shows how to create a Threshold Crossing Event (TCE) object using the framework built into exovetter. \n",
    "\n",
    "A TCE stores the measured properties (orbital period, transit depth, etc.) of a proposed transit that usually come out of a transit search pipeline. You can create TCEs by manually inputting the data, or automattically populating the required fields using exo.mast's API. TCEs are used as an input to most vetters.\n"
   ]
  },
  {
   "cell_type": "code",
   "execution_count": 1,
   "id": "7e4c287d",
   "metadata": {},
   "outputs": [],
   "source": [
    "from astropy import units as u\n",
    "from exovetter import const as exo_const\n",
    "from exovetter.tce import Tce"
   ]
  },
  {
   "cell_type": "markdown",
   "id": "8a3f3fe6",
   "metadata": {},
   "source": [
    "## Example: Creating a TCE in BKJD by manually inputing properties:"
   ]
  },
  {
   "cell_type": "markdown",
   "id": "c81328bf",
   "metadata": {},
   "source": [
    "One way to create a TCE is by manually populating the fields with values. Note the epoch can be input in multiple time systems (BJD, BKJD, BTJD, etc) as long as the correct offset is supplied in the `epoch_offset` parameter "
   ]
  },
  {
   "cell_type": "code",
   "execution_count": 2,
   "id": "1527b525",
   "metadata": {},
   "outputs": [
    {
     "data": {
      "text/plain": [
       "{'period': <Quantity 5.3 d>,\n",
       " 'epoch': <Quantity 133.4 d>,\n",
       " 'epoch_offset': <Quantity -2454833. d>,\n",
       " 'depth': <Quantity 1.e-06>,\n",
       " 'duration': <Quantity 24. h>,\n",
       " 'comment': 'example'}"
      ]
     },
     "metadata": {},
     "output_type": "display_data"
    }
   ],
   "source": [
    "# Define properties which will be used in the TCE\n",
    "period = 5.3 * u.day\n",
    "epoch = 133.4 * u.day\n",
    "depth = 1 * exo_const.ppm\n",
    "duration = 24 * u.hr\n",
    "\n",
    "# create a TCE object using the exovetter.tce.Tce class\n",
    "my_tce = Tce(period=period, epoch=epoch, \n",
    "             epoch_offset=exo_const.bkjd, depth=depth, # assuming epoch was input in BKJD \n",
    "             duration=duration, comment='example')\n",
    "\n",
    "display(my_tce)\n",
    "    "
   ]
  },
  {
   "cell_type": "markdown",
   "id": "1063ccc7",
   "metadata": {},
   "source": [
    "You can check if all required parameters are present to run in a vetter using the validate method"
   ]
  },
  {
   "cell_type": "code",
   "execution_count": 3,
   "id": "c674f6e4",
   "metadata": {},
   "outputs": [
    {
     "name": "stdout",
     "output_type": "stream",
     "text": [
      "All required parameters are present\n"
     ]
    }
   ],
   "source": [
    "if my_tce.validate() is True:\n",
    "    print('All required parameters are present')\n",
    "else:\n",
    "    print('All required parameters are not present')"
   ]
  },
  {
   "cell_type": "markdown",
   "id": "dc829f33",
   "metadata": {},
   "source": [
    "## Example: Creating a TCE from archival data\n",
    "\n",
    "For objects in the exo.MAST archive (https://exo.mast.stsci.edu/docs/) we can pull down data to populate the TCE object."
   ]
  },
  {
   "cell_type": "code",
   "execution_count": 4,
   "id": "fad21c48",
   "metadata": {
    "scrolled": true
   },
   "outputs": [
    {
     "name": "stdout",
     "output_type": "stream",
     "text": [
      "catalogs found:\n",
      "exoplanets.org\n",
      "nexsci\n"
     ]
    }
   ],
   "source": [
    "import requests\n",
    "\n",
    "planeturl = \"https://exo.mast.stsci.edu/api/v0.1/exoplanets/\"\n",
    "planet_name = \"WASP-18 b\"\n",
    "url = planeturl + planet_name + \"/properties/\"\n",
    "\n",
    "header={}\n",
    "r = requests.get(url = url, headers = header)\n",
    "\n",
    "planet_props = r.json() # return a list of properties from the catalogs found on mast \n",
    "\n",
    "print('catalogs found:')\n",
    "for catalog in planet_props:\n",
    "    print(catalog['catalog_name'])\n",
    "    "
   ]
  },
  {
   "cell_type": "markdown",
   "id": "e1af4653",
   "metadata": {},
   "source": [
    "These values taken from the archive can then be input into the TCE object."
   ]
  },
  {
   "cell_type": "code",
   "execution_count": 5,
   "id": "f356321d",
   "metadata": {},
   "outputs": [
    {
     "data": {
      "text/plain": [
       "{'period': <Quantity 0.94145223 d>,\n",
       " 'epoch': <Quantity 58374.669883 d>,\n",
       " 'epoch_offset': <Quantity -2400000.5 d>,\n",
       " 'depth': <Quantity 0.00931894>,\n",
       " 'duration': <Quantity 0.08932 d>,\n",
       " 'snr': 50,\n",
       " 'event_name': 'WASP-18 b',\n",
       " 'target_name': 'WASP-18'}"
      ]
     },
     "metadata": {},
     "output_type": "display_data"
    }
   ],
   "source": [
    "nexsci_prop = planet_props[1] \n",
    "\n",
    "my_tce = Tce(period = nexsci_prop['orbital_period'] * u.day,\n",
    "             epoch = nexsci_prop['transit_time'] * u.day,\n",
    "             epoch_offset =  exo_const.mbjd, # The nexsci catalog gives transit time in MBJD\n",
    "             depth = nexsci_prop['transit_depth'] * exo_const.frac_amp,\n",
    "             duration = nexsci_prop['transit_duration'] * u.day,\n",
    "             snr = 50, #This value is only used by LPP and doesn't need to be very precise\n",
    "             event_name = \"WASP-18 b\",\n",
    "             target_name = \"WASP-18\")\n",
    "\n",
    "display(my_tce)"
   ]
  },
  {
   "cell_type": "markdown",
   "id": "f2e34d49",
   "metadata": {},
   "source": [
    "# Example: Automatically creating a TCE from archival data"
   ]
  },
  {
   "cell_type": "markdown",
   "id": "eab4bec9",
   "metadata": {},
   "source": [
    "This process can be automated using the utils function `get_mast_tce()`. This populates the TCE with the period, epoch, epoch_offset, depth, and duration from exo.MAST. If multiple catalogs are present it will provide a list of TCEs created from each catalog."
   ]
  },
  {
   "cell_type": "code",
   "execution_count": 6,
   "id": "7b019b23",
   "metadata": {},
   "outputs": [
    {
     "data": {
      "text/plain": [
       "[{'period': <Quantity 0.9414529 d>,\n",
       "  'epoch': <Quantity 54664.40531 d>,\n",
       "  'epoch_offset': <Quantity -2400000.5 d>,\n",
       "  'depth': <Quantity 0.00916>,\n",
       "  'duration': <Quantity 0.09089 d>,\n",
       "  'target': 'WASP-18 b',\n",
       "  'catalog_name': 'exoplanets.org'},\n",
       " {'period': <Quantity 0.94145223 d>,\n",
       "  'epoch': <Quantity 58374.669883 d>,\n",
       "  'epoch_offset': <Quantity -2400000.5 d>,\n",
       "  'depth': <Quantity 0.00931894>,\n",
       "  'duration': <Quantity 0.08932 d>,\n",
       "  'target': 'WASP-18 b',\n",
       "  'catalog_name': 'nexsci'}]"
      ]
     },
     "metadata": {},
     "output_type": "display_data"
    }
   ],
   "source": [
    "from exovetter import utils\n",
    "\n",
    "candidate = \"WASP-18 b\"\n",
    "tce_list = utils.get_mast_tce(candidate)\n",
    "\n",
    "display(tce_list)"
   ]
  },
  {
   "cell_type": "markdown",
   "id": "0b1144ad",
   "metadata": {},
   "source": [
    "## Example: Saving and opening a saved TCE"
   ]
  },
  {
   "cell_type": "markdown",
   "id": "102a2b57",
   "metadata": {},
   "source": [
    "TCE objects have a `to_json()` method which can be used to save a created TCE to a json file."
   ]
  },
  {
   "cell_type": "code",
   "execution_count": 7,
   "id": "1d5b518d",
   "metadata": {},
   "outputs": [
    {
     "data": {
      "text/plain": [
       "'{\"period\": 0.94145223, \"period_unit\": \"d\", \"epoch\": 58374.6698830002, \"epoch_unit\": \"d\", \"epoch_offset\": -2400000.5, \"epoch_offset_unit\": \"d\", \"depth\": 0.009318937404608593, \"depth_unit\": \"\", \"duration\": 0.08932, \"duration_unit\": \"d\", \"snr\": 50, \"event_name\": \"WASP-18 b\", \"target_name\": \"WASP-18\"}'"
      ]
     },
     "execution_count": 7,
     "metadata": {},
     "output_type": "execute_result"
    }
   ],
   "source": [
    "my_tce.to_json('wasp18b_tce')"
   ]
  },
  {
   "cell_type": "markdown",
   "id": "2cdbf9e5",
   "metadata": {},
   "source": [
    "These can then be read into a new TCE using the `from_json()` method"
   ]
  },
  {
   "cell_type": "code",
   "execution_count": 8,
   "id": "1b2645bf",
   "metadata": {},
   "outputs": [
    {
     "data": {
      "text/plain": [
       "{'period': <Quantity 0.94145223 d>,\n",
       " 'epoch': <Quantity 58374.669883 d>,\n",
       " 'epoch_offset': <Quantity -2400000.5 d>,\n",
       " 'depth': <Quantity 0.00931894>,\n",
       " 'duration': <Quantity 0.08932 d>,\n",
       " 'snr': 50,\n",
       " 'event_name': 'WASP-18 b',\n",
       " 'target_name': 'WASP-18'}"
      ]
     },
     "metadata": {},
     "output_type": "display_data"
    }
   ],
   "source": [
    "my_tce = Tce.from_json('wasp18b_tce')\n",
    "display(my_tce)"
   ]
  }
 ],
 "metadata": {
  "kernelspec": {
   "display_name": "Python 3 (ipykernel)",
   "language": "python",
   "name": "python3"
  },
  "language_info": {
   "codemirror_mode": {
    "name": "ipython",
    "version": 3
   },
   "file_extension": ".py",
   "mimetype": "text/x-python",
   "name": "python",
   "nbconvert_exporter": "python",
   "pygments_lexer": "ipython3",
   "version": "3.11.7"
  }
 },
 "nbformat": 4,
 "nbformat_minor": 5
}
