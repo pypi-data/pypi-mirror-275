{
 "cells": [
  {
   "cell_type": "code",
   "execution_count": 1,
   "metadata": {},
   "outputs": [],
   "source": [
    "from drift_monitor import DriftMonitor, register"
   ]
  },
  {
   "cell_type": "markdown",
   "metadata": {},
   "source": [
    "Collect your \"MyToken\" from your secrets and use it in the code below.\n"
   ]
  },
  {
   "cell_type": "code",
   "execution_count": 2,
   "metadata": {},
   "outputs": [],
   "source": [
    "mytoken_secret = open(\"secrets/mytoken\", \"r\").read()"
   ]
  },
  {
   "cell_type": "markdown",
   "metadata": {},
   "source": [
    "Register to the service in case you did not do it before."
   ]
  },
  {
   "cell_type": "code",
   "execution_count": 3,
   "metadata": {},
   "outputs": [],
   "source": [
    "register(accept_terms=True, token=mytoken_secret)"
   ]
  },
  {
   "cell_type": "markdown",
   "metadata": {},
   "source": [
    "Define your detector methods. In this example, for the aim os simplicity, we mock detectors where a tuple (detection, features) is returned. The detection is a boolean indicating if the detector found an anomaly or not. The features is a dictionary with the features used in the detector.\n"
   ]
  },
  {
   "cell_type": "code",
   "execution_count": 4,
   "metadata": {},
   "outputs": [],
   "source": [
    "def concept_detector(*args, **kwds) -> tuple[bool, dict]:\n",
    "    return True, {\"feature1\": 0.05, \"feature2\": 0.1}\n",
    "\n",
    "\n",
    "def data_detector(*args, **kwds) -> tuple[bool, dict]:\n",
    "    return True, {\"feature3\": 0.02, \"feature4\": 0.08}"
   ]
  },
  {
   "cell_type": "markdown",
   "metadata": {},
   "source": [
    "Now open a DriftMonitor context and call the detectors. The DriftMonitor will store the results in a dictionary with the detector names as keys and the tuple (detection, features) as values.\n"
   ]
  },
  {
   "cell_type": "code",
   "execution_count": 5,
   "metadata": {},
   "outputs": [],
   "source": [
    "with DriftMonitor(\"model_1\", mytoken_secret) as monitor:\n",
    "    detected, detection_parameters = concept_detector()\n",
    "    monitor.concept(detected, detection_parameters)\n",
    "    detected, detection_parameters = data_detector()\n",
    "    monitor.data(detected, detection_parameters)"
   ]
  },
  {
   "cell_type": "markdown",
   "metadata": {},
   "source": [
    "When the context is closed, the DriftMonitor will send the results to the API with status \"Completed\". If and exception occurs, the DriftMonitor will catch the exception, send the results with status \"Failed\" and re-raise the exception.\n"
   ]
  }
 ],
 "metadata": {
  "kernelspec": {
   "display_name": "ai4os",
   "language": "python",
   "name": "python3"
  },
  "language_info": {
   "codemirror_mode": {
    "name": "ipython",
    "version": 3
   },
   "file_extension": ".py",
   "mimetype": "text/x-python",
   "name": "python",
   "nbconvert_exporter": "python",
   "pygments_lexer": "ipython3",
   "version": "3.12.2"
  }
 },
 "nbformat": 4,
 "nbformat_minor": 2
}
