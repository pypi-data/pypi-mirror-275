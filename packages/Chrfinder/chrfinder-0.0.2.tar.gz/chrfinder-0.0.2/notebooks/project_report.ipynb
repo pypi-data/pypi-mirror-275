{
 "cells": [
  {
   "cell_type": "markdown",
   "id": "735be567-ef26-49fd-b46f-67af1f3bee26",
   "metadata": {
    "tags": []
   },
   "source": [
    "<center><h1> Determination of the best chromatography type </h1></center>\n",
    "    \n",
    "## **Introduction**\n",
    "\n",
    "<p style=\"text-align: justify;\">Chromatography is a crucial analytical method in chemistry used for separating, identifying, and quantifying components in a mixture, and selecting the appropriate type of chromatography (e.g., gas chromatography, liquid chromatography, thin-layer chromatography) is essential for optimal results. This is why we decided to create a programming tool that allows to determine easily the chromatpgraphy type as well as the best eluent needed to carry out the chromatography. \n",
    "This report details the development and execution of a programming project aimed at creating a tool to determine the most suitable chromatography technique for analyzing a given mixture of molecules. The project was conducted using python programming laguage. The different functions created to make this tool are listed in different notebooks in which each of them are commented. Moreover, the full project has been written on the source python file. \n",
    "To carry out this project, a data base has been used in order to extract all the important information that were needed to establish the best chromatography type, then a function that takes into account all the different information has been created and finaly, a user interface has been created.\n",
    "\n",
    "## **Objectives**\n",
    "\n",
    "The primary objective of this project was to develop a program that:\n",
    "\n",
    "- Accepts input data on the molecular composition of a mixture.\n",
    "- Analyzes the properties of the molecules.\n",
    "- Recommends the most suitable chromatography technique based on predefined criteria and standards.\n",
    "\n",
    "## **Used Packages**\n",
    "\n",
    "- Tkinter: used to create a Graphical User Interface \n",
    "- Pandas: used to create a data frame in which all the properties are added\n",
    "- Pubchemprops: used to retrieve most of the properties of the molecules from pubchem (missing pKa)\n",
    "- pka_lookup.py: A function written by Khoi Van which request the needed dictionnary of strings on PubChem.\n",
    " "
   ]
  },
  {
   "cell_type": "markdown",
   "id": "ad65be8b-91a5-4967-b308-d1240b963934",
   "metadata": {
    "tags": []
   },
   "source": [
    "## **Methodology**"
   ]
  },
  {
   "cell_type": "markdown",
   "id": "b66a1e56-b03d-49c0-8b6c-617a9a99a2d4",
   "metadata": {},
   "source": [
    "### 1. Graphical User Interface ###\n",
    "\n",
    "<p style=\"text-align: justify;\">A simple user interface was developed using Tkinter, allowing users to input the name of several molecules and obtain chromatography recommendations. The user can give molecule names that will be added to a listbox to keep in mind the different molecules in the mixture. The user then decides to determine the best chromatography type that will be indicated on the interface using the \"Determine Chromatography\" button. If an error occurs, an error message will be displayed using a message box on the user interface."
   ]
  },
  {
   "cell_type": "markdown",
   "id": "ba83b8eb-0577-4442-8682-cd0c5ef6aa9d",
   "metadata": {},
   "source": [
    "<div style=\"display: flex; justify-content: center; align-items: center; padding: 20px;\">\n",
    "    <div style=\"margin: 10px;\">\n",
    "        <img src=\"../assets/edited-hydrocarbure.gif\" alt=\"hydrocarbures\" style=\"width: 400px; height: auto;\">\n",
    "    </div>\n",
    "    <div style=\"margin: 10px;\">\n",
    "        <img src=\"../assets/edited-naphtalene-.gif\" alt=\"HPLCexample\" style=\"width: 400px; height: auto;\">\n",
    "    </div>\n",
    "</div>\n"
   ]
  },
  {
   "cell_type": "markdown",
   "id": "bde3e92d-ce16-4a6e-89ff-ad6d621f70b8",
   "metadata": {},
   "source": [
    "These two examples show how the results appear on the user ineterface when molecules are added. Above, two different mixtures are given, hence, two different results appear on the screen."
   ]
  },
  {
   "cell_type": "markdown",
   "id": "d8118e51-91b4-41d6-a303-a0eae89b3c70",
   "metadata": {
    "tags": []
   },
   "source": [
    "\n",
    "### 2. Data Collection and Preparation ###\n",
    "<p style=\"text-align: justify;\">\n",
    "A dataset containing various molecular properties (e.g., molecular weight, polarity, solubility) and corresponding successful chromatography types was compiled.\n",
    "Data preprocessing included handling missing values such as the pKa values. Relevant features such as molecular weight, polarity index, boiling point, pKa and solubility were selected and added to a data frame. \n",
    "\n",
    "First we import the function from the Chrfinder.py file."
   ]
  },
  {
   "cell_type": "code",
   "execution_count": 3,
   "id": "08bcc299-5b14-4a88-8455-90bd7ef10588",
   "metadata": {},
   "outputs": [],
   "source": [
    "from Chrfinder import find_pka, find_boiling_point, get_df_properties"
   ]
  },
  {
   "cell_type": "markdown",
   "id": "df5e4f23-2ee9-4816-b9b5-5ac234b8a6ff",
   "metadata": {},
   "source": [
    "Then we can create a list of compounds, which will normally be done by tkinter."
   ]
  },
  {
   "cell_type": "code",
   "execution_count": 4,
   "id": "73032b6f-f8b4-4076-9271-e1359b43e573",
   "metadata": {},
   "outputs": [],
   "source": [
    "mixture = [\"caffeine\", \"Aspirin\", \"Maleic acid\"]"
   ]
  },
  {
   "cell_type": "markdown",
   "id": "8c2ddb05-0eb8-40c3-a789-030304e24aea",
   "metadata": {},
   "source": [
    "Then we run and print the dataframe:"
   ]
  },
  {
   "cell_type": "code",
   "execution_count": 5,
   "id": "bd39dd45-18df-42e6-89dd-5cd5599c9578",
   "metadata": {},
   "outputs": [
    {
     "name": "stdout",
     "output_type": "stream",
     "text": [
      "      CID MolecularFormula  MolecularWeight                     InChIKey  \\\n",
      "0    2519        C8H10N4O2           194.19  RYYVLZVUVIJVGH-UHFFFAOYSA-N   \n",
      "1    2244           C9H8O4           180.16  BSYNRYMUTXBXSQ-UHFFFAOYSA-N   \n",
      "2  444266           C4H4O4           116.07  VZCYOOQTPOCHFL-UPHRSURJSA-N   \n",
      "\n",
      "                         IUPACName  XLogP    pKa  Boiling Point  \n",
      "0  1,3,7-trimethylpurine-2,6-dione   -0.1  14.00         177.93  \n",
      "1          2-acetyloxybenzoic acid    1.2   3.47         140.00  \n",
      "2          (Z)-but-2-enedioic acid   -0.3   1.83         135.00  \n",
      "      CID MolecularFormula  MolecularWeight                     InChIKey  \\\n",
      "0    2519        C8H10N4O2           194.19  RYYVLZVUVIJVGH-UHFFFAOYSA-N   \n",
      "1    2244           C9H8O4           180.16  BSYNRYMUTXBXSQ-UHFFFAOYSA-N   \n",
      "2  444266           C4H4O4           116.07  VZCYOOQTPOCHFL-UPHRSURJSA-N   \n",
      "\n",
      "                         IUPACName  XLogP    pKa  Boiling Point  \n",
      "0  1,3,7-trimethylpurine-2,6-dione   -0.1  14.00         177.93  \n",
      "1          2-acetyloxybenzoic acid    1.2   3.47         140.00  \n",
      "2          (Z)-but-2-enedioic acid   -0.3   1.83         135.00  \n"
     ]
    }
   ],
   "source": [
    "print(get_df_properties(mixture))"
   ]
  },
  {
   "cell_type": "markdown",
   "id": "b7b676ba-e6c2-48df-8a86-ddccaed0aba3",
   "metadata": {},
   "source": [
    "### 3. Determination of the chromatography type ###\n",
    "<p style=\"text-align: justify;\">\n",
    "A function has been created to determine the most suiatble chromatography type based on the physical-chemical properties of the molecules saved on a data frame. To do this the following dependencies has tp be installed:"
   ]
  },
  {
   "cell_type": "code",
   "execution_count": 7,
   "id": "7a7d1026-916e-4344-b274-cbe2307aa908",
   "metadata": {},
   "outputs": [],
   "source": [
    "import pandas as pd"
   ]
  },
  {
   "cell_type": "markdown",
   "id": "10944839-7ac6-435a-9edf-62dbd6e8048c",
   "metadata": {},
   "source": [
    "Pandas will create a data frame from a dictionary as follows:"
   ]
  },
  {
   "cell_type": "code",
   "execution_count": 8,
   "id": "7f094ec3-9b8b-41fd-a2f2-81dbb7902319",
   "metadata": {},
   "outputs": [
    {
     "name": "stdout",
     "output_type": "stream",
     "text": [
      "  Mixture  Boiling Point  XlogP           pKa  MolecularWeight\n",
      "0     Caf          178.0  -0.07          [14]              194\n",
      "1     Ace          332.7  -1.33        [3.02]              204\n",
      "2     Asp          246.0   0.07  [1.08, 9.13]              133\n"
     ]
    }
   ],
   "source": [
    "data = {\n",
    "    'Mixture': ['Caf', 'Ace', 'Asp'],\n",
    "    'Boiling Point': [178, 332.7, 246],\n",
    "    'XlogP': [-0.07, -1.33, 0.07],\n",
    "    'pKa': [[14], [3.02], [1.08, 9.13]],\n",
    "    'MolecularWeight': [194, 204, 133],\n",
    "}\n",
    "\n",
    "df = pd.DataFrame(data)\n",
    "print(df)"
   ]
  },
  {
   "cell_type": "markdown",
   "id": "d69fb945-57d1-4e1f-906e-d1cc113b0a99",
   "metadata": {},
   "source": [
    "As can be seen in the second column it is indicated the names of all the molecules from the mixture. Then the properties used by the function are the boiling point in [°C], the XlogP, the pKa and the molecular weight in [g/mol].\n",
    "\n",
    "Following an example of the functionality of the function:"
   ]
  },
  {
   "cell_type": "code",
   "execution_count": null,
   "id": "ee77c155-6de2-479a-8ea5-ca6cc02e6155",
   "metadata": {},
   "outputs": [],
   "source": [
    "import det_chromato(df) as detc\n",
    "Mixture_chromato_type, eluent_nature, proposed_pH = det_chromato(df)"
   ]
  },
  {
   "cell_type": "markdown",
   "id": "cd195f3c-74ab-4bf2-b55e-fdb5f3c0dbe9",
   "metadata": {},
   "source": [
    "The function will look up column per column in the data frame and search the maximum or the minimum of each fisical or chemical properties. Based on that it start to predict the best chromatogrphy to perform:\n",
    "\n",
    "The GC will be performed if the max **boiling temperature** of the mixture is under 250 °C, this will ensure the high volatility of the mixture.\n",
    "\n",
    "The **molar weight** will indicate if the steric exclusion chromatography is allowed or not. It is suitable for heavy molecules, thus for the compounds in the mixture with a mass larger than 2000 g/mol.\n",
    "\n",
    "The choice between high pressure liquid chromatography (HPLC) and ionic chromatography (IC) is determined by the **XlogP**, wich is an indicator of the hydrophilicity of the molecules. Negative values for the **XlogP** indicates that the molecule is likely to dissolve in water (thus hydrophile), positive values indicates that the molecule is more likely to dissolve in organic solvents (thus hydrofobe). Therefore the more hydrophile is the molecule the more likely it will ionize, hence the suitable chromatography will be IC. \n",
    "\n",
    "In the liquid chromatography such as HPLC or IC the pH of the eluent is an important parameter which can lead to a good separation. All the molecules have to be stable at this pH otherwise they can degrade and the separation will not be good. to ensure the stability of the molecules, the function propose a pH wich is 2 values above the minimum **pKa** of the mixture compunds."
   ]
  },
  {
   "cell_type": "code",
   "execution_count": null,
   "id": "f64f399d-3b03-4c94-84cc-3e0ccf46862c",
   "metadata": {},
   "outputs": [],
   "source": [
    "print(f\"The advisable chromatography type is: {Mixture_chromato_type}\")\n",
    "print(f\"Eluent nature: {eluent_nature}\")\n",
    "if proposed_pH is not None:\n",
    "    print(f\"Proposed pH for the eluent: {proposed_pH}\")"
   ]
  },
  {
   "cell_type": "markdown",
   "id": "e699e4ea-0fdf-41a6-8443-96c345fe6cf2",
   "metadata": {},
   "source": [
    "### 4. Explanation of each part of get_df_properties(mixture) (c.f. Methodology.2.) ###\n",
    "#### Getting 'CID', 'MolecularFormula', 'MolecularWeight', 'InChIKey', 'IUPACName', 'XLogP' using PubChem requests \n",
    "(only missing Boiling Point and pka)\n",
    "\n",
    "This part of the code uses pubchempy and the code of *Maxim Shevelev* (pubchemprops.py) to easily find most of the properties. It takes into arguments a list of compound's names. It will return a dictionnary for each compound with the following properties: 'CID', 'MolecularFormula', 'MolecularWeight', 'InChIKey', 'IUPACName', 'XLogP'.\n",
    "\n",
    "The tkinter interface returns a list of compounds as string. The first part of the code iterates through the whole list (compound_list), and encodes every compound name (string) as URL. Then it will search for the properties on pubchem using pubchempy and add them into a dictionnary."
   ]
  },
  {
   "cell_type": "code",
   "execution_count": null,
   "id": "954d86e1-1d89-477d-9feb-aed0a541dc01",
   "metadata": {},
   "outputs": [],
   "source": [
    "from Chrfinder.Chrfinder import get_df_properties\n",
    "\n",
    "compound_list = [\"caffeine\", \"Aspartame\", \"Acesulfame K\"]\n",
    "#Delete '#' for a list with a wrong name\n",
    "#compound_list = [\"Water\", \"Acetone\", \"Wrong name\"]\n",
    "\n",
    "get_df_properties(compound_list, verbose = True)"
   ]
  },
  {
   "cell_type": "markdown",
   "id": "b6138509-2218-4a73-93b0-72d6ff46dd99",
   "metadata": {},
   "source": [
    "#### <ins> Finding pka using Pubchem from InchiKey String</ins>\n",
    "\n",
    "Using the InchiKey String found by the function right before, the following function **returns the first pka found on PubChem as string**. This value, similary to the Boiling temperature, is a lot harder to find. This script uses a file of *Khoi Van* named **pka_lookup.py** which request the needed dictionnary of strings on PubChem. This means it takes **quite a while to find the string**, but creating a database is in scope. \n",
    "\n",
    "From the string found, this code extracts the pka_value from the dictionnary and returns the value as a string which will be converted in float in the function of Chrfinder.py."
   ]
  },
  {
   "cell_type": "code",
   "execution_count": null,
   "id": "56af93f0-23b1-4c1d-87ea-0e14d7ada4fd",
   "metadata": {},
   "outputs": [],
   "source": [
    "from Chrfinder.Chrfinder import find_pka\n",
    "\n",
    "#inchikey of caffeine\n",
    "inchikey_string = 'RYYVLZVUVIJVGH-UHFFFAOYSA-N'\n",
    "\n",
    "find_pka(inchikey_string, verbose=True)"
   ]
  },
  {
   "cell_type": "markdown",
   "id": "e85c78ef-6b74-4c76-b52d-2c0ee46eb94b",
   "metadata": {},
   "source": [
    "#### <ins> Finding Boiling Temperature using Pubchem from name</ins>\n",
    "\n",
    "Using the names of compound_list, the following function **returns the mean of the celsius and Fahrenheit Boiling Temperatures found on PubChem as float**. This value, similary to the Boiling temperature, is a lot harder to find. This script uses a file of *Maxim Shevelev* named **pubchemprops.py** which request the needed dictionnary of strings on PubChem. This means it takes **quite a while to find the string**, but creating a database is in scope. \n",
    "\n",
    "From the string_value in text_dict (extracted from PubChem), this code extracts all the boiling points from the dictionnary and returns the mean after converting Fahrenheit in celsius. The output is a float with 2 decimals."
   ]
  },
  {
   "cell_type": "code",
   "execution_count": null,
   "id": "e749f89d-f77b-4ed8-b250-1fbf4b7c3718",
   "metadata": {},
   "outputs": [],
   "source": [
    "from Chrfinder.Chrfinder import find_boiling_point\n",
    "\n",
    "mixture = \"Caffeine\"\n",
    "find_boiling_point(mixture, verbose= True)"
   ]
  },
  {
   "cell_type": "markdown",
   "id": "37f96a51-0e85-49f9-a2dc-db3f5efcba13",
   "metadata": {},
   "source": [
    "## **Results** ##\n",
    "<p style=\"text-align: justify;\">\n",
    "The final model demonstrated high accuracy in recommending the appropriate chromatography technique based on the molecular properties of the mixture. Key results include:\n",
    "\n",
    "**Feature Importance:** \n",
    "<p style=\"text-align: justify;\">\n",
    "Polarity index, molecular weight, and solubility were identified as the most influential features in determining the suitable chromatography type.\n",
    "\n",
    "**User Feedback:**\n",
    "<p style=\"text-align: justify;\">\n",
    "The interactive nature of the user interface allowed for seamless user input and clear presentation of results, enhancing the user experience.\n",
    "    \n",
    "When error occurs, messages appear to inform the user of the encountered error. An example of this feature is shown bellow:\n",
    "\n",
    "<div style=\"text-align: center; padding: 20px;\">\n",
    "    <img src=\"../assets/edited-error-molecule-not-added.gif\" alt=\"errornomolecule\" style=\"width: 400px; height: auto;\">\n",
    "</div>"
   ]
  },
  {
   "cell_type": "markdown",
   "id": "d5e4d262-3ffc-4f86-acfd-b2c31a154928",
   "metadata": {},
   "source": [
    "  \n",
    "\n",
    "## **Limits** ##\n",
    "\n",
    "The example bellow shows the limit of the program. Indeed, the suitable chromatography given by the interface is not correct, this is due to the fact that the boiling point is not given in pubchem which generates an error in the determination of the chromatography. Hence, a lack of data is limiting our project.\n",
    "\n",
    "<div style=\"text-align: center; padding: 20px;\">\n",
    "    <img src=\"../assets/edited-limit.gif\" alt=\"limit\" style=\"width: 400px; height: auto;\">\n",
    "</div>\n",
    "\n",
    "##### Take into account: \n",
    "- It takes into account **wrong names** and **compounds with no pages on PubChem**: it returns \"The_compound_name\" not found on PubChem'\n",
    "- The code works even with missing boiling point or pka in dataframe.\n",
    "\n",
    "##### To improve: \n",
    "- **Build a database**: mostly with thermostability for better choice of chromatography;\n",
    "- Taking into account **multiple pKa** values for polyacids for exemple;\n",
    "- Optimize the research: search only one time the **same name**, don't search for **one name**;\n",
    "- **Easier usage and options** of functionnalities to search physicalchemical properties in a dataframe;\n",
    "\n"
   ]
  },
  {
   "cell_type": "markdown",
   "id": "5945292b-5b88-4879-9eb5-5eeec0413f89",
   "metadata": {},
   "source": [
    "## **Encountered difficulties** ##\n",
    "\n",
    "A lot of challenges were faced to make request to pubchem:\n",
    "- Handling of **errors concerning pubchem**, no page found, wrong compound name, etc\n",
    "  \n",
    "- How to **extract string using regex**, used for pka, boiling temperature (°C) and (°F).\n",
    "  \n",
    "- Handling of **pka errors wrongly written in Pubchem** (either value in value, either input in the key of the dictionnary) <br>\n",
    "    {\"pka = 20.0\", } instead of {'pKa': '14'}\n",
    "  \n",
    "- Tests of pubchem request,\n",
    "   \n",
    "## **Conclusion** ##\n",
    "<p style=\"text-align: justify;\">\n",
    "The project successfully developed a robust program for recommending chromatography techniques based on molecular composition. The use of a user interface facilitated an efficient and interactive development process, enabling easy experimentation and visualization. This tool has significant potential applications in chemical analysis, improving efficiency and accuracy in selecting the appropriate analytical methods.\n",
    "\n",
    "## **Future Work** ##\n",
    "\n",
    "Future enhancements could include:\n",
    "\n",
    "- Expanding the dataset to cover more diverse molecular structures and additional chromatography techniques.\n",
    "- Improve the code to have a more efficient way to take the information on the molecules contained in the mixture to have the results more rapidly.\n",
    "- Integrating the program with real-time data acquisition systems for automated analysis.\n",
    "- Enhancing the user interface with more sophisticated visualization tools and user-friendly features.\n",
    "- By continuing to refine and expand this tool, it can become an invaluable resource for chemists and researchers in analytical laboratories.\n",
    "\n",
    "This report provides an overview of the programming project conducted using Python, detailing the development process, results, and future directions for the chromatography recommendation program.\n"
   ]
  },
  {
   "cell_type": "code",
   "execution_count": null,
   "id": "99622666-191d-489e-9281-6058f7d85a4c",
   "metadata": {},
   "outputs": [],
   "source": []
  }
 ],
 "metadata": {
  "kernelspec": {
   "display_name": "Python 3 (ipykernel)",
   "language": "python",
   "name": "python3"
  },
  "language_info": {
   "codemirror_mode": {
    "name": "ipython",
    "version": 3
   },
   "file_extension": ".py",
   "mimetype": "text/x-python",
   "name": "python",
   "nbconvert_exporter": "python",
   "pygments_lexer": "ipython3",
   "version": "3.10.13"
  }
 },
 "nbformat": 4,
 "nbformat_minor": 5
}
