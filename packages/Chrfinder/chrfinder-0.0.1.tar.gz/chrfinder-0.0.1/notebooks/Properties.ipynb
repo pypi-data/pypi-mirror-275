{
 "cells": [
  {
   "cell_type": "markdown",
   "id": "bb26af1d-96d2-4eec-94c9-1ce06df5d187",
   "metadata": {},
   "source": [
    "The following code just imports all the functions and packages necessary for the functionning of the functions"
   ]
  },
  {
   "cell_type": "code",
   "execution_count": 15,
   "id": "120dfaf4-35f3-4514-a02d-9e6a3d20ded4",
   "metadata": {},
   "outputs": [],
   "source": [
    "import sys\n",
    "import os\n",
    "import tkinter as tk\n",
    "from tkinter import ttk\n",
    "from tkinter import messagebox\n",
    "import pandas as pd\n",
    "from Chrfinder.pubchemprops import get_cid_by_name, get_first_layer_props, get_second_layer_props\n",
    "import urllib.error\n",
    "import urllib.parse\n",
    "from pka_lookup import pka_lookup_pubchem\n",
    "import re\n",
    "import json"
   ]
  },
  {
   "cell_type": "markdown",
   "id": "deab3619-a896-4aaa-b7f7-67e7725fa148",
   "metadata": {},
   "source": [
    "#### <center><ins>The following code is part of the Chrfinder.py function.</ins>"
   ]
  },
  {
   "cell_type": "markdown",
   "id": "9741ece4-6dc2-4b64-a55a-fa7f31cac601",
   "metadata": {},
   "source": [
    "## <span style=\"color:navy\"><ins>1. Normal usage</ins></span>"
   ]
  },
  {
   "cell_type": "markdown",
   "id": "4c7dcaeb-0949-4a0e-982b-c1e7bf5cb5ec",
   "metadata": {},
   "source": [
    "### 1.1. How to use the tkinter interface to register your mixture to separate"
   ]
  },
  {
   "cell_type": "code",
   "execution_count": 16,
   "id": "404209e7-9e12-40eb-beb1-8bc952c72d72",
   "metadata": {},
   "outputs": [],
   "source": [
    "#Input GIF "
   ]
  },
  {
   "cell_type": "markdown",
   "id": "22afd304-2127-49a5-ad53-452823b96b20",
   "metadata": {},
   "source": [
    "### 1.2. Finding the dataframe with lots of properties using get_df_properties(mixture)"
   ]
  },
  {
   "cell_type": "markdown",
   "id": "f1b96aea-0368-4ca2-b137-af3e79ebf272",
   "metadata": {},
   "source": [
    "Elisa ton texte\n",
    "\n",
    "So the use of the fonction is as follow:<br>\n",
    "First we import the function from the Chrfinder.py file."
   ]
  },
  {
   "cell_type": "code",
   "execution_count": 17,
   "id": "d89bf4ff-852d-46b2-b4a0-be8f8b4ff5d8",
   "metadata": {},
   "outputs": [],
   "source": [
    "from Chrfinder.Chrfinder import find_pka, find_boiling_point, get_df_properties"
   ]
  },
  {
   "cell_type": "markdown",
   "id": "db5e2d58-77c0-4e69-a93a-b371d96a781e",
   "metadata": {},
   "source": [
    "Then we can create a list of compounds, which will normally be done by tkinter."
   ]
  },
  {
   "cell_type": "code",
   "execution_count": 18,
   "id": "903d1cb6-98b8-40dd-832f-2b4cc49d3632",
   "metadata": {},
   "outputs": [],
   "source": [
    "mixture = [\"caffeine\", \"Aspirin\", \"Maleic acid\"]"
   ]
  },
  {
   "cell_type": "markdown",
   "id": "d6a7661b-c1e5-42af-9d03-4213a262ed4e",
   "metadata": {},
   "source": [
    "Then we run and print the dataframe:"
   ]
  },
  {
   "cell_type": "code",
   "execution_count": 19,
   "id": "2ca72e91-1b36-4a5e-9cb3-9e2e4d79ce9b",
   "metadata": {},
   "outputs": [
    {
     "name": "stdout",
     "output_type": "stream",
     "text": [
      "      CID MolecularFormula  MolecularWeight                     InChIKey  \\\n",
      "0    2519        C8H10N4O2           194.19  RYYVLZVUVIJVGH-UHFFFAOYSA-N   \n",
      "1    2244           C9H8O4           180.16  BSYNRYMUTXBXSQ-UHFFFAOYSA-N   \n",
      "2  444266           C4H4O4           116.07  VZCYOOQTPOCHFL-UPHRSURJSA-N   \n",
      "\n",
      "                         IUPACName  XLogP    pKa  Boiling Point  \n",
      "0  1,3,7-trimethylpurine-2,6-dione   -0.1  14.00         177.93  \n",
      "1          2-acetyloxybenzoic acid    1.2   3.47         140.00  \n",
      "2          (Z)-but-2-enedioic acid   -0.3   1.83         135.00  \n",
      "      CID MolecularFormula  MolecularWeight                     InChIKey  \\\n",
      "0    2519        C8H10N4O2           194.19  RYYVLZVUVIJVGH-UHFFFAOYSA-N   \n",
      "1    2244           C9H8O4           180.16  BSYNRYMUTXBXSQ-UHFFFAOYSA-N   \n",
      "2  444266           C4H4O4           116.07  VZCYOOQTPOCHFL-UPHRSURJSA-N   \n",
      "\n",
      "                         IUPACName  XLogP    pKa  Boiling Point  \n",
      "0  1,3,7-trimethylpurine-2,6-dione   -0.1  14.00         177.93  \n",
      "1          2-acetyloxybenzoic acid    1.2   3.47         140.00  \n",
      "2          (Z)-but-2-enedioic acid   -0.3   1.83         135.00  \n"
     ]
    }
   ],
   "source": [
    "print(get_df_properties(mixture))"
   ]
  },
  {
   "cell_type": "markdown",
   "id": "606e97bb-8484-4e69-9bb7-dc4ba5ac7dc4",
   "metadata": {},
   "source": [
    "### 1.3. Finding the chromatography and the best conditions using det_chromato(df)"
   ]
  },
  {
   "cell_type": "code",
   "execution_count": 11,
   "id": "4d369ce7-8674-4ff4-9129-3f70579e4c72",
   "metadata": {},
   "outputs": [],
   "source": [
    "#diogo ton code"
   ]
  },
  {
   "cell_type": "markdown",
   "id": "0a0762d3-577b-4428-8f17-b13874f508de",
   "metadata": {},
   "source": [
    "### 1.4. Explanation of each part of get_df_properties(mixture)"
   ]
  },
  {
   "cell_type": "markdown",
   "id": "7356bff1-e538-447d-97df-4bda82b21110",
   "metadata": {},
   "source": [
    "#### Getting 'CID', 'MolecularFormula', 'MolecularWeight', 'InChIKey', 'IUPACName', 'XLogP' using PubChem requests \n",
    "(only missing Boiling Point and pka)\n",
    "\n",
    "This part of the code uses pubchempy and the code of *Maxim Shevelev* (pubchemprops.py) to easily find most of the properties. It takes into arguments a list of compound's names. It will return a dictionnary for each compound with the following properties: 'CID', 'MolecularFormula', 'MolecularWeight', 'InChIKey', 'IUPACName', 'XLogP'.\n",
    "\n",
    "The tkinter interface returns a list of compounds as string. The first part of the code iterates through the whole list (compound_list), and encodes every compound name (string) as URL. Then it will search for the properties on pubchem using pubchempy and add them into a dictionnary."
   ]
  },
  {
   "cell_type": "code",
   "execution_count": 2,
   "id": "365cc9c9-9091-42d8-8f01-19a1752a1457",
   "metadata": {},
   "outputs": [
    {
     "name": "stdout",
     "output_type": "stream",
     "text": [
      "{'CID': 2519, 'MolecularFormula': 'C8H10N4O2', 'MolecularWeight': 194.19, 'InChIKey': 'RYYVLZVUVIJVGH-UHFFFAOYSA-N', 'IUPACName': '1,3,7-trimethylpurine-2,6-dione', 'XLogP': -0.1}\n",
      "{'CID': 134601, 'MolecularFormula': 'C14H18N2O5', 'MolecularWeight': 294.3, 'InChIKey': 'IAOZJIPTCAWIRG-QWRGUYRKSA-N', 'IUPACName': '(3S)-3-amino-4-[[(2S)-1-methoxy-1-oxo-3-phenylpropan-2-yl]amino]-4-oxobutanoic acid', 'XLogP': -2.7}\n",
      "{'CID': 11074431, 'MolecularFormula': 'C4H4KNO4S', 'MolecularWeight': 201.24, 'InChIKey': 'WBZFUFAFFUEMEI-UHFFFAOYSA-M', 'IUPACName': 'potassium;6-methyl-2,2-dioxo-1-oxa-2lambda6-thia-3-azanidacyclohex-5-en-4-one', 'XLogP': None}\n",
      "        CID MolecularFormula  MolecularWeight                     InChIKey  \\\n",
      "0      2519        C8H10N4O2           194.19  RYYVLZVUVIJVGH-UHFFFAOYSA-N   \n",
      "1    134601       C14H18N2O5           294.30  IAOZJIPTCAWIRG-QWRGUYRKSA-N   \n",
      "2  11074431        C4H4KNO4S           201.24  WBZFUFAFFUEMEI-UHFFFAOYSA-M   \n",
      "\n",
      "                                           IUPACName  XLogP    pKa  \\\n",
      "0                    1,3,7-trimethylpurine-2,6-dione   -0.1  14.00   \n",
      "1  (3S)-3-amino-4-[[(2S)-1-methoxy-1-oxo-3-phenyl...   -2.7   3.19   \n",
      "2  potassium;6-methyl-2,2-dioxo-1-oxa-2lambda6-th...    NaN    NaN   \n",
      "\n",
      "   Boiling Point  \n",
      "0         177.93  \n",
      "1            NaN  \n",
      "2            NaN  \n"
     ]
    },
    {
     "data": {
      "text/html": [
       "<div>\n",
       "<style scoped>\n",
       "    .dataframe tbody tr th:only-of-type {\n",
       "        vertical-align: middle;\n",
       "    }\n",
       "\n",
       "    .dataframe tbody tr th {\n",
       "        vertical-align: top;\n",
       "    }\n",
       "\n",
       "    .dataframe thead th {\n",
       "        text-align: right;\n",
       "    }\n",
       "</style>\n",
       "<table border=\"1\" class=\"dataframe\">\n",
       "  <thead>\n",
       "    <tr style=\"text-align: right;\">\n",
       "      <th></th>\n",
       "      <th>CID</th>\n",
       "      <th>MolecularFormula</th>\n",
       "      <th>MolecularWeight</th>\n",
       "      <th>InChIKey</th>\n",
       "      <th>IUPACName</th>\n",
       "      <th>XLogP</th>\n",
       "      <th>pKa</th>\n",
       "      <th>Boiling Point</th>\n",
       "    </tr>\n",
       "  </thead>\n",
       "  <tbody>\n",
       "    <tr>\n",
       "      <th>0</th>\n",
       "      <td>2519</td>\n",
       "      <td>C8H10N4O2</td>\n",
       "      <td>194.19</td>\n",
       "      <td>RYYVLZVUVIJVGH-UHFFFAOYSA-N</td>\n",
       "      <td>1,3,7-trimethylpurine-2,6-dione</td>\n",
       "      <td>-0.1</td>\n",
       "      <td>14.00</td>\n",
       "      <td>177.93</td>\n",
       "    </tr>\n",
       "    <tr>\n",
       "      <th>1</th>\n",
       "      <td>134601</td>\n",
       "      <td>C14H18N2O5</td>\n",
       "      <td>294.30</td>\n",
       "      <td>IAOZJIPTCAWIRG-QWRGUYRKSA-N</td>\n",
       "      <td>(3S)-3-amino-4-[[(2S)-1-methoxy-1-oxo-3-phenyl...</td>\n",
       "      <td>-2.7</td>\n",
       "      <td>3.19</td>\n",
       "      <td>NaN</td>\n",
       "    </tr>\n",
       "    <tr>\n",
       "      <th>2</th>\n",
       "      <td>11074431</td>\n",
       "      <td>C4H4KNO4S</td>\n",
       "      <td>201.24</td>\n",
       "      <td>WBZFUFAFFUEMEI-UHFFFAOYSA-M</td>\n",
       "      <td>potassium;6-methyl-2,2-dioxo-1-oxa-2lambda6-th...</td>\n",
       "      <td>NaN</td>\n",
       "      <td>NaN</td>\n",
       "      <td>NaN</td>\n",
       "    </tr>\n",
       "  </tbody>\n",
       "</table>\n",
       "</div>"
      ],
      "text/plain": [
       "        CID MolecularFormula  MolecularWeight                     InChIKey  \\\n",
       "0      2519        C8H10N4O2           194.19  RYYVLZVUVIJVGH-UHFFFAOYSA-N   \n",
       "1    134601       C14H18N2O5           294.30  IAOZJIPTCAWIRG-QWRGUYRKSA-N   \n",
       "2  11074431        C4H4KNO4S           201.24  WBZFUFAFFUEMEI-UHFFFAOYSA-M   \n",
       "\n",
       "                                           IUPACName  XLogP    pKa  \\\n",
       "0                    1,3,7-trimethylpurine-2,6-dione   -0.1  14.00   \n",
       "1  (3S)-3-amino-4-[[(2S)-1-methoxy-1-oxo-3-phenyl...   -2.7   3.19   \n",
       "2  potassium;6-methyl-2,2-dioxo-1-oxa-2lambda6-th...    NaN    NaN   \n",
       "\n",
       "   Boiling Point  \n",
       "0         177.93  \n",
       "1            NaN  \n",
       "2            NaN  "
      ]
     },
     "execution_count": 2,
     "metadata": {},
     "output_type": "execute_result"
    }
   ],
   "source": [
    "from Chrfinder.Chrfinder import get_df_properties\n",
    "\n",
    "compound_list = [\"caffeine\", \"Aspartame\", \"Acesulfame K\"]\n",
    "#Delete '#' for a list with a wrong name\n",
    "#compound_list = [\"Water\", \"Acetone\", \"Wrong name\"]\n",
    "\n",
    "get_df_properties(compound_list, verbose = True)"
   ]
  },
  {
   "cell_type": "markdown",
   "id": "de0c5deb-5b5c-4a50-aad5-126fada7b8ab",
   "metadata": {},
   "source": [
    "#### <ins> Finding pka using Pubchem from InchiKey String</ins>\n",
    "\n",
    "Using the InchiKey String found by the function right before, the following function **returns the first pka found on PubChem as string**. This value, similary to the Boiling temperature, is a lot harder to find. This script uses a file of *Khoi Van* named **pka_lookup.py** which request the needed dictionnary of strings on PubChem. This means it takes **quite a while to find the string**, but creating a database is in scope. \n",
    "\n",
    "From the string found, this code extracts the pka_value from the dictionnary and returns the value as a string which will be converted in float in the function of Chrfinder.py."
   ]
  },
  {
   "cell_type": "code",
   "execution_count": 1,
   "id": "e6d02607-e384-4268-b2db-8cc44b73b67f",
   "metadata": {},
   "outputs": [
    {
     "name": "stdout",
     "output_type": "stream",
     "text": [
      "{'source': 'Pubchem', 'Pubchem_CID': '2519', 'pKa': '14', 'reference': 'https://www.sigmaaldrich.com/content/dam/sigma-aldrich/docs/Sigma-Aldrich/Product_Information_Sheet/c0750pis.pdf', 'Substance_CASRN': '58-08-2', 'Canonical_SMILES': 'CN1C=NC2=C1C(=O)N(C(=O)N2C)C', 'Isomeric_SMILES': 'CN1C=NC2=C1C(=O)N(C(=O)N2C)C', 'InChI': 'InChI=1S/C8H10N4O2/c1-10-4-9-6-5(10)7(13)12(3)8(14)11(6)2/h4H,1-3H3', 'InChIKey': 'RYYVLZVUVIJVGH-UHFFFAOYSA-N', 'IUPAC_Name': '1,3,7-trimethylpurine-2,6-dione'}\n"
     ]
    },
    {
     "data": {
      "text/plain": [
       "'14'"
      ]
     },
     "execution_count": 1,
     "metadata": {},
     "output_type": "execute_result"
    }
   ],
   "source": [
    "from Chrfinder.Chrfinder import find_pka\n",
    "\n",
    "#inchikey of caffeine\n",
    "inchikey_string = 'RYYVLZVUVIJVGH-UHFFFAOYSA-N'\n",
    "\n",
    "find_pka(inchikey_string, verbose=True)"
   ]
  },
  {
   "cell_type": "markdown",
   "id": "636bf52b-8cbd-4cd9-b4b5-2f24aa011ad5",
   "metadata": {},
   "source": [
    "#### <ins> Finding Boiling Temperature using Pubchem from name</ins>\n",
    "\n",
    "Using the names of compound_list, the following function **returns the mean of the celsius and Fahrenheit Boiling Temperatures found on PubChem as float**. This value, similary to the Boiling temperature, is a lot harder to find. This script uses a file of *Maxim Shevelev* named **pubchemprops.py** which request the needed dictionnary of strings on PubChem. This means it takes **quite a while to find the string**, but creating a database is in scope. \n",
    "\n",
    "From the string_value in text_dict (extracted from PubChem), this code extracts all the boiling points from the dictionnary and returns the mean after converting Fahrenheit in celsius. The output is a float with 2 decimals."
   ]
  },
  {
   "cell_type": "code",
   "execution_count": 13,
   "id": "5f57c5d4-1261-4952-b3fb-4932d760c890",
   "metadata": {},
   "outputs": [
    {
     "name": "stdout",
     "output_type": "stream",
     "text": [
      "{'Boiling Point': [{'ReferenceNumber': 2, 'Reference': ['National Toxicology Program, Institute of Environmental Health Sciences, National Institutes of Health (NTP). 1992. National Toxicology Program Chemical Repository Database. Research Triangle Park, North Carolina.'], 'Value': {'StringWithMarkup': [{'String': '352 °F at 760 mmHg (sublimes) (NTP, 1992)'}]}}, {'ReferenceNumber': 24, 'Reference': ['http://www.inchem.org/documents/icsc/icsc/eics0405.htm'], 'Value': {'Number': [178]}}, {'ReferenceNumber': 51, 'Description': 'PEER REVIEWED', 'Reference': [\"O'Neil, M.J. (ed.). The Merck Index - An Encyclopedia of Chemicals, Drugs, and Biologicals. Cambridge, UK:  Royal Society of Chemistry, 2013., p. 289\"], 'Value': {'StringWithMarkup': [{'String': '178 °C (sublimes)'}]}}, {'ReferenceNumber': 71, 'Value': {'StringWithMarkup': [{'String': '178 °C (sublimes)'}]}}], 'Vapor Pressure': [{'ReferenceNumber': 49, 'Value': {'StringWithMarkup': [{'String': '0.00000001 [mmHg]'}]}}, {'ReferenceNumber': 51, 'Description': 'PEER REVIEWED', 'Reference': [\"Emel'yanenko VN, Verevkin SP; J Chem Thermodynamics 40: 1661-1665 (2008)\"], 'Value': {'StringWithMarkup': [{'String': '9.0X10-7 mm Hg at 25 °C /Extrapolated/'}]}}]}\n"
     ]
    },
    {
     "data": {
      "text/plain": [
       "177.93"
      ]
     },
     "execution_count": 13,
     "metadata": {},
     "output_type": "execute_result"
    }
   ],
   "source": [
    "from Chrfinder.Chrfinder import find_boiling_point\n",
    "\n",
    "mixture = \"Caffeine\"\n",
    "find_boiling_point(mixture, verbose= True)"
   ]
  },
  {
   "cell_type": "markdown",
   "id": "9ee5defd-3156-495f-8ec6-cd24e53bc134",
   "metadata": {
    "jp-MarkdownHeadingCollapsed": true
   },
   "source": [
    "## <span style=\"color:navy\"><ins>2. Limits</ins></span>"
   ]
  },
  {
   "cell_type": "markdown",
   "id": "a8c79127-ed2f-4789-b2d2-7d9d616e95bd",
   "metadata": {},
   "source": [
    "##### Take into account: \n",
    "- It takes into account **wrong names** and **compounds with no pages on PubChem**: it returns \"The_compound_name\" not found on PubChem'\n",
    "- The code works even with missing boiling point or pka in dataframe.\n",
    "\n",
    "##### To improve: \n",
    "- **Build a database**: mostly with thermostability for better choice of chromatography;\n",
    "- Taking into account **multiple pKa** values for polyacids for exemple;\n",
    "- Optimize the research: search only one time the **same name**, don't search for **one name**;\n",
    "- **Easier usage and options** of functionnalities to search physicalchemical properties in a dataframe;"
   ]
  },
  {
   "cell_type": "code",
   "execution_count": null,
   "id": "93e540b3-e343-4eeb-a82f-3adecac01647",
   "metadata": {},
   "outputs": [],
   "source": []
  },
  {
   "cell_type": "markdown",
   "id": "d3982927-e736-4b63-a2aa-50398c55fa05",
   "metadata": {
    "jp-MarkdownHeadingCollapsed": true
   },
   "source": [
    "## <span style=\"color:navy\"><ins>3. Challenges faced</ins></span>"
   ]
  },
  {
   "cell_type": "markdown",
   "id": "2ced037a-dd5b-42cd-bb3e-47b9aa14bf07",
   "metadata": {},
   "source": [
    "A lot of challenges were faced to make request to pubchem:\n",
    "- Handling of **errors concerning pubchem**, no page found, wrong compound name, etc\n",
    "  \n",
    "- How to **extract string using regex**, used for pka, boiling temperature (°C) and (°F).\n",
    "  \n",
    "- Handling of **pka errors wrongly written in Pubchem** (either value in value, either input in the key of the dictionnary) <br>\n",
    "    {\"pka = 20.0\", } instead of {'pKa': '14'}\n",
    "  \n",
    "- Tests of pubchem request, ///"
   ]
  },
  {
   "cell_type": "code",
   "execution_count": null,
   "id": "002e4a52-965a-431d-bec4-6db9971da685",
   "metadata": {},
   "outputs": [],
   "source": []
  }
 ],
 "metadata": {
  "kernelspec": {
   "display_name": "Python 3 (ipykernel)",
   "language": "python",
   "name": "python3"
  },
  "language_info": {
   "codemirror_mode": {
    "name": "ipython",
    "version": 3
   },
   "file_extension": ".py",
   "mimetype": "text/x-python",
   "name": "python",
   "nbconvert_exporter": "python",
   "pygments_lexer": "ipython3",
   "version": "3.10.13"
  }
 },
 "nbformat": 4,
 "nbformat_minor": 5
}
