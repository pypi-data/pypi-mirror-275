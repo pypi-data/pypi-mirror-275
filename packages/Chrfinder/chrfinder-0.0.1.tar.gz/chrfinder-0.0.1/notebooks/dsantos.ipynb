{
 "cells": [
  {
   "cell_type": "markdown",
   "id": "6371964d-78c7-4885-b9a5-8ef10c0107b8",
   "metadata": {},
   "source": [
    "# Determination of the suitable chromatography\n",
    "\n",
    "This part of the code allows to find the most suitable chromatography based on the physical-chemical properties of the molecules saved on a data frame.\n",
    "To do this the following dependencies has tp be installed:"
   ]
  },
  {
   "cell_type": "code",
   "execution_count": 21,
   "id": "fdf96139-2934-4e56-acf4-db9f556c2977",
   "metadata": {},
   "outputs": [],
   "source": [
    "import pandas as pd"
   ]
  },
  {
   "cell_type": "markdown",
   "id": "622f36fc-d1ff-4b96-a9ed-8267e74b537d",
   "metadata": {},
   "source": [
    "Pandas will create a data frame from a dictionary as follows:"
   ]
  },
  {
   "cell_type": "code",
   "execution_count": 30,
   "id": "99a9f2db-bb6e-4c5f-85fd-c8dbd00153c0",
   "metadata": {},
   "outputs": [
    {
     "name": "stdout",
     "output_type": "stream",
     "text": [
      "  Mixture  Boiling Point  XLogP           pKa  MolecularWeight\n",
      "0     Caf          178.0  -0.07          [14]              194\n",
      "1     Ace          332.7  -1.33        [3.02]              204\n",
      "2     Asp          246.0   0.07  [1.08, 9.13]              133\n"
     ]
    }
   ],
   "source": [
    "data = {\n",
    "    'Mixture': ['Caf', 'Ace', 'Asp'],\n",
    "    'Boiling Point': [178, 332.7, 246],\n",
    "    'XLogP': [-0.07, -1.33, 0.07],\n",
    "    'pKa': [[14], [3.02], [1.08, 9.13]],\n",
    "    'MolecularWeight': [194, 204, 133],\n",
    "}\n",
    "\n",
    "df = pd.DataFrame(data)\n",
    "print(df)"
   ]
  },
  {
   "cell_type": "markdown",
   "id": "2dbba1f8-623b-424f-be51-def8e6c9201e",
   "metadata": {},
   "source": [
    "As can be seen in the second column it is indicated the names of all the molecules from the mixture. Then the properties used by the function are the boiling point in [°C], the XlogP, the pKa and the molecular weight in [g/mol].\n",
    "\n",
    "Following an example of the functionality of the function:"
   ]
  },
  {
   "cell_type": "code",
   "execution_count": 31,
   "id": "0761d7c5-4271-48af-9d5e-6715702238e0",
   "metadata": {},
   "outputs": [],
   "source": [
    " def det_chromato(df):\n",
    "    boiling_temps = [temp for temp in df['Boiling Point'] if temp is not None]\n",
    "    if boiling_temps and max(boiling_temps) <= 250:\n",
    "        Chromato_type = 'GC'\n",
    "        eluent_nature = 'gas'\n",
    "        proposed_pH = None\n",
    "    else:\n",
    "        molar_masses = [mass for mass in df['MolecularWeight'] if mass is not None]\n",
    "        max_molar_mass = max(molar_masses) if molar_masses else None\n",
    "\n",
    "        min_pKa = float('inf')  # Initialize min_pKa with a large value\n",
    "        max_pKa = float('-inf')  # Initialize max_pKa with a small value\n",
    "        for pKa_entry in df['pKa']:\n",
    "            if isinstance(pKa_entry, list):\n",
    "                for pKa_value in pKa_entry:\n",
    "                    if pKa_value is not None:\n",
    "                        min_pKa = min(pKa_value, min_pKa)\n",
    "                        max_pKa = max(pKa_value, max_pKa)\n",
    "            else:\n",
    "                if pKa_entry is not None:\n",
    "                    min_pKa = min(pKa_entry, min_pKa)\n",
    "                    max_pKa = max(pKa_entry, max_pKa)\n",
    "        \n",
    "        if min_pKa == float('inf'):\n",
    "            min_pKa = None\n",
    "        if max_pKa == float('-inf'):\n",
    "            max_pKa = None\n",
    "\n",
    "        logPs = [logP for logP in df['XLogP'] if logP is not None]\n",
    "        max_logP = max(logPs) if logPs else None\n",
    "        min_logP = min(logPs) if logPs else None\n",
    "\n",
    "        if max_molar_mass is not None and max_molar_mass <= 2000:\n",
    "            if max_logP is not None and max_logP < 0:\n",
    "                proposed_pH = max_pKa + 2 if max_pKa is not None else None\n",
    "                if proposed_pH is not None and 3 <= proposed_pH <= 11:\n",
    "                    Chromato_type = 'IC'\n",
    "                    eluent_nature = 'aqueous'\n",
    "                else:\n",
    "                    Chromato_type = 'HPLC'\n",
    "                    eluent_nature = 'organic or hydro-organic'\n",
    "                    proposed_pH = min_pKa + 2 if min_pKa is not None else None\n",
    "            else:\n",
    "                Chromato_type = 'HPLC'\n",
    "                if min_logP is not None and -2 <= min_logP <= 0:\n",
    "                    eluent_nature = 'organic or hydro-organic'\n",
    "                    if min_logP >= 0:\n",
    "                        Chromato_type += ' on normal stationary phase'\n",
    "                    else:\n",
    "                        Chromato_type += ' on reverse stationary phase using C18 column'\n",
    "                else:\n",
    "                    eluent_nature = 'organic or hydro-organic'\n",
    "                    Chromato_type += ' on normal stationary phase'\n",
    "                proposed_pH = min_pKa + 2 if min_pKa is not None else None\n",
    "        else:\n",
    "            if max_logP is not None and max_logP < 0:\n",
    "                Chromato_type = 'HPLC on reverse stationary phase'\n",
    "                eluent_nature = 'organic or hydro-organic'\n",
    "                proposed_pH = min_pKa + 2 if min_pKa is not None else None\n",
    "            else:\n",
    "                if max_logP is not None and max_logP > 0:\n",
    "                    Chromato_type = 'SEC on gel permeation with a hydrophobe organic polymer stationary phase'\n",
    "                    eluent_nature = 'organic solvent'\n",
    "                else:\n",
    "                    Chromato_type = 'SEC on gel filtration with a polyhydroxylated hydrophile polymer stationary phase'\n",
    "                    eluent_nature = 'aqueous'\n",
    "                proposed_pH = min_pKa + 2 if min_pKa is not None else None\n",
    "    \n",
    "    return Chromato_type, eluent_nature, proposed_pH\n",
    "\n",
    "Mixture_chromato_type, eluent_nature, proposed_pH = det_chromato(df)"
   ]
  },
  {
   "cell_type": "markdown",
   "id": "08a66afb-8e43-44da-b8ea-3ce1be7bb286",
   "metadata": {},
   "source": [
    "The function will look up column per column in the data frame and search the maximum or the minimum of each fisical or chemical properties. Based on that it start to predict the best chromatogrphy to perform:\n",
    "\n",
    "The GC will be performed if the max **boiling temperature** of the mixture is under 250 °C, this will ensure the high volatility of the mixture.\n",
    "\n",
    "The **molar weight** will indicate if the steric exclusion chromatography is allowed or not. It is suitable for heavy molecules, thus for the compounds in the mixture with a mass larger than 2000 g/mol.\n",
    "\n",
    "The choice between high pressure liquid chromatography (HPLC) and ionic chromatography (IC) is determined by the **XlogP**, wich is an indicator of the hydrophilicity of the molecules. Negative values for the **XlogP** indicates that the molecule is likely to dissolve in water (thus hydrophile), positive values indicates that the molecule is more likely to dissolve in organic solvents (thus hydrofobe). Therefore the more hydrophile is the molecule the more likely it will ionize, hence the suitable chromatography will be IC. \n",
    "\n",
    "In the liquid chromatography such as HPLC or IC the pH of the eluent is an important parameter which can lead to a good separation. All the molecules have to be stable at this pH otherwise they can degrade and the separation will not be good. to ensure the stability of the molecules, the function propose a pH wich is 2 values above the minimum **pKa** of the mixture compunds."
   ]
  },
  {
   "cell_type": "code",
   "execution_count": 32,
   "id": "ca1c6939-795d-4e8b-b57f-d6bf3fe31f1d",
   "metadata": {},
   "outputs": [
    {
     "name": "stdout",
     "output_type": "stream",
     "text": [
      "The advisable chromatography type is: HPLC on reverse stationary phase using C18 column\n",
      "Eluent nature: organic or hydro-organic\n",
      "Proposed pH for the eluent: 3.08\n"
     ]
    }
   ],
   "source": [
    "print(f\"The advisable chromatography type is: {Mixture_chromato_type}\")\n",
    "print(f\"Eluent nature: {eluent_nature}\")\n",
    "if proposed_pH is not None:\n",
    "    print(f\"Proposed pH for the eluent: {proposed_pH}\")"
   ]
  },
  {
   "cell_type": "code",
   "execution_count": null,
   "id": "dc1c126b-ca07-4629-ab5b-c8c638b8c505",
   "metadata": {},
   "outputs": [],
   "source": []
  },
  {
   "cell_type": "code",
   "execution_count": null,
   "id": "418a01a2-1c35-42b6-9cf2-fd86cf632ae8",
   "metadata": {},
   "outputs": [],
   "source": []
  }
 ],
 "metadata": {
  "kernelspec": {
   "display_name": "Python 3 (ipykernel)",
   "language": "python",
   "name": "python3"
  },
  "language_info": {
   "codemirror_mode": {
    "name": "ipython",
    "version": 3
   },
   "file_extension": ".py",
   "mimetype": "text/x-python",
   "name": "python",
   "nbconvert_exporter": "python",
   "pygments_lexer": "ipython3",
   "version": "3.10.13"
  }
 },
 "nbformat": 4,
 "nbformat_minor": 5
}
