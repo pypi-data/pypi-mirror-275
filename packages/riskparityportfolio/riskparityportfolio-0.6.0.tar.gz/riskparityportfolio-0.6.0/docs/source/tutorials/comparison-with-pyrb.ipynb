{
 "cells": [
  {
   "cell_type": "markdown",
   "metadata": {},
   "source": [
    "# Comparison with pyrb"
   ]
  },
  {
   "cell_type": "markdown",
   "metadata": {},
   "source": [
    "The ``pyrb`` package uses different formulations for the risk parity problem with general linear constraints and with the addition of objective terms such as the mean return and the volatility. Nonetheless, we can fairly compare with their code for the case where only the risk parity term is included and the constraints are $\\texttt{sum}(\\mathbf{w}) = 1$ and $\\mathbf{w} \\geq 0$."
   ]
  },
  {
   "cell_type": "markdown",
   "metadata": {},
   "source": [
    "Following the example shown at https://github.com/jcrichard/pyrb/blob/master/notebooks/RiskBudgeting.ipynb, we have:"
   ]
  },
  {
   "cell_type": "code",
   "execution_count": 1,
   "metadata": {},
   "outputs": [],
   "source": [
    "from pyrb import EqualRiskContribution\n",
    "import pandas as pd\n",
    "import numpy as np\n",
    "import riskparityportfolio as rpp"
   ]
  },
  {
   "cell_type": "code",
   "execution_count": 2,
   "metadata": {},
   "outputs": [],
   "source": [
    "covariance_matrix = pd.read_csv(\"https://raw.githubusercontent.com/jcrichard/pyrb/master/notebooks/data.csv\",sep=\";\",index_col=0).pct_change().cov() * 260"
   ]
  },
  {
   "cell_type": "code",
   "execution_count": 3,
   "metadata": {},
   "outputs": [
    {
     "data": {
      "text/html": [
       "<div>\n",
       "<style scoped>\n",
       "    .dataframe tbody tr th:only-of-type {\n",
       "        vertical-align: middle;\n",
       "    }\n",
       "\n",
       "    .dataframe tbody tr th {\n",
       "        vertical-align: top;\n",
       "    }\n",
       "\n",
       "    .dataframe thead th {\n",
       "        text-align: right;\n",
       "    }\n",
       "</style>\n",
       "<table border=\"1\" class=\"dataframe\">\n",
       "  <thead>\n",
       "    <tr style=\"text-align: right;\">\n",
       "      <th></th>\n",
       "      <th>US BONDS 10Y</th>\n",
       "      <th>GERMAN BONDS 10Y</th>\n",
       "      <th>S&amp;P 500</th>\n",
       "      <th>EUROSTOXX 50</th>\n",
       "      <th>NIKKEI</th>\n",
       "      <th>MSCI Emerging</th>\n",
       "      <th>Commodities (CRB)</th>\n",
       "      <th>Iboxx HY US</th>\n",
       "      <th>Iboxx HY EUR</th>\n",
       "      <th>Emerging Debt</th>\n",
       "    </tr>\n",
       "  </thead>\n",
       "  <tbody>\n",
       "    <tr>\n",
       "      <th>US BONDS 10Y</th>\n",
       "      <td>0.004116</td>\n",
       "      <td>0.002149</td>\n",
       "      <td>-0.003859</td>\n",
       "      <td>-0.005064</td>\n",
       "      <td>-0.004085</td>\n",
       "      <td>-0.003381</td>\n",
       "      <td>-0.001574</td>\n",
       "      <td>-0.000879</td>\n",
       "      <td>-0.000245</td>\n",
       "      <td>0.000484</td>\n",
       "    </tr>\n",
       "    <tr>\n",
       "      <th>GERMAN BONDS 10Y</th>\n",
       "      <td>0.002149</td>\n",
       "      <td>0.003150</td>\n",
       "      <td>-0.002809</td>\n",
       "      <td>-0.005692</td>\n",
       "      <td>-0.003468</td>\n",
       "      <td>-0.003604</td>\n",
       "      <td>-0.001310</td>\n",
       "      <td>-0.000996</td>\n",
       "      <td>-0.000262</td>\n",
       "      <td>0.000280</td>\n",
       "    </tr>\n",
       "    <tr>\n",
       "      <th>S&amp;P 500</th>\n",
       "      <td>-0.003859</td>\n",
       "      <td>-0.002809</td>\n",
       "      <td>0.042571</td>\n",
       "      <td>0.030959</td>\n",
       "      <td>0.029899</td>\n",
       "      <td>0.024753</td>\n",
       "      <td>0.008173</td>\n",
       "      <td>0.009952</td>\n",
       "      <td>0.000856</td>\n",
       "      <td>0.004332</td>\n",
       "    </tr>\n",
       "    <tr>\n",
       "      <th>EUROSTOXX 50</th>\n",
       "      <td>-0.005064</td>\n",
       "      <td>-0.005692</td>\n",
       "      <td>0.030959</td>\n",
       "      <td>0.064347</td>\n",
       "      <td>0.027036</td>\n",
       "      <td>0.031997</td>\n",
       "      <td>0.011019</td>\n",
       "      <td>0.009402</td>\n",
       "      <td>0.003169</td>\n",
       "      <td>0.006211</td>\n",
       "    </tr>\n",
       "    <tr>\n",
       "      <th>NIKKEI</th>\n",
       "      <td>-0.004085</td>\n",
       "      <td>-0.003468</td>\n",
       "      <td>0.029899</td>\n",
       "      <td>0.027036</td>\n",
       "      <td>0.060668</td>\n",
       "      <td>0.031786</td>\n",
       "      <td>0.009928</td>\n",
       "      <td>0.010870</td>\n",
       "      <td>0.001777</td>\n",
       "      <td>0.003836</td>\n",
       "    </tr>\n",
       "    <tr>\n",
       "      <th>MSCI Emerging</th>\n",
       "      <td>-0.003381</td>\n",
       "      <td>-0.003604</td>\n",
       "      <td>0.024753</td>\n",
       "      <td>0.031997</td>\n",
       "      <td>0.031786</td>\n",
       "      <td>0.058415</td>\n",
       "      <td>0.014405</td>\n",
       "      <td>0.011145</td>\n",
       "      <td>0.003468</td>\n",
       "      <td>0.007879</td>\n",
       "    </tr>\n",
       "    <tr>\n",
       "      <th>Commodities (CRB)</th>\n",
       "      <td>-0.001574</td>\n",
       "      <td>-0.001310</td>\n",
       "      <td>0.008173</td>\n",
       "      <td>0.011019</td>\n",
       "      <td>0.009928</td>\n",
       "      <td>0.014405</td>\n",
       "      <td>0.031496</td>\n",
       "      <td>0.005023</td>\n",
       "      <td>0.001489</td>\n",
       "      <td>0.002312</td>\n",
       "    </tr>\n",
       "    <tr>\n",
       "      <th>Iboxx HY US</th>\n",
       "      <td>-0.000879</td>\n",
       "      <td>-0.000996</td>\n",
       "      <td>0.009952</td>\n",
       "      <td>0.009402</td>\n",
       "      <td>0.010870</td>\n",
       "      <td>0.011145</td>\n",
       "      <td>0.005023</td>\n",
       "      <td>0.011670</td>\n",
       "      <td>0.001523</td>\n",
       "      <td>0.002549</td>\n",
       "    </tr>\n",
       "    <tr>\n",
       "      <th>Iboxx HY EUR</th>\n",
       "      <td>-0.000245</td>\n",
       "      <td>-0.000262</td>\n",
       "      <td>0.000856</td>\n",
       "      <td>0.003169</td>\n",
       "      <td>0.001777</td>\n",
       "      <td>0.003468</td>\n",
       "      <td>0.001489</td>\n",
       "      <td>0.001523</td>\n",
       "      <td>0.004500</td>\n",
       "      <td>0.001282</td>\n",
       "    </tr>\n",
       "    <tr>\n",
       "      <th>Emerging Debt</th>\n",
       "      <td>0.000484</td>\n",
       "      <td>0.000280</td>\n",
       "      <td>0.004332</td>\n",
       "      <td>0.006211</td>\n",
       "      <td>0.003836</td>\n",
       "      <td>0.007879</td>\n",
       "      <td>0.002312</td>\n",
       "      <td>0.002549</td>\n",
       "      <td>0.001282</td>\n",
       "      <td>0.008640</td>\n",
       "    </tr>\n",
       "  </tbody>\n",
       "</table>\n",
       "</div>"
      ],
      "text/plain": [
       "                   US BONDS 10Y  GERMAN BONDS 10Y   S&P 500  EUROSTOXX 50  \\\n",
       "US BONDS 10Y           0.004116          0.002149 -0.003859     -0.005064   \n",
       "GERMAN BONDS 10Y       0.002149          0.003150 -0.002809     -0.005692   \n",
       "S&P 500               -0.003859         -0.002809  0.042571      0.030959   \n",
       "EUROSTOXX 50          -0.005064         -0.005692  0.030959      0.064347   \n",
       "NIKKEI                -0.004085         -0.003468  0.029899      0.027036   \n",
       "MSCI Emerging         -0.003381         -0.003604  0.024753      0.031997   \n",
       "Commodities (CRB)     -0.001574         -0.001310  0.008173      0.011019   \n",
       "Iboxx HY US           -0.000879         -0.000996  0.009952      0.009402   \n",
       "Iboxx HY EUR          -0.000245         -0.000262  0.000856      0.003169   \n",
       "Emerging Debt          0.000484          0.000280  0.004332      0.006211   \n",
       "\n",
       "                     NIKKEI  MSCI Emerging  Commodities (CRB)  Iboxx HY US  \\\n",
       "US BONDS 10Y      -0.004085      -0.003381          -0.001574    -0.000879   \n",
       "GERMAN BONDS 10Y  -0.003468      -0.003604          -0.001310    -0.000996   \n",
       "S&P 500            0.029899       0.024753           0.008173     0.009952   \n",
       "EUROSTOXX 50       0.027036       0.031997           0.011019     0.009402   \n",
       "NIKKEI             0.060668       0.031786           0.009928     0.010870   \n",
       "MSCI Emerging      0.031786       0.058415           0.014405     0.011145   \n",
       "Commodities (CRB)  0.009928       0.014405           0.031496     0.005023   \n",
       "Iboxx HY US        0.010870       0.011145           0.005023     0.011670   \n",
       "Iboxx HY EUR       0.001777       0.003468           0.001489     0.001523   \n",
       "Emerging Debt      0.003836       0.007879           0.002312     0.002549   \n",
       "\n",
       "                   Iboxx HY EUR  Emerging Debt  \n",
       "US BONDS 10Y          -0.000245       0.000484  \n",
       "GERMAN BONDS 10Y      -0.000262       0.000280  \n",
       "S&P 500                0.000856       0.004332  \n",
       "EUROSTOXX 50           0.003169       0.006211  \n",
       "NIKKEI                 0.001777       0.003836  \n",
       "MSCI Emerging          0.003468       0.007879  \n",
       "Commodities (CRB)      0.001489       0.002312  \n",
       "Iboxx HY US            0.001523       0.002549  \n",
       "Iboxx HY EUR           0.004500       0.001282  \n",
       "Emerging Debt          0.001282       0.008640  "
      ]
     },
     "execution_count": 3,
     "metadata": {},
     "output_type": "execute_result"
    }
   ],
   "source": [
    "covariance_matrix"
   ]
  },
  {
   "cell_type": "code",
   "execution_count": 4,
   "metadata": {},
   "outputs": [],
   "source": [
    "cov = np.asarray(covariance_matrix)"
   ]
  },
  {
   "cell_type": "code",
   "execution_count": 5,
   "metadata": {},
   "outputs": [],
   "source": [
    "ERC = EqualRiskContribution(cov)"
   ]
  },
  {
   "cell_type": "code",
   "execution_count": 6,
   "metadata": {},
   "outputs": [
    {
     "name": "stdout",
     "output_type": "stream",
     "text": [
      "320 µs ± 55.9 µs per loop (mean ± std. dev. of 7 runs, 1 loop each)\n"
     ]
    }
   ],
   "source": [
    "%timeit ERC.solve()"
   ]
  },
  {
   "cell_type": "code",
   "execution_count": 7,
   "metadata": {},
   "outputs": [
    {
     "data": {
      "text/plain": [
       "array([0.22447775, 0.27514463, 0.03922505, 0.03589295, 0.03428179,\n",
       "       0.02991635, 0.05459806, 0.07111012, 0.15281389, 0.08253942])"
      ]
     },
     "execution_count": 7,
     "metadata": {},
     "output_type": "execute_result"
    }
   ],
   "source": [
    "optimal_weights =  ERC.x\n",
    "optimal_weights"
   ]
  },
  {
   "cell_type": "code",
   "execution_count": 8,
   "metadata": {},
   "outputs": [
    {
     "data": {
      "text/plain": [
       "array([0.09999997, 0.09999999, 0.10000001, 0.10000001, 0.1       ,\n",
       "       0.1       , 0.1       , 0.1       , 0.1       , 0.1       ])"
      ]
     },
     "execution_count": 8,
     "metadata": {},
     "output_type": "execute_result"
    }
   ],
   "source": [
    "risk_contributions_scaled =  ERC.get_risk_contributions()\n",
    "risk_contributions_scaled"
   ]
  },
  {
   "cell_type": "code",
   "execution_count": 9,
   "metadata": {},
   "outputs": [],
   "source": [
    "b = np.ones(len(cov)) / len(cov)"
   ]
  },
  {
   "cell_type": "code",
   "execution_count": 10,
   "metadata": {},
   "outputs": [
    {
     "name": "stdout",
     "output_type": "stream",
     "text": [
      "5.9 µs ± 59.5 ns per loop (mean ± std. dev. of 7 runs, 100000 loops each)\n"
     ]
    }
   ],
   "source": [
    "%timeit rpp.vanilla.design(cov, b)"
   ]
  },
  {
   "cell_type": "code",
   "execution_count": 11,
   "metadata": {},
   "outputs": [
    {
     "data": {
      "text/plain": [
       "array([0.22447778, 0.27514462, 0.03922505, 0.03589295, 0.03428179,\n",
       "       0.02991635, 0.05459806, 0.07111011, 0.15281388, 0.08253942])"
      ]
     },
     "execution_count": 11,
     "metadata": {},
     "output_type": "execute_result"
    }
   ],
   "source": [
    "rpp.vanilla.design(cov, b)"
   ]
  },
  {
   "cell_type": "markdown",
   "metadata": {},
   "source": [
    "It seems that, for this example, ``riskparityportfolio`` is around $40\\times$ faster than ``pyrb``. However,\n",
    "more examples are to be done in order to draw more conclusive results, especially on more interesting scenarios involving general linear constraints and additional objective terms such as the mean return."
   ]
  },
  {
   "cell_type": "markdown",
   "metadata": {},
   "source": [
    "## Constrained Risk Parity"
   ]
  },
  {
   "cell_type": "markdown",
   "metadata": {},
   "source": [
    "For constrained risk parity, see the pyrb notebook: https://github.com/jcrichard/pyrb/blob/master/notebooks/ConstrainedRiskBudgeting.ipynb"
   ]
  },
  {
   "cell_type": "code",
   "execution_count": 12,
   "metadata": {},
   "outputs": [],
   "source": [
    "vol = [0.05,0.05,0.07,0.1,0.15,0.15,0.15,0.18]\n",
    "cor = np.array([[100,  80,  60, -20, -10, -20, -20, -20],\n",
    "               [ 80, 100,  40, -20, -20, -10, -20, -20],\n",
    "               [ 60,  40, 100,  50,  30,  20,  20,  30],\n",
    "               [-20, -20,  50, 100,  60,  60,  50,  60],\n",
    "               [-10, -20,  30,  60, 100,  90,  70,  70],\n",
    "               [-20, -10,  20,  60,  90, 100,  60,  70],\n",
    "               [-20, -20,  20,  50,  70,  60, 100,  70],\n",
    "               [-20, -20,  30,  60,  70,  70,  70, 100]])/100\n",
    "cov = np.outer(vol,vol)*cor"
   ]
  },
  {
   "cell_type": "code",
   "execution_count": 13,
   "metadata": {},
   "outputs": [],
   "source": [
    "my_rpp = rpp.RiskParityPortfolio(covariance=cov)"
   ]
  },
  {
   "cell_type": "code",
   "execution_count": 14,
   "metadata": {},
   "outputs": [
    {
     "name": "stderr",
     "output_type": "stream",
     "text": [
      "/Users/mirca/opt/miniconda3/lib/python3.7/site-packages/jax/lib/xla_bridge.py:120: UserWarning: No GPU/TPU found, falling back to CPU.\n",
      "  warnings.warn('No GPU/TPU found, falling back to CPU.')\n",
      "  0%|          | 0/500 [00:00<?, ?it/s]\n"
     ]
    }
   ],
   "source": [
    "my_rpp.design()"
   ]
  },
  {
   "cell_type": "code",
   "execution_count": 16,
   "metadata": {},
   "outputs": [
    {
     "data": {
      "text/plain": [
       "array([0.26830622, 0.28676891, 0.11409499, 0.09798482, 0.05613501,\n",
       "       0.05902912, 0.06655992, 0.05112101])"
      ]
     },
     "execution_count": 16,
     "metadata": {},
     "output_type": "execute_result"
    }
   ],
   "source": [
    "my_rpp.weights"
   ]
  },
  {
   "cell_type": "code",
   "execution_count": 18,
   "metadata": {},
   "outputs": [
    {
     "data": {
      "text/plain": [
       "array([0.12500001, 0.12500001, 0.125     , 0.12499999, 0.125     ,\n",
       "       0.125     , 0.125     , 0.125     ])"
      ]
     },
     "execution_count": 18,
     "metadata": {},
     "output_type": "execute_result"
    }
   ],
   "source": [
    "my_rpp.risk_contributions"
   ]
  },
  {
   "cell_type": "code",
   "execution_count": 19,
   "metadata": {},
   "outputs": [],
   "source": [
    "# inequality constraints matrix and vector\n",
    "Dmat = np.array([[0,0,0,0,-1,-1,-1,-1],\n",
    "                 [1,-1,0,0,1,-1,0,0]])\n",
    "dvec = np.array([-0.3,-0.05])"
   ]
  },
  {
   "cell_type": "code",
   "execution_count": 20,
   "metadata": {},
   "outputs": [
    {
     "name": "stderr",
     "output_type": "stream",
     "text": [
      "  1%|▏         | 7/500 [00:00<00:44, 11.11it/s]\n"
     ]
    }
   ],
   "source": [
    "my_rpp.design(Dmat=Dmat, dvec=dvec)"
   ]
  },
  {
   "cell_type": "code",
   "execution_count": 22,
   "metadata": {},
   "outputs": [
    {
     "data": {
      "text/plain": [
       "array([0.23186426, 0.27676939, 0.12093305, 0.0704333 , 0.07264196,\n",
       "       0.07773683, 0.08587855, 0.06374266])"
      ]
     },
     "execution_count": 22,
     "metadata": {},
     "output_type": "execute_result"
    }
   ],
   "source": [
    "my_rpp.weights"
   ]
  },
  {
   "cell_type": "code",
   "execution_count": 24,
   "metadata": {},
   "outputs": [
    {
     "data": {
      "text/plain": [
       "array([-0.3 , -0.05])"
      ]
     },
     "execution_count": 24,
     "metadata": {},
     "output_type": "execute_result"
    }
   ],
   "source": [
    "Dmat @ my_rpp.weights"
   ]
  },
  {
   "cell_type": "code",
   "execution_count": 25,
   "metadata": {},
   "outputs": [
    {
     "data": {
      "text/plain": [
       "array([0.07508326, 0.08382447, 0.10969463, 0.08355962, 0.1614587 ,\n",
       "       0.1651071 , 0.16492485, 0.15634737])"
      ]
     },
     "execution_count": 25,
     "metadata": {},
     "output_type": "execute_result"
    }
   ],
   "source": [
    "my_rpp.risk_contributions"
   ]
  },
  {
   "cell_type": "code",
   "execution_count": null,
   "metadata": {},
   "outputs": [],
   "source": []
  }
 ],
 "metadata": {
  "kernelspec": {
   "display_name": "Python 3",
   "language": "python",
   "name": "python3"
  },
  "language_info": {
   "codemirror_mode": {
    "name": "ipython",
    "version": 3
   },
   "file_extension": ".py",
   "mimetype": "text/x-python",
   "name": "python",
   "nbconvert_exporter": "python",
   "pygments_lexer": "ipython3",
   "version": "3.7.4"
  }
 },
 "nbformat": 4,
 "nbformat_minor": 4
}
