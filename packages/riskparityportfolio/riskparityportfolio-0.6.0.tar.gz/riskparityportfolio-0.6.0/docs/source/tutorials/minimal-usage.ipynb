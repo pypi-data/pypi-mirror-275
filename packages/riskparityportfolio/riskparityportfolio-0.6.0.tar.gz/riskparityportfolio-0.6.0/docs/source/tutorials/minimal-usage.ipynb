{
 "cells": [
  {
   "cell_type": "markdown",
   "metadata": {},
   "source": [
    "# Minimal Usage"
   ]
  },
  {
   "cell_type": "code",
   "execution_count": 1,
   "metadata": {},
   "outputs": [],
   "source": [
    "import riskparityportfolio as rp"
   ]
  },
  {
   "cell_type": "markdown",
   "metadata": {},
   "source": [
    "In this notebook, we show a very basic example where users may get to know the necessary building blocks\n",
    "to design a vanilla risk parity portfolio."
   ]
  },
  {
   "cell_type": "markdown",
   "metadata": {},
   "source": [
    "Let's start by assuming an universe of three assets with the following covariance matrix $\\boldsymbol{\\Sigma}$:\n",
    "\n",
    "$$\\boldsymbol{\\Sigma} = \\left[\n",
    "\\begin{array}{ccc}\n",
    " 1.0000 &  0.0015 & -0.0119\\\\\n",
    " 0.0015 &  1.0000 & -0.0308\\\\\n",
    "-0.0119 & -0.0308 &  1.0000\n",
    "\\end{array}\n",
    "\\right]$$\n",
    "\n",
    "We would like to design a portfolio such that the relative risk contributions are given by the budgeting vector $\\mathbf{b}$:\n",
    "\n",
    "$$\\mathbf{b} = \\left[\n",
    "\\begin{array}{c}\n",
    " 0.1594 \\\\\n",
    " 0.0126 \\\\\n",
    " 0.8280\n",
    "\\end{array}\n",
    "\\right]$$"
   ]
  },
  {
   "cell_type": "markdown",
   "metadata": {},
   "source": [
    "We can code those parameters as:"
   ]
  },
  {
   "cell_type": "code",
   "execution_count": 2,
   "metadata": {},
   "outputs": [],
   "source": [
    "import numpy as np"
   ]
  },
  {
   "cell_type": "code",
   "execution_count": 3,
   "metadata": {},
   "outputs": [],
   "source": [
    "Sigma = np.vstack((np.array((1.0000, 0.0015, -0.0119)),\n",
    "                   np.array((0.0015, 1.0000, -0.0308)),\n",
    "                   np.array((-0.0119, -0.0308, 1.0000))))"
   ]
  },
  {
   "cell_type": "code",
   "execution_count": 4,
   "metadata": {},
   "outputs": [
    {
     "data": {
      "text/plain": [
       "array([[ 1.    ,  0.0015, -0.0119],\n",
       "       [ 0.0015,  1.    , -0.0308],\n",
       "       [-0.0119, -0.0308,  1.    ]])"
      ]
     },
     "execution_count": 4,
     "metadata": {},
     "output_type": "execute_result"
    }
   ],
   "source": [
    "Sigma"
   ]
  },
  {
   "cell_type": "code",
   "execution_count": 5,
   "metadata": {},
   "outputs": [],
   "source": [
    "b = np.array((0.1594, 0.0126, 0.8280))"
   ]
  },
  {
   "cell_type": "code",
   "execution_count": 6,
   "metadata": {},
   "outputs": [
    {
     "data": {
      "text/plain": [
       "array([0.1594, 0.0126, 0.828 ])"
      ]
     },
     "execution_count": 6,
     "metadata": {},
     "output_type": "execute_result"
    }
   ],
   "source": [
    "b"
   ]
  },
  {
   "cell_type": "markdown",
   "metadata": {},
   "source": [
    "There are two ways to design our portfolio with the current building blocks:\n",
    "\n",
    "   1. using the `design` function from the `vanilla` module\n",
    "   2. using the class `RiskParityPortfolio`"
   ]
  },
  {
   "cell_type": "markdown",
   "metadata": {},
   "source": [
    "The first approach is as simple as"
   ]
  },
  {
   "cell_type": "code",
   "execution_count": 14,
   "metadata": {},
   "outputs": [],
   "source": [
    "rp.vanilla.design??"
   ]
  },
  {
   "cell_type": "code",
   "execution_count": 8,
   "metadata": {},
   "outputs": [
    {
     "data": {
      "text/plain": [
       "array([0.2798623 , 0.08774783, 0.63238987])"
      ]
     },
     "execution_count": 8,
     "metadata": {},
     "output_type": "execute_result"
    }
   ],
   "source": [
    "w"
   ]
  },
  {
   "cell_type": "code",
   "execution_count": 9,
   "metadata": {},
   "outputs": [
    {
     "data": {
      "text/plain": [
       "array([0.15939882, 0.01259953, 0.82800165])"
      ]
     },
     "execution_count": 9,
     "metadata": {},
     "output_type": "execute_result"
    }
   ],
   "source": [
    "rc = w @ (Sigma * w)\n",
    "rc/np.sum(rc)"
   ]
  },
  {
   "cell_type": "markdown",
   "metadata": {},
   "source": [
    "Which is in fact our desired portfolio."
   ]
  },
  {
   "cell_type": "markdown",
   "metadata": {},
   "source": [
    "The second approach goes as follows:"
   ]
  },
  {
   "cell_type": "code",
   "execution_count": 10,
   "metadata": {},
   "outputs": [],
   "source": [
    "my_portfolio = rp.RiskParityPortfolio(covariance=Sigma, budget=b)"
   ]
  },
  {
   "cell_type": "code",
   "execution_count": 11,
   "metadata": {},
   "outputs": [
    {
     "name": "stderr",
     "output_type": "stream",
     "text": [
      "WARNING:absl:No GPU/TPU found, falling back to CPU. (Set TF_CPP_MIN_LOG_LEVEL=0 and rerun for more info.)\n",
      "  0%|          | 2/500 [00:00<00:22, 21.95it/s]\n"
     ]
    }
   ],
   "source": [
    "my_portfolio.design()"
   ]
  },
  {
   "cell_type": "code",
   "execution_count": 12,
   "metadata": {},
   "outputs": [
    {
     "data": {
      "text/plain": [
       "array([0.2798628 , 0.08774907, 0.63238813])"
      ]
     },
     "execution_count": 12,
     "metadata": {},
     "output_type": "execute_result"
    }
   ],
   "source": [
    "my_portfolio.weights"
   ]
  },
  {
   "cell_type": "code",
   "execution_count": 13,
   "metadata": {},
   "outputs": [
    {
     "data": {
      "text/plain": [
       "array([0.15939999, 0.01259999, 0.82800001])"
      ]
     },
     "execution_count": 13,
     "metadata": {},
     "output_type": "execute_result"
    }
   ],
   "source": [
    "my_portfolio.risk_contributions"
   ]
  },
  {
   "cell_type": "markdown",
   "metadata": {},
   "source": [
    "The main difference between the two approaches is that the former works only for the vanilla risk parity (budgeting) problem, i.e.: the objective function to be minimized is the risk concentration only, and the constraints are $\\mathbf{w} \\geq \\mathbf{0}$ and $\\texttt{sum}(\\mathbf{w}) = 1$."
   ]
  },
  {
   "cell_type": "markdown",
   "metadata": {},
   "source": [
    "The latter approach, however, allows for general linear constraints and the inclusion of additional objective terms such as the mean return and the volatility of the portfolio, as we will cover in the next tutorials."
   ]
  },
  {
   "cell_type": "code",
   "execution_count": null,
   "metadata": {},
   "outputs": [],
   "source": []
  }
 ],
 "metadata": {
  "kernelspec": {
   "display_name": "Python 3",
   "language": "python",
   "name": "python3"
  },
  "language_info": {
   "codemirror_mode": {
    "name": "ipython",
    "version": 3
   },
   "file_extension": ".py",
   "mimetype": "text/x-python",
   "name": "python",
   "nbconvert_exporter": "python",
   "pygments_lexer": "ipython3",
   "version": "3.8.3"
  }
 },
 "nbformat": 4,
 "nbformat_minor": 4
}
