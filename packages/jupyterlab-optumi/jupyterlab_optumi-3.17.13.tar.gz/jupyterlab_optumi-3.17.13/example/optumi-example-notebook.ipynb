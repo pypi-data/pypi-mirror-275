{
 "cells": [
  {
   "cell_type": "markdown",
   "id": "stylish-period",
   "metadata": {},
   "source": [
    "## Optumi example notebook 🚀"
   ]
  },
  {
   "cell_type": "markdown",
   "id": "worthy-watershed",
   "metadata": {},
   "source": [
    "For more information about Optumi visit our [knowledge base](https://optumi.notion.site/optumi/Optumi-Knowledge-Base-f51e2040569b46449601851c91caea29)"
   ]
  },
  {
   "cell_type": "code",
   "execution_count": null,
   "id": "derived-footage",
   "metadata": {},
   "outputs": [],
   "source": [
    "LEARNING_RATE = 0.0001"
   ]
  },
  {
   "cell_type": "code",
   "execution_count": null,
   "id": "weird-newfoundland",
   "metadata": {},
   "outputs": [],
   "source": [
    "import tensorflow as tf\n",
    "from tensorflow.keras.optimizers import Adam\n",
    "\n",
    "mnist = tf.keras.datasets.mnist\n",
    "(x_train, y_train), (x_test, y_test) = mnist.load_data()\n",
    "x_train, x_test = x_train / 255.0, x_test / 255.0\n",
    "\n",
    "model = tf.keras.models.Sequential([\n",
    "  tf.keras.layers.Flatten(input_shape=(28, 28)),\n",
    "  tf.keras.layers.Dense(128, activation='relu'),\n",
    "  tf.keras.layers.Dropout(0.2),\n",
    "  tf.keras.layers.Dense(10)\n",
    "])\n",
    "\n",
    "loss_fn = tf.keras.losses.SparseCategoricalCrossentropy(from_logits=True)\n",
    "\n",
    "model.compile(optimizer=Adam(learning_rate=LEARNING_RATE),loss=loss_fn, metrics=['accuracy'])\n",
    "fit = model.fit(x_train, y_train, validation_data=(x_test, y_test), epochs=100)"
   ]
  },
  {
   "cell_type": "code",
   "execution_count": null,
   "id": "fossil-norfolk",
   "metadata": {},
   "outputs": [],
   "source": [
    "import matplotlib.pyplot as plt\n",
    "\n",
    "# Plot the Accuracy\n",
    "plt.plot(fit.history['accuracy'], label='train acc')\n",
    "plt.plot(fit.history['val_accuracy'], label='val acc')\n",
    "plt.legend()\n",
    "plt.savefig('accuracy-' + str(LEARNING_RATE) + '.png')\n",
    "plt.show()\n"
   ]
  }
 ],
 "metadata": {
  "kernelspec": {
   "display_name": "Python 3",
   "language": "python",
   "name": "python3"
  },
  "language_info": {
   "codemirror_mode": {
    "name": "ipython",
    "version": 3
   },
   "file_extension": ".py",
   "mimetype": "text/x-python",
   "name": "python",
   "nbconvert_exporter": "python",
   "pygments_lexer": "ipython3",
   "version": "3.8.10"
  }
 },
 "nbformat": 4,
 "nbformat_minor": 5
}
