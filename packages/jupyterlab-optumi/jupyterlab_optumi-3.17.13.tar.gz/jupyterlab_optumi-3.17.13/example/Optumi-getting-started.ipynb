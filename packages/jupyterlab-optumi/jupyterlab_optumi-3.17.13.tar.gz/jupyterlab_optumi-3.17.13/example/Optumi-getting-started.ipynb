{
 "cells": [
  {
   "cell_type": "code",
   "execution_count": null,
   "metadata": {
    "tags": []
   },
   "outputs": [],
   "source": [
    "# Imports go here\n",
    "import sys\n",
    "import io\n",
    "import warnings\n",
    "import os\n",
    "# os.environ['CUDA_VISIBLE_DEVICES'] = '-1'\n",
    "\n",
    "with warnings.catch_warnings():\n",
    "    warnings.filterwarnings(\"ignore\", category=FutureWarning)\n",
    "    import pandas as pd\n",
    "    import numpy as np\n",
    "    from tensorflow.keras.models import Sequential\n",
    "    from tensorflow.keras.layers import Dense\n",
    "    from tensorflow.keras.layers import Dropout\n",
    "    from tensorflow.keras.layers import Flatten\n",
    "    from tensorflow.keras.layers import Conv2D\n",
    "    from tensorflow.keras.layers import MaxPooling2D\n",
    "    from tensorflow.keras.utils import to_categorical\n",
    "    from tensorflow.config import list_physical_devices\n",
    "    from tensorflow.config.experimental import set_memory_growth\n",
    "    from sklearn import metrics\n",
    "    from sklearn.model_selection import train_test_split\n",
    "    import matplotlib.pyplot as plt\n",
    "\n",
    "# from tensorflow.keras import mixed_precision\n",
    "# mixed_precision.set_global_policy('mixed_float16')\n",
    "\n",
    "class_names = ['0','1','2','3','4','5','6','7','8','9','A','B','C','D','E','F','G','H','I','J','K','L',\n",
    "'M','N','O','P','Q','R','S','T','U','V','W','X','Y','Z','a','b','d','e','f','g','h','n','q','r','t']"
   ]
  },
  {
   "cell_type": "code",
   "execution_count": null,
   "metadata": {},
   "outputs": [],
   "source": [
    "# limit the GPU memory growth\n",
    "for dev in list_physical_devices('GPU'):\n",
    "    set_memory_growth(dev, True)"
   ]
  },
  {
   "cell_type": "code",
   "execution_count": null,
   "metadata": {},
   "outputs": [],
   "source": [
    "def get_data():\n",
    "    data = pd.read_csv('emnist_balanced.csv', header=None)\n",
    "    return data\n",
    "\n",
    "def prep_data(data):\n",
    "    # Split first column off as label we're predicting\n",
    "    X = data.iloc[:,1:]\n",
    "    y = data.iloc[:,0]\n",
    "    train_x, test_x, train_y, test_y = train_test_split(X, y, test_size=0.5, random_state=42)\n",
    "\n",
    "    print(train_x.shape)\n",
    "    \n",
    "    # Images need to be rotated before training\n",
    "    train_x = np.asarray(train_x)\n",
    "    test_x = np.asarray(test_x)\n",
    "    train_x = np.apply_along_axis(rotate, 1, train_x)\n",
    "    test_x = np.apply_along_axis(rotate, 1, test_x)\n",
    "\n",
    "    # Normalization of grey-scale values\n",
    "    train_x = train_x.astype('float32') / 255\n",
    "    test_x = test_x.astype('float32') / 255\n",
    "\n",
    "    # One-hot encoding of labels\n",
    "    classes = y.unique()\n",
    "    train_y = to_categorical(train_y, classes.shape[0])\n",
    "    test_y = to_categorical(test_y, classes.shape[0])\n",
    "\n",
    "    # Reshaping to 28x28x1 image of grey-scale values for CNN\n",
    "    train_x = train_x.reshape(train_x.shape[0], 28, 28, 1)\n",
    "    test_x = test_x.reshape(test_x.shape[0], 28, 28, 1)\n",
    "\n",
    "    return train_x, train_y, test_x, test_y, classes\n",
    "\n",
    "def rotate(image):\n",
    "    image = image.reshape([28, 28])\n",
    "    image = np.fliplr(image)\n",
    "    image = np.rot90(image)\n",
    "    return image\n",
    "\n",
    "data = get_data()\n",
    "\n",
    "train_x, train_y, test_x, test_y, classes = prep_data(data)"
   ]
  },
  {
   "cell_type": "code",
   "execution_count": null,
   "metadata": {},
   "outputs": [],
   "source": [
    "model = Sequential()\n",
    "model.add(Conv2D(filters=128, kernel_size=(5,5), padding = 'same', activation='relu', input_shape=(28, 28,1)))\n",
    "model.add(MaxPooling2D(pool_size=(2,2), strides=(2,2)))\n",
    "model.add(Conv2D(filters=64, kernel_size=(3,3) , padding = 'same', activation='relu'))\n",
    "model.add(MaxPooling2D(pool_size=(2,2)))\n",
    "model.add(Flatten())\n",
    "model.add(Dense(units=128, activation='relu'))\n",
    "model.add(Dropout(.5))\n",
    "model.add(Dense(units=classes.shape[0], activation='softmax'))\n",
    "model.compile(optimizer='adam', loss='categorical_crossentropy', metrics=['accuracy'])\n",
    "cnn = model.fit(train_x, train_y, validation_data=(test_x, test_y), epochs=5)"
   ]
  },
  {
   "cell_type": "code",
   "execution_count": null,
   "metadata": {},
   "outputs": [],
   "source": [
    "model_json = model.to_json()\n",
    "with open('model.json', 'w') as json_file:\n",
    "    json_file.write(model_json)\n",
    "model.save_weights('model.h5')"
   ]
  },
  {
   "cell_type": "code",
   "execution_count": null,
   "metadata": {},
   "outputs": [],
   "source": [
    "# Plot the Loss Function\n",
    "plt.plot(cnn.history['loss'], label='train loss')\n",
    "plt.plot(cnn.history['val_loss'], label='val loss')\n",
    "plt.legend()\n",
    "plt.title('loss')\n",
    "plt.show()\n",
    "\n",
    "plt.clf()\n",
    "\n",
    "# Plot the Accuracy\n",
    "plt.plot(cnn.history['accuracy'], label='train acc')\n",
    "plt.plot(cnn.history['val_accuracy'], label='val acc')\n",
    "plt.legend()\n",
    "plt.title('accuracy')\n",
    "plt.show()"
   ]
  },
  {
   "cell_type": "code",
   "execution_count": null,
   "metadata": {},
   "outputs": [],
   "source": []
  },
  {
   "cell_type": "code",
   "execution_count": null,
   "metadata": {},
   "outputs": [],
   "source": []
  },
  {
   "cell_type": "code",
   "execution_count": null,
   "metadata": {},
   "outputs": [],
   "source": []
  }
 ],
 "metadata": {
  "kernelspec": {
   "display_name": "Python 3 (ipykernel)",
   "language": "python",
   "name": "python3"
  },
  "language_info": {
   "codemirror_mode": {
    "name": "ipython",
    "version": 3
   },
   "file_extension": ".py",
   "mimetype": "text/x-python",
   "name": "python",
   "nbconvert_exporter": "python",
   "pygments_lexer": "ipython3",
   "version": "3.8.5"
  },
  "optumi": {
   "nbKey": "441ea048-1419-4b24-ab9d-86a11a66c7e1",
   "nbKeyHistory": [],
   "version": "3.10.1-DEV19"
  }
 },
 "nbformat": 4,
 "nbformat_minor": 4
}
