{
 "cells": [
  {
   "cell_type": "markdown",
   "id": "6d973f5d-6198-4154-bd52-9fda1ce96cd6",
   "metadata": {},
   "source": [
    "# Create File(s)"
   ]
  },
  {
   "cell_type": "code",
   "execution_count": null,
   "id": "a5850179-2740-4054-929c-ef5717e97cee",
   "metadata": {},
   "outputs": [],
   "source": [
    "import subprocess, math\n",
    "\n",
    "sizes = [10] # Size(s) in GiB\n",
    "names = ['file1'] # Name of the output file(s)"
   ]
  },
  {
   "cell_type": "code",
   "execution_count": null,
   "id": "80f94eba-c2c2-4ea1-bac6-605c78a58549",
   "metadata": {},
   "outputs": [],
   "source": [
    "# # This cell will create a large file with all zeros as content\n",
    "# # This makes it fast, but means if you run this multiple times you will create the exact same file and it will be uploaded/stored once.\n",
    "# for size, name in zip(sizes, names):\n",
    "#     subprocess.run(['fallocate', '-l', str(size) + 'GiB', name])"
   ]
  },
  {
   "cell_type": "code",
   "execution_count": null,
   "id": "831221df-c5e5-4b51-ac0d-bdc2a0ee58b8",
   "metadata": {},
   "outputs": [],
   "source": [
    "# # This cell will create a large file with random content\n",
    "# # This means if you run the command multiple times (in different runs) you will end up with different file content that is unique. This will ensure these bits will require uploading to blob storage.\n",
    "# # This cell will cause a bunch of warnings... simply ignore them (but feel free to check that the file was created ;)\n",
    "# for size, name in zip(sizes, names):\n",
    "#     subprocess.run(['bash', '-c', 'dd if=<(openssl enc -aes-256-ctr -pass pass:\"$(dd if=/dev/urandom bs=128 count=1 2>/dev/null | base64)\" -nosalt < /dev/zero) of=' + name + ' bs=1M count=' + str(math.floor(size * 1024)) + ' iflag=fullblock'])"
   ]
  },
  {
   "cell_type": "markdown",
   "id": "9b503805-77c4-4b2a-acb4-c435ff3e6e60",
   "metadata": {},
   "source": [
    "# Create Egress"
   ]
  },
  {
   "cell_type": "code",
   "execution_count": null,
   "id": "5c261d70-ee4c-401d-bce3-3f671a7f5c22",
   "metadata": {},
   "outputs": [],
   "source": [
    "import socket, math\n",
    "\n",
    "size = 6 # Size of egress data in GiB"
   ]
  },
  {
   "cell_type": "code",
   "execution_count": null,
   "id": "3f838197-dd43-4d2a-b0d9-f45f327fd43b",
   "metadata": {
    "tags": []
   },
   "outputs": [],
   "source": [
    "# # This cell will send out a large amount of \"egress\" data\n",
    "# IPADDR = '64.233.177.139'\n",
    "# PORTNUM = 9001\n",
    "# PACKETDATA = ('0000000000000000' * 2048).encode('utf-8')\n",
    "# s = socket.socket(socket.AF_INET, socket.SOCK_DGRAM, 0)\n",
    "# s.connect((IPADDR, PORTNUM))\n",
    "# sent = 0\n",
    "# for npackets in range(0, 1):\n",
    "#     for i in range(math.floor(size * 32768)):\n",
    "#         s.send(PACKETDATA)\n",
    "#         sent += len(PACKETDATA)\n",
    "    \n",
    "# print('Sent', sent / (1024**3), 'GiB', '(' + str(sent) + ' bytes)')"
   ]
  },
  {
   "cell_type": "code",
   "execution_count": null,
   "id": "f86c7aea-36a8-476b-8783-ec4e150354db",
   "metadata": {},
   "outputs": [],
   "source": []
  },
  {
   "cell_type": "code",
   "execution_count": null,
   "id": "3b24a22e-159d-4834-adba-dbcff3e8e394",
   "metadata": {},
   "outputs": [],
   "source": []
  }
 ],
 "metadata": {
  "kernelspec": {
   "display_name": "Python 3",
   "language": "python",
   "name": "python3"
  },
  "language_info": {
   "codemirror_mode": {
    "name": "ipython",
    "version": 3
   },
   "file_extension": ".py",
   "mimetype": "text/x-python",
   "name": "python",
   "nbconvert_exporter": "python",
   "pygments_lexer": "ipython3",
   "version": "3.8.10"
  }
 },
 "nbformat": 4,
 "nbformat_minor": 5
}
