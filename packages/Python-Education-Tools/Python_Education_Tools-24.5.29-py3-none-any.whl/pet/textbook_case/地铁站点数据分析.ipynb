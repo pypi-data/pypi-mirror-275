{
 "cells": [
  {
   "cell_type": "code",
   "execution_count": null,
   "id": "4e939887",
   "metadata": {},
   "source": [
    "import pandas as pd\n"
   ],
   "outputs": []
  },
  {
   "cell_type": "code",
   "execution_count": null,
   "id": "c7b3b2cc",
   "metadata": {},
   "source": [
    "#df=pd.read_excel('data\\subway.xlsx')\n",
    "from pet.datasets import factory\n",
    "df=factory.load_data('上海地铁线路')"
   ],
   "outputs": []
  },
  {
   "cell_type": "code",
   "execution_count": null,
   "id": "376e308d",
   "metadata": {},
   "source": [
    "df.columns"
   ],
   "outputs": []
  },
  {
   "cell_type": "code",
   "execution_count": null,
   "id": "0cca22c8",
   "metadata": {},
   "source": [
    "df"
   ],
   "outputs": []
  },
  {
   "cell_type": "code",
   "execution_count": null,
   "id": "0fee91b9",
   "metadata": {},
   "source": [
    "#获取站点\n",
    "dfs=df.melt()\n",
    "dfs.dropna(inplace=True)\n",
    "dfs"
   ],
   "outputs": []
  },
  {
   "cell_type": "code",
   "execution_count": null,
   "id": "081d3093",
   "metadata": {},
   "source": [
    "print(f\"{dfs['value'].unique().size=}\",'站点')"
   ],
   "outputs": []
  },
  {
   "cell_type": "code",
   "execution_count": null,
   "id": "bbb5a694",
   "metadata": {},
   "source": [
    "#获取每个站点换成线路数\n",
    "dt=dfs['value'].value_counts()\n",
    "dtt=dt.reset_index()\n",
    "dtt"
   ],
   "outputs": []
  },
  {
   "cell_type": "code",
   "execution_count": null,
   "id": "b13f1bcd",
   "metadata": {},
   "source": [
    "sns.catplot(data=dtt,x='value',kind='count')"
   ],
   "outputs": []
  },
  {
   "cell_type": "code",
   "execution_count": null,
   "id": "f2c418a7",
   "metadata": {},
   "source": [
    "sns.displot(data=dtt,x='value')"
   ],
   "outputs": []
  },
  {
   "cell_type": "code",
   "execution_count": null,
   "id": "f092ca77",
   "metadata": {},
   "source": [
    "dc=dt[dt>1]\n",
    "dc=dc.reset_index()\n",
    "dc"
   ],
   "outputs": []
  },
  {
   "cell_type": "code",
   "execution_count": null,
   "id": "2afa9d37",
   "metadata": {},
   "source": [
    "sns.catplot(data=dc,x='value',kind='count')"
   ],
   "outputs": []
  },
  {
   "cell_type": "code",
   "execution_count": null,
   "id": "efc4d7af",
   "metadata": {},
   "source": [
    "dc.to_excel('stations-exchange.xlsx',index=None)"
   ],
   "outputs": []
  },
  {
   "cell_type": "code",
   "execution_count": null,
   "id": "8bde9e60",
   "metadata": {},
   "source": [],
   "outputs": []
  }
 ],
 "metadata": {
  "kernelspec": {
   "display_name": "Python 3 (ipykernel)",
   "language": "python",
   "name": "python3"
  },
  "language_info": {
   "codemirror_mode": {
    "name": "ipython",
    "version": 3
   },
   "file_extension": ".py",
   "mimetype": "text/x-python",
   "name": "python",
   "nbconvert_exporter": "python",
   "pygments_lexer": "ipython3",
   "version": "3.10.4"
  }
 },
 "nbformat": 4,
 "nbformat_minor": 5
}
