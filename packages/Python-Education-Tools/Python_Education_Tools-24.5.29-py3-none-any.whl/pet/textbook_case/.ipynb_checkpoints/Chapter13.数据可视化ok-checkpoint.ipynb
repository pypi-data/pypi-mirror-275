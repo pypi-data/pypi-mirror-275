{
 "cells": [
  {
   "cell_type": "code",
   "execution_count": 1,
   "metadata": {},
   "source": [
    "import numpy as np \n",
    "import matplotlib as mpl\n",
    "import matplotlib.pyplot as plt\n",
    "import seaborn as sns\n",
    "from scipy import stats\n",
    "%matplotlib inline\n",
    "#rc={'figure.dpi':300,'font.sans-serif':'SimHei','axes.unicode_minus':False}\n",
    "#sns.set(context='notebook', style='whitegrid', rc=rc)\n",
    "rc={'figure.dpi':800,'font.sans-serif':'SimHei','axes.unicode_minus':False}\n",
    "sns.set(context='poster', style='whitegrid', rc=rc)"
   ],
   "outputs": []
  },
  {
   "cell_type": "code",
   "execution_count": 8,
   "metadata": {},
   "source": [
    "from pet.datasets import factory\n",
    "students = factory.load_data('研究生初试成绩')\n"
   ],
   "outputs": []
  },
  {
   "cell_type": "code",
   "execution_count": 2,
   "metadata": {},
   "source": [
    "import pandas as pd\n",
    "#students = pd.read_excel('data/st.xlsx')\n",
    "#查看数据的shape\n",
    "students.dropna(inplace=True)\n",
    "students.shape"
   ],
   "outputs": []
  },
  {
   "cell_type": "code",
   "execution_count": 3,
   "metadata": {},
   "source": [
    "students.head(2)"
   ],
   "outputs": []
  },
  {
   "cell_type": "code",
   "execution_count": 4,
   "metadata": {},
   "source": [
    "students.dtypes"
   ],
   "outputs": []
  },
  {
   "cell_type": "code",
   "execution_count": 5,
   "metadata": {},
   "source": [
    "students.describe()"
   ],
   "outputs": []
  },
  {
   "cell_type": "code",
   "execution_count": 6,
   "metadata": {},
   "source": [
    "students['id']=students['id'].astype(str)\n",
    "students['性别']=students['性别'].astype(\"category\")\n",
    "students['毕业年月'] = pd.to_datetime(students['毕业年月'],format='%Y%m')\n",
    "students['英语分类']=students['英语分类'].astype(\"category\")\n",
    "students['数学分类']=students['数学分类'].astype(\"category\")\n",
    "students['专业课分类']=students['专业课分类'].astype(\"category\")"
   ],
   "outputs": []
  },
  {
   "cell_type": "code",
   "execution_count": 7,
   "metadata": {},
   "source": [
    "import datetime\n",
    "students['复习时间']=datetime.datetime(2019,7,1)-students['毕业年月']\n",
    "students['复习时间']=students['复习时间'].dt.days\n",
    "students.to_excel('st1.xlsx')\n",
    "students.head(2)"
   ],
   "outputs": []
  },
  {
   "cell_type": "code",
   "execution_count": null,
   "metadata": {},
   "source": [
    "students.info()"
   ],
   "outputs": []
  },
  {
   "cell_type": "code",
   "execution_count": null,
   "metadata": {},
   "source": [
    "students.columns"
   ],
   "outputs": []
  },
  {
   "cell_type": "code",
   "execution_count": null,
   "metadata": {},
   "source": [
    "order = ['id', '性别', '本科院校', '本科专业', '毕业年月','复习时间', '报考代码', '英语分类', '英语成绩', '数学分类', '数学成绩', '政治成绩', '专业课分类', '专业课成绩',\n",
    "       '报考院校', '报考专业', '总分' ]\n",
    "students = students[order]\n",
    "students.describe()"
   ],
   "outputs": []
  },
  {
   "cell_type": "code",
   "execution_count": null,
   "metadata": {},
   "source": [
    "sns.distplot(students['总分'])"
   ],
   "outputs": []
  },
  {
   "cell_type": "code",
   "execution_count": null,
   "metadata": {},
   "source": [
    "sns.distplot(students['英语成绩']);"
   ],
   "outputs": []
  },
  {
   "cell_type": "code",
   "execution_count": null,
   "metadata": {},
   "source": [
    "sns.distplot(students['数学成绩'],hist=False)"
   ],
   "outputs": []
  },
  {
   "cell_type": "code",
   "execution_count": null,
   "metadata": {},
   "source": [
    "sns.distplot(students['英语成绩'],kde=False,bins=30)"
   ],
   "outputs": []
  },
  {
   "cell_type": "code",
   "execution_count": null,
   "metadata": {},
   "source": [
    "sns.distplot(students['专业课成绩'], hist=False, rug=True)"
   ],
   "outputs": []
  },
  {
   "cell_type": "code",
   "execution_count": null,
   "metadata": {},
   "source": [
    "sns.distplot(students['专业课成绩'], kde=False, fit=stats.gamma)"
   ],
   "outputs": []
  },
  {
   "cell_type": "code",
   "execution_count": null,
   "metadata": {},
   "source": [
    "sns.kdeplot(students['专业课成绩'], shade=True)"
   ],
   "outputs": []
  },
  {
   "cell_type": "code",
   "execution_count": null,
   "metadata": {},
   "source": [
    "sns.kdeplot(students['专业课成绩'])\n",
    "sns.kdeplot(students['专业课成绩'], bw=.2, label=\"bw: 0.2\")\n",
    "sns.kdeplot(students['专业课成绩'], bw=1, label=\"bw: 2\")\n",
    "plt.legend()"
   ],
   "outputs": []
  },
  {
   "cell_type": "code",
   "execution_count": null,
   "metadata": {},
   "source": [
    "sns.kdeplot(students['专业课成绩'], shade=True, cut=5)"
   ],
   "outputs": []
  },
  {
   "cell_type": "code",
   "execution_count": null,
   "metadata": {},
   "source": [
    "sns.kdeplot(students['英语成绩'], students['数学成绩'] )"
   ],
   "outputs": []
  },
  {
   "cell_type": "code",
   "execution_count": null,
   "metadata": {},
   "source": [
    "sns.rugplot(students['专业课成绩'],height=0.3)"
   ],
   "outputs": []
  },
  {
   "cell_type": "code",
   "execution_count": null,
   "metadata": {},
   "source": [
    "sns.jointplot(x=\"数学成绩\", y=\"总分\", data=students)"
   ],
   "outputs": []
  },
  {
   "cell_type": "code",
   "execution_count": null,
   "metadata": {},
   "source": [
    "sns.jointplot(x=\"数学成绩\", y=\"总分\",data=students, kind=\"hex\", color=\"b\")"
   ],
   "outputs": []
  },
  {
   "cell_type": "code",
   "execution_count": null,
   "metadata": {},
   "source": [
    "sns.jointplot(x=\"数学成绩\", y=\"总分\", data=students,kind=\"reg\")"
   ],
   "outputs": []
  },
  {
   "cell_type": "code",
   "execution_count": null,
   "metadata": {},
   "source": [
    "sns.jointplot(x=\"英语成绩\", y=\"数学成绩\", data=students, kind=\"kde\")"
   ],
   "outputs": []
  },
  {
   "cell_type": "code",
   "execution_count": null,
   "metadata": {},
   "source": [
    "sns.relplot(x=\"复习时间\", y=\"总分\", data=students, kind=\"line\")"
   ],
   "outputs": []
  },
  {
   "cell_type": "code",
   "execution_count": null,
   "metadata": {},
   "source": [
    "sns.pairplot(students)"
   ],
   "outputs": []
  },
  {
   "cell_type": "code",
   "execution_count": null,
   "metadata": {},
   "source": [
    "sns.pairplot(students, hue=\"性别\")"
   ],
   "outputs": []
  },
  {
   "cell_type": "code",
   "execution_count": null,
   "metadata": {},
   "source": [
    "sns.pairplot(students, x_vars=[\"数学成绩\", \"英语成绩\",'政治成绩'], y_vars=[\"总分\"], height=5, aspect=.8)"
   ],
   "outputs": []
  },
  {
   "cell_type": "code",
   "execution_count": null,
   "metadata": {},
   "source": [
    "sns.relplot(x=\"数学成绩\", y=\"总分\", hue=\"数学分类\",sizes=(35, 100),size='复习时间',col='性别',data=students)"
   ],
   "outputs": []
  },
  {
   "cell_type": "code",
   "execution_count": null,
   "metadata": {},
   "source": [
    "sns.relplot(x=\"数学成绩\", y=\"总分\", hue=\"数学分类\",col='性别',data=students, kind=\"line\");#默认对数据排序"
   ],
   "outputs": []
  },
  {
   "cell_type": "code",
   "execution_count": null,
   "metadata": {},
   "source": [
    "sns.relplot(x=\"数学成绩\", y=\"总分\", hue=\"数学分类\",col='性别',data=students,sort=False, kind=\"line\")"
   ],
   "outputs": []
  },
  {
   "cell_type": "code",
   "execution_count": null,
   "metadata": {},
   "source": [
    "sns.relplot(x=\"数学成绩\", y=\"总分\", kind=\"line\", data=students)"
   ],
   "outputs": []
  },
  {
   "cell_type": "code",
   "execution_count": null,
   "metadata": {},
   "source": [
    "sns.relplot(x=\"英语成绩\", y=\"总分\", kind=\"line\", ci=False,data=students)"
   ],
   "outputs": []
  },
  {
   "cell_type": "code",
   "execution_count": null,
   "metadata": {},
   "source": [
    "sns.relplot(x=\"英语成绩\", y=\"总分\", kind=\"line\", ci='sd',data=students)"
   ],
   "outputs": []
  },
  {
   "cell_type": "code",
   "execution_count": null,
   "metadata": {},
   "source": [
    "sns.relplot(x=\"英语成绩\", y=\"总分\", kind=\"line\", estimator=None,data=students)"
   ],
   "outputs": []
  },
  {
   "cell_type": "code",
   "execution_count": null,
   "metadata": {},
   "source": [
    "sns.relplot(x=\"数学成绩\", y=\"总分\", kind=\"line\",hue='性别',data=students)"
   ],
   "outputs": []
  },
  {
   "cell_type": "code",
   "execution_count": null,
   "metadata": {},
   "source": [
    "sns.relplot(x=\"数学成绩\", y=\"总分\", kind=\"line\",hue='性别',  style='英语分类', markers=True,data=students)"
   ],
   "outputs": []
  },
  {
   "cell_type": "code",
   "execution_count": null,
   "metadata": {},
   "source": [
    "sns.relplot(x=\"毕业年月\", y=\"数学成绩\", kind=\"line\", data=students)"
   ],
   "outputs": []
  },
  {
   "cell_type": "code",
   "execution_count": null,
   "metadata": {},
   "source": [
    "sns.relplot(x=\"复习时间\", y=\"英语成绩\", kind=\"line\", data=students)"
   ],
   "outputs": []
  },
  {
   "cell_type": "code",
   "execution_count": null,
   "metadata": {},
   "source": [
    "sns.catplot(x=\"性别\", y=\"总分\", data=students)"
   ],
   "outputs": []
  },
  {
   "cell_type": "code",
   "execution_count": null,
   "metadata": {},
   "source": [
    "sns.catplot(x=\"英语分类\", y=\"总分\",jitter=False, data=students)"
   ],
   "outputs": []
  },
  {
   "cell_type": "code",
   "execution_count": null,
   "metadata": {},
   "source": [
    "sns.catplot(y=\"数学分类\", x=\"总分\",kind=\"swarm\", data=students)"
   ],
   "outputs": []
  },
  {
   "cell_type": "code",
   "execution_count": null,
   "metadata": {},
   "source": [
    "sns.catplot(x=\"性别\", y=\"英语成绩\", kind=\"box\", data=students)"
   ],
   "outputs": []
  },
  {
   "cell_type": "code",
   "execution_count": null,
   "metadata": {},
   "source": [
    "sns.catplot(x=\"性别\", y=\"英语成绩\", kind=\"box\", hue='英语分类',data=students,order=['男','女'])"
   ],
   "outputs": []
  },
  {
   "cell_type": "code",
   "execution_count": null,
   "metadata": {},
   "source": [
    "sns.catplot(x=\"性别\", y=\"英语成绩\", kind=\"boxen\", hue='英语分类',data=students,order=['男','女'])"
   ],
   "outputs": []
  },
  {
   "cell_type": "code",
   "execution_count": null,
   "metadata": {},
   "source": [
    "sns.catplot(x=\"数学分类\", y=\"总分\", hue=\"性别\",kind=\"violin\", data=students)"
   ],
   "outputs": []
  },
  {
   "cell_type": "code",
   "execution_count": null,
   "metadata": {},
   "source": [
    "sns.catplot(x=\"性别\", y=\"总分\", hue=\"数学分类\", kind=\"bar\", data=students)"
   ],
   "outputs": []
  },
  {
   "cell_type": "code",
   "execution_count": null,
   "metadata": {},
   "source": [
    "sns.catplot(x=\"报考专业\", y=\"总分\", hue=\"性别\", kind=\"point\", data=students);\n",
    "plt.tick_params(axis='x',labelsize=8,rotation=90)"
   ],
   "outputs": []
  },
  {
   "cell_type": "code",
   "execution_count": null,
   "metadata": {},
   "source": [
    "sns.catplot(x=\"数学分类\", hue=\"性别\", kind=\"count\", data=students)"
   ],
   "outputs": []
  },
  {
   "cell_type": "code",
   "execution_count": null,
   "metadata": {},
   "source": [
    "sns.pointplot(x=\"数学分类\", y=\"总分\", data=students)"
   ],
   "outputs": []
  },
  {
   "cell_type": "code",
   "execution_count": null,
   "metadata": {},
   "source": [
    "sns.regplot(x=\"数学成绩\", y=\"总分\", data=students)"
   ],
   "outputs": []
  },
  {
   "cell_type": "code",
   "execution_count": null,
   "metadata": {},
   "source": [
    "sns.lmplot(x=\"数学成绩\", y=\"总分\", data=students)"
   ],
   "outputs": []
  },
  {
   "cell_type": "code",
   "execution_count": null,
   "metadata": {},
   "source": [
    "sns.pairplot(students, hue=\"性别\");"
   ],
   "outputs": []
  },
  {
   "cell_type": "code",
   "execution_count": null,
   "metadata": {},
   "source": [
    "sns.pairplot(students)"
   ],
   "outputs": []
  },
  {
   "cell_type": "code",
   "execution_count": null,
   "metadata": {},
   "source": [
    "sns.pairplot(students, x_vars=[\"数学成绩\", \"英语成绩\",'政治成绩'], y_vars=[\"总分\"], height=5, aspect=.8, kind=\"reg\")"
   ],
   "outputs": []
  },
  {
   "cell_type": "code",
   "execution_count": null,
   "metadata": {},
   "source": [
    "sns.lmplot(x=\"数学成绩\", y=\"总分\", data=students,x_estimator=np.mean)"
   ],
   "outputs": []
  },
  {
   "cell_type": "code",
   "execution_count": null,
   "metadata": {},
   "source": [
    "sns.regplot(x=\"数学成绩\", y=\"总分\", data=students)"
   ],
   "outputs": []
  },
  {
   "cell_type": "code",
   "execution_count": null,
   "metadata": {},
   "source": [
    "sns.lmplot(x=\"数学成绩\", y=\"总分\",robust=True, data=students)"
   ],
   "outputs": []
  },
  {
   "cell_type": "code",
   "execution_count": null,
   "metadata": {},
   "source": [
    "!pip install statsmodels"
   ],
   "outputs": []
  },
  {
   "cell_type": "code",
   "execution_count": null,
   "metadata": {},
   "source": [
    "sns.regplot(x=\"数学成绩\", y=\"总分\", data=students,ci=None,order = 4)"
   ],
   "outputs": []
  },
  {
   "cell_type": "code",
   "execution_count": null,
   "metadata": {},
   "source": [
    "students[\"英语成绩\"]"
   ],
   "outputs": []
  },
  {
   "cell_type": "code",
   "execution_count": null,
   "metadata": {},
   "source": [
    "students[\"总分\"]"
   ],
   "outputs": []
  },
  {
   "cell_type": "code",
   "execution_count": null,
   "metadata": {},
   "source": [
    "sns.lmplot(x=\"英语成绩\", y=\"总分\", data=students,order = 3)"
   ],
   "outputs": []
  },
  {
   "cell_type": "code",
   "execution_count": null,
   "metadata": {
    "scrolled": true
   },
   "source": [
    "sns.residplot(x=\"数学成绩\", y=\"总分\", data=students)"
   ],
   "outputs": []
  },
  {
   "cell_type": "code",
   "execution_count": null,
   "metadata": {},
   "source": [
    "sns.lmplot(x=\"数学成绩\", y=\"总分\", hue=\"性别\", data=students)"
   ],
   "outputs": []
  },
  {
   "cell_type": "code",
   "execution_count": null,
   "metadata": {},
   "source": [
    "sns.lmplot(x=\"数学成绩\", y=\"总分\", hue=\"性别\", markers=[\"o\", \"x\"], palette=\"Set1\",data=students)"
   ],
   "outputs": []
  },
  {
   "cell_type": "code",
   "execution_count": null,
   "metadata": {},
   "source": [
    "sns.lmplot(x=\"数学成绩\", y=\"总分\", hue=\"性别\", markers=[\"o\", \"x\"],col=\"英语分类\", palette=\"Set1\",data=students)"
   ],
   "outputs": []
  },
  {
   "cell_type": "code",
   "execution_count": null,
   "metadata": {},
   "source": [
    "sns.lmplot(x=\"数学成绩\", y=\"总分\", hue=\"性别\", markers=[\"o\", \"x\"],col=\"英语分类\", palette=\"Set2\",height=4,data=students)"
   ],
   "outputs": []
  },
  {
   "cell_type": "code",
   "execution_count": null,
   "metadata": {},
   "source": [
    "sns.jointplot(x=\"数学成绩\", y=\"总分\", data=students, kind=\"reg\")"
   ],
   "outputs": []
  },
  {
   "cell_type": "code",
   "execution_count": null,
   "metadata": {},
   "source": [
    "flights_long = sns.load_dataset(\"flights\")\n",
    "flights_long"
   ],
   "outputs": []
  },
  {
   "cell_type": "code",
   "execution_count": null,
   "metadata": {},
   "source": [
    "flights = flights_long.pivot(\"month\", \"year\", \"passengers\")\n",
    "flights"
   ],
   "outputs": []
  },
  {
   "cell_type": "code",
   "execution_count": null,
   "metadata": {},
   "source": [
    "sns.heatmap(flights, annot=True, fmt=\"d\", linewidths=.5)"
   ],
   "outputs": []
  },
  {
   "cell_type": "code",
   "execution_count": null,
   "metadata": {},
   "source": [
    "students"
   ],
   "outputs": []
  },
  {
   "cell_type": "code",
   "execution_count": null,
   "metadata": {},
   "source": [
    "st = students.pivot(\"本科院校\", \"报考院校\", \"总分\")"
   ],
   "outputs": []
  },
  {
   "cell_type": "code",
   "execution_count": null,
   "metadata": {},
   "source": [],
   "outputs": []
  }
 ],
 "metadata": {
  "kernelspec": {
   "display_name": "Python 3 (ipykernel)",
   "language": "python",
   "name": "python3"
  },
  "language_info": {
   "codemirror_mode": {
    "name": "ipython",
    "version": 3
   },
   "file_extension": ".py",
   "mimetype": "text/x-python",
   "name": "python",
   "nbconvert_exporter": "python",
   "pygments_lexer": "ipython3",
   "version": "3.10.4"
  },
  "vp": {
   "base_numbering": 1,
   "nav_menu": {},
   "number_sections": true,
   "sideBar": true,
   "title_cell": "VisualPython",
   "title_sidebar": "VisualPython",
   "vpPosition": {
    "height": "calc(100% - 180px)",
    "right": "10px",
    "top": "110px",
    "width": "50%"
   },
   "vp_cell": false,
   "vp_section_display": true,
   "vp_window_display": false
  }
 },
 "nbformat": 4,
 "nbformat_minor": 4
}
