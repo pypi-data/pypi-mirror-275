{
 "cells": [
  {
   "cell_type": "markdown",
   "id": "cc3dc00b",
   "metadata": {},
   "source": [
    "## Series 综合案例"
   ]
  },
  {
   "cell_type": "code",
   "execution_count": 2,
   "id": "be557a1c",
   "metadata": {},
   "outputs": [
    {
     "name": "stdout",
     "output_type": "stream",
     "text": [
      "自媒体收入情况 2022-01-31    14543.157355\n",
      "2022-02-28    13374.559957\n",
      "2022-03-31    19111.711968\n",
      "2022-04-30    16670.876364\n",
      "2022-05-31    19717.174132\n",
      "2022-06-30     3423.772820\n",
      "2022-07-31    15928.451570\n",
      "2022-08-31    13965.798257\n",
      "2022-09-30    12423.255351\n",
      "2022-10-31    18067.561615\n",
      "2022-11-30    17555.798227\n",
      "2022-12-31     5782.121208\n",
      "Freq: M, Name: 收入, dtype: float64\n"
     ]
    }
   ],
   "source": [
    "import pandas as pd\n",
    "import numpy as np\n",
    "date_rng = pd.date_range(start='1/1/2022', end='12/31/2022', freq='M')\n",
    "data = pd.Series(data=np.random.uniform(800,19800,12).tolist(), index=date_rng,name='收入')\n",
    "print('自媒体收入情况',data)"
   ]
  },
  {
   "cell_type": "markdown",
   "id": "591f57f2",
   "metadata": {},
   "source": [
    "## 总体情况"
   ]
  },
  {
   "cell_type": "code",
   "execution_count": 3,
   "id": "e737a58b",
   "metadata": {},
   "outputs": [
    {
     "data": {
      "text/plain": [
       "count       12.000000\n",
       "mean     14213.686569\n",
       "std       5053.105276\n",
       "min       3423.772820\n",
       "25%      13136.733805\n",
       "50%      15235.804462\n",
       "75%      17683.739074\n",
       "max      19717.174132\n",
       "Name: 收入, dtype: float64"
      ]
     },
     "execution_count": 3,
     "metadata": {},
     "output_type": "execute_result"
    }
   ],
   "source": [
    "data.describe()"
   ]
  },
  {
   "cell_type": "markdown",
   "id": "8cd0c985",
   "metadata": {},
   "source": [
    "每月收入排名"
   ]
  },
  {
   "cell_type": "code",
   "execution_count": 4,
   "id": "032139fc",
   "metadata": {},
   "outputs": [
    {
     "data": {
      "text/plain": [
       "2022-01-31     6.0\n",
       "2022-02-28     4.0\n",
       "2022-03-31    11.0\n",
       "2022-04-30     8.0\n",
       "2022-05-31    12.0\n",
       "2022-06-30     1.0\n",
       "2022-07-31     7.0\n",
       "2022-08-31     5.0\n",
       "2022-09-30     3.0\n",
       "2022-10-31    10.0\n",
       "2022-11-30     9.0\n",
       "2022-12-31     2.0\n",
       "Freq: M, Name: 收入, dtype: float64"
      ]
     },
     "execution_count": 4,
     "metadata": {},
     "output_type": "execute_result"
    }
   ],
   "source": [
    "data.rank(ascending=True)"
   ]
  },
  {
   "cell_type": "code",
   "execution_count": 9,
   "id": "b5bf9096",
   "metadata": {},
   "outputs": [
    {
     "data": {
      "text/plain": [
       "'2022-01-31    14543.157355\\n2022-02-28    13374.559957\\n2022-03-31    19111.711968\\n2022-04-30    16670.876364\\n2022-05-31    19717.174132\\n2022-06-30     3423.772820\\n2022-07-31    15928.451570\\n2022-08-31    13965.798257\\n2022-09-30    12423.255351\\n2022-10-31    18067.561615\\n2022-11-30    17555.798227\\n2022-12-31     5782.121208\\nFreq: M'"
      ]
     },
     "execution_count": 9,
     "metadata": {},
     "output_type": "execute_result"
    }
   ],
   "source": [
    "data.to_string()"
   ]
  },
  {
   "cell_type": "code",
   "execution_count": 8,
   "id": "51cbbca4",
   "metadata": {},
   "outputs": [
    {
     "name": "stdout",
     "output_type": "stream",
     "text": [
      "2022-01-31     6.0\n",
      "2022-02-28     4.0\n",
      "2022-03-31    11.0\n",
      "2022-04-30     8.0\n",
      "2022-05-31    12.0\n",
      "2022-06-30     1.0\n",
      "2022-07-31     7.0\n",
      "2022-08-31     5.0\n",
      "2022-09-30     3.0\n",
      "2022-10-31    10.0\n",
      "2022-11-30     9.0\n",
      "2022-12-31     2.0\n",
      "Freq: M, Name: 收入, dtype: float64\n",
      "2022-05-31    19717.174132\n",
      "2022-03-31    19111.711968\n",
      "2022-10-31    18067.561615\n",
      "Name: 收入, dtype: float64\n",
      "2022-05-31 00:00:00\n",
      "2022-01-31     14543.157355\n",
      "2022-02-28     27917.717312\n",
      "2022-03-31     47029.429279\n",
      "2022-04-30     63700.305644\n",
      "2022-05-31     83417.479775\n",
      "2022-06-30     86841.252595\n",
      "2022-07-31    102769.704165\n",
      "2022-08-31    116735.502422\n",
      "2022-09-30    129158.757772\n",
      "2022-10-31    147226.319387\n",
      "2022-11-30    164782.117615\n",
      "2022-12-31    170564.238823\n",
      "Freq: M, Name: 收入, dtype: float64\n",
      "170564.23882258247\n"
     ]
    }
   ],
   "source": [
    "print(data.rank(ascending=True))\n",
    "print(data.nlargest(3))\n",
    "print(data.idxmax())\n",
    "print(data.cumsum())\n",
    "print(sum(data))"
   ]
  },
  {
   "cell_type": "code",
   "execution_count": 16,
   "id": "e5976e93",
   "metadata": {},
   "outputs": [
    {
     "data": {
      "text/html": [
       "<div>\n",
       "<style scoped>\n",
       "    .dataframe tbody tr th:only-of-type {\n",
       "        vertical-align: middle;\n",
       "    }\n",
       "\n",
       "    .dataframe tbody tr th {\n",
       "        vertical-align: top;\n",
       "    }\n",
       "\n",
       "    .dataframe thead th {\n",
       "        text-align: right;\n",
       "    }\n",
       "</style>\n",
       "<table border=\"1\" class=\"dataframe\">\n",
       "  <thead>\n",
       "    <tr style=\"text-align: right;\">\n",
       "      <th></th>\n",
       "      <th>视频档</th>\n",
       "      <th>简介</th>\n",
       "      <th>副档名</th>\n",
       "    </tr>\n",
       "  </thead>\n",
       "  <tbody>\n",
       "    <tr>\n",
       "      <th>0</th>\n",
       "      <td>Flash Video</td>\n",
       "      <td>由Adobe Flash延伸出来的的一种流行网络视频封装格式。此格式作为早期网络视频载体而曾...</td>\n",
       "      <td>flv</td>\n",
       "    </tr>\n",
       "    <tr>\n",
       "      <th>1</th>\n",
       "      <td>AVI（Audio Video Interleave）</td>\n",
       "      <td>比较早的AVI是微软开发的。其含义是Audio Video Interactive，就是把视...</td>\n",
       "      <td>avi</td>\n",
       "    </tr>\n",
       "    <tr>\n",
       "      <th>2</th>\n",
       "      <td>WMV（Windows Media Video）</td>\n",
       "      <td>同样是微软开发的一组数位视频编解码格式的通称，ASF（Advanced Systems Fo...</td>\n",
       "      <td>wmv/asfwmvhd</td>\n",
       "    </tr>\n",
       "    <tr>\n",
       "      <th>3</th>\n",
       "      <td>MPEG（Moving Picture Experts Group）</td>\n",
       "      <td>是一个国际标准化组织（ISO）认可的媒体封装形式，受到大部份机器的支持。其储存方式多样，可以...</td>\n",
       "      <td>dat（VCD）vob（DVD）mpg/mpegmp43gp/3g2（手机）</td>\n",
       "    </tr>\n",
       "    <tr>\n",
       "      <th>4</th>\n",
       "      <td>Matroska</td>\n",
       "      <td>是一种新的多媒体封装格式，这个封装格式可把多种不同编码的视频及16条或以上不同格式的音频和语...</td>\n",
       "      <td>mkv</td>\n",
       "    </tr>\n",
       "    <tr>\n",
       "      <th>5</th>\n",
       "      <td>Real VideoReal Media（RM）</td>\n",
       "      <td>是由RealNetworks开发的一种档容器。它通常只能容纳Real Video和Real ...</td>\n",
       "      <td>rm/rmvb</td>\n",
       "    </tr>\n",
       "    <tr>\n",
       "      <th>6</th>\n",
       "      <td>QuickTime File Format</td>\n",
       "      <td>是由苹果公司开发的容器。1998年2月11日，国际标准化组织（ISO）认可QuickTime...</td>\n",
       "      <td>movqt</td>\n",
       "    </tr>\n",
       "    <tr>\n",
       "      <th>7</th>\n",
       "      <td>Ogg</td>\n",
       "      <td>Media是一个完全开放性的多媒体系统计画，OGM（Ogg Media File）是其容器格...</td>\n",
       "      <td>ogg/ogv/oga</td>\n",
       "    </tr>\n",
       "    <tr>\n",
       "      <th>8</th>\n",
       "      <td>MOD</td>\n",
       "      <td>是JVC生产的硬碟摄录机所采用的储存格式名称。</td>\n",
       "      <td>mod</td>\n",
       "    </tr>\n",
       "  </tbody>\n",
       "</table>\n",
       "</div>"
      ],
      "text/plain": [
       "                                  视频档  \\\n",
       "0                         Flash Video   \n",
       "1         AVI（Audio Video Interleave）   \n",
       "2            WMV（Windows Media Video）   \n",
       "3  MPEG（Moving Picture Experts Group）   \n",
       "4                            Matroska   \n",
       "5            Real VideoReal Media（RM）   \n",
       "6               QuickTime File Format   \n",
       "7                                 Ogg   \n",
       "8                                 MOD   \n",
       "\n",
       "                                                  简介  \\\n",
       "0  由Adobe Flash延伸出来的的一种流行网络视频封装格式。此格式作为早期网络视频载体而曾...   \n",
       "1  比较早的AVI是微软开发的。其含义是Audio Video Interactive，就是把视...   \n",
       "2  同样是微软开发的一组数位视频编解码格式的通称，ASF（Advanced Systems Fo...   \n",
       "3  是一个国际标准化组织（ISO）认可的媒体封装形式，受到大部份机器的支持。其储存方式多样，可以...   \n",
       "4  是一种新的多媒体封装格式，这个封装格式可把多种不同编码的视频及16条或以上不同格式的音频和语...   \n",
       "5  是由RealNetworks开发的一种档容器。它通常只能容纳Real Video和Real ...   \n",
       "6  是由苹果公司开发的容器。1998年2月11日，国际标准化组织（ISO）认可QuickTime...   \n",
       "7  Media是一个完全开放性的多媒体系统计画，OGM（Ogg Media File）是其容器格...   \n",
       "8                            是JVC生产的硬碟摄录机所采用的储存格式名称。   \n",
       "\n",
       "                                      副档名  \n",
       "0                                     flv  \n",
       "1                                     avi  \n",
       "2                            wmv/asfwmvhd  \n",
       "3  dat（VCD）vob（DVD）mpg/mpegmp43gp/3g2（手机）  \n",
       "4                                     mkv  \n",
       "5                                 rm/rmvb  \n",
       "6                                   movqt  \n",
       "7                             ogg/ogv/oga  \n",
       "8                                     mod  "
      ]
     },
     "execution_count": 16,
     "metadata": {},
     "output_type": "execute_result"
    }
   ],
   "source": [
    "import pandas as pd\n",
    "df=pd.read_html('https://zh.wikipedia.org/zh-hans/%E8%A7%86%E9%A2%91%E6%96%87%E4%BB%B6%E6%A0%BC%E5%BC%8F')\n",
    "df[1].to_excel('media-types.xlsx',index=None)\n",
    "df[1]"
   ]
  },
  {
   "cell_type": "code",
   "execution_count": 13,
   "id": "664e8f5b",
   "metadata": {},
   "outputs": [
    {
     "data": {
      "text/html": [
       "<div>\n",
       "<style scoped>\n",
       "    .dataframe tbody tr th:only-of-type {\n",
       "        vertical-align: middle;\n",
       "    }\n",
       "\n",
       "    .dataframe tbody tr th {\n",
       "        vertical-align: top;\n",
       "    }\n",
       "\n",
       "    .dataframe thead th {\n",
       "        text-align: right;\n",
       "    }\n",
       "</style>\n",
       "<table border=\"1\" class=\"dataframe\">\n",
       "  <thead>\n",
       "    <tr style=\"text-align: right;\">\n",
       "      <th></th>\n",
       "      <th>视频档</th>\n",
       "      <th>简介</th>\n",
       "      <th>副档名</th>\n",
       "    </tr>\n",
       "  </thead>\n",
       "  <tbody>\n",
       "    <tr>\n",
       "      <th>0</th>\n",
       "      <td>Flash Video</td>\n",
       "      <td>由Adobe Flash延伸出来的的一种流行网络视频封装格式。此格式作为早期网络视频载体而曾...</td>\n",
       "      <td>flv</td>\n",
       "    </tr>\n",
       "    <tr>\n",
       "      <th>1</th>\n",
       "      <td>AVI（Audio Video Interleave）</td>\n",
       "      <td>比较早的AVI是微软开发的。其含义是Audio Video Interactive，就是把视...</td>\n",
       "      <td>avi</td>\n",
       "    </tr>\n",
       "    <tr>\n",
       "      <th>2</th>\n",
       "      <td>WMV（Windows Media Video）</td>\n",
       "      <td>同样是微软开发的一组数位视频编解码格式的通称，ASF（Advanced Systems Fo...</td>\n",
       "      <td>wmv/asfwmvhd</td>\n",
       "    </tr>\n",
       "    <tr>\n",
       "      <th>3</th>\n",
       "      <td>MPEG（Moving Picture Experts Group）</td>\n",
       "      <td>是一个国际标准化组织（ISO）认可的媒体封装形式，受到大部份机器的支持。其储存方式多样，可以...</td>\n",
       "      <td>dat（VCD）vob（DVD）mpg/mpegmp43gp/3g2（手机）</td>\n",
       "    </tr>\n",
       "    <tr>\n",
       "      <th>4</th>\n",
       "      <td>Matroska</td>\n",
       "      <td>是一种新的多媒体封装格式，这个封装格式可把多种不同编码的视频及16条或以上不同格式的音频和语...</td>\n",
       "      <td>mkv</td>\n",
       "    </tr>\n",
       "    <tr>\n",
       "      <th>5</th>\n",
       "      <td>Real VideoReal Media（RM）</td>\n",
       "      <td>是由RealNetworks开发的一种档容器。它通常只能容纳Real Video和Real ...</td>\n",
       "      <td>rm/rmvb</td>\n",
       "    </tr>\n",
       "    <tr>\n",
       "      <th>6</th>\n",
       "      <td>QuickTime File Format</td>\n",
       "      <td>是由苹果公司开发的容器。1998年2月11日，国际标准化组织（ISO）认可QuickTime...</td>\n",
       "      <td>movqt</td>\n",
       "    </tr>\n",
       "    <tr>\n",
       "      <th>7</th>\n",
       "      <td>Ogg</td>\n",
       "      <td>Media是一个完全开放性的多媒体系统计画，OGM（Ogg Media File）是其容器格...</td>\n",
       "      <td>ogg/ogv/oga</td>\n",
       "    </tr>\n",
       "    <tr>\n",
       "      <th>8</th>\n",
       "      <td>MOD</td>\n",
       "      <td>是JVC生产的硬碟摄录机所采用的储存格式名称。</td>\n",
       "      <td>mod</td>\n",
       "    </tr>\n",
       "  </tbody>\n",
       "</table>\n",
       "</div>"
      ],
      "text/plain": [
       "                                  视频档  \\\n",
       "0                         Flash Video   \n",
       "1         AVI（Audio Video Interleave）   \n",
       "2            WMV（Windows Media Video）   \n",
       "3  MPEG（Moving Picture Experts Group）   \n",
       "4                            Matroska   \n",
       "5            Real VideoReal Media（RM）   \n",
       "6               QuickTime File Format   \n",
       "7                                 Ogg   \n",
       "8                                 MOD   \n",
       "\n",
       "                                                  简介  \\\n",
       "0  由Adobe Flash延伸出来的的一种流行网络视频封装格式。此格式作为早期网络视频载体而曾...   \n",
       "1  比较早的AVI是微软开发的。其含义是Audio Video Interactive，就是把视...   \n",
       "2  同样是微软开发的一组数位视频编解码格式的通称，ASF（Advanced Systems Fo...   \n",
       "3  是一个国际标准化组织（ISO）认可的媒体封装形式，受到大部份机器的支持。其储存方式多样，可以...   \n",
       "4  是一种新的多媒体封装格式，这个封装格式可把多种不同编码的视频及16条或以上不同格式的音频和语...   \n",
       "5  是由RealNetworks开发的一种档容器。它通常只能容纳Real Video和Real ...   \n",
       "6  是由苹果公司开发的容器。1998年2月11日，国际标准化组织（ISO）认可QuickTime...   \n",
       "7  Media是一个完全开放性的多媒体系统计画，OGM（Ogg Media File）是其容器格...   \n",
       "8                            是JVC生产的硬碟摄录机所采用的储存格式名称。   \n",
       "\n",
       "                                      副档名  \n",
       "0                                     flv  \n",
       "1                                     avi  \n",
       "2                            wmv/asfwmvhd  \n",
       "3  dat（VCD）vob（DVD）mpg/mpegmp43gp/3g2（手机）  \n",
       "4                                     mkv  \n",
       "5                                 rm/rmvb  \n",
       "6                                   movqt  \n",
       "7                             ogg/ogv/oga  \n",
       "8                                     mod  "
      ]
     },
     "execution_count": 13,
     "metadata": {},
     "output_type": "execute_result"
    }
   ],
   "source": []
  },
  {
   "cell_type": "code",
   "execution_count": null,
   "id": "9a652e06",
   "metadata": {},
   "outputs": [],
   "source": []
  }
 ],
 "metadata": {
  "kernelspec": {
   "display_name": "Python 3 (ipykernel)",
   "language": "python",
   "name": "python3"
  },
  "language_info": {
   "codemirror_mode": {
    "name": "ipython",
    "version": 3
   },
   "file_extension": ".py",
   "mimetype": "text/x-python",
   "name": "python",
   "nbconvert_exporter": "python",
   "pygments_lexer": "ipython3",
   "version": "3.10.4"
  }
 },
 "nbformat": 4,
 "nbformat_minor": 5
}
