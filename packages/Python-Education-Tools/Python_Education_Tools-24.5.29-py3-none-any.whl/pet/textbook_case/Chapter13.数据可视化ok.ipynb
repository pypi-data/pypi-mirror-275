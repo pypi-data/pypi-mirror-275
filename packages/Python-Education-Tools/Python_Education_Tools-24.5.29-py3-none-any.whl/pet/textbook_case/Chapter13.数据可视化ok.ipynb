{
 "cells": [
  {
   "cell_type": "code",
   "metadata": {},
   "source": [
    "import numpy as np \n",
    "import pandas as pd\n",
    "import matplotlib as mpl\n",
    "import matplotlib.pyplot as plt\n",
    "import seaborn as sns\n",
    "from scipy import stats\n",
    "%matplotlib inline\n",
    "rc={'figure.dpi':600,'font.sans-serif':'SimHei','axes.unicode_minus':False, 'figure.figsize':(18,12)}\n",
    "sns.set(context='notebook', style='whitegrid', rc=rc)\n"
   ],
   "outputs": [],
   "execution_count": null
  },
  {
   "cell_type": "code",
   "metadata": {},
   "source": [
    "from pet.datasets import factory\n",
    "students = factory.load_data('2019年研究生初试成绩')\n"
   ],
   "outputs": [],
   "execution_count": null
  },
  {
   "cell_type": "code",
   "metadata": {},
   "source": [
    "#import pandas as pd\n",
    "#students = pd.read_excel('data/st.xlsx')\n",
    "#查看数据的shape\n",
    "#students.dropna(inplace=True)\n",
    "#students.shape"
   ],
   "outputs": [],
   "execution_count": null
  },
  {
   "cell_type": "code",
   "metadata": {},
   "source": "students.head()",
   "outputs": [],
   "execution_count": null
  },
  {
   "cell_type": "code",
   "metadata": {},
   "source": [
    "students.dtypes"
   ],
   "outputs": [],
   "execution_count": null
  },
  {
   "cell_type": "code",
   "metadata": {},
   "source": [
    "students.describe()"
   ],
   "outputs": [],
   "execution_count": null
  },
  {
   "cell_type": "code",
   "metadata": {},
   "source": [
    "students['id']=students['id'].astype(str)\n",
    "students['性别']=students['性别'].astype(\"category\")\n",
    "students['毕业年月'] = pd.to_datetime(students['毕业年月'],format='%Y%m')\n",
    "students['英语分类']=students['英语分类'].astype(\"category\")\n",
    "students['数学分类']=students['数学分类'].astype(\"category\")\n",
    "students['专业课分类']=students['专业课分类'].astype(\"category\")"
   ],
   "outputs": [],
   "execution_count": null
  },
  {
   "cell_type": "code",
   "metadata": {},
   "source": [
    "import datetime\n",
    "students['复习时间']=datetime.datetime(2019,7,1)-students['毕业年月']\n",
    "students['复习时间']=students['复习时间'].dt.days\n",
    "students.to_excel('st1.xlsx')\n",
    "students.head(2)"
   ],
   "outputs": [],
   "execution_count": null
  },
  {
   "cell_type": "code",
   "metadata": {},
   "source": [
    "students.info()"
   ],
   "outputs": [],
   "execution_count": null
  },
  {
   "cell_type": "code",
   "metadata": {},
   "source": [
    "students.columns"
   ],
   "outputs": [],
   "execution_count": null
  },
  {
   "cell_type": "code",
   "metadata": {},
   "source": [
    "order = ['id', '性别', '本科院校', '本科专业', '毕业年月','复习时间', '报考代码', '英语分类', '英语成绩', '数学分类', '数学成绩', '政治成绩', '专业课分类', '专业课成绩',\n",
    "       '报考院校', '报考专业', '总分' ]\n",
    "students = students[order]\n",
    "students.describe()"
   ],
   "outputs": [],
   "execution_count": null
  },
  {
   "cell_type": "code",
   "metadata": {},
   "source": "sns.displot(students['总分'])",
   "outputs": [],
   "execution_count": null
  },
  {
   "cell_type": "code",
   "metadata": {},
   "source": "sns.displot(students['英语成绩']);",
   "outputs": [],
   "execution_count": null
  },
  {
   "cell_type": "code",
   "metadata": {},
   "source": "sns.displot(students['数学成绩'],kde=False,bins=30)",
   "outputs": [],
   "execution_count": null
  },
  {
   "cell_type": "code",
   "metadata": {},
   "source": "sns.displot(students['英语成绩'], kde=True, bins=30)",
   "outputs": [],
   "execution_count": null
  },
  {
   "cell_type": "code",
   "metadata": {},
   "source": "sns.displot(students['专业课成绩'], kde=True, bins=30)",
   "outputs": [],
   "execution_count": null
  },
  {
   "cell_type": "code",
   "metadata": {},
   "source": "sns.displot(students['专业课成绩'], kde=False, rug=True)",
   "outputs": [],
   "execution_count": null
  },
  {
   "cell_type": "code",
   "metadata": {},
   "source": "sns.kdeplot(students['专业课成绩'], fill=True)",
   "outputs": [],
   "execution_count": null
  },
  {
   "cell_type": "code",
   "metadata": {},
   "source": [
    "sns.kdeplot(students['专业课成绩'])\n",
    "sns.kdeplot(students['专业课成绩'], bw_method=.2, label=\"bw: 0.2\")\n",
    "sns.kdeplot(students['专业课成绩'], bw_method=1, label=\"bw: 2\")\n"
   ],
   "outputs": [],
   "execution_count": null
  },
  {
   "cell_type": "code",
   "metadata": {},
   "source": "sns.kdeplot(students['专业课成绩'], fill=True, cut=5)",
   "outputs": [],
   "execution_count": null
  },
  {
   "cell_type": "code",
   "metadata": {},
   "source": "sns.kdeplot(x=students['英语成绩'], y=students['数学成绩'])",
   "outputs": [],
   "execution_count": null
  },
  {
   "cell_type": "code",
   "metadata": {},
   "source": [
    "sns.rugplot(students['专业课成绩'],height=0.3)"
   ],
   "outputs": [],
   "execution_count": null
  },
  {
   "cell_type": "code",
   "metadata": {},
   "source": [
    "sns.jointplot(x=\"数学成绩\", y=\"总分\", data=students)"
   ],
   "outputs": [],
   "execution_count": null
  },
  {
   "cell_type": "code",
   "metadata": {},
   "source": [
    "sns.jointplot(x=\"数学成绩\", y=\"总分\",data=students, kind=\"hex\", color=\"b\")"
   ],
   "outputs": [],
   "execution_count": null
  },
  {
   "cell_type": "code",
   "metadata": {},
   "source": [
    "sns.jointplot(x=\"数学成绩\", y=\"总分\", data=students,kind=\"reg\")"
   ],
   "outputs": [],
   "execution_count": null
  },
  {
   "cell_type": "code",
   "metadata": {},
   "source": [
    "sns.jointplot(x=\"英语成绩\", y=\"数学成绩\", data=students, kind=\"kde\")"
   ],
   "outputs": [],
   "execution_count": null
  },
  {
   "cell_type": "code",
   "metadata": {},
   "source": [
    "sns.relplot(x=\"复习时间\", y=\"总分\", data=students, kind=\"line\")"
   ],
   "outputs": [],
   "execution_count": null
  },
  {
   "cell_type": "code",
   "metadata": {},
   "source": [
    "sns.pairplot(students)"
   ],
   "outputs": [],
   "execution_count": null
  },
  {
   "cell_type": "code",
   "metadata": {},
   "source": [
    "sns.pairplot(students, hue=\"性别\")"
   ],
   "outputs": [],
   "execution_count": null
  },
  {
   "cell_type": "code",
   "metadata": {},
   "source": [
    "sns.pairplot(students, x_vars=[\"数学成绩\", \"英语成绩\",'政治成绩'], y_vars=[\"总分\"], height=5, aspect=.8)"
   ],
   "outputs": [],
   "execution_count": null
  },
  {
   "cell_type": "code",
   "metadata": {},
   "source": [
    "sns.relplot(x=\"数学成绩\", y=\"总分\", hue=\"数学分类\",sizes=(35, 100),size='复习时间',col='性别',data=students)"
   ],
   "outputs": [],
   "execution_count": null
  },
  {
   "cell_type": "code",
   "metadata": {},
   "source": [
    "sns.relplot(x=\"数学成绩\", y=\"总分\", hue=\"数学分类\",col='性别',data=students, kind=\"line\");#默认对数据排序"
   ],
   "outputs": [],
   "execution_count": null
  },
  {
   "cell_type": "code",
   "metadata": {},
   "source": [
    "sns.relplot(x=\"数学成绩\", y=\"总分\", hue=\"数学分类\",col='性别',data=students,sort=False, kind=\"line\")"
   ],
   "outputs": [],
   "execution_count": null
  },
  {
   "cell_type": "code",
   "metadata": {},
   "source": [
    "sns.relplot(x=\"数学成绩\", y=\"总分\", kind=\"line\", data=students)"
   ],
   "outputs": [],
   "execution_count": null
  },
  {
   "cell_type": "code",
   "metadata": {},
   "source": "sns.relplot(x=\"英语成绩\", y=\"总分\", kind=\"line\",errorbar=('ci', False),data=students)",
   "outputs": [],
   "execution_count": null
  },
  {
   "cell_type": "code",
   "metadata": {},
   "source": "sns.relplot(x=\"英语成绩\", y=\"总分\", kind=\"line\", errorbar='sd',data=students)",
   "outputs": [],
   "execution_count": null
  },
  {
   "cell_type": "code",
   "metadata": {},
   "source": [
    "sns.relplot(x=\"英语成绩\", y=\"总分\", kind=\"line\", estimator=None,data=students)"
   ],
   "outputs": [],
   "execution_count": null
  },
  {
   "cell_type": "code",
   "metadata": {},
   "source": [
    "sns.relplot(x=\"数学成绩\", y=\"总分\", kind=\"line\",hue='性别',data=students)"
   ],
   "outputs": [],
   "execution_count": null
  },
  {
   "cell_type": "code",
   "metadata": {},
   "source": [
    "sns.relplot(x=\"数学成绩\", y=\"总分\", kind=\"line\",hue='性别',  style='英语分类', markers=True,data=students)"
   ],
   "outputs": [],
   "execution_count": null
  },
  {
   "cell_type": "code",
   "metadata": {},
   "source": [
    "sns.relplot(x=\"毕业年月\", y=\"数学成绩\", kind=\"line\", data=students)"
   ],
   "outputs": [],
   "execution_count": null
  },
  {
   "cell_type": "code",
   "metadata": {},
   "source": [
    "sns.relplot(x=\"复习时间\", y=\"英语成绩\", kind=\"line\", data=students)"
   ],
   "outputs": [],
   "execution_count": null
  },
  {
   "cell_type": "code",
   "metadata": {},
   "source": [
    "sns.catplot(x=\"性别\", y=\"总分\", data=students)"
   ],
   "outputs": [],
   "execution_count": null
  },
  {
   "cell_type": "code",
   "metadata": {},
   "source": [
    "sns.catplot(x=\"英语分类\", y=\"总分\",jitter=False, data=students)"
   ],
   "outputs": [],
   "execution_count": null
  },
  {
   "cell_type": "code",
   "metadata": {},
   "source": [
    "sns.catplot(y=\"数学分类\", x=\"总分\",kind=\"swarm\", data=students)"
   ],
   "outputs": [],
   "execution_count": null
  },
  {
   "cell_type": "code",
   "metadata": {},
   "source": [
    "sns.catplot(x=\"性别\", y=\"英语成绩\", kind=\"box\", data=students)"
   ],
   "outputs": [],
   "execution_count": null
  },
  {
   "cell_type": "code",
   "metadata": {},
   "source": [
    "sns.catplot(x=\"性别\", y=\"英语成绩\", kind=\"box\", hue='英语分类',data=students,order=['男','女'])"
   ],
   "outputs": [],
   "execution_count": null
  },
  {
   "cell_type": "code",
   "metadata": {},
   "source": [
    "sns.catplot(x=\"性别\", y=\"英语成绩\", kind=\"boxen\", hue='英语分类',data=students,order=['男','女'])"
   ],
   "outputs": [],
   "execution_count": null
  },
  {
   "cell_type": "code",
   "metadata": {},
   "source": [
    "sns.catplot(x=\"数学分类\", y=\"总分\", hue=\"性别\",kind=\"violin\", data=students)"
   ],
   "outputs": [],
   "execution_count": null
  },
  {
   "cell_type": "code",
   "metadata": {},
   "source": [
    "sns.catplot(x=\"性别\", y=\"总分\", hue=\"数学分类\", kind=\"bar\", data=students)"
   ],
   "outputs": [],
   "execution_count": null
  },
  {
   "cell_type": "code",
   "metadata": {},
   "source": [
    "sns.catplot(x=\"报考专业\", y=\"总分\", hue=\"性别\", kind=\"point\", data=students);\n",
    "plt.tick_params(axis='x',labelsize=8,rotation=90)"
   ],
   "outputs": [],
   "execution_count": null
  },
  {
   "cell_type": "code",
   "metadata": {},
   "source": [
    "sns.catplot(x=\"数学分类\", hue=\"性别\", kind=\"count\", data=students)"
   ],
   "outputs": [],
   "execution_count": null
  },
  {
   "cell_type": "code",
   "metadata": {},
   "source": [
    "sns.pointplot(x=\"数学分类\", y=\"总分\", data=students)"
   ],
   "outputs": [],
   "execution_count": null
  },
  {
   "cell_type": "code",
   "metadata": {},
   "source": [
    "sns.regplot(x=\"数学成绩\", y=\"总分\", data=students)"
   ],
   "outputs": [],
   "execution_count": null
  },
  {
   "cell_type": "code",
   "metadata": {},
   "source": [
    "sns.lmplot(x=\"数学成绩\", y=\"总分\", data=students)"
   ],
   "outputs": [],
   "execution_count": null
  },
  {
   "cell_type": "code",
   "metadata": {},
   "source": [
    "sns.pairplot(students, hue=\"性别\");"
   ],
   "outputs": [],
   "execution_count": null
  },
  {
   "cell_type": "code",
   "metadata": {},
   "source": [
    "sns.pairplot(students)"
   ],
   "outputs": [],
   "execution_count": null
  },
  {
   "cell_type": "code",
   "metadata": {},
   "source": [
    "sns.pairplot(students, x_vars=[\"数学成绩\", \"英语成绩\",'政治成绩'], y_vars=[\"总分\"], height=5, aspect=.8, kind=\"reg\")"
   ],
   "outputs": [],
   "execution_count": null
  },
  {
   "cell_type": "code",
   "metadata": {},
   "source": [
    "sns.lmplot(x=\"数学成绩\", y=\"总分\", data=students,x_estimator=np.mean)"
   ],
   "outputs": [],
   "execution_count": null
  },
  {
   "cell_type": "code",
   "metadata": {},
   "source": [
    "sns.regplot(x=\"数学成绩\", y=\"总分\", data=students)"
   ],
   "outputs": [],
   "execution_count": null
  },
  {
   "cell_type": "code",
   "metadata": {},
   "source": [
    "sns.lmplot(x=\"数学成绩\", y=\"总分\", data=students)\n"
   ],
   "outputs": [],
   "execution_count": null
  },
  {
   "cell_type": "code",
   "metadata": {},
   "source": [
    "sns.lmplot(x=\"数学成绩\", y=\"总分\", data=students ,lowess=True)\n",
    "sns.residplot(x=\"数学成绩\", y=\"总分\", data=students ,lowess=True, color=\"g\")\n",
    "\n",
    "from scipy.stats import linregress\n",
    "import numpy as np\n",
    "x =students['数学成绩']\n",
    "y = students['总分']\n",
    "slope, intercept, r_value, p_value, std_err = linregress(x, y)\n",
    "print(f\"{slope=}\")\n",
    "print(f\"{intercept=}\")\n",
    "print(f\"{r_value=}\")\n",
    "print(f'{p_value=}')\n",
    "print(f'{std_err=}')\n",
    "\n",
    "\n",
    "\n"
   ],
   "outputs": [],
   "execution_count": null
  },
  {
   "cell_type": "code",
   "metadata": {},
   "source": [
    "sns.residplot(x=\"数学成绩\", y=\"总分\", data=students ,lowess=True, color=\"g\")"
   ],
   "outputs": [],
   "execution_count": null
  },
  {
   "cell_type": "code",
   "metadata": {},
   "source": [
    "!pip install statsmodels"
   ],
   "outputs": [],
   "execution_count": null
  },
  {
   "cell_type": "code",
   "metadata": {},
   "source": [
    "sns.regplot(x=\"数学成绩\", y=\"总分\", data=students,ci=None,order = 4)"
   ],
   "outputs": [],
   "execution_count": null
  },
  {
   "cell_type": "code",
   "metadata": {},
   "source": [
    "students[\"英语成绩\"]"
   ],
   "outputs": [],
   "execution_count": null
  },
  {
   "cell_type": "code",
   "metadata": {},
   "source": [
    "students[\"总分\"]"
   ],
   "outputs": [],
   "execution_count": null
  },
  {
   "cell_type": "code",
   "metadata": {},
   "source": [
    "sns.lmplot(x=\"英语成绩\", y=\"总分\", data=students,order = 3)"
   ],
   "outputs": [],
   "execution_count": null
  },
  {
   "cell_type": "code",
   "metadata": {
    "scrolled": true
   },
   "source": [
    "sns.residplot(x=\"数学成绩\", y=\"总分\", data=students)"
   ],
   "outputs": [],
   "execution_count": null
  },
  {
   "cell_type": "code",
   "metadata": {},
   "source": [
    "sns.lmplot(x=\"数学成绩\", y=\"总分\", hue=\"性别\", data=students)"
   ],
   "outputs": [],
   "execution_count": null
  },
  {
   "cell_type": "code",
   "metadata": {},
   "source": [
    "sns.lmplot(x=\"数学成绩\", y=\"总分\", hue=\"性别\", markers=[\"o\", \"x\"], palette=\"Set1\",data=students)"
   ],
   "outputs": [],
   "execution_count": null
  },
  {
   "cell_type": "code",
   "metadata": {},
   "source": [
    "sns.lmplot(x=\"数学成绩\", y=\"总分\", hue=\"性别\", markers=[\"o\", \"x\"],col=\"英语分类\", palette=\"Set1\",data=students)"
   ],
   "outputs": [],
   "execution_count": null
  },
  {
   "cell_type": "code",
   "metadata": {},
   "source": [
    "sns.lmplot(x=\"数学成绩\", y=\"总分\", hue=\"性别\", markers=[\"o\", \"x\"],col=\"英语分类\", palette=\"Set2\",height=4,data=students)"
   ],
   "outputs": [],
   "execution_count": null
  },
  {
   "cell_type": "code",
   "metadata": {},
   "source": [
    "sns.jointplot(x=\"数学成绩\", y=\"总分\", data=students, kind=\"reg\")"
   ],
   "outputs": [],
   "execution_count": null
  },
  {
   "cell_type": "code",
   "metadata": {},
   "source": [
    "flights_long = sns.load_dataset(\"flights\")\n",
    "flights_long"
   ],
   "outputs": [],
   "execution_count": null
  },
  {
   "cell_type": "code",
   "metadata": {},
   "source": [
    "flights = flights_long.pivot(\"month\", \"year\", \"passengers\")\n",
    "flights"
   ],
   "outputs": [],
   "execution_count": null
  },
  {
   "cell_type": "code",
   "metadata": {},
   "source": [
    "sns.heatmap(flights, annot=True, fmt=\"d\", linewidths=.5)"
   ],
   "outputs": [],
   "execution_count": null
  },
  {
   "cell_type": "code",
   "metadata": {},
   "source": [
    "students"
   ],
   "outputs": [],
   "execution_count": null
  },
  {
   "cell_type": "code",
   "metadata": {},
   "source": "",
   "outputs": [],
   "execution_count": null
  },
  {
   "cell_type": "code",
   "metadata": {},
   "source": [],
   "outputs": [],
   "execution_count": null
  }
 ],
 "metadata": {
  "kernelspec": {
   "display_name": "Python 3 (ipykernel)",
   "language": "python",
   "name": "python3"
  },
  "language_info": {
   "codemirror_mode": {
    "name": "ipython",
    "version": 3
   },
   "file_extension": ".py",
   "mimetype": "text/x-python",
   "name": "python",
   "nbconvert_exporter": "python",
   "pygments_lexer": "ipython3",
   "version": "3.10.4"
  },
  "vp": {
   "base_numbering": 1,
   "nav_menu": {},
   "number_sections": true,
   "sideBar": true,
   "title_cell": "VisualPython",
   "title_sidebar": "VisualPython",
   "vpPosition": {
    "height": "calc(100% - 180px)",
    "right": "10px",
    "top": "110px",
    "width": "50%"
   },
   "vp_cell": false,
   "vp_section_display": true,
   "vp_window_display": false
  }
 },
 "nbformat": 4,
 "nbformat_minor": 4
}
