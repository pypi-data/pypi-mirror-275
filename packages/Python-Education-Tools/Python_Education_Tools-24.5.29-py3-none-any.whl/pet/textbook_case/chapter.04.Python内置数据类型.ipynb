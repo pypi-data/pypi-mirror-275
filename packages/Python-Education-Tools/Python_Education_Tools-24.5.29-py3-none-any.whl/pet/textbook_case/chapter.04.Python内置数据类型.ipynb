{
 "cells": [
  {
   "cell_type": "markdown",
   "source": [
    "chapter.04.Python内置数据类型"
   ],
   "metadata": {
    "collapsed": false
   }
  },
  {
   "cell_type": "code",
   "execution_count": null,
   "source": [
    "a=8\n",
    "print(f'{id(a)=}, {type(a)},{a.bit_length()=}')"
   ],
   "metadata": {
    "collapsed": false
   },
   "outputs": []
  },
  {
   "cell_type": "code",
   "execution_count": null,
   "source": [
    "var1 = 1688       # 十进制\n",
    "var2 = 0b11001  # 二进制，0b是二进制的标志符号\n",
    "var3 = 0o1577     # 八进制，0o是八进制的标志符号\n",
    "var4 = 0x98ff     # 十六进制，0x是十六进制的标志符号\n",
    "print(f'{var1=},{var2=},{var3=},{var4=}')"
   ],
   "metadata": {
    "collapsed": false
   },
   "outputs": []
  },
  {
   "cell_type": "markdown",
   "source": [
    "用内置函数 hex()、oct()、bin()，可以把十进制数字转化为其他进制。如："
   ],
   "metadata": {
    "collapsed": false
   }
  },
  {
   "cell_type": "code",
   "execution_count": null,
   "source": [
    "a=1688\n",
    "print(f'{a=},{hex(a)=},{oct(a)=},{bin(a)=}')"
   ],
   "metadata": {
    "collapsed": false
   },
   "outputs": []
  },
  {
   "cell_type": "markdown",
   "source": [
    "【例4.2】查看int和float数字类型的相关信息。Python内置的sys模块，该模块提供了一些接口，用于访问 所安装Python系统相关信息"
   ],
   "metadata": {
    "collapsed": false
   }
  },
  {
   "cell_type": "code",
   "execution_count": null,
   "source": [
    "import sys\n",
    "print(f'{sys.int_info=}')\n",
    "print(f'{sys.float_info=}')"
   ],
   "metadata": {
    "collapsed": false
   },
   "outputs": []
  },
  {
   "cell_type": "markdown",
   "source": [
    "赋值运算符"
   ],
   "metadata": {
    "collapsed": false
   }
  },
  {
   "cell_type": "markdown",
   "source": [
    "![运算符](img/img_3.png)"
   ],
   "metadata": {
    "collapsed": false
   }
  },
  {
   "cell_type": "code",
   "execution_count": null,
   "source": [
    "a=12\n",
    "print(f'a=12,赋值后-->a={a}')\n",
    "a+=8\n",
    "print(f'a+=8,赋值后-->a={a}')\n",
    "a-=2\n",
    "print(f'a-=2,赋值后-->a={a}')\n",
    "a*=2\n",
    "print(f'a*=2,赋值后-->a={a}')\n",
    "a/=8\n",
    "print(f'a/=8,赋值后-->a={a}')\n",
    "a%=8\n",
    "print(f'a%=8,赋值后-->a={a}')\n",
    "a**=2\n",
    "print(f'a**=2,赋值后-->a={a}')\n",
    "a//=8\n",
    "print(f'a//=8,赋值后-->a={a}')"
   ],
   "metadata": {
    "collapsed": false
   },
   "outputs": []
  },
  {
   "cell_type": "markdown",
   "source": [
    "![算数运算](img/img_4.png)"
   ],
   "metadata": {
    "collapsed": false
   }
  },
  {
   "cell_type": "code",
   "execution_count": null,
   "source": [
    "a,b=' hello ','world'\n",
    "print(f'{a+b=}')\n",
    "print(f'{(a+b)*3=}')\n"
   ],
   "metadata": {
    "collapsed": false
   },
   "outputs": []
  },
  {
   "cell_type": "code",
   "execution_count": null,
   "source": [
    "import math\n",
    "dir(math)"
   ],
   "metadata": {
    "collapsed": false
   },
   "outputs": []
  },
  {
   "cell_type": "code",
   "execution_count": null,
   "source": [
    "math.__doc__"
   ],
   "metadata": {
    "collapsed": false
   },
   "outputs": []
  },
  {
   "cell_type": "code",
   "execution_count": null,
   "source": [
    "f=[i for i in dir(math) if '__' not in i]\n",
    "for i in f:\n",
    "    help(eval('math.'+i))"
   ],
   "metadata": {
    "collapsed": false
   },
   "outputs": []
  },
  {
   "cell_type": "code",
   "execution_count": null,
   "source": [],
   "metadata": {
    "collapsed": false
   },
   "outputs": []
  },
  {
   "cell_type": "code",
   "execution_count": null,
   "source": [
    "from contextlib import redirect_stdout\n",
    "with open('out/help-math.txt', 'w') as ft:\n",
    "    with redirect_stdout(ft):\n",
    "        for i in f:\n",
    "            help(eval('math.'+i))\n",
    "print(*open('out/help-math.txt'))"
   ],
   "metadata": {
    "collapsed": false
   },
   "outputs": []
  },
  {
   "cell_type": "code",
   "execution_count": null,
   "source": [
    "x,y=10,10\n",
    "print(f'{x,y=}')\n",
    "print(f'id(x)==id(y) 测试结果:{x==y}')\n",
    "print(f'x is y 测试结果:{x is y}')\n",
    "xx,yy=[1,2,3], [1,2,3]\n",
    "print(f'{xx,yy=}')\n",
    "print(f'id(xx)==id(yy) 测试结果:{id(xx)==id(yy)}')\n",
    "print(f'xx==yy 测试结果:{xx==yy}')\n",
    "print(f'xx is yy 测试结果:{xx is yy}')"
   ],
   "metadata": {
    "collapsed": false
   },
   "outputs": []
  },
  {
   "cell_type": "markdown",
   "source": [
    "异或实现数字加密"
   ],
   "metadata": {
    "collapsed": false
   }
  },
  {
   "cell_type": "code",
   "execution_count": null,
   "source": [
    "a,b = 54321, 99888888\n",
    "# c为加密后的数据:\n",
    "print(f'加密后数据 a^b {a^b=}')\n",
    "print(f'解密后数据 (a^b)^b {a^b^b=}')\n",
    "print(f'验证 {a==a^b^b=}')"
   ],
   "metadata": {
    "collapsed": false
   },
   "outputs": []
  },
  {
   "cell_type": "code",
   "execution_count": null,
   "source": [
    "isinstance(True,int)\n"
   ],
   "metadata": {
    "collapsed": false
   },
   "outputs": []
  },
  {
   "cell_type": "code",
   "execution_count": null,
   "source": [
    "issubclass(bool,int)"
   ],
   "metadata": {
    "collapsed": false
   },
   "outputs": []
  },
  {
   "cell_type": "code",
   "execution_count": null,
   "source": [
    "x=y=True\n",
    "(x+y)*(x+y)\n"
   ],
   "metadata": {
    "collapsed": false
   },
   "outputs": []
  },
  {
   "cell_type": "code",
   "execution_count": null,
   "source": [
    "bool([' '])"
   ],
   "metadata": {
    "collapsed": false
   },
   "outputs": []
  },
  {
   "cell_type": "code",
   "execution_count": null,
   "source": [
    "bool([])"
   ],
   "metadata": {
    "collapsed": false
   },
   "outputs": []
  },
  {
   "cell_type": "code",
   "execution_count": null,
   "source": [
    "bool(' ')"
   ],
   "metadata": {
    "collapsed": false
   },
   "outputs": []
  },
  {
   "cell_type": "code",
   "execution_count": null,
   "source": [
    "bool(None)"
   ],
   "metadata": {
    "collapsed": false
   },
   "outputs": []
  },
  {
   "cell_type": "markdown",
   "source": [
    "![关系](img/img_5.png)"
   ],
   "metadata": {
    "collapsed": false
   }
  },
  {
   "cell_type": "code",
   "execution_count": null,
   "source": [
    "False or bool('this is a test')"
   ],
   "metadata": {
    "collapsed": false
   },
   "outputs": []
  },
  {
   "cell_type": "markdown",
   "source": [
    "随机数生成"
   ],
   "metadata": {
    "collapsed": false
   }
  },
  {
   "cell_type": "code",
   "execution_count": null,
   "source": [
    "import random\n",
    "random.seed(2025)"
   ],
   "metadata": {
    "collapsed": false
   },
   "outputs": []
  },
  {
   "cell_type": "code",
   "execution_count": null,
   "source": [
    "random.random()"
   ],
   "metadata": {
    "collapsed": false
   },
   "outputs": []
  },
  {
   "cell_type": "code",
   "execution_count": null,
   "source": [
    "random.randint(0,100)"
   ],
   "metadata": {
    "collapsed": false
   },
   "outputs": []
  },
  {
   "cell_type": "code",
   "execution_count": null,
   "source": [
    "random.uniform(0,100)"
   ],
   "metadata": {
    "collapsed": false
   },
   "outputs": []
  },
  {
   "cell_type": "code",
   "execution_count": null,
   "source": [
    "random.uniform(100,0)"
   ],
   "metadata": {
    "collapsed": false
   },
   "outputs": []
  },
  {
   "cell_type": "code",
   "execution_count": null,
   "source": [
    "random.sample(range(1,33),k=6)"
   ],
   "metadata": {
    "collapsed": false
   },
   "outputs": []
  },
  {
   "cell_type": "markdown",
   "source": [
    "![序列](img/img_6.png)"
   ],
   "metadata": {
    "collapsed": false
   }
  },
  {
   "cell_type": "code",
   "execution_count": null,
   "source": [
    "s=['C','H','I','N','A']\n",
    "for i in range(len(s)):\n",
    "    print(f's[{i}]={s[i]}')"
   ],
   "metadata": {
    "collapsed": false
   },
   "outputs": []
  },
  {
   "cell_type": "markdown",
   "source": [
    "元素切片演示代码。有十张扑克牌，三个玩家依次摸牌，求各位玩家摸到的牌。"
   ],
   "metadata": {
    "collapsed": false
   }
  },
  {
   "cell_type": "code",
   "execution_count": null,
   "source": [
    "poke=['A', 'J', '2', 'king', '4', 'queen', '6', 'K', '8', 'Q']\n",
    "player1= poke[0:10:3]\n",
    "player2= poke[1:10:3]\n",
    "player3= poke[2:10:3]\n",
    "print(f'{player1=}')\n",
    "print(f'{player2 =}')\n",
    "print(f'{player3=}')"
   ],
   "metadata": {
    "collapsed": false
   },
   "outputs": []
  },
  {
   "cell_type": "code",
   "execution_count": null,
   "source": [
    "poke=['A', 'J', '2', 'king', '4', 'queen', '6', 'K', '8', 'Q']\n",
    "print(f'{poke[::]=}')\n",
    "print(f'{poke[::2]=}')\n",
    "print(f'{poke[:8:]=}')\n",
    "print(f'{poke[::-1]=}')"
   ],
   "metadata": {
    "collapsed": false
   },
   "outputs": []
  },
  {
   "cell_type": "code",
   "execution_count": null,
   "source": [
    "a=[print,len]\n",
    "a[0]('hello world')"
   ],
   "metadata": {
    "collapsed": false
   },
   "outputs": []
  },
  {
   "cell_type": "code",
   "execution_count": null,
   "source": [
    "a[1]('hello world')"
   ],
   "metadata": {
    "collapsed": false
   },
   "outputs": []
  },
  {
   "cell_type": "code",
   "execution_count": null,
   "source": [
    "a=list(range(6))\n",
    "print(f'{a=}')\n",
    "a[::2]=[99,88,77]\n",
    "print(f'{a=}')\n",
    "print(f'{a[::2]=}')\n",
    "a.sort()\n",
    "print(f'排序后 {a=}')\n",
    "a.reverse()\n",
    "print(f'逆排序 {a=}')"
   ],
   "metadata": {
    "collapsed": false
   },
   "outputs": []
  },
  {
   "cell_type": "code",
   "execution_count": null,
   "source": [
    "list(range(10))"
   ],
   "metadata": {
    "collapsed": false
   },
   "outputs": []
  },
  {
   "cell_type": "code",
   "execution_count": null,
   "source": [
    "list(range(1, 11))"
   ],
   "metadata": {
    "collapsed": false
   },
   "outputs": []
  },
  {
   "cell_type": "code",
   "execution_count": null,
   "source": [
    "list(range(0, 10, 3))"
   ],
   "metadata": {
    "collapsed": false
   },
   "outputs": []
  },
  {
   "cell_type": "code",
   "execution_count": null,
   "source": [
    "list(range(0, -10, -1))"
   ],
   "metadata": {
    "collapsed": false
   },
   "outputs": []
  },
  {
   "cell_type": "code",
   "execution_count": null,
   "source": [
    "range(33)[22]"
   ],
   "metadata": {
    "collapsed": false
   },
   "outputs": []
  },
  {
   "cell_type": "code",
   "execution_count": null,
   "source": [
    "demo=([1,2],3,4,5)\n",
    "demo[0].append(99)\n",
    "demo"
   ],
   "metadata": {
    "collapsed": false
   },
   "outputs": []
  },
  {
   "cell_type": "markdown",
   "source": [
    ">>> ord('A')\n",
    "65\n",
    ">>> ord('中')\n",
    "20013\n",
    ">>> chr(66)\n",
    "'B'\n",
    ">>> chr(25991)\n",
    "'文'\n",
    ">>> '\\u4e2d\\u6587'\n",
    "'中文'"
   ],
   "metadata": {
    "collapsed": false
   }
  },
  {
   "cell_type": "code",
   "execution_count": null,
   "source": [
    "s,t='hello','hello'\n",
    "print(f'id(s)={id(s)}')\n",
    "print(f'id(t)={id(t)}')\n",
    "print(f's is t: {s is t}')\n",
    "s=s+ ' world'\n",
    "print(f'id({s})={id(s)}')\n"
   ],
   "metadata": {
    "collapsed": false
   },
   "outputs": []
  },
  {
   "cell_type": "code",
   "execution_count": null,
   "source": [
    "s='道可道，非常道。名可名，非常名。'\n",
    "s.count('道')"
   ],
   "metadata": {
    "collapsed": false
   },
   "outputs": []
  },
  {
   "cell_type": "code",
   "execution_count": null,
   "source": [
    "type(s.encode())"
   ],
   "metadata": {
    "collapsed": false
   },
   "outputs": []
  },
  {
   "cell_type": "code",
   "execution_count": null,
   "source": [
    "s.startswith(('道','可','常'))"
   ],
   "metadata": {
    "collapsed": false
   },
   "outputs": []
  },
  {
   "cell_type": "code",
   "execution_count": null,
   "source": [
    "t=str.maketrans('0123456789元', '零一二三四伍陆柒捌玖圆','上海师范大学')"
   ],
   "metadata": {
    "collapsed": false
   },
   "outputs": []
  },
  {
   "cell_type": "code",
   "execution_count": null,
   "source": [
    "t"
   ],
   "metadata": {
    "collapsed": false
   },
   "outputs": []
  },
  {
   "cell_type": "code",
   "execution_count": null,
   "source": [
    "'上海师范大学桂林路100号,邮编：200234'.translate(t)"
   ],
   "metadata": {
    "collapsed": false
   },
   "outputs": []
  },
  {
   "cell_type": "code",
   "execution_count": null,
   "source": [
    "table = str.maketrans( {'大':'宏伟壮观'})"
   ],
   "metadata": {
    "collapsed": false
   },
   "outputs": []
  },
  {
   "cell_type": "code",
   "execution_count": null,
   "source": [
    "'大山'.translate(table)"
   ],
   "metadata": {
    "collapsed": false
   },
   "outputs": []
  },
  {
   "cell_type": "code",
   "execution_count": null,
   "source": [
    "book_info = '#2022年虎年吉祥: James Gosling#'\n",
    "book_info.strip('#').upper().replace(':',' by ')\n"
   ],
   "metadata": {
    "collapsed": false
   },
   "outputs": []
  },
  {
   "cell_type": "code",
   "execution_count": null,
   "source": [
    "import random,string\n",
    "t=string.printable\n",
    "''.join(random.choices(t,k=8))"
   ],
   "metadata": {
    "collapsed": false
   },
   "outputs": []
  },
  {
   "cell_type": "code",
   "execution_count": null,
   "source": [
    "bytes('上海师范大学','utf-8')"
   ],
   "metadata": {
    "collapsed": false
   },
   "outputs": []
  },
  {
   "cell_type": "code",
   "execution_count": null,
   "source": [
    "'上海师范大学'.encode()"
   ],
   "metadata": {
    "collapsed": false
   },
   "outputs": []
  },
  {
   "cell_type": "code",
   "execution_count": null,
   "source": [
    "bytearray('hello',encoding='utf-8')"
   ],
   "metadata": {
    "collapsed": false
   },
   "outputs": []
  },
  {
   "cell_type": "code",
   "execution_count": null,
   "source": [
    "bytearray('中国',encoding='utf-8')"
   ],
   "metadata": {
    "collapsed": false
   },
   "outputs": []
  },
  {
   "cell_type": "code",
   "execution_count": null,
   "source": [
    "bytearray(b'\\xe4\\xb8\\xad\\xe5\\x9b\\xbd')"
   ],
   "metadata": {
    "collapsed": false
   },
   "outputs": []
  },
  {
   "cell_type": "code",
   "execution_count": null,
   "source": [
    "bytearray('中国',encoding='utf-8').decode('utf-8')"
   ],
   "metadata": {
    "collapsed": false
   },
   "outputs": []
  },
  {
   "cell_type": "code",
   "execution_count": null,
   "source": [
    "memoryview('上海师范大学'.encode('utf-8')).hex()"
   ],
   "metadata": {
    "collapsed": false
   },
   "outputs": []
  },
  {
   "cell_type": "code",
   "execution_count": null,
   "source": [
    "import random\n",
    "red_balls,blue_balls=list(range(1,34)),list(range(1,17))\n",
    "random.shuffle(red_balls)\n",
    "random.shuffle(blue_balls)\n",
    "print(f'红球：{red_balls=} ')\n",
    "print(f'篮球：{blue_balls=}')\n",
    "#投注红色球6个数字\n",
    "myRedBallChoice=random.sample(red_balls,k=6)\n",
    "#投注篮色球1个数字\n",
    "myBlueBallChoice=random.sample(blue_balls,k=1)\n",
    "print(f'投注红球：{myRedBallChoice=} 投注篮球：{myBlueBallChoice=}')\n",
    "#开奖6个红球数字\n",
    "kjRedBallChoice=random.sample(red_balls,k=6)\n",
    "#开奖1个蓝色球数字\n",
    "kjBlueBallChoice=random.sample(blue_balls,k=1)\n",
    "print(f'开奖红球：{kjRedBallChoice=} 开奖篮球：{kjBlueBallChoice=}')\n",
    "#检查 红球、篮球中奖情况（利用集合求交集）\n",
    "judgeRedBall=set(myRedBallChoice)&set(kjRedBallChoice)\n",
    "judgeBlueBall=set(myBlueBallChoice)&set(kjBlueBallChoice)\n",
    "print(f'中奖红球：{judgeRedBall=} 中{len(judgeBlueBall)}红球，中奖篮球：{judgeBlueBall}，中{len(judgeBlueBall)}个篮球')"
   ],
   "metadata": {
    "collapsed": false
   },
   "outputs": []
  },
  {
   "cell_type": "code",
   "execution_count": null,
   "source": [
    "s1,s2='hello','world'\n",
    "d1=dict(zip(range(len(s1)),list(s1)))\n",
    "d2=dict(zip(range(len(s2)),list(s2)))\n",
    "print(d1)\n",
    "print(d2)\n",
    "d1.update(d2)\n",
    "print(d1)"
   ],
   "metadata": {
    "collapsed": false
   },
   "outputs": []
  },
  {
   "cell_type": "code",
   "execution_count": null,
   "source": [
    "currentEmployee = {1: 'a', 2: \"b\", 3:\"c\"}\n",
    "formerEmployee  = {2: 'd', 4: \"e\"}\n",
    "{**currentEmployee,**formerEmployee}"
   ],
   "metadata": {
    "collapsed": false
   },
   "outputs": []
  },
  {
   "cell_type": "code",
   "execution_count": null,
   "source": [
    "d1=dict(a=1,b=3,c=4)\n",
    "d2=dict(a=3,b=9,e=33,f=100)\n",
    "keySet=d1.keys()|d2.keys()\n",
    "dic=dict()\n",
    "for key in keySet:\n",
    "       dic[key]=d1.get(key,0)+d2.get(key,0)\n",
    "print(dic)"
   ],
   "metadata": {
    "collapsed": false
   },
   "outputs": []
  },
  {
   "cell_type": "code",
   "execution_count": null,
   "source": [
    "dict={'a':1, 'b':2}\n",
    "dict[\"c\"] = dict.pop(\"a\")\n",
    "dict"
   ],
   "metadata": {
    "collapsed": false
   },
   "outputs": []
  },
  {
   "cell_type": "code",
   "execution_count": null,
   "source": [
    "from itertools import chain\n",
    "a=list('hello world')\n",
    "b=range(10)\n",
    "[i for i in chain(a,b)]"
   ],
   "metadata": {
    "collapsed": false
   },
   "outputs": []
  },
  {
   "cell_type": "code",
   "execution_count": null,
   "source": [],
   "metadata": {
    "collapsed": false
   },
   "outputs": []
  }
 ],
 "metadata": {
  "kernelspec": {
   "display_name": "Python 3",
   "language": "python",
   "name": "python3"
  },
  "language_info": {
   "codemirror_mode": {
    "name": "ipython",
    "version": 2
   },
   "file_extension": ".py",
   "mimetype": "text/x-python",
   "name": "python",
   "nbconvert_exporter": "python",
   "pygments_lexer": "ipython2",
   "version": "2.7.6"
  }
 },
 "nbformat": 4,
 "nbformat_minor": 0
}
