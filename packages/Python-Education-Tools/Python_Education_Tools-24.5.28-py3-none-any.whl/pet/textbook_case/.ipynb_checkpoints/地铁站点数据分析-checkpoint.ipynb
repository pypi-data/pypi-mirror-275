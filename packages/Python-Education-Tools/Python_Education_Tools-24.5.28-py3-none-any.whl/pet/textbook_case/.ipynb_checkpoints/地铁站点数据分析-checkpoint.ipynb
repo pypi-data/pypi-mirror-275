{
 "cells": [
  {
   "cell_type": "code",
   "execution_count": 22,
   "id": "4e939887",
   "metadata": {},
   "source": [
    "import pandas as pd\n"
   ],
   "outputs": []
  },
  {
   "cell_type": "code",
   "execution_count": 23,
   "id": "fbe4eec8",
   "metadata": {},
   "source": [
    "#df=pd.read_excel('data\\subway.xlsx')\n",
    "from pet.datasets import factory\n",
    "df=factory.load_data('上海地铁线路')"
   ],
   "outputs": []
  },
  {
   "cell_type": "code",
   "execution_count": 24,
   "id": "376e308d",
   "metadata": {},
   "source": [
    "df.columns"
   ],
   "outputs": []
  },
  {
   "cell_type": "code",
   "execution_count": 25,
   "id": "0cca22c8",
   "metadata": {},
   "source": [
    "df"
   ],
   "outputs": []
  },
  {
   "cell_type": "code",
   "execution_count": 26,
   "id": "02f3798d",
   "metadata": {},
   "source": [
    "#获取站点\n",
    "dfs=df.melt()\n",
    "dfs.dropna(inplace=True)\n",
    "dfs"
   ],
   "outputs": []
  },
  {
   "cell_type": "code",
   "execution_count": 27,
   "id": "b5057e9f",
   "metadata": {},
   "source": [
    "print(f\"{dfs['value'].unique().size=}\",'站点')"
   ],
   "outputs": []
  },
  {
   "cell_type": "code",
   "execution_count": 28,
   "id": "b7601694",
   "metadata": {},
   "source": [
    "#获取每个站点换成线路数\n",
    "dt=dfs['value'].value_counts()\n",
    "dtt=dt.reset_index()\n",
    "dtt"
   ],
   "outputs": []
  },
  {
   "cell_type": "code",
   "execution_count": 30,
   "id": "f092ca77",
   "metadata": {},
   "source": [
    "dc=dt[dt>1]\n",
    "dc=dc.reset_index()\n",
    "dc"
   ],
   "outputs": []
  },
  {
   "cell_type": "code",
   "execution_count": 31,
   "id": "0ef1143f",
   "metadata": {},
   "source": [
    "dc.plot.bar()"
   ],
   "outputs": []
  },
  {
   "cell_type": "code",
   "execution_count": 36,
   "id": "f97774d8",
   "metadata": {},
   "source": [
    "import seaborn as sns\n",
    "sns.displot(data=dc,x='value')"
   ],
   "outputs": []
  },
  {
   "cell_type": "code",
   "execution_count": null,
   "id": "5ca89fb3",
   "metadata": {},
   "source": [],
   "outputs": []
  }
 ],
 "metadata": {
  "kernelspec": {
   "display_name": "Python 3 (ipykernel)",
   "language": "python",
   "name": "python3"
  },
  "language_info": {
   "codemirror_mode": {
    "name": "ipython",
    "version": 3
   },
   "file_extension": ".py",
   "mimetype": "text/x-python",
   "name": "python",
   "nbconvert_exporter": "python",
   "pygments_lexer": "ipython3",
   "version": "3.10.4"
  }
 },
 "nbformat": 4,
 "nbformat_minor": 5
}
