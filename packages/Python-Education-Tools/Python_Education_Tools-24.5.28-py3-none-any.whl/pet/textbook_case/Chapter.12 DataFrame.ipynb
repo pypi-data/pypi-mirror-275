{
 "cells": [
  {
   "cell_type": "code",
   "execution_count": 2,
   "id": "5357b241",
   "metadata": {},
   "source": [
    "!pip install -U python-education-tools"
   ],
   "outputs": []
  },
  {
   "cell_type": "code",
   "execution_count": 3,
   "id": "61a4fa9a",
   "metadata": {},
   "source": [
    "import pandas as pd"
   ],
   "outputs": []
  },
  {
   "cell_type": "code",
   "execution_count": 4,
   "id": "50119c9f",
   "metadata": {},
   "source": [
    "from pet.datasets import factory\n",
    "df = factory.gen_sample_dataframe_12() #专为第十二章生成案例\n",
    "df.head(3)\n"
   ],
   "outputs": []
  },
  {
   "cell_type": "code",
   "execution_count": 5,
   "id": "a82375c4",
   "metadata": {},
   "source": [
    "print(f'{df.shape=},{df.ndim=}')\n",
    "print(f'{df.size=},{df.index=}')\n",
    "print(f'{df.columns=}')\n",
    "print(f'{df.dtypes=}')\n",
    "print(f'{df.values=}')\n"
   ],
   "outputs": []
  },
  {
   "cell_type": "code",
   "execution_count": 6,
   "id": "5b3dddbd",
   "metadata": {},
   "source": [
    "import pandas as pd\n",
    "url='https://baike.baidu.com/item/IP%E5%9C%B0%E5%9D%80/150859?fr=aladdin'\n",
    "dfs = pd.read_html(url)\n",
    "print(dfs[0])\n",
    "dfs[0].to_excel('ip_address.xlsx',index=None,header=None)\n",
    "df=pd.read_excel('ip_address.xlsx')\n",
    "print(df)\n"
   ],
   "outputs": []
  },
  {
   "cell_type": "code",
   "execution_count": 7,
   "id": "aa86804e",
   "metadata": {},
   "source": [
    "dfs[0]"
   ],
   "outputs": []
  },
  {
   "cell_type": "code",
   "execution_count": 8,
   "id": "24d8e47d",
   "metadata": {},
   "source": [
    "from pet.datasets import factory\n",
    "df = factory.gen_sample_dataframe_12() #专为第十二章生成案例\n",
    "df.to_excel('students12.xlsx',index=None)\n",
    "df1=pd.read_excel('students12.xlsx')\n",
    "df1.head(3)"
   ],
   "outputs": []
  },
  {
   "cell_type": "code",
   "execution_count": 9,
   "id": "e3d3f576",
   "metadata": {},
   "source": [
    "dff=df.set_index('姓名')\n",
    "dff\n"
   ],
   "outputs": []
  },
  {
   "cell_type": "code",
   "execution_count": 10,
   "id": "d4b7c8de",
   "metadata": {},
   "source": [
    "df.reindex([0,2,8]) "
   ],
   "outputs": []
  },
  {
   "cell_type": "code",
   "execution_count": 11,
   "id": "86f8aa84",
   "metadata": {},
   "source": [
    "df.reindex([0,2,8],columns=['姓名', '线代','高数','专业课'])"
   ],
   "outputs": []
  },
  {
   "cell_type": "code",
   "execution_count": 12,
   "id": "938089b7",
   "metadata": {},
   "source": [
    "df.set_index('姓名').sort_index(ascending=False)"
   ],
   "outputs": []
  },
  {
   "cell_type": "code",
   "execution_count": 13,
   "id": "7f1f9507",
   "metadata": {},
   "source": [
    "df.set_index(['学校','性别'])"
   ],
   "outputs": []
  },
  {
   "cell_type": "code",
   "execution_count": 14,
   "id": "92b2be64",
   "metadata": {},
   "source": [
    "df.iloc[1:3] "
   ],
   "outputs": []
  },
  {
   "cell_type": "code",
   "execution_count": 15,
   "id": "8f126a96",
   "metadata": {},
   "source": [
    "df.iloc[:,1:6].head(3) "
   ],
   "outputs": []
  },
  {
   "cell_type": "code",
   "execution_count": 16,
   "id": "bfa8fc77",
   "metadata": {},
   "source": [
    "df.iloc[1::2,1::2]"
   ],
   "outputs": []
  },
  {
   "cell_type": "code",
   "execution_count": 17,
   "id": "eee4937c",
   "metadata": {},
   "source": [
    "df.loc[1:,'姓名':'专业课']"
   ],
   "outputs": []
  },
  {
   "cell_type": "code",
   "execution_count": 18,
   "id": "af2e2462",
   "metadata": {},
   "source": [
    "[i for i in df]"
   ],
   "outputs": []
  },
  {
   "cell_type": "code",
   "execution_count": 19,
   "id": "e061eaaf",
   "metadata": {},
   "source": [
    "[i for i in df.keys()]"
   ],
   "outputs": []
  },
  {
   "cell_type": "code",
   "execution_count": 20,
   "id": "c165e8f3",
   "metadata": {},
   "source": [
    "for col, ser in df.head(3).iteritems():\n",
    "    print(col,ser)\n"
   ],
   "outputs": []
  },
  {
   "cell_type": "code",
   "execution_count": 21,
   "id": "a67f24ad",
   "metadata": {},
   "source": [
    "df.head(3)"
   ],
   "outputs": []
  },
  {
   "cell_type": "code",
   "execution_count": 22,
   "id": "6d63b958",
   "metadata": {},
   "source": [
    "x= len(df)  #只要x大于等于len(df)即可\n",
    "df.loc[x,:]=[220151099,'赵六','男','华东理工' ,84,92,63,66,88,99,123]  \n",
    "df"
   ],
   "outputs": []
  },
  {
   "cell_type": "code",
   "execution_count": 23,
   "id": "04230d6e",
   "metadata": {},
   "source": [
    "df.drop([1,3])"
   ],
   "outputs": []
  },
  {
   "cell_type": "code",
   "execution_count": 24,
   "id": "db05f0e0",
   "metadata": {},
   "source": [
    "df.drop(df.index[1:4])"
   ],
   "outputs": []
  },
  {
   "cell_type": "code",
   "execution_count": 25,
   "id": "ec00b12e",
   "metadata": {},
   "source": [
    "df\n",
    "df.loc[[1,2],:]=df.loc[[2,1],:].values  "
   ],
   "outputs": []
  },
  {
   "cell_type": "code",
   "execution_count": 26,
   "id": "19b2b779",
   "metadata": {},
   "source": [
    "df"
   ],
   "outputs": []
  },
  {
   "cell_type": "code",
   "execution_count": 27,
   "id": "84bca1ea",
   "metadata": {},
   "source": [
    "df['总分']=(df['英语']+df['政治']+df['线代']+df['高数']+df['专业课']+df['表达能力'])*.7+df['面试']*.3"
   ],
   "outputs": []
  },
  {
   "cell_type": "code",
   "execution_count": 28,
   "id": "58214a3e",
   "metadata": {},
   "source": [
    "df"
   ],
   "outputs": []
  },
  {
   "cell_type": "code",
   "execution_count": 29,
   "id": "1410e35a",
   "metadata": {},
   "source": [
    "df.loc[:,['政治', '英语']] = df.loc[:,[ '英语','政治']].values\n",
    "df"
   ],
   "outputs": []
  },
  {
   "cell_type": "code",
   "execution_count": 30,
   "id": "1ac03468",
   "metadata": {},
   "source": [
    "df.replace({'姓名':{'范印':'范仲淹'},'高数':{81: 149}}) "
   ],
   "outputs": []
  },
  {
   "cell_type": "code",
   "execution_count": 31,
   "id": "3bebadc0",
   "metadata": {},
   "source": [
    "df.sort_values(['高数', '英语'])"
   ],
   "outputs": []
  },
  {
   "cell_type": "code",
   "execution_count": 32,
   "id": "1805db69",
   "metadata": {},
   "source": [
    "df.sort_values(['高数', '英语'],ascending=False)"
   ],
   "outputs": []
  },
  {
   "cell_type": "code",
   "execution_count": 33,
   "id": "33eceddb",
   "metadata": {},
   "source": [
    "df.rename(index={2:999},columns={'面试':'复试'})"
   ],
   "outputs": []
  },
  {
   "cell_type": "code",
   "execution_count": 34,
   "id": "714f34fe",
   "metadata": {},
   "source": [
    "import numpy as np\n",
    "df['总成绩']=df[[ '英语', '政治', '线代',  '高数', '专业课', '表达能力', '面试']].apply(np.sum,axis=1)"
   ],
   "outputs": []
  },
  {
   "cell_type": "code",
   "execution_count": 35,
   "id": "6163675a",
   "metadata": {},
   "source": [
    "df"
   ],
   "outputs": []
  },
  {
   "cell_type": "code",
   "execution_count": 36,
   "id": "5886627c",
   "metadata": {},
   "source": [
    "del df['总分']\n",
    "df"
   ],
   "outputs": []
  },
  {
   "cell_type": "code",
   "execution_count": 37,
   "id": "808eb195",
   "metadata": {},
   "source": [
    "df['排名']=df['总成绩'].rank(ascending=False) "
   ],
   "outputs": []
  },
  {
   "cell_type": "code",
   "execution_count": 38,
   "id": "660acda2",
   "metadata": {},
   "source": [
    "df"
   ],
   "outputs": []
  },
  {
   "cell_type": "code",
   "execution_count": 39,
   "id": "7e288fe0",
   "metadata": {},
   "source": [
    "df.corr()"
   ],
   "outputs": []
  },
  {
   "cell_type": "code",
   "execution_count": 40,
   "id": "85ab0d9e",
   "metadata": {},
   "source": [
    "df.corrwith(df['英语']) "
   ],
   "outputs": []
  },
  {
   "cell_type": "code",
   "execution_count": 41,
   "id": "8dd17956",
   "metadata": {},
   "source": [
    "df.groupby(['学校','性别']).count()  "
   ],
   "outputs": []
  },
  {
   "cell_type": "code",
   "execution_count": 42,
   "id": "96e2810f",
   "metadata": {},
   "source": [
    "df.groupby(['学校','性别']).agg([min,max])[['英语','高数','总成绩']] "
   ],
   "outputs": []
  },
  {
   "cell_type": "code",
   "execution_count": 43,
   "id": "51daa378",
   "metadata": {},
   "source": [
    "df.groupby('学校').median() \n"
   ],
   "outputs": []
  },
  {
   "cell_type": "code",
   "execution_count": 44,
   "id": "8b9d016c",
   "metadata": {},
   "source": [
    "df.pivot_table(index=['学校','性别'],values=['高数','英语','总成绩'],aggfunc='median')"
   ],
   "outputs": []
  },
  {
   "cell_type": "code",
   "execution_count": 45,
   "id": "459324e0",
   "metadata": {},
   "source": [
    "df['总评']=pd.cut(df['总成绩'], [0,500,560,650,750,1000], labels=[\"不及格\",\"及格\",\"中\",\"良\",\"优秀\"])"
   ],
   "outputs": []
  },
  {
   "cell_type": "code",
   "execution_count": 46,
   "id": "6f56006d",
   "metadata": {},
   "source": [
    "df"
   ],
   "outputs": []
  },
  {
   "cell_type": "code",
   "execution_count": 47,
   "id": "010791ca",
   "metadata": {},
   "source": [
    "pd.melt(df,id_vars=['考号','姓名','性别'])  "
   ],
   "outputs": []
  },
  {
   "cell_type": "code",
   "execution_count": 48,
   "id": "4520d7af",
   "metadata": {},
   "source": [
    "pd.get_dummies(df,columns=['性别'],prefix='sex')"
   ],
   "outputs": []
  },
  {
   "cell_type": "code",
   "execution_count": 60,
   "id": "1473e02e",
   "metadata": {},
   "source": [
    "from pet.datasets import factory\n",
    "df= factory.gen_sample_dataframe(number=8)\n",
    "df"
   ],
   "outputs": []
  },
  {
   "cell_type": "code",
   "execution_count": 56,
   "id": "6528db14",
   "metadata": {},
   "source": [
    "import pandas as pd\n",
    "import matplotlib.pyplot as plt\n",
    "\n",
    "# 创建数据\n",
    "df1 = pd.DataFrame({'A': [1, 2, 3], 'B': [4, 5, 6]})\n",
    "df2 = pd.DataFrame({'C': [7, 8, 9], 'D': [10, 11, 12]})\n",
    "\n",
    "# 创建子图\n",
    "fig, ax = plt.subplots(nrows=1, ncols=2)\n",
    "\n",
    "# 将数据绘制在子图上\n",
    "df1.plot(kind='line', ax=ax[0])\n",
    "df2.plot(kind='line', ax=ax[1])\n",
    "\n",
    "# 显示图\n",
    "plt.show()\n"
   ],
   "outputs": []
  },
  {
   "cell_type": "code",
   "execution_count": 62,
   "id": "d32d8682",
   "metadata": {},
   "source": [
    "df"
   ],
   "outputs": []
  },
  {
   "cell_type": "code",
   "execution_count": 53,
   "id": "a3fa7718",
   "metadata": {},
   "source": [
    "import matplotlib.pyplot as plt\n",
    "\n",
    "plt.rcParams['font.family'] = 'SimHei'\n",
    "plt.rcParams['axes.unicode_minus'] = False\n",
    "\n",
    "\n",
    "\n",
    "fig = plt.figure(figsize=(10,10) ,  dpi=400)\n",
    "\n",
    "plotDemo=['line','box','bar','barh','kde','hist' ]\n",
    "\n",
    "\n",
    "for i in plotDemo:\n",
    "    \n",
    "    df.plot(x='姓名',y=['英语成绩','政治成绩','数学成绩'],kind=i)\n",
    "    \n",
    "plt.savefig(f'df-{i}.jpg',  dpi=800 )\n",
    "plt.show()"
   ],
   "outputs": []
  },
  {
   "cell_type": "code",
   "execution_count": 68,
   "id": "700324ec",
   "metadata": {},
   "source": [
    "import matplotlib.pyplot as plt\n",
    "\n",
    "plt.rcParams['font.family'] = 'SimHei'\n",
    "plt.rcParams['axes.unicode_minus'] = False\n",
    "\n",
    "\n",
    "\n",
    "fig = plt.figure(figsize=(10,10) ,  dpi=400)\n",
    "\n",
    "plotDemo=['line','box','bar','barh','kde','hist' ]\n",
    "\n",
    "\n",
    "for i in plotDemo:\n",
    "    \n",
    "    df.plot(x='姓名',y=['英语成绩','政治成绩','数学成绩'],kind=i)\n",
    "    \n",
    "plt.savefig(f'df-{i}.jpg',  dpi=800 )\n",
    "plt.show()"
   ],
   "outputs": []
  },
  {
   "cell_type": "code",
   "execution_count": null,
   "id": "3517624c",
   "metadata": {},
   "source": [
    "import matplotlib.pyplot as plt\n",
    "\n",
    "# 创建两个series\n",
    "s1 = pd.Series(data=[1, 2, 3, 4, 5], index=[0, 1, 2, 3, 4])\n",
    "s2 = pd.Series(data=[2, 4, 6, 8, 10], index=[0, 1, 2, 3, 4])\n",
    "\n",
    "# 创建图表\n",
    "fig, ax = plt.subplots()\n",
    "\n",
    "# 绘制两条曲线\n",
    "s1.plot(ax=ax, label='Series 1')\n",
    "s2.plot(ax=ax, label='Series 2')\n",
    "\n",
    "# 添加图表标签\n",
    "plt.xlabel('Index')\n",
    "plt.ylabel('Values')\n",
    "plt.title('Two Series Plot')\n",
    "\n",
    "# 添加图例\n",
    "plt.legend()\n",
    "\n",
    "# 显示图表\n",
    "plt.show()"
   ],
   "outputs": []
  },
  {
   "cell_type": "code",
   "execution_count": 75,
   "id": "23500243",
   "metadata": {},
   "source": [
    "import pandas as pd\n",
    "import numpy as np\n",
    "# 生成时间序列数据\n",
    "dates = pd.date_range(start='2022-01-01', end='2022-12-31', freq='D')\n",
    "data = np.random.randint(0, 100, size=len(dates))\n",
    "df = pd.DataFrame({'日期': dates, '收入': data})\n",
    "df.set_index('日期', inplace=True)\n",
    "# 将数据转化为月度数据\n",
    "monthly_mean = df.resample('M').mean()\n",
    "# 计算每月的移动平均值\n",
    "monthly_mean['滚动均值'] = monthly_mean['收入'].rolling(window=7).mean()\n",
    "print(monthly_mean)\n",
    "\n"
   ],
   "outputs": []
  },
  {
   "cell_type": "code",
   "execution_count": 88,
   "id": "6d250f1b",
   "metadata": {},
   "source": [
    "import pandas as pd\n",
    "from pet.datasets import factory\n",
    "df=factory.load_data('上海地铁线路')\n",
    "#获取所有站点信息\n",
    "dfs=df.melt()\n",
    "dfs.dropna(inplace=True)\n",
    "# dfs 就是所有站点信息\n",
    "print(f\"{dfs['value'].unique().size=}\",'站点')\n",
    "#获取每个站点换乘线路数\n",
    "dt=dfs['value'].value_counts()\n",
    "dtt=dt.reset_index()\n",
    "#获取每个站点换乘线路数（大于1)\n",
    "dc=dt[dt>1]\n",
    "dc=dc.reset_index()\n",
    "dc.to_excel('stations-exchange.xlsx',index=None)\n",
    "#绘图\n",
    "import matplotlib.pyplot as plt\n",
    "plt.rcParams['font.family'] = 'SimHei'\n",
    "plt.rcParams['axes.unicode_minus'] = False\n",
    "fig = plt.figure(figsize=(8,130) ,  dpi=400)\n",
    "print(len(dc))\n",
    "\n",
    "dc.plot(x='index',y='value',kind='barh', yticks=range(0, len(dc), 2))\n",
    "plt.savefig(f\"subway.jpg\",  dpi=800 )\n"
   ],
   "outputs": []
  },
  {
   "cell_type": "code",
   "execution_count": null,
   "id": "87f93762",
   "metadata": {},
   "source": [],
   "outputs": []
  }
 ],
 "metadata": {
  "kernelspec": {
   "display_name": "Python 3 (ipykernel)",
   "language": "python",
   "name": "python3"
  },
  "language_info": {
   "codemirror_mode": {
    "name": "ipython",
    "version": 3
   },
   "file_extension": ".py",
   "mimetype": "text/x-python",
   "name": "python",
   "nbconvert_exporter": "python",
   "pygments_lexer": "ipython3",
   "version": "3.10.4"
  }
 },
 "nbformat": 4,
 "nbformat_minor": 5
}
