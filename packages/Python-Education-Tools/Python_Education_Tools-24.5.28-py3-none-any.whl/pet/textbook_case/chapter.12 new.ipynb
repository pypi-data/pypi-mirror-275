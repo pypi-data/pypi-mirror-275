{
 "cells": [
  {
   "cell_type": "markdown",
   "id": "e1dac67e",
   "metadata": {},
   "source": [
    "# 第12章 \tPandas数据分析\t"
   ]
  },
  {
   "cell_type": "code",
   "execution_count": 1,
   "id": "1ae22d4a",
   "metadata": {},
   "source": [
    "! pip install -U python-education-tools"
   ],
   "outputs": []
  },
  {
   "cell_type": "code",
   "execution_count": 2,
   "id": "87b2120f",
   "metadata": {},
   "source": [
    "#【例12.1】将一个 Series 的数据类型从 float 转换为 int。\n",
    "import pandas as pd\n",
    "data = pd.Series([1.2, 2.3, 3.4])\n",
    "data = data.astype(int)\n",
    "print(data)\n"
   ],
   "outputs": []
  },
  {
   "cell_type": "code",
   "execution_count": 3,
   "id": "ec420c0d",
   "metadata": {},
   "source": [
    "#【例12.2】将一个 Series 的数据类型从字符串类型的数据转换为数字类型。\n",
    "#可以使用 pd.to_numeric() 函数\n",
    "data = pd.Series(['1', '2', '3'])\n",
    "data = pd.to_numeric(data)\n",
    "print(data)\n"
   ],
   "outputs": []
  },
  {
   "cell_type": "code",
   "execution_count": 4,
   "id": "94c38fcc",
   "metadata": {},
   "source": [
    "#【例12.3】将一个 Series 的数据类型从字符串类型的日期，转换为时间类型。\n",
    "#可以使用 pd.to_datetime() 函数\n",
    "data = pd.Series(['2022-01-01', '2022-01-02', '2022-01-03'])\n",
    "data = pd.to_datetime(data)\n",
    "print(data)\n"
   ],
   "outputs": []
  },
  {
   "cell_type": "code",
   "execution_count": 5,
   "id": "4e37d5ea",
   "metadata": {},
   "source": [
    "#【例12.4】使用Pandas自动爬取爬取某高校班车信息。大多数情况下，如果网页中含有表格数据可以使用pd.read_html(url)直接将网页的数据转换为DataFrame列表（因为网页中可能有多个表格），这里仅获取第一个DataFrame。\n",
    "import pandas as pd\n",
    "df=pd.read_html('https://www.shnu.edu.cn/jgbc/list.htm')\n",
    "df[0].to_excel('bus.xlsx',index=None)\n",
    "df[0]\n"
   ],
   "outputs": []
  },
  {
   "cell_type": "code",
   "execution_count": 6,
   "id": "1ed15119",
   "metadata": {},
   "source": [
    "#【例12.5】Series对象的创建样例。以下代码演示由整数、浮点数、列表、元组、字典、函数等不同类型对象创建（或映射为）Series对象。请注意函数也是对象，也可创建Series对象。\n",
    "import pandas as pd\n",
    "data=[5,\n",
    "      3.3,\n",
    "      ['o','k'],\n",
    "      ('o','k'),\n",
    "      {\"name\": \"nick\", \"age\": 12},\n",
    "      print]\n",
    "ds=map(pd.Series,data)\n",
    "print(*ds) \n"
   ],
   "outputs": []
  },
  {
   "cell_type": "code",
   "execution_count": 40,
   "id": "74796483",
   "metadata": {},
   "source": [
    "#【例12.6】Series对象允许出现相同的索引值。\n",
    "s=pd.Series([1,3,4],['a','b','a'])\n",
    "s"
   ],
   "outputs": []
  },
  {
   "cell_type": "code",
   "execution_count": 41,
   "id": "dff3f903",
   "metadata": {},
   "source": [
    "s.to_dict()"
   ],
   "outputs": []
  },
  {
   "cell_type": "code",
   "execution_count": 9,
   "id": "ea25a1b3",
   "metadata": {},
   "source": [
    "s['a']"
   ],
   "outputs": []
  },
  {
   "cell_type": "code",
   "execution_count": 12,
   "id": "85c2ce84",
   "metadata": {},
   "source": [
    "\n",
    "#【例12.7】创建学生一门课成绩单（索引为：姓名，数据为：成绩）数据对象。\n",
    "#具体要求：创建的数据为学生某一科目的成绩单（40人），索引为学生的姓名，数据为成绩，学生名字与成绩均是随机生成。\n",
    "import numpy as np\n",
    "import pandas as pd\n",
    "from random import choices,randrange\n",
    "\n",
    "def gen_name(number=10):\n",
    "    \"\"\" 根据姓，名两个列表，生成n个假名字\"\"\"\n",
    "    last_name, sur_name = '赵钱孙李周吴郑王', '丽国媛燕强飞侠平山峰婷凤凰华正近玉勇茂群益一兴'\n",
    "    return [\"\".join(choices(last_name, k=1) + choices(sur_name, k=randrange(1, 3))) for _ in range(number) ]\n",
    "\n",
    "def gen_mark(low=40, high=100, number=10):\n",
    "    \"\"\"生成low 到 high 之间的 number个数字 ,成绩得分  \"\"\"\n",
    "    return np.random.randint(low, high, number)\n",
    "\n",
    "def gen_students(n=10):\n",
    "    return pd.Series(gen_mark(number=n), index=gen_name(n))\n",
    "\n",
    "s=gen_students()\n",
    "print(s)\n"
   ],
   "outputs": []
  },
  {
   "cell_type": "code",
   "execution_count": 14,
   "id": "6bf7e5e7",
   "metadata": {},
   "source": [
    "#也可使用工具生成\n",
    "from pet.datasets import factory\n",
    "s=factory.gen_sample_series(number = 10)\n",
    "s"
   ],
   "outputs": []
  },
  {
   "cell_type": "code",
   "execution_count": 15,
   "id": "beb4ad68",
   "metadata": {},
   "source": [
    "print(f'{s.name=},{s.dtypes=}')\n",
    "print(f'{s.shape=},{s.ndim=}')\n",
    "print(f'{s.size=},{s.index=}')\n",
    "print(f'{s.values=},{s.hasnans=}')\n"
   ],
   "outputs": []
  },
  {
   "cell_type": "code",
   "execution_count": 17,
   "id": "af6e6a16",
   "metadata": {},
   "source": [
    "#【例12.8】将上述案例产生的students数据（Series对象存）储到Excel文件，然后再读入该文件，显示数据内容。\n",
    "s.to_excel('students.xlsx')\n",
    "# 读入students.xlsx 文件，得到s1对象，该对象是DataFrame，由两列 Series组成\n",
    "s1= pd.read_excel('students.xlsx')\n",
    "print(s1)\n",
    "s1=s1.set_index('姓名')\n",
    "s1\n"
   ],
   "outputs": []
  },
  {
   "cell_type": "code",
   "execution_count": 19,
   "id": "8e7cc06e",
   "metadata": {},
   "source": [
    "s.head(3) #查看前n条记录\n",
    "s.tail(2)  #查看倒数n条记录\n"
   ],
   "outputs": []
  },
  {
   "cell_type": "code",
   "execution_count": 22,
   "id": "89bafbd3",
   "metadata": {},
   "source": [
    "s.to_list()"
   ],
   "outputs": []
  },
  {
   "cell_type": "code",
   "execution_count": 25,
   "id": "46e52da1",
   "metadata": {},
   "source": [
    "#快速生成带有脏数据的数据\n",
    "dirty=factory.gen_sample_series(number= 40,dst='dirtyData.xlsx', noise=0.3,repeat=2)\n",
    "dirty"
   ],
   "outputs": []
  },
  {
   "cell_type": "markdown",
   "id": "ace6998f",
   "metadata": {},
   "source": [
    "### 【例12.9】非法数据处理的预处理案例。\n",
    "已知学生成绩列表[67,93,67,105,np.nan,-4,None,78]，请查找空缺数据、填充空缺数据、设定越界数据，将数据集转换为合法数据。\n"
   ]
  },
  {
   "cell_type": "code",
   "execution_count": 26,
   "id": "63a80241",
   "metadata": {},
   "source": [
    "import pandas as pd\n",
    "import numpy as np\n",
    "s = pd.Series([67,93,67,105,np.nan,-4,None,78])\n",
    "#筛选显示 空数据\n",
    "print(s[s.isnull()])\n",
    "print(f'原始数据：{s.tolist()}')\n",
    "#将越界数据，按接近上、下边界，重新设定\n",
    "s.clip(lower=0,upper=100,inplace=True)\n",
    "print(f'越界数据处理结果：{s.tolist()}')\n",
    "print('对缺少数据的填充结果：')\n",
    "# 使用空数据前一个数字，填充空数据\n",
    "print(s.fillna(method='ffill').tolist())\n",
    "# 使用空数据后一个数字，填充空数据\n",
    "print(s.fillna(method='bfill').tolist())\n",
    "#使用2阶多项式差值，填充空数据\n",
    "print(s.interpolate(method='polynomial', order=2).tolist())\n"
   ],
   "outputs": []
  },
  {
   "cell_type": "code",
   "execution_count": 27,
   "id": "a7a7e75e",
   "metadata": {},
   "source": [
    "#【例12.10】通过数字索引与标签索引访问Series数据样例。\n",
    "#以下演示使用不同的索引方法，等效访问同一个元素，并验证结果是否一致。\n",
    "import pandas as pd\n",
    "srs=pd.Series(list('jupyter'),index=list('abcdefg'))\n",
    "srs.get('d')\n"
   ],
   "outputs": []
  },
  {
   "cell_type": "code",
   "execution_count": 28,
   "id": "cf44bd48",
   "metadata": {},
   "source": [
    "srs.get('d')==srs['d']==srs.at['d']==srs.iat[3]==srs.loc['d']==srs.iloc[3]"
   ],
   "outputs": []
  },
  {
   "cell_type": "code",
   "execution_count": 31,
   "id": "c20e1749",
   "metadata": {},
   "source": [
    "s=factory.gen_sample_series(10)\n",
    "s[s>60]"
   ],
   "outputs": []
  },
  {
   "cell_type": "code",
   "execution_count": 42,
   "id": "be11ab9d",
   "metadata": {},
   "source": [
    "#【例12.10】元素值得遍历。\n",
    "from pet.datasets import factory\n",
    "s=factory.gen_sample_series(10)\n",
    "[i for i in s]"
   ],
   "outputs": []
  },
  {
   "cell_type": "code",
   "execution_count": 43,
   "id": "192d1ae3",
   "metadata": {},
   "source": [
    "[i for i in s.keys()]"
   ],
   "outputs": []
  },
  {
   "cell_type": "code",
   "execution_count": 44,
   "id": "5373e9b0",
   "metadata": {},
   "source": [
    "{k:v for k,v in s.iteritems()} "
   ],
   "outputs": []
  },
  {
   "cell_type": "code",
   "execution_count": 45,
   "id": "c63d7ca8",
   "metadata": {},
   "source": [
    "from pet.datasets import factory\n",
    "s=factory.gen_sample_series(10)\n",
    "s.sort_index()"
   ],
   "outputs": []
  },
  {
   "cell_type": "code",
   "execution_count": 47,
   "id": "a46eff7d",
   "metadata": {},
   "source": [
    "s.index.isin(['吴学'])"
   ],
   "outputs": []
  },
  {
   "cell_type": "code",
   "execution_count": 48,
   "id": "9f3df975",
   "metadata": {},
   "source": [
    "s[s.index.isin(['吴学'])]"
   ],
   "outputs": []
  },
  {
   "cell_type": "code",
   "execution_count": 49,
   "id": "ad1fb5fb",
   "metadata": {},
   "source": [
    "s.rename({'袁群荣':'袁天罡'})"
   ],
   "outputs": []
  },
  {
   "cell_type": "code",
   "execution_count": 46,
   "id": "987a23a1",
   "metadata": {},
   "source": [
    "s.sort_values()"
   ],
   "outputs": []
  },
  {
   "cell_type": "code",
   "execution_count": 51,
   "id": "41d69779",
   "metadata": {},
   "source": [
    "from pet.datasets import factory\n",
    "s=factory.gen_sample_series(5)\n",
    "s"
   ],
   "outputs": []
  },
  {
   "cell_type": "code",
   "execution_count": 53,
   "id": "85b94e71",
   "metadata": {},
   "source": [
    "# 重建索引\n",
    "s.reindex(['彭霸岸', '喻懿', 'a'])\n",
    "\n"
   ],
   "outputs": []
  },
  {
   "cell_type": "code",
   "execution_count": 57,
   "id": "73e08bce",
   "metadata": {},
   "source": [
    "from pet.datasets import factory\n",
    "students=factory.gen_sample_series(10)\n",
    "students.describe()"
   ],
   "outputs": []
  },
  {
   "cell_type": "code",
   "execution_count": 58,
   "id": "46d3a493",
   "metadata": {},
   "source": [
    "print(f'{students.max()=},{students.min()=}')\n",
    "print(f'{students.std()=},{students.sum()=}')\n",
    "print(f'{students.mean()=},{students.median()=}')\n",
    "print(f'{students.quantile()=},{students.skew()=}')\n",
    "print(f'{students.kurt()=},{students.mad()=}')\n",
    "print(f'{students.cov(students)=},{students.autocorr()=}')\n"
   ],
   "outputs": []
  },
  {
   "cell_type": "code",
   "execution_count": 59,
   "id": "dfdfc5e1",
   "metadata": {},
   "source": [
    "students1=students.repeat(2)\n",
    "print('number=',students1.count())\n"
   ],
   "outputs": []
  },
  {
   "cell_type": "code",
   "execution_count": 60,
   "id": "b144b569",
   "metadata": {},
   "source": [
    "students1.value_counts()"
   ],
   "outputs": []
  },
  {
   "cell_type": "code",
   "execution_count": 61,
   "id": "bc12a68a",
   "metadata": {},
   "source": [
    "students.idxmin()"
   ],
   "outputs": []
  },
  {
   "cell_type": "code",
   "execution_count": 62,
   "id": "a5c213cf",
   "metadata": {},
   "source": [
    "students.idxmax()"
   ],
   "outputs": []
  },
  {
   "cell_type": "code",
   "execution_count": 63,
   "id": "4c46f241",
   "metadata": {},
   "source": [
    "students.nlargest(3)\n",
    "students.nsmallest(3)\n"
   ],
   "outputs": []
  },
  {
   "cell_type": "code",
   "execution_count": 64,
   "id": "e8fabc0e",
   "metadata": {},
   "source": [
    "import pandas as pd\n",
    "import matplotlib.pyplot as plt\n",
    "\n",
    "# 创建一个样本系列\n",
    "s = pd.Series([1, 3, 5, np.nan, 6, 8])\n",
    "\n",
    "# 绘制直线图\n",
    "s.plot(kind='line', title='线图示例')\n",
    "plt.show()\n",
    "\n",
    "# 柱状图\n",
    "s.plot(kind='bar', title='条形图示例')\n",
    "plt.show()\n",
    "\n",
    "# 水平条形图\n",
    "s.plot(kind='barh', title='水平条形图示例')\n",
    "plt.show()\n",
    "\n",
    "# 直方图\n",
    "s.plot(kind='hist', title='柱状图示例')\n",
    "plt.show()\n",
    "\n",
    "# 核心密度估计图\n",
    "s.plot(kind='kde', title='KDE图例')\n",
    "plt.show()\n",
    "\n",
    "# 面积图\n",
    "s.plot(kind='area', title='面积图例')\n",
    "plt.show()\n",
    "\n",
    "# 饼图\n",
    "s.plot(kind='pie', title='饼图示例')\n",
    "plt.show()"
   ],
   "outputs": []
  },
  {
   "cell_type": "code",
   "execution_count": 65,
   "id": "36362aa6",
   "metadata": {},
   "source": [
    "import matplotlib.pyplot as plt\n",
    "from pet.datasets import factory\n",
    "students=factory.gen_sample_series(10) \n",
    "plt.rcParams['font.family'] = 'SimHei'\n",
    "fig = plt.figure(figsize=(10,10) ,  dpi=400)\n",
    "s=students.plot\n",
    "plotDemo=[s.line, s.box,s.pie, s.hist,s.area, s.density, s.bar,s.barh]\n",
    "for i,f in enumerate(plotDemo,1):\n",
    "    plt.subplot(4,2,i)\n",
    "    f()\n",
    "plt.savefig(\"k.jpg\",  dpi=400 )\n"
   ],
   "outputs": []
  },
  {
   "cell_type": "code",
   "execution_count": 66,
   "id": "2583fe4d",
   "metadata": {},
   "source": [
    "import matplotlib.pyplot as plt\n",
    "from pet.datasets import factory\n",
    "students=factory.gen_sample_series(10) \n",
    "plt.rcParams['font.family'] = 'SimHei'\n",
    "fig = plt.figure(figsize=(10,10) ,  dpi=400)\n",
    "s=students.plot\n",
    "plotDemo=['line','box','pie','hist','area','density','bar','barh']\n",
    "\n",
    "for i,f in enumerate(plotDemo,1):\n",
    "    plt.subplot(4,2,i)\n",
    "    students.plot(kind=f)\n",
    "plt.savefig(\"ks.jpg\",  dpi=400 )\n"
   ],
   "outputs": []
  },
  {
   "cell_type": "code",
   "execution_count": 84,
   "id": "aad62483",
   "metadata": {},
   "source": [
    "import pandas as pd\n",
    "import numpy as np\n",
    "date_rng = pd.date_range(start='1/1/2022', end='12/31/2022', freq='M')\n",
    "\n",
    "date_rng= date_rng.strftime('%B')\n",
    "\n",
    "# map English month names to Chinese month names\n",
    "month_map = {\n",
    "    'January': '一月',\n",
    "    'February': '二月',\n",
    "    'March': '三月',\n",
    "    'April': '四月',\n",
    "    'May': '五月',\n",
    "    'June': '六月',\n",
    "    'July': '七月',\n",
    "    'August': '八月',\n",
    "    'September': '九月',\n",
    "    'October': '十月',\n",
    "    'November': '十一月',\n",
    "    'December': '十二月'\n",
    "}\n",
    "date_rng= date_rng.map(month_map)\n",
    "\n",
    "\n",
    "data=np.random.uniform(800,19800,12).tolist()\n",
    "data=np.round(data, decimals=2)\n",
    "data = pd.Series(data, index=date_rng,name='收入')\n",
    "print('自媒体收入情况',data)\n",
    "print(data.describe())\n",
    "print('收入排行榜：\\n',data.rank(ascending=True))\n",
    "print('赚钱最多的三个月:\\n',data.nlargest(3))\n",
    "print('赚钱最少的三个月:\\n',data.nsmallest(3))\n",
    "print('收入最高的月份:\\n',data.idxmax())\n",
    "print('累计收入:\\n',data.cumsum())\n",
    "print('总收入：',sum(data))\n"
   ],
   "outputs": []
  },
  {
   "cell_type": "markdown",
   "id": "a892a408",
   "metadata": {},
   "source": [
    "## 12.2.10 综合案例：自媒体收入分析与可视化"
   ]
  },
  {
   "cell_type": "code",
   "execution_count": 88,
   "id": "6a1c03a7",
   "metadata": {},
   "source": [
    "import matplotlib.pyplot as plt\n",
    "\n",
    "plt.rcParams['font.family'] = 'SimHei'\n",
    "plt.rcParams['axes.unicode_minus'] = False\n",
    "\n",
    "\n",
    "\n",
    "fig = plt.figure(figsize=(10,10) ,  dpi=400)\n",
    "\n",
    "plotDemo=['line','box','pie','hist','bar','barh']\n",
    "\n",
    "for i,f in enumerate(plotDemo,1):\n",
    "    plt.subplot(3,2,i)\n",
    "    data.plot(kind=f)\n",
    "plt.savefig(\"zmt3.jpg\",  dpi=800 )\n"
   ],
   "outputs": []
  },
  {
   "cell_type": "code",
   "execution_count": null,
   "id": "d3b358d2",
   "metadata": {},
   "source": [],
   "outputs": []
  }
 ],
 "metadata": {
  "kernelspec": {
   "display_name": "Python 3 (ipykernel)",
   "language": "python",
   "name": "python3"
  },
  "language_info": {
   "codemirror_mode": {
    "name": "ipython",
    "version": 3
   },
   "file_extension": ".py",
   "mimetype": "text/x-python",
   "name": "python",
   "nbconvert_exporter": "python",
   "pygments_lexer": "ipython3",
   "version": "3.10.4"
  }
 },
 "nbformat": 4,
 "nbformat_minor": 5
}
