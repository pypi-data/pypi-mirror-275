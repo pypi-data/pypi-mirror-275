{
 "cells": [
  {
   "cell_type": "code",
   "execution_count": null,
   "id": "662c4923",
   "metadata": {},
   "outputs": [],
   "source": [
    "# Pnadas 直接绘制数据图"
   ]
  },
  {
   "cell_type": "code",
   "execution_count": null,
   "id": "77fbb983",
   "metadata": {},
   "outputs": [],
   "source": [
    "import matplotlib.pyplot as plt\n",
    "from pet.datasets import factory\n",
    "\n",
    "students=factory.gen_sample_series(6)\n",
    "plt.rcParams['font.family'] = 'SimHei'\n",
    "fig = plt.figure(figsize=(10,10) ,  dpi=400)\n",
    "s=students.plot\n",
    "plotDemo=[s.line, s.box,s.pie, s.hist,s.area, s.density, s.bar,s.barh]\n",
    "for i,f in enumerate(plotDemo,1):\n",
    "    plt.subplot(4,2,i)\n",
    "    f()\n",
    "plt.savefig(\"k.jpg\",  dpi=400 )\n"
   ]
  },
  {
   "cell_type": "code",
   "execution_count": null,
   "id": "82bb681c",
   "metadata": {},
   "outputs": [],
   "source": []
  }
 ],
 "metadata": {
  "kernelspec": {
   "display_name": "Python 3 (ipykernel)",
   "language": "python",
   "name": "python3"
  },
  "language_info": {
   "codemirror_mode": {
    "name": "ipython",
    "version": 3
   },
   "file_extension": ".py",
   "mimetype": "text/x-python",
   "name": "python",
   "nbconvert_exporter": "python",
   "pygments_lexer": "ipython3",
   "version": "3.10.4"
  }
 },
 "nbformat": 4,
 "nbformat_minor": 5
}
