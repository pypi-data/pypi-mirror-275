{
 "cells": [
  {
   "cell_type": "code",
   "execution_count": null,
   "id": "4e939887",
   "metadata": {},
   "outputs": [],
   "source": [
    "import pandas as pd\n"
   ]
  },
  {
   "cell_type": "code",
   "execution_count": null,
   "id": "c7b3b2cc",
   "metadata": {},
   "outputs": [],
   "source": [
    "#df=pd.read_excel('data\\subway.xlsx')\n",
    "from pet.datasets import factory\n",
    "df=factory.load_data('上海地铁线路')"
   ]
  },
  {
   "cell_type": "code",
   "execution_count": null,
   "id": "376e308d",
   "metadata": {},
   "outputs": [],
   "source": [
    "df.columns"
   ]
  },
  {
   "cell_type": "code",
   "execution_count": null,
   "id": "0cca22c8",
   "metadata": {},
   "outputs": [],
   "source": [
    "df"
   ]
  },
  {
   "cell_type": "code",
   "execution_count": null,
   "id": "0fee91b9",
   "metadata": {},
   "outputs": [],
   "source": [
    "#获取站点\n",
    "dfs=df.melt()\n",
    "dfs.dropna(inplace=True)\n",
    "dfs"
   ]
  },
  {
   "cell_type": "code",
   "execution_count": null,
   "id": "081d3093",
   "metadata": {},
   "outputs": [],
   "source": [
    "print(f\"{dfs['value'].unique().size=}\",'站点')"
   ]
  },
  {
   "cell_type": "code",
   "execution_count": null,
   "id": "bbb5a694",
   "metadata": {},
   "outputs": [],
   "source": [
    "#获取每个站点换成线路数\n",
    "dt=dfs['value'].value_counts()\n",
    "dtt=dt.reset_index()\n",
    "dtt"
   ]
  },
  {
   "cell_type": "code",
   "execution_count": null,
   "id": "b13f1bcd",
   "metadata": {},
   "outputs": [],
   "source": [
    "sns.catplot(data=dtt,x='value',kind='count')"
   ]
  },
  {
   "cell_type": "code",
   "execution_count": null,
   "id": "f2c418a7",
   "metadata": {},
   "outputs": [],
   "source": [
    "sns.displot(data=dtt,x='value')"
   ]
  },
  {
   "cell_type": "code",
   "execution_count": null,
   "id": "f092ca77",
   "metadata": {},
   "outputs": [],
   "source": [
    "dc=dt[dt>1]\n",
    "dc=dc.reset_index()\n",
    "dc"
   ]
  },
  {
   "cell_type": "code",
   "execution_count": null,
   "id": "2afa9d37",
   "metadata": {},
   "outputs": [],
   "source": [
    "sns.catplot(data=dc,x='value',kind='count')"
   ]
  },
  {
   "cell_type": "code",
   "execution_count": null,
   "id": "efc4d7af",
   "metadata": {},
   "outputs": [],
   "source": [
    "dc.to_excel('stations-exchange.xlsx',index=None)"
   ]
  },
  {
   "cell_type": "code",
   "execution_count": null,
   "id": "8bde9e60",
   "metadata": {},
   "outputs": [],
   "source": []
  }
 ],
 "metadata": {
  "kernelspec": {
   "display_name": "Python 3 (ipykernel)",
   "language": "python",
   "name": "python3"
  },
  "language_info": {
   "codemirror_mode": {
    "name": "ipython",
    "version": 3
   },
   "file_extension": ".py",
   "mimetype": "text/x-python",
   "name": "python",
   "nbconvert_exporter": "python",
   "pygments_lexer": "ipython3",
   "version": "3.10.4"
  }
 },
 "nbformat": 4,
 "nbformat_minor": 5
}
