{
 "cells": [
  {
   "cell_type": "markdown",
   "metadata": {},
   "source": [
    "### 安装必要的模块"
   ]
  },
  {
   "cell_type": "code",
   "execution_count": 1,
   "metadata": {
    "is_executing": true
   },
   "outputs": [
    {
     "name": "stdout",
     "output_type": "stream",
     "text": [
      "Requirement already satisfied: requests-html in c:\\python\\python310\\lib\\site-packages (0.10.0)\n",
      "Requirement already satisfied: requests in c:\\python\\python310\\lib\\site-packages (from requests-html) (2.27.1)\n",
      "Requirement already satisfied: pyquery in c:\\python\\python310\\lib\\site-packages (from requests-html) (1.4.3)\n",
      "Requirement already satisfied: fake-useragent in c:\\python\\python310\\lib\\site-packages (from requests-html) (0.1.11)\n",
      "Requirement already satisfied: parse in c:\\python\\python310\\lib\\site-packages (from requests-html) (1.19.0)\n",
      "Requirement already satisfied: bs4 in c:\\python\\python310\\lib\\site-packages (from requests-html) (0.0.1)\n",
      "Requirement already satisfied: w3lib in c:\\python\\python310\\lib\\site-packages (from requests-html) (1.22.0)\n",
      "Requirement already satisfied: pyppeteer>=0.0.14 in c:\\python\\python310\\lib\\site-packages (from requests-html) (1.0.2)\n",
      "Requirement already satisfied: appdirs<2.0.0,>=1.4.3 in c:\\python\\python310\\lib\\site-packages (from pyppeteer>=0.0.14->requests-html) (1.4.4)\n",
      "Requirement already satisfied: certifi>=2021 in c:\\python\\python310\\lib\\site-packages (from pyppeteer>=0.0.14->requests-html) (2021.10.8)\n",
      "Requirement already satisfied: importlib-metadata>=1.4 in c:\\python\\python310\\lib\\site-packages (from pyppeteer>=0.0.14->requests-html) (6.9.0)\n",
      "Requirement already satisfied: pyee<9.0.0,>=8.1.0 in c:\\python\\python310\\lib\\site-packages (from pyppeteer>=0.0.14->requests-html) (8.2.2)\n",
      "Requirement already satisfied: tqdm<5.0.0,>=4.42.1 in c:\\python\\python310\\lib\\site-packages (from pyppeteer>=0.0.14->requests-html) (4.63.1)\n",
      "Requirement already satisfied: urllib3<2.0.0,>=1.25.8 in c:\\python\\python310\\lib\\site-packages (from pyppeteer>=0.0.14->requests-html) (1.26.9)\n",
      "Requirement already satisfied: websockets<11.0,>=10.0 in c:\\python\\python310\\lib\\site-packages (from pyppeteer>=0.0.14->requests-html) (10.2)\n",
      "Requirement already satisfied: beautifulsoup4 in c:\\python\\python310\\lib\\site-packages (from bs4->requests-html) (4.11.1)\n",
      "Requirement already satisfied: lxml>=2.1 in c:\\python\\python310\\lib\\site-packages (from pyquery->requests-html) (4.8.0)\n",
      "Requirement already satisfied: cssselect>0.7.9 in c:\\python\\python310\\lib\\site-packages (from pyquery->requests-html) (1.1.0)\n",
      "Requirement already satisfied: charset-normalizer~=2.0.0 in c:\\python\\python310\\lib\\site-packages (from requests->requests-html) (2.0.12)\n",
      "Requirement already satisfied: idna<4,>=2.5 in c:\\python\\python310\\lib\\site-packages (from requests->requests-html) (3.3)\n",
      "Requirement already satisfied: six>=1.4.1 in c:\\python\\python310\\lib\\site-packages (from w3lib->requests-html) (1.16.0)\n",
      "Requirement already satisfied: zipp>=0.5 in c:\\python\\python310\\lib\\site-packages (from importlib-metadata>=1.4->pyppeteer>=0.0.14->requests-html) (3.7.0)\n",
      "Requirement already satisfied: colorama in c:\\python\\python310\\lib\\site-packages (from tqdm<5.0.0,>=4.42.1->pyppeteer>=0.0.14->requests-html) (0.4.4)\n",
      "Requirement already satisfied: soupsieve>1.2 in c:\\python\\python310\\lib\\site-packages (from beautifulsoup4->bs4->requests-html) (2.3.1)\n"
     ]
    },
    {
     "name": "stderr",
     "output_type": "stream",
     "text": [
      "\n",
      "[notice] A new release of pip is available: 23.3.1 -> 23.3.2\n",
      "[notice] To update, run: python.exe -m pip install --upgrade pip\n"
     ]
    },
    {
     "name": "stdout",
     "output_type": "stream",
     "text": [
      "Requirement already satisfied: openpyxl in c:\\python\\python310\\lib\\site-packages (3.0.9)\n",
      "Requirement already satisfied: et-xmlfile in c:\\python\\python310\\lib\\site-packages (from openpyxl) (1.1.0)\n"
     ]
    },
    {
     "name": "stderr",
     "output_type": "stream",
     "text": [
      "\n",
      "[notice] A new release of pip is available: 23.3.1 -> 23.3.2\n",
      "[notice] To update, run: python.exe -m pip install --upgrade pip\n"
     ]
    }
   ],
   "source": [
    "!pip install -U requests-html\n",
    "!pip install openpyxl"
   ]
  },
  {
   "cell_type": "code",
   "execution_count": 4,
   "metadata": {},
   "outputs": [
    {
     "name": "stdout",
     "output_type": "stream",
     "text": [
      "['https://sme.fudan.edu.cn/29602/list.htm', 'https://sme.fudan.edu.cn/29589/list.htm', 'https://sme.fudan.edu.cn/60/20/c31153a352288/page.htm', 'https://sme.fudan.edu.cn/60/5b/c31157a352347/page.htm', 'https://sme.fudan.edu.cn/8f/bf/c31145a430015/page.htm', 'https://sme.fudan.edu.cn/60/12/c31148a352274/page.htm', 'https://sme.fudan.edu.cn/60/13/c31148a352275/page.htm', 'https://sme.fudan.edu.cn/29587/list.htm', 'https://sme.fudan.edu.cn/ca/87/c31157a510599/page.htm', 'https://sme.fudan.edu.cn/5f/e6/c31146a352230/page.htm', 'https://sme.fudan.edu.cn/5f/bc/c31140a352188/page.htm', 'https://sme.fudan.edu.cn/5f/da/c31145a352218/page.htm', 'https://sme.fudan.edu.cn/60/35/c31155a352309/page.htm', 'https://sme.fudan.edu.cn/60/77/c31158a352375/page.htm', 'https://sme.fudan.edu.cn/60/6d/c31158a352365/page.htm', 'https://sme.fudan.edu.cn/60/09/c31147a352265/page.htm', 'https://sme.fudan.edu.cn/60/76/c31158a352374/page.htm', 'https://sme.fudan.edu.cn/60/31/c31155a352305/page.htm', 'https://sme.fudan.edu.cn/29583/list.htm', 'https://sme.fudan.edu.cn/5f/e4/c31146a352228/page.htm', 'https://sme.fudan.edu.cn/29349/list.htm', 'https://sme.fudan.edu.cn/60/17/c31151a352279/page.htm', 'https://sme.fudan.edu.cn/5f/e8/c31146a352232/page.htm', 'https://sme.fudan.edu.cn/60/40/c31155a352320/page.htm', 'https://sme.fudan.edu.cn/29580/list.htm', 'https://sme.fudan.edu.cn/60/22/c31153a352290/page.htm', 'https://sme.fudan.edu.cn/29593/list.htm', 'https://sme.fudan.edu.cn/29558/list.htm', 'https://sme.fudan.edu.cn/29603/list.htm', 'https://sme.fudan.edu.cn/60/0d/c31147a352269/page.htm', 'https://sme.fudan.edu.cn/5f/ff/c31147a352255/page.htm', 'https://sme.fudan.edu.cn/60/30/c31155a352304/page.htm', 'https://sme.fudan.edu.cn/60/38/c31155a352312/page.htm', 'https://sme.fudan.edu.cn/5f/e3/c31145a352227/page.htm', 'https://sme.fudan.edu.cn/60/05/c31147a352261/page.htm', 'https://sme.fudan.edu.cn/azc_31108/list.htm', 'https://sme.fudan.edu.cn/29590/list.htm', 'https://sme.fudan.edu.cn/5f/e1/c31145a352225/page.htm', 'https://sme.fudan.edu.cn/_redirect?siteId=716&columnId=31156&articleId=352330', 'https://sme.fudan.edu.cn/60/68/c31158a352360/page.htm', 'https://sme.fudan.edu.cn/ed/d8/c31158a454104/page.htm', 'https://sme.fudan.edu.cn/60/50/c31156a352336/page.htm', 'https://sme.fudan.edu.cn/5f/cd/c31141a352205/page.htm', 'https://sme.fudan.edu.cn/60/52/c31156a352338/page.htm', 'https://sme.fudan.edu.cn/29604/list.htm', 'https://sme.fudan.edu.cn/60/2b/c31154a352299/page.htm', 'https://sme.fudan.edu.cn/29432/list.htm', 'https://sme.fudan.edu.cn/29582/list.htm', 'https://sme.fudan.edu.cn/60/04/c31147a352260/page.htm', 'https://sme.fudan.edu.cn/60/0e/c31147a352270/page.htm', 'https://sme.fudan.edu.cn/29595/list.htm', 'https://sme.fudan.edu.cn/91/39/c31155a430393/page.htm', 'https://sme.fudan.edu.cn/5f/f9/c31147a352249/page.htm', 'https://sme.fudan.edu.cn/6b/47/c31156a420679/page.htm', 'https://sme.fudan.edu.cn/5f/c1/c31141a352193/page.htm', 'https://sme.fudan.edu.cn/5f/ea/c31146a352234/page.htm', 'https://sme.fudan.edu.cn/60/46/c31156a352326/page.htm', 'https://sme.fudan.edu.cn/29560/list.htm', 'https://sme.fudan.edu.cn/60/21/c31153a352289/page.htm', 'https://sme.fudan.edu.cn/60/5f/c31157a352351/page.htm', 'https://sme.fudan.edu.cn/f6/40/c31155a456256/page.htm', 'https://sme.fudan.edu.cn/5f/d1/c31142a352209/page.htm', 'https://sme.fudan.edu.cn/5f/f1/c31147a352241/page.htm', 'https://sme.fudan.edu.cn/60/3c/c31155a352316/page.htm', 'https://sme.fudan.edu.cn/60/6a/c31158a352362/page.htm', 'https://sme.fudan.edu.cn/29431/list.htm', 'https://sme.fudan.edu.cn/main.htm', 'https://sme.fudan.edu.cn/29352/list.htm', 'https://sme.fudan.edu.cn/29350/list.htm', 'https://sme.fudan.edu.cn/60/57/c31157a352343/page.htm', 'https://sme.fudan.edu.cn/60/15/c31149a352277/page.htm', 'https://sme.fudan.edu.cn/29594/list.htm', 'https://sme.fudan.edu.cn/60/72/c31158a352370/page.htm', 'https://sme.fudan.edu.cn/60/2c/c31154a352300/page.htm', 'https://sme.fudan.edu.cn/60/66/c31157a352358/page.htm', 'https://sme.fudan.edu.cn/5f/c9/c31141a352201/page.htm', 'https://sme.fudan.edu.cn/60/6c/c31158a352364/page.htm', 'https://sme.fudan.edu.cn/5f/e7/c31146a352231/page.htm', 'http://sme.fudan.edu.cn/main.htm', 'https://sme.fudan.edu.cn/5f/c6/c31141a352198/page.htm', 'https://sme.fudan.edu.cn/40/c0/c31158a409792/page.htm', 'https://sme.fudan.edu.cn/60/4e/c31156a352334/page.htm', 'https://sme.fudan.edu.cn/60/19/c31152a352281/page.htm', 'https://sme.fudan.edu.cn/29433/list.htm', 'https://sme.fudan.edu.cn/60/4c/c31156a352332/page.htm', 'https://sme.fudan.edu.cn/29561/list.htm', 'https://sme.fudan.edu.cn/5f/fd/c31147a352253/page.htm', 'https://sme.fudan.edu.cn/5f/c3/c31141a352195/page.htm', 'https://sme.fudan.edu.cn/29353/list.htm', 'https://sme.fudan.edu.cn/5f/d0/c31142a352208/page.htm', 'https://sme.fudan.edu.cn/29581/list.htm', 'https://sme.fudan.edu.cn/5f/eb/c31146a352235/page.htm', 'https://sme.fudan.edu.cn/5f/f3/c31147a352243/page.htm', 'https://sme.fudan.edu.cn/60/41/c31155a352321/page.htm', 'https://sme.fudan.edu.cn/5f/d2/c31143a352210/page.htm', 'https://sme.fudan.edu.cn/29588/list.htm', 'https://sme.fudan.edu.cn/5f/c8/c31141a352200/page.htm', 'https://sme.fudan.edu.cn/60/61/c31157a352353/page.htm', 'https://sme.fudan.edu.cn/60/7e/c31158a352382/page.htm', 'https://sme.fudan.edu.cn/60/58/c31157a352344/page.htm', 'https://sme.fudan.edu.cn/5f/c4/c31141a352196/page.htm', 'https://sme.fudan.edu.cn/60/1a/c31152a352282/page.htm', 'https://sme.fudan.edu.cn/60/64/c31157a352356/page.htm', 'https://sme.fudan.edu.cn/60/81/c31158a352385/page.htm', 'https://sme.fudan.edu.cn/29563/list.htm', 'https://sme.fudan.edu.cn/60/2f/c31155a352303/page.htm', 'https://sme.fudan.edu.cn/5f/f4/c31147a352244/page.htm', 'https://sme.fudan.edu.cn/5f/e0/c31145a352224/page.htm', 'https://sme.fudan.edu.cn/29591/list.htm', 'https://sme.fudan.edu.cn/29351/list.htm', 'https://sme.fudan.edu.cn/60/23/c31154a352291/page.htm', 'https://sme.fudan.edu.cn/60/84/c31158a352388/page.htm', 'https://sme.fudan.edu.cn/60/63/c31157a352355/page.htm', 'http://sme.fudan.edu.cn/apy/list.htm', 'https://sme.fudan.edu.cn/9e/d3/c31157a433875/page.htm', 'https://sme.fudan.edu.cn/60/01/c31147a352257/page.htm', 'https://sme.fudan.edu.cn/29557/list.htm', 'https://sme.fudan.edu.cn/5f/d8/c31144a352216/page.htm', 'https://sme.fudan.edu.cn/5f/cc/c31141a352204/page.htm', 'https://sme.fudan.edu.cn/5f/cb/c31141a352203/page.htm', 'https://sme.fudan.edu.cn/60/5e/c31157a352350/page.htm', 'https://sme.fudan.edu.cn/60/00/c31147a352256/page.htm', 'https://sme.fudan.edu.cn/29354/list.htm', 'https://sme.fudan.edu.cn/60/6e/c31158a352366/page.htm', 'https://sme.fudan.edu.cn/60/89/c31158a352393/page.htm', 'https://sme.fudan.edu.cn/60/08/c31147a352264/page.htm', 'https://sme.fudan.edu.cn/60/70/c31158a352368/page.htm', 'https://sme.fudan.edu.cn/60/0c/c31147a352268/page.htm', 'https://sme.fudan.edu.cn/ce/6a/c31141a511594/page.htm', 'https://sme.fudan.edu.cn/60/49/c31156a352329/page.htm', 'https://sme.fudan.edu.cn/29592/list.htm', 'https://sme.fudan.edu.cn/60/3e/c31155a352318/page.htm', 'https://sme.fudan.edu.cn/5f/ec/c31146a352236/page.htm', 'https://sme.fudan.edu.cn/apy/list.htm', 'javacript:void(0)', 'https://sme.fudan.edu.cn/5f/d5/c31144a352213/page.htm', 'https://sme.fudan.edu.cn/60/3b/c31155a352315/page.htm', 'https://sme.fudan.edu.cn/60/5a/c31157a352346/page.htm', 'https://sme.fudan.edu.cn/60/33/c31155a352307/page.htm', 'https://sme.fudan.edu.cn/29430/list.htm', 'https://sme.fudan.edu.cn/60/34/c31155a352308/page.htm']\n"
     ]
    },
    {
     "data": {
      "text/plain": [
       "'\\n# 创建保存主页的目录\\noutput_directory = \\'导师主页\\'\\nos.makedirs(output_directory, exist_ok=True)\\n\\n# 遍历导师链接，下载到本地\\nfor link in links:\\n    faculty_name = link.text\\n    faculty_homepage_url = link.attrs[\\'href\\']\\n\\n    # 判断导师是否有主页\\n    if faculty_homepage_url.startswith(\\'http\\'):\\n        # 构建导师主页的文件名\\n        filename = os.path.join(output_directory, f\"{faculty_name}.html\")\\n\\n        # 下载导师主页到本地\\n        faculty_response = session.get(faculty_homepage_url)\\n        with open(filename, \\'w\\', encoding=\\'utf-8\\') as file:\\n            file.write(faculty_response.text)\\n            \\n        print(f\"成功下载导师 {faculty_name} 的主页到 {filename}\")\\n\\n# 关闭会话\\nsession.close()\\n'"
      ]
     },
     "execution_count": 4,
     "metadata": {},
     "output_type": "execute_result"
    }
   ],
   "source": [
    "from requests_html import HTMLSession\n",
    "import os\n",
    "\n",
    "# 目标页面URL\n",
    "url = \"https://sme.fudan.edu.cn/apy/list.htm#\"\n",
    "\n",
    "# 创建一个HTML会话\n",
    "session = HTMLSession()\n",
    "\n",
    "# 发送GET请求并渲染页面\n",
    "response = session.get(url)\n",
    "#response.html.render()\n",
    "\n",
    "# 使用CSS选择器选择包含导师主页链接的元素\n",
    "links = response.html.absolute_links\n",
    "print([i for i in links])\n",
    "\n",
    "# 创建保存主页的目录\n",
    "output_directory = '导师主页'\n",
    "os.makedirs(output_directory, exist_ok=True)\n",
    "\n",
    "# 遍历导师链接，下载到本地\n",
    "for link in links:\n",
    "    \n",
    "    faculty_name = link.text\n",
    "    faculty_homepage_url = link.attrs['href']\n",
    "\n",
    "    # 判断导师是否有主页\n",
    "    if faculty_homepage_url.startswith('http'):\n",
    "        # 构建导师主页的文件名\n",
    "        filename = os.path.join(output_directory, f\"{faculty_name}.html\")\n",
    "\n",
    "        # 下载导师主页到本地\n",
    "        faculty_response = session.get(faculty_homepage_url)\n",
    "        with open(filename, 'w', encoding='utf-8') as file:\n",
    "            file.write(faculty_response.text)\n",
    "            \n",
    "        print(f\"成功下载导师 {faculty_name} 的主页到 {filename}\")\n",
    "\n",
    "# 关闭会话\n",
    "session.close()\n",
    "'''"
   ]
  },
  {
   "cell_type": "markdown",
   "metadata": {},
   "source": [
    "### 下载百度主页 到本地文件"
   ]
  },
  {
   "cell_type": "code",
   "execution_count": null,
   "metadata": {},
   "outputs": [],
   "source": [
    "from requests_html import HTMLSession\n",
    "session = HTMLSession()\n",
    "print(session.headers)\n",
    "url = \"https://www.daodejing.org/\"\n",
    "r=session.get(url)"
   ]
  },
  {
   "cell_type": "code",
   "execution_count": null,
   "metadata": {},
   "outputs": [],
   "source": [
    "r.status_code"
   ]
  },
  {
   "cell_type": "code",
   "execution_count": null,
   "metadata": {},
   "outputs": [],
   "source": []
  },
  {
   "cell_type": "code",
   "execution_count": null,
   "metadata": {},
   "outputs": [],
   "source": [
    "r.headers\n"
   ]
  },
  {
   "cell_type": "code",
   "execution_count": null,
   "metadata": {},
   "outputs": [],
   "source": [
    "r.cookies.values()"
   ]
  },
  {
   "cell_type": "code",
   "execution_count": null,
   "metadata": {},
   "outputs": [],
   "source": [
    "r.content"
   ]
  },
  {
   "cell_type": "code",
   "execution_count": null,
   "metadata": {},
   "outputs": [],
   "source": [
    "r.text"
   ]
  },
  {
   "cell_type": "code",
   "execution_count": null,
   "metadata": {},
   "outputs": [],
   "source": [
    "r.html"
   ]
  },
  {
   "cell_type": "code",
   "execution_count": null,
   "metadata": {},
   "outputs": [],
   "source": [
    "r.html.text"
   ]
  },
  {
   "cell_type": "code",
   "execution_count": null,
   "metadata": {},
   "outputs": [],
   "source": [
    "from requests_html import HTMLSession\n",
    "session = HTMLSession()\n",
    "url = \"https://www.daodejing.org/\"\n",
    "fileName = 'out/a.html'\n",
    "with session.get(url) as r ,open(fileName,'w',encoding = 'utf-8') as f:\n",
    "    f.write(r.text)\n",
    "    print(r.text)"
   ]
  },
  {
   "cell_type": "code",
   "execution_count": null,
   "metadata": {},
   "outputs": [],
   "source": [
    "print(r.html.text)\n"
   ]
  },
  {
   "cell_type": "code",
   "execution_count": null,
   "metadata": {},
   "outputs": [],
   "source": [
    "from requests_html import HTMLSession\n",
    "session = HTMLSession()\n",
    "url='https://www.daodejing.org/'\n",
    "fileName='out/a.html'\n",
    "with session.get(url) as r,open(fileName,'w',encoding='utf-8') as f:\n",
    "     f.write(r.html.text)\n",
    "     print(r.html.text)\n"
   ]
  },
  {
   "cell_type": "markdown",
   "metadata": {},
   "source": [
    "### 获得 上师大主页所有链接"
   ]
  },
  {
   "cell_type": "code",
   "execution_count": null,
   "metadata": {},
   "outputs": [],
   "source": [
    "from requests_html import HTMLSession\n",
    "session = HTMLSession()\n",
    "r = session.post(\"http://www.shnu.edu.cn/\")\n",
    "# print(r.html.links)\n",
    "s={link for link in r.html.absolute_links}\n",
    "from pprint import pprint\n",
    "pprint(s)\n",
    "    #pass\n",
    "#     print(link)\n"
   ]
  },
  {
   "cell_type": "markdown",
   "metadata": {},
   "source": [
    "### 获取 上师大主页学术信息 板块"
   ]
  },
  {
   "cell_type": "code",
   "execution_count": null,
   "metadata": {},
   "outputs": [],
   "source": [
    "from requests_html import HTMLSession\n",
    "session = HTMLSession()\n",
    "site = session.get(\"http://www.shnu.edu.cn/\")\n",
    "\n",
    "public_notice_items = site.html.find('#wp_news_w31 > ul')\n",
    "# 根据id获取内容，使用 # 号连接，全部z拿回来的数据是一个list 对象\n",
    "\n",
    "\n",
    "\n",
    "for public_notice_item in public_notice_items:\n",
    "    public_notice_list = public_notice_item.find('a')\n",
    "    for item in public_notice_list:\n",
    "        print(item.text)"
   ]
  },
  {
   "cell_type": "markdown",
   "metadata": {},
   "source": [
    "## 上师大公告信息下载"
   ]
  },
  {
   "cell_type": "code",
   "execution_count": null,
   "metadata": {},
   "outputs": [],
   "source": [
    "from requests_html import HTMLSession\n",
    "site = HTMLSession().get('http://www.shnu.edu.cn/')\n",
    "public_notice_item = site.html.find('div#wp_news_w21',first=True)\n",
    "public_notice_list = public_notice_item.find('a')\n",
    "print(*[item.text for  item in public_notice_list],sep='\\n')\n"
   ]
  },
  {
   "cell_type": "code",
   "execution_count": null,
   "metadata": {},
   "outputs": [],
   "source": [
    "h='''\n",
    "Accept: text/html,application/xhtml+xml,application/xml;q=0.9,image/avif,image/webp,image/apng,*/*;q=0.8\n",
    "Accept-Encoding: gzip, deflate, br\n",
    "Accept-Language: zh-CN;q=0.8\n",
    "Cache-Control: max-age=0\n",
    "Connection: keep-alive\n",
    "Host: www.edu.cn\n",
    "Sec-Fetch-Dest: document\n",
    "Sec-Fetch-Mode: navigate\n",
    "Sec-Fetch-Site: none\n",
    "Sec-Fetch-User: ?1\n",
    "Sec-GPC: 1\n",
    "Upgrade-Insecure-Requests: 1\n",
    "User-Agent: Mozilla/5.0 (Windows NT 10.0; Win64; x64) AppleWebKit/537.36 (KHTML, like Gecko) Chrome/104.0.5112.81 Safari/537.36\n",
    "'''\n",
    "print('*'*33)\n",
    "import re\n",
    "from pprint import pprint\n",
    "results=re.findall('([\\w\\-]*):\\s([\\w=+\\-;,\\.\\*\\/\\?\\(\\)\\s]*)$',h,re.MULTILINE)\n",
    "pprint(results)\n",
    "pprint(dict(results))\n",
    "hh=dict(results)"
   ]
  },
  {
   "cell_type": "code",
   "execution_count": null,
   "metadata": {},
   "outputs": [],
   "source": [
    "\n",
    "from requests_html import HTMLSession\n",
    "session = HTMLSession()\n",
    "site = session.get('https://www.daodejing.org/')\n",
    "top_item = site.html.xpath('/html/body/div[1]/div[5]',first=True)\n",
    "text=top_item.text\n",
    "#print(text)\n",
    "#使用正则表达式过滤掉不需要的注解信息。\n",
    "import re\n",
    "rtext=re.sub('（.*\\n*.*）|〖译文〗|\\(\\n*.*\\)','',text)\n",
    "print(rtext)\n",
    "open('out/daodejing.txt','w').write(rtext)\n",
    "\n",
    "\n",
    "#print(text)\n"
   ]
  },
  {
   "cell_type": "markdown",
   "metadata": {},
   "source": [
    "### 获取搜狐新闻 特定栏目"
   ]
  },
  {
   "cell_type": "code",
   "execution_count": null,
   "metadata": {},
   "outputs": [],
   "source": [
    "from requests_html import HTMLSession\n",
    "session = HTMLSession()\n",
    "site = session.get(\"https://news.sohu.com/\")\n",
    "public_notice_items = site.html.find('body > div.wrapper-box > div.main-news-wrap > div.contentA.public.area.clearfix > div.main.left > div > div.main-right.right > div > div:nth-child(3)')\n",
    "# 根据id获取内容，使用 # 号连接，全部z拿回来的数据是一个list 对象\n",
    "\n",
    "\n",
    "for public_notice_item in public_notice_items:\n",
    "    public_notice_list = public_notice_item.find('a')\n",
    "    for item in public_notice_list:\n",
    "        print(item.text)"
   ]
  },
  {
   "cell_type": "markdown",
   "metadata": {},
   "source": [
    "### 获取百度热搜"
   ]
  },
  {
   "cell_type": "code",
   "execution_count": null,
   "metadata": {
    "pycharm": {
     "is_executing": true
    }
   },
   "outputs": [],
   "source": [
    "from requests_html import HTMLSession\n",
    "session = HTMLSession()\n",
    "site = session.get(\"http://top.baidu.com/\")\n",
    "top_items = site.html.find('#sanRoot > main > div.hot-wrap_1nNog > div.theme-hot.category-item_1fzJW > div.list_1EDla',first = True)\n",
    "\n",
    "#sanRoot > main > div.hot-wrap_1nNog > div.theme-hot.category-item_1fzJW > div.list_1EDla\n",
    "#根据class获取内容，使用 . 号连接，first = True 表示，如果第一个元素符合要求，则只返回第一个元素，拿回来的内容是一个字符串类型的对象\n",
    "top_list = top_items.find('a')\n",
    "\n",
    "#for item in top_list[::2]:\n",
    "#    print(item.text) \n",
    "from pprint import pprint\n",
    "pprint([i.text.splitlines()[1] for i in top_list])\n",
    "\n",
    "#k=[i.text for i in top_list]\n",
    "#results=k[3::3]\n",
    "#print(results)\n",
    "#pprint([i.text.splitlines()[1] for i in top_list])"
   ]
  },
  {
   "cell_type": "markdown",
   "metadata": {},
   "source": []
  },
  {
   "cell_type": "code",
   "execution_count": null,
   "metadata": {},
   "outputs": [],
   "source": [
    "def spider(url,scope,mark):\n",
    "    from requests_html import HTMLSession\n",
    "    session = HTMLSession()\n",
    "    site = session.get(url)\n",
    "    top_items = site.html.find(scope, first=True)\n",
    "    top_list = top_items.find(mark)\n",
    "    return top_list\n",
    "\n",
    "raw_results=spider(\"http://top.baidu.com/\",'div.list_1EDla','a')\n",
    "print([i.text.splitlines()[1] for i in raw_results])"
   ]
  },
  {
   "cell_type": "markdown",
   "metadata": {},
   "source": [
    "### 获取百度热搜 游戏排行榜"
   ]
  },
  {
   "cell_type": "code",
   "execution_count": null,
   "metadata": {},
   "outputs": [],
   "source": [
    "raw_results=spider(\"http://top.baidu.com/\",' div.list_1s-Px','a')\n",
    "texts=[i.text for i in raw_results][1::3]\n",
    "print(texts)\n"
   ]
  },
  {
   "cell_type": "code",
   "execution_count": null,
   "metadata": {},
   "outputs": [],
   "source": [
    "from requests_html import HTMLSession\n",
    "session = HTMLSession()\n",
    "site = session.get(\"http://top.baidu.com/\")\n",
    "top_items = site.html.find('#sanRoot > main > div.content-wrap_1E_gm > div:nth-child(5) > div.list_1s-Px',first = True)\n",
    "\n",
    "#sanRoot > main > div.hot-wrap_1nNog > div.theme-hot.category-item_1fzJW > div.list_1EDla\n",
    "#根据class获取内容，使用 . 号连接，first = True 表示，如果第一个元素符合要求，则只返回第一个元素，拿回来的内容是一个字符串类型的对象\n",
    "top_list = top_items.find('a')\n",
    "\n",
    "#for item in top_list[::2]:\n",
    "#    print(item.text) \n",
    "from pprint import pprint\n",
    "pprint([i.text for i in top_list])\n",
    "\n",
    "k=[i.text for i in top_list]\n",
    "results=k[1::3]\n",
    "print(results)\n",
    "#pprint([i.text.splitlines()[1] for i in top_list])"
   ]
  },
  {
   "cell_type": "markdown",
   "metadata": {},
   "source": [
    "###   获取百度电影排行榜"
   ]
  },
  {
   "cell_type": "code",
   "execution_count": null,
   "metadata": {},
   "outputs": [],
   "source": [
    "raw_results=spider(\"http://top.baidu.com/\",'#sanRoot > main > div.content-wrap_1E_gm > div:nth-child(2) > div.list_1s-Px','a')\n",
    "texts=[i.text for i in raw_results][1::3]\n",
    "print(texts)"
   ]
  },
  {
   "cell_type": "code",
   "execution_count": null,
   "metadata": {},
   "outputs": [],
   "source": [
    "#sanRoot > main > div.content-wrap_1E_gm > div:nth-child(2) > div.list_1s-Px\n",
    "\n",
    "from requests_html import HTMLSession\n",
    "session = HTMLSession()\n",
    "site = session.get(\"http://top.baidu.com/\")\n",
    "top_items = site.html.find('#sanRoot > main > div.content-wrap_1E_gm > div:nth-child(2) > div.list_1s-Px',first = True)\n",
    "\n",
    "#sanRoot > main > div.hot-wrap_1nNog > div.theme-hot.category-item_1fzJW > div.list_1EDla\n",
    "#根据class获取内容，使用 . 号连接，first = True 表示，如果第一个元素符合要求，则只返回第一个元素，拿回来的内容是一个字符串类型的对象\n",
    "top_list = top_items.find('a')\n",
    "\n",
    "#for item in top_list[::2]:\n",
    "#    print(item.text) \n",
    "from pprint import pprint\n",
    "pprint([i.text for i in top_list])\n",
    "\n",
    "k=[i.text for i in top_list]\n",
    "print(k[1::3])"
   ]
  },
  {
   "cell_type": "markdown",
   "metadata": {},
   "source": [
    "### 获取上海市地铁 线路 (由于该网站网页结构更新，以下爬虫可能不一定运行正确）"
   ]
  },
  {
   "cell_type": "code",
   "execution_count": null,
   "metadata": {
    "scrolled": true
   },
   "outputs": [],
   "source": [
    "from requests_html import HTMLSession\n",
    "import pandas as pd\n",
    "\n",
    "session = HTMLSession()\n",
    "\n",
    "\n",
    "# 把所有的路线极其url保存为字典类型的。\n",
    "def get_subway_lines_url():\n",
    "    subway_number_str_list = map(str, list(range(1, 19)) + [41])\n",
    "    subway_url_dict = dict(map(lambda x: (x, f\"http://service.shmetro.com/axlcz{x.rjust(2, '0')}/index.htm\"),\n",
    "                               subway_number_str_list))\n",
    "    subway_url_dict['浦江线'] = subway_url_dict.pop('41')\n",
    "    return subway_url_dict\n",
    "\n",
    "\n",
    "# 根据每一条线路的url，在网站上搜出对应的站点\n",
    "def get_each_line_stations(line):\n",
    "    print(f'正在爬取{line}')\n",
    "    site = session.get(line)\n",
    "    line_list = site.html.find('div.linehow', first=True)\n",
    "    #content > div.left > div.left_area > div > div > div.app_detial > div > div.linehow\n",
    "    station_list = line_list.find('a')\n",
    "    line = [station.text for station in station_list]\n",
    "    line=line[:line.index('网络示意图')]\n",
    "    print(line)\n",
    "    return pd.Series(line)\n",
    "\n",
    "\n",
    "def save_to_excel(fileName):\n",
    "    lines = get_subway_lines_url()\n",
    "    data = dict(map(lambda x, y: (x, get_each_line_stations(y)), lines.keys(), lines.values()))\n",
    "    df = pd.DataFrame(data)\n",
    "    df.to_excel(fileName)\n",
    "    print(f'爬取数据保存着{fileName}')\n",
    "    return df\n",
    "\n",
    "\n",
    "if __name__ == \"__main__\":\n",
    "    save_to_excel('out/subway.xlsx')"
   ]
  },
  {
   "cell_type": "markdown",
   "metadata": {},
   "source": [
    "## 改进版的上海地铁爬虫 "
   ]
  },
  {
   "cell_type": "code",
   "execution_count": null,
   "metadata": {},
   "outputs": [],
   "source": [
    "from requests_html import HTMLSession\n",
    "site = HTMLSession().get('https://m.8684.cn/shanghai_dt_map')\n",
    "lines = site.html.find('li.sLink')\n",
    "lines_dict = {}\n",
    "for line in lines:\n",
    "    stations = line.find('a')\n",
    "    station = [i.text for i in stations]\n",
    "    lines_dict[station[0]] = station[1:]\n",
    "print(lines_dict)\n",
    "\n",
    "import pandas as pd\n",
    "df = pd.DataFrame()\n",
    "for i in lines_dict:\n",
    "    df[i] = pd.Series(lines_dict[i])\n",
    "df.to_excel('shanghai-subway.xlsx')\n",
    "\n"
   ]
  },
  {
   "cell_type": "code",
   "execution_count": null,
   "metadata": {
    "collapsed": false,
    "is_executing": true,
    "jupyter": {
     "outputs_hidden": false
    }
   },
   "outputs": [],
   "source": [
    "from requests_html import HTMLSession\n",
    "site = HTMLSession().get('https://m.8684.cn/beijing_dt_map')\n",
    "lines = site.html.find('li.sLink')\n",
    "lines_dict = {}\n",
    "for line in lines:\n",
    "    stations = line.find('a')\n",
    "    station = [i.text for i in stations]\n",
    "    lines_dict[station[0]] = station[1:]\n",
    "print(lines_dict)\n",
    "\n",
    "import pandas as pd\n",
    "df = pd.DataFrame()\n",
    "for i in lines_dict:\n",
    "    df[i] = pd.Series(lines_dict[i])\n",
    "df.to_excel('beijing-subway.xlsx')"
   ]
  },
  {
   "cell_type": "markdown",
   "metadata": {},
   "source": [
    "### 批量下载网页 （繁体转简体）"
   ]
  },
  {
   "cell_type": "code",
   "execution_count": null,
   "metadata": {},
   "outputs": [],
   "source": [
    "from requests_html import HTMLSession\n",
    "from pprint import pprint\n",
    "\n",
    "session = HTMLSession()\n",
    "\n",
    "r = session.get('https://www.itread01.com/study/python3-tutorial.html')\n",
    "\n",
    "# 絕對路徑鏈接 仅要python3\n",
    "\n",
    "plinks=[ i for i in r.html.absolute_links if 'python3' in i]\n",
    "\n",
    "#plinks = list(filter(lambda i: True if 'python3' in i else False, r.html.absolute_links))\n",
    "\n",
    "\n",
    "\n",
    "def url2file(url):\n",
    "\n",
    "    content_big5 = session.get(url).html.text\n",
    "    from zhconv import convert\n",
    "    contents_cn = convert(content_big5, 'zh-cn')\n",
    "    file_name = url.split('/')[-1].split('.')[0] + '.txt'\n",
    "    open(file_name, 'w', encoding='utf-8').write(contents_cn)\n",
    "    print(file_name, 'done!')\n",
    "    \n",
    "\n",
    "\n",
    "list(map(url2file, plinks))\n"
   ]
  },
  {
   "cell_type": "code",
   "execution_count": null,
   "metadata": {},
   "outputs": [],
   "source": [
    "from requests_html import HTMLSession\n",
    "\n",
    "session = HTMLSession()\n",
    "\n",
    "\n",
    "def get_urls(startPageUrl):\n",
    "    r = session.get(startPageUrl)\n",
    "    return [i for i in r.html.absolute_links if 'python3' in i]\n",
    "\n",
    "\n",
    "def url2file(url):\n",
    "    content_big5 = session.get(url).html.text\n",
    "    from zhconv import convert\n",
    "    contents_cn = convert(content_big5, 'zh-cn')\n",
    "    file_name = url.split('/')[-1].split('.')[0] + '.txt'\n",
    "    print(contents_cn, file=open(file_name, 'w', encoding='utf-8'))\n",
    "    print(file_name, 'done!')\n",
    "    return file_name\n",
    "\n",
    "\n",
    "if __name__ == \"__main__\":\n",
    "    startPageUrl = 'https://www.itread01.com/study/python3-tutorial.html'\n",
    "    result = list(map(url2file, get_urls(startPageUrl)))\n",
    "    print(result)\n"
   ]
  },
  {
   "cell_type": "markdown",
   "metadata": {},
   "source": [
    "### 批量下载图片"
   ]
  },
  {
   "cell_type": "code",
   "execution_count": null,
   "metadata": {},
   "outputs": [],
   "source": [
    "from requests_html import HTMLSession\n",
    "session = HTMLSession()\n",
    "url=\"https://pic.netbian.com\"\n",
    "r = session.get(url)\n",
    "selector='#main > div.slist'\n",
    "about = r.html.find(selector, first=True)\n",
    "img_Elements=about.find('img')\n",
    "\n",
    "img_url_lst=[url+i.attrs['src'] for i in img_Elements]\n",
    "for img_url in img_url_lst:\n",
    "    name =\"out/\"+img_url.split('/')[-1]\n",
    "    f = open(name,'wb')\n",
    "    f.write(session.get(img_url).content)\n",
    "    print(f'downloaded file:{name} ')\n",
    "    f.close()\n",
    "\n"
   ]
  },
  {
   "cell_type": "code",
   "execution_count": null,
   "metadata": {},
   "outputs": [],
   "source": [
    "from requests_html import HTMLSession\n",
    "\n",
    "session = HTMLSession()\n",
    "url=\"https://pic.netbian.com/4kzongjiao//\"\n",
    "url9=\"https://pic.netbian.com\"\n",
    "r = session.get(url)\n",
    "selector='#main > div.slist'\n",
    "\n",
    "about = r.html.find(selector, first=True)\n",
    "img_Elements=about.find('img')\n",
    "img_url_lst=[url9+i.attrs['src'] for i in img_Elements]\n",
    "\n",
    "for img_url in img_url_lst:\n",
    "    \n",
    "    name = 'd:/ok/'+img_url.split('/')[-1]\n",
    "    f = open(name,'wb')\n",
    "    f.write(session.get(img_url).content)\n",
    "    f.close()"
   ]
  },
  {
   "cell_type": "code",
   "execution_count": null,
   "metadata": {},
   "outputs": [],
   "source": []
  }
 ],
 "metadata": {
  "kernelspec": {
   "display_name": "Python 3 (ipykernel)",
   "language": "python",
   "name": "python3"
  },
  "language_info": {
   "codemirror_mode": {
    "name": "ipython",
    "version": 3
   },
   "file_extension": ".py",
   "mimetype": "text/x-python",
   "name": "python",
   "nbconvert_exporter": "python",
   "pygments_lexer": "ipython3",
   "version": "3.10.4"
  }
 },
 "nbformat": 4,
 "nbformat_minor": 4
}
