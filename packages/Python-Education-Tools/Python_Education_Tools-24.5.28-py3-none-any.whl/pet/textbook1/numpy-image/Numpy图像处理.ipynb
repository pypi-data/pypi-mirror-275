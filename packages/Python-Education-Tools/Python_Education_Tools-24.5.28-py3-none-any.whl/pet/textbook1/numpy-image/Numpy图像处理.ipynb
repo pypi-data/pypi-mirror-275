{
 "cells": [
  {
   "cell_type": "code",
   "execution_count": null,
   "id": "61a06c12",
   "metadata": {
    "scrolled": true
   },
   "outputs": [],
   "source": [
    "!pip install pillow"
   ]
  },
  {
   "cell_type": "code",
   "execution_count": null,
   "id": "3fec763b",
   "metadata": {
    "scrolled": true
   },
   "outputs": [],
   "source": [
    "from PIL import Image\n",
    "import numpy as np"
   ]
  },
  {
   "cell_type": "code",
   "execution_count": null,
   "id": "acb48c76",
   "metadata": {
    "scrolled": true
   },
   "outputs": [],
   "source": [
    "image1 = Image.open(\"tiger.jpg\")\n",
    "image1\n",
    "# 非juputer notebook 用im.show()"
   ]
  },
  {
   "cell_type": "code",
   "execution_count": null,
   "id": "86e0f1de",
   "metadata": {
    "scrolled": true
   },
   "outputs": [],
   "source": [
    "#Image图像转换为ndarray数组\n",
    "image2 = np.array(image1)\n",
    "image2\n"
   ]
  },
  {
   "cell_type": "code",
   "execution_count": null,
   "id": "7ecb2b7e",
   "metadata": {
    "scrolled": true
   },
   "outputs": [],
   "source": [
    "image3 = Image.fromarray(image2)\n",
    "image3"
   ]
  },
  {
   "cell_type": "code",
   "execution_count": null,
   "id": "43534435",
   "metadata": {
    "scrolled": true
   },
   "outputs": [],
   "source": [
    "image3.save('tiger3.jpg')"
   ]
  },
  {
   "cell_type": "code",
   "execution_count": null,
   "id": "3bf5c4c7",
   "metadata": {
    "scrolled": true
   },
   "outputs": [],
   "source": [
    "image3"
   ]
  },
  {
   "cell_type": "code",
   "execution_count": null,
   "id": "5ba32b16",
   "metadata": {
    "scrolled": true
   },
   "outputs": [],
   "source": [
    "from PIL import Image\n",
    "#使用numpy之前需要提前安装\n",
    "import numpy as np\n",
    "#创建 300*400的图像，3个颜色通道\n",
    "array = np.zeros([300,400,3],dtype=np.uint8)\n",
    "#rgb色彩模式\n",
    "array[:150,:200]=[255,0,0]\n",
    "array[150:,:200]=[255,243,0]\n",
    "array[:150,200:]=[155,225,123]\n",
    "array[150:,200:]=[155,125,123]\n",
    "img = Image.fromarray(array)\n",
    "img\n"
   ]
  },
  {
   "cell_type": "code",
   "execution_count": null,
   "id": "9abd1bef",
   "metadata": {
    "scrolled": true
   },
   "outputs": [],
   "source": [
    "img.save('blocks.jpg')"
   ]
  },
  {
   "cell_type": "code",
   "execution_count": null,
   "id": "5952be83",
   "metadata": {
    "scrolled": true
   },
   "outputs": [],
   "source": [
    "from PIL import Image\n",
    "# Open the image form working directory\n",
    "image = Image.open('tiger.jpg')\n",
    "# summarize some details about the image\n",
    "print(f'{image.format=},{image.size=},{image.mode=}')\n",
    "# show the image\n",
    "image\n"
   ]
  },
  {
   "cell_type": "code",
   "execution_count": null,
   "id": "3d9552eb",
   "metadata": {
    "scrolled": true
   },
   "outputs": [],
   "source": [
    " \n",
    "import numpy as np\n",
    "data = np.asarray(image)\n",
    "print(f'{type(data)=},{data.shape=}')\n",
    "print(data[100,333,2])\n",
    "\n",
    "t=data.copy()\n",
    "# 先水平方向3次，再垂直方向3次\n",
    "r1=np.concatenate((t,t,t),axis=1)\n",
    "r2=np.concatenate((r1,r1,r1),axis=0)\n",
    "img=Image.fromarray(r2)\n",
    "img"
   ]
  },
  {
   "cell_type": "code",
   "execution_count": null,
   "id": "b4e2ef6b",
   "metadata": {
    "scrolled": true
   },
   "outputs": [],
   "source": [
    "img.save('tiger6.jpg')"
   ]
  },
  {
   "cell_type": "code",
   "execution_count": null,
   "id": "6b0c6432",
   "metadata": {
    "scrolled": true
   },
   "outputs": [],
   "source": [
    "im_trim = r2[200:600, 200:600]\n",
    "print(\"切片后:\",im_trim.shape)\n",
    "imb=Image.fromarray(im_trim)\n",
    "imb"
   ]
  },
  {
   "cell_type": "code",
   "execution_count": null,
   "id": "59a994e3",
   "metadata": {
    "scrolled": true
   },
   "outputs": [],
   "source": [
    "imb.save('tiger-.jpg')"
   ]
  },
  {
   "cell_type": "code",
   "execution_count": null,
   "id": "ab726966",
   "metadata": {
    "scrolled": true
   },
   "outputs": [],
   "source": [
    "image1 = Image.open(\"tiger.jpg\")\n",
    "image2 = np.array(image1)\n",
    "im_trim = image2[200:600, 200:600]\n",
    "print(\"切片后:\",im_trim.shape)\n",
    "imb=Image.fromarray(im_trim)\n",
    "imb"
   ]
  },
  {
   "cell_type": "code",
   "execution_count": null,
   "id": "7673ed59",
   "metadata": {},
   "outputs": [],
   "source": []
  }
 ],
 "metadata": {
  "kernelspec": {
   "display_name": "Python 3 (ipykernel)",
   "language": "python",
   "name": "python3"
  },
  "language_info": {
   "codemirror_mode": {
    "name": "ipython",
    "version": 3
   },
   "file_extension": ".py",
   "mimetype": "text/x-python",
   "name": "python",
   "nbconvert_exporter": "python",
   "pygments_lexer": "ipython3",
   "version": "3.10.4"
  }
 },
 "nbformat": 4,
 "nbformat_minor": 5
}
