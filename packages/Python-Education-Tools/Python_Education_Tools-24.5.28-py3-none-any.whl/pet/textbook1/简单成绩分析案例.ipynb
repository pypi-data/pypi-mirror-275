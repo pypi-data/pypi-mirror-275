{
 "cells": [
  {
   "cell_type": "code",
   "execution_count": null,
   "id": "b772b40a",
   "metadata": {},
   "outputs": [],
   "source": [
    "import pandas as pd"
   ]
  },
  {
   "cell_type": "code",
   "execution_count": null,
   "id": "4eb9c1b7",
   "metadata": {},
   "outputs": [],
   "source": [
    "from pet.datasets import  factory"
   ]
  },
  {
   "cell_type": "code",
   "execution_count": null,
   "id": "0960eb1a",
   "metadata": {},
   "outputs": [],
   "source": [
    "df=factory.gen_sample_dataframe()"
   ]
  },
  {
   "cell_type": "code",
   "execution_count": null,
   "id": "7a0f2a3b",
   "metadata": {},
   "outputs": [],
   "source": [
    "df"
   ]
  },
  {
   "cell_type": "code",
   "execution_count": null,
   "id": "9f1e8f55",
   "metadata": {},
   "outputs": [],
   "source": [
    "df['笔试']=df['英语']+df['政治']+df['高等数学']+df['专业课']"
   ]
  },
  {
   "cell_type": "code",
   "execution_count": null,
   "id": "ffbff0d3",
   "metadata": {},
   "outputs": [],
   "source": [
    "df"
   ]
  },
  {
   "cell_type": "code",
   "execution_count": null,
   "id": "36ff0e85",
   "metadata": {},
   "outputs": [],
   "source": [
    "df['总分']=df['笔试']*.7+df['净收入']*.3"
   ]
  },
  {
   "cell_type": "code",
   "execution_count": null,
   "id": "bb0b4adb",
   "metadata": {},
   "outputs": [],
   "source": [
    "df.to_excel('d:/mark.xlsx',index=None)"
   ]
  },
  {
   "cell_type": "code",
   "execution_count": null,
   "id": "914201a2",
   "metadata": {},
   "outputs": [],
   "source": [
    "df"
   ]
  },
  {
   "cell_type": "code",
   "execution_count": null,
   "id": "0be12f8e",
   "metadata": {},
   "outputs": [],
   "source": [
    "df1=df[df['总分']>200]"
   ]
  },
  {
   "cell_type": "code",
   "execution_count": null,
   "id": "5d4952ff",
   "metadata": {},
   "outputs": [],
   "source": [
    "df1"
   ]
  },
  {
   "cell_type": "code",
   "execution_count": null,
   "id": "fb6e80c1",
   "metadata": {},
   "outputs": [],
   "source": [
    "df['结果']=pd.cut(df['总分'], 5, labels=['不及格','及格','中','良好','优秀'])"
   ]
  },
  {
   "cell_type": "code",
   "execution_count": null,
   "id": "7e82b048",
   "metadata": {},
   "outputs": [],
   "source": [
    "df"
   ]
  },
  {
   "cell_type": "code",
   "execution_count": null,
   "id": "63b334e6",
   "metadata": {},
   "outputs": [],
   "source": [
    "df['定标']=pd.cut(df['总分'], [0,120,160,180,200,280], labels=['不及格','及格','中','良好','优秀'])"
   ]
  },
  {
   "cell_type": "code",
   "execution_count": null,
   "id": "4911c23f",
   "metadata": {},
   "outputs": [],
   "source": [
    "df"
   ]
  },
  {
   "cell_type": "code",
   "execution_count": null,
   "id": "2d7f0f80",
   "metadata": {},
   "outputs": [],
   "source": [
    "df['录用否']=pd.cut(df['总分'], [0,180,280], labels=['不录取','录取'])\n",
    "df"
   ]
  },
  {
   "cell_type": "code",
   "execution_count": null,
   "id": "c1bc79f8",
   "metadata": {},
   "outputs": [],
   "source": [
    "df2=df[df['定标']=='优秀']"
   ]
  },
  {
   "cell_type": "code",
   "execution_count": null,
   "id": "4bcfb29a",
   "metadata": {},
   "outputs": [],
   "source": [
    "df2"
   ]
  },
  {
   "cell_type": "code",
   "execution_count": null,
   "id": "772cde0b",
   "metadata": {},
   "outputs": [],
   "source": [
    "df['顺序排名'] = df['总分'].rank(method='max',ascending=False)"
   ]
  },
  {
   "cell_type": "code",
   "execution_count": null,
   "id": "12a8ad03",
   "metadata": {},
   "outputs": [],
   "source": [
    "df"
   ]
  },
  {
   "cell_type": "code",
   "execution_count": null,
   "id": "22aeb856",
   "metadata": {},
   "outputs": [],
   "source": [
    "df3 = df.nlargest(3, columns=['总分'])"
   ]
  },
  {
   "cell_type": "code",
   "execution_count": null,
   "id": "3cb59a1b",
   "metadata": {},
   "outputs": [],
   "source": [
    "df3"
   ]
  },
  {
   "cell_type": "code",
   "execution_count": null,
   "id": "7f6a51c8",
   "metadata": {},
   "outputs": [],
   "source": [
    "df4=df.sort_values(by=['总分', '净收入'],ascending=False)"
   ]
  },
  {
   "cell_type": "code",
   "execution_count": null,
   "id": "67114f5f",
   "metadata": {},
   "outputs": [],
   "source": [
    "df4"
   ]
  },
  {
   "cell_type": "code",
   "execution_count": null,
   "id": "bbbb24be",
   "metadata": {},
   "outputs": [],
   "source": [
    "df4.plot(x='英语',y='总分')"
   ]
  },
  {
   "cell_type": "code",
   "execution_count": null,
   "id": "30d5ac05",
   "metadata": {},
   "outputs": [],
   "source": [
    "df4.plot.bar(x='姓名',y='总分')"
   ]
  },
  {
   "cell_type": "code",
   "execution_count": null,
   "id": "c14701f8",
   "metadata": {},
   "outputs": [],
   "source": [
    "df5=df4.query('总分>180 & 英语>60')"
   ]
  },
  {
   "cell_type": "code",
   "execution_count": null,
   "id": "138eec0b",
   "metadata": {},
   "outputs": [],
   "source": [
    "df5"
   ]
  },
  {
   "cell_type": "code",
   "execution_count": null,
   "id": "c5b5cac8",
   "metadata": {},
   "outputs": [],
   "source": [
    "df6=df4[(df4['总分']>180 )& (df4['英语']>60)]\n",
    "df6"
   ]
  },
  {
   "cell_type": "code",
   "execution_count": null,
   "id": "e10463b0",
   "metadata": {},
   "outputs": [],
   "source": [
    "df6=df4[df4['总分']>180]"
   ]
  },
  {
   "cell_type": "code",
   "execution_count": null,
   "id": "c0ca1cba",
   "metadata": {},
   "outputs": [],
   "source": [
    "df6"
   ]
  },
  {
   "cell_type": "markdown",
   "id": "755816b5",
   "metadata": {},
   "source": []
  },
  {
   "cell_type": "code",
   "execution_count": null,
   "id": "0d21a687",
   "metadata": {},
   "outputs": [],
   "source": []
  },
  {
   "cell_type": "code",
   "execution_count": null,
   "id": "a1b46c32",
   "metadata": {},
   "outputs": [],
   "source": []
  }
 ],
 "metadata": {
  "kernelspec": {
   "display_name": "Python 3 (ipykernel)",
   "language": "python",
   "name": "python3"
  },
  "language_info": {
   "codemirror_mode": {
    "name": "ipython",
    "version": 3
   },
   "file_extension": ".py",
   "mimetype": "text/x-python",
   "name": "python",
   "nbconvert_exporter": "python",
   "pygments_lexer": "ipython3",
   "version": "3.10.4"
  }
 },
 "nbformat": 4,
 "nbformat_minor": 5
}
