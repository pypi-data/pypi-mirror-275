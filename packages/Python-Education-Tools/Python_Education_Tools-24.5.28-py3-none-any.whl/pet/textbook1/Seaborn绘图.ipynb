{
 "cells": [
  {
   "cell_type": "code",
   "execution_count": null,
   "id": "f8a9a0be",
   "metadata": {},
   "outputs": [],
   "source": [
    "\n",
    "import numpy as np\n",
    "import pandas as pd\n",
    "import matplotlib.pyplot as plt\n",
    "import seaborn as sns\n",
    "from scipy import stats\n",
    "%matplotlib inline\n",
    "rc={'figure.dpi':600,'font.sans-serif':'SimHei','axes.unicode_minus':False}\n",
    "sns.set(context='notebook', style='whitegrid', rc=rc)"
   ]
  },
  {
   "cell_type": "code",
   "execution_count": null,
   "id": "fea88d08",
   "metadata": {},
   "outputs": [],
   "source": [
    "from pet.datasets import factory\n",
    "students = factory.load_data('研究生初试成绩')"
   ]
  },
  {
   "cell_type": "code",
   "execution_count": null,
   "id": "94193d36",
   "metadata": {},
   "outputs": [],
   "source": [
    "students.shape"
   ]
  },
  {
   "cell_type": "code",
   "execution_count": null,
   "id": "3b193c0f",
   "metadata": {},
   "outputs": [],
   "source": [
    "students.head(2)"
   ]
  },
  {
   "cell_type": "code",
   "execution_count": null,
   "id": "4290b8ce",
   "metadata": {},
   "outputs": [],
   "source": [
    "students.describe()"
   ]
  },
  {
   "cell_type": "code",
   "execution_count": null,
   "id": "752527e6",
   "metadata": {},
   "outputs": [],
   "source": [
    "students['id']=students['id'].astype(str)\n",
    "students['性别']=students['性别'].astype(\"category\")\n",
    "students['毕业年月'] = pd.to_datetime(students['毕业年月'],format='%Y%m')\n",
    "students['英语分类']=students['英语分类'].astype(\"category\")\n",
    "students['数学分类']=students['数学分类'].astype(\"category\")\n",
    "students['专业课分类']=students['专业课分类'].astype(\"category\")"
   ]
  },
  {
   "cell_type": "code",
   "execution_count": null,
   "id": "a71247cd",
   "metadata": {},
   "outputs": [],
   "source": [
    "import datetime\n",
    "students['复习时间']=datetime.datetime(2019,7,1)-students['毕业年月']\n",
    "students['复习时间']=students['复习时间'].dt.days\n",
    "students.to_excel('st1.xlsx',index=None)\n",
    "students.head(2)"
   ]
  },
  {
   "cell_type": "code",
   "execution_count": null,
   "id": "85f1f1af",
   "metadata": {},
   "outputs": [],
   "source": [
    "students.dtypes"
   ]
  },
  {
   "cell_type": "code",
   "execution_count": null,
   "id": "0145cb06",
   "metadata": {},
   "outputs": [],
   "source": [
    "order = ['id', '性别', '本科院校', '本科专业', '毕业年月','复习时间', '报考代码', '英语分类', '英语成绩', '数学分类', '数学成绩', '政治成绩', '专业课分类', '专业课成绩',\n",
    "       '报考院校', '报考专业', '总分' ]\n",
    "students = students[order]"
   ]
  },
  {
   "cell_type": "code",
   "execution_count": null,
   "id": "10abc482",
   "metadata": {},
   "outputs": [],
   "source": [
    "students"
   ]
  },
  {
   "cell_type": "markdown",
   "id": "aaa6a7f9",
   "metadata": {},
   "source": [
    "可视化数据分布"
   ]
  },
  {
   "cell_type": "code",
   "execution_count": null,
   "id": "eb7d7931",
   "metadata": {},
   "outputs": [],
   "source": [
    "sns.displot(students, x=\"英语成绩\")"
   ]
  },
  {
   "cell_type": "code",
   "execution_count": null,
   "id": "f3976ec9",
   "metadata": {},
   "outputs": [],
   "source": [
    "sns.displot(students, x=\"总分\",col='数学分类')"
   ]
  },
  {
   "cell_type": "code",
   "execution_count": null,
   "id": "0b6647f5",
   "metadata": {},
   "outputs": [],
   "source": [
    "sns.displot(students, x=\"总分\",col='数学分类',binwidth=4)"
   ]
  },
  {
   "cell_type": "code",
   "execution_count": null,
   "id": "cf3288dc",
   "metadata": {},
   "outputs": [],
   "source": [
    "sns.displot(students, x=\"总分\",col='数学分类',kind='kde')"
   ]
  },
  {
   "cell_type": "code",
   "execution_count": null,
   "id": "297b8cb5",
   "metadata": {},
   "outputs": [],
   "source": [
    "sns.displot(students, x=\"总分\",col='数学分类',kind='kde',bw_adjust=.2)\n",
    "sns.displot(students, x=\"总分\",col='数学分类',kind='kde',bw_adjust=2)"
   ]
  },
  {
   "cell_type": "code",
   "execution_count": null,
   "id": "7c3eb9ce",
   "metadata": {},
   "outputs": [],
   "source": [
    "sns.kdeplot(students['总分'], bw_method=.5, label=\"bw: 0.5\")\n",
    "sns.kdeplot(students['总分'], bw_method=1, label=\"bw: 1\")\n",
    "sns.kdeplot(students['总分'], bw_method=2, label=\"bw: 2\")\n",
    "plt.legend()\n"
   ]
  },
  {
   "cell_type": "code",
   "execution_count": null,
   "id": "ceb33482",
   "metadata": {},
   "outputs": [],
   "source": [
    "sns.displot(data=students, x=\"英语成绩\",binwidth=1,kde=True,col='性别')"
   ]
  },
  {
   "cell_type": "code",
   "execution_count": null,
   "id": "0f3f91af",
   "metadata": {},
   "outputs": [],
   "source": [
    "sns.displot(data=students, x=\"英语成绩\",col='性别')"
   ]
  },
  {
   "cell_type": "code",
   "execution_count": null,
   "id": "bb08f317",
   "metadata": {},
   "outputs": [],
   "source": [
    "sns.displot(data=students, x=\"英语成绩\",kind='kde',col='性别')"
   ]
  },
  {
   "cell_type": "code",
   "execution_count": null,
   "id": "18e33f86",
   "metadata": {},
   "outputs": [],
   "source": [
    "sns.displot(data=students, x=\"英语成绩\",kde=True,col='性别')"
   ]
  },
  {
   "cell_type": "code",
   "execution_count": null,
   "id": "af83709f",
   "metadata": {},
   "outputs": [],
   "source": [
    "sns.displot(students, x=\"总分\", kind=\"ecdf\",col='性别')"
   ]
  },
  {
   "cell_type": "code",
   "execution_count": null,
   "id": "c7cb5122",
   "metadata": {},
   "outputs": [],
   "source": [
    "sns.displot(students, x=\"数学成绩\", hue=\"数学分类\", kind=\"ecdf\",col='性别')"
   ]
  },
  {
   "cell_type": "code",
   "execution_count": null,
   "id": "0cd36b7b",
   "metadata": {},
   "outputs": [],
   "source": [
    "sns.displot(data=students, x=\"数学成绩\", y=\"总分\",col='性别')"
   ]
  },
  {
   "cell_type": "code",
   "execution_count": null,
   "id": "d6f3f2aa",
   "metadata": {},
   "outputs": [],
   "source": [
    "sns.displot(data=students, x=\"数学成绩\", y=\"总分\",col='性别',kind='kde')"
   ]
  },
  {
   "cell_type": "code",
   "execution_count": null,
   "id": "e9f5993b",
   "metadata": {},
   "outputs": [],
   "source": [
    "sns.displot(students, x=\"数学成绩\", y=\"总分\", hue=\"数学分类\", kind=\"kde\",col='性别')"
   ]
  },
  {
   "cell_type": "code",
   "execution_count": null,
   "id": "dbeaed18",
   "metadata": {},
   "outputs": [],
   "source": [
    "sns.jointplot(data=students, x=\"数学成绩\", y=\"英语成绩\")"
   ]
  },
  {
   "cell_type": "code",
   "execution_count": null,
   "id": "7eccdb93",
   "metadata": {},
   "outputs": [],
   "source": [
    "sns.jointplot(data=students, x=\"数学成绩\", y=\"英语成绩\",kind='kde')"
   ]
  },
  {
   "cell_type": "code",
   "execution_count": null,
   "id": "f244ccb3",
   "metadata": {},
   "outputs": [],
   "source": [
    "sns.relplot(data=students,x='数学成绩',y='英语成绩',col='性别')"
   ]
  },
  {
   "cell_type": "code",
   "execution_count": null,
   "id": "2c945c99",
   "metadata": {},
   "outputs": [],
   "source": [
    "sns.relplot(data=students, x=\"数学成绩\", y=\"英语成绩\", hue='数学分类',style=\"英语分类\",col='性别')"
   ]
  },
  {
   "cell_type": "code",
   "execution_count": null,
   "id": "a41e494b",
   "metadata": {},
   "outputs": [],
   "source": [
    "sns.relplot(data=students, x=\"数学成绩\", y=\"英语成绩\", hue='数学分类',style=\"英语分类\",col='性别',size='英语成绩')"
   ]
  },
  {
   "cell_type": "code",
   "execution_count": null,
   "id": "fb4673ac",
   "metadata": {},
   "outputs": [],
   "source": [
    "fig=sns.relplot(data=students,x='数学成绩',y='总分',kind='line',col='性别')\n",
    "fig"
   ]
  },
  {
   "cell_type": "code",
   "execution_count": null,
   "id": "c3605469",
   "metadata": {},
   "outputs": [],
   "source": [
    "sns.relplot(data=students,x='英语成绩',y='总分',kind='line',col='性别',estimator=None)"
   ]
  },
  {
   "cell_type": "code",
   "execution_count": null,
   "id": "8447e55a",
   "metadata": {},
   "outputs": [],
   "source": [
    "sns.relplot( data=students, kind=\"line\", x=\"英语成绩\", y=\"数学成绩\", hue=\"性别\", style=\"数学分类\", dashes=False, markers=True,col='性别')\n"
   ]
  },
  {
   "cell_type": "code",
   "execution_count": null,
   "id": "8c16f7c8",
   "metadata": {},
   "outputs": [],
   "source": [
    "fig.savefig('rel.png')"
   ]
  },
  {
   "cell_type": "code",
   "execution_count": null,
   "id": "d56dc847",
   "metadata": {},
   "outputs": [],
   "source": [
    "sns.relplot(\n",
    "    data=students, kind=\"line\",\n",
    "    x=\"总分\", y=\"专业课成绩\", hue=\"性别\",\n",
    "    col=\"数学分类\", row=\"性别\", height=4,\n",
    "    estimator=None)\n"
   ]
  },
  {
   "cell_type": "code",
   "execution_count": null,
   "id": "14485d7b",
   "metadata": {},
   "outputs": [],
   "source": [
    "sns.jointplot(x=\"数学成绩\", y=\"总分\",data=students, kind=\"hex\")"
   ]
  },
  {
   "cell_type": "code",
   "execution_count": null,
   "id": "1c0fc567",
   "metadata": {},
   "outputs": [],
   "source": [
    "sns.jointplot(x=\"数学成绩\", y=\"总分\", data=students,kind=\"reg\")"
   ]
  },
  {
   "cell_type": "code",
   "execution_count": null,
   "id": "0717dc39",
   "metadata": {},
   "outputs": [],
   "source": [
    "sns.jointplot(x=\"英语成绩\", y=\"数学成绩\", data=students, kind=\"kde\")"
   ]
  },
  {
   "cell_type": "code",
   "execution_count": null,
   "id": "94ac72ea",
   "metadata": {},
   "outputs": [],
   "source": [
    "sns.jointplot(x=\"政治成绩\", y=\"总分\", data=students, kind=\"kde\")"
   ]
  },
  {
   "cell_type": "code",
   "execution_count": null,
   "id": "ebf545eb",
   "metadata": {},
   "outputs": [],
   "source": [
    "sns.pairplot(students)"
   ]
  },
  {
   "cell_type": "code",
   "execution_count": null,
   "id": "6b313bfb",
   "metadata": {},
   "outputs": [],
   "source": [
    "sns.pairplot(students, hue=\"性别\")"
   ]
  },
  {
   "cell_type": "code",
   "execution_count": null,
   "id": "14098ab7",
   "metadata": {},
   "outputs": [],
   "source": [
    "sns.pairplot(students, x_vars=[\"数学成绩\", \"英语成绩\",'政治成绩'], y_vars=[\"总分\"], height=5, aspect=.8)"
   ]
  },
  {
   "cell_type": "code",
   "execution_count": null,
   "id": "00d59fcb",
   "metadata": {},
   "outputs": [],
   "source": [
    "sns.catplot(x=\"性别\", y=\"总分\", data=students,col='数学分类')"
   ]
  },
  {
   "cell_type": "code",
   "execution_count": null,
   "id": "d2d8cccf",
   "metadata": {},
   "outputs": [],
   "source": [
    "\n",
    "\n",
    "plot = students['报考专业'].value_counts().plot.pie( figsize=(5, 5))"
   ]
  },
  {
   "cell_type": "code",
   "execution_count": null,
   "id": "ace0f874",
   "metadata": {},
   "outputs": [],
   "source": [
    "sns.catplot(x=\"性别\", y=\"总分\", data=students,col='数学分类',jitter=False)"
   ]
  },
  {
   "cell_type": "code",
   "execution_count": null,
   "id": "88ea9009",
   "metadata": {},
   "outputs": [],
   "source": [
    "sns.catplot(y=\"数学分类\", x=\"总分\",kind=\"swarm\", data=students,col='性别')"
   ]
  },
  {
   "cell_type": "code",
   "execution_count": null,
   "id": "b7dfa460",
   "metadata": {},
   "outputs": [],
   "source": [
    "sns.catplot(data=students, x=\"报考专业\", y=\"总分\", hue=\"性别\", kind=\"swarm\")\n",
    "plt.tick_params(axis='x',labelsize=8,rotation=45)"
   ]
  },
  {
   "cell_type": "code",
   "execution_count": null,
   "id": "4e4ccf24",
   "metadata": {},
   "outputs": [],
   "source": [
    "sns.catplot(x=\"性别\", y=\"英语成绩\", kind=\"box\", data=students,col='数学分类')"
   ]
  },
  {
   "cell_type": "code",
   "execution_count": null,
   "id": "2a2c0a0e",
   "metadata": {},
   "outputs": [],
   "source": [
    "sns.catplot(x=\"性别\", y=\"英语成绩\", kind=\"box\", hue=\"英语分类\", data=students, order=['男','女'],col='数学分类');"
   ]
  },
  {
   "cell_type": "code",
   "execution_count": null,
   "id": "84fc6582",
   "metadata": {},
   "outputs": [],
   "source": [
    "sns.catplot(x=\"性别\", y=\"英语成绩\", kind=\"boxen\", hue=\"英语分类\", data=students, order=['男','女'],col='数学分类');"
   ]
  },
  {
   "cell_type": "code",
   "execution_count": null,
   "id": "3b9c8bd0",
   "metadata": {},
   "outputs": [],
   "source": [
    "sns.catplot(x=\"数学分类\", y=\"总分\", hue=\"性别\",kind=\"violin\", data=students,col='英语分类')"
   ]
  },
  {
   "cell_type": "code",
   "execution_count": null,
   "id": "45410bac",
   "metadata": {},
   "outputs": [],
   "source": [
    "sns.catplot(x=\"性别\", y=\"总分\", hue=\"数学分类\", kind=\"bar\", data=students,col='英语分类')"
   ]
  },
  {
   "cell_type": "code",
   "execution_count": null,
   "id": "7be20b42",
   "metadata": {},
   "outputs": [],
   "source": [
    "sns.catplot(x=\"报考专业\", y=\"总分\", hue=\"性别\", kind=\"point\", data=students);\n",
    "plt.tick_params(axis='x',labelsize=8,rotation=90)\n",
    "\n"
   ]
  },
  {
   "cell_type": "code",
   "execution_count": null,
   "id": "4a954bc5",
   "metadata": {},
   "outputs": [],
   "source": [
    "sns.catplot(x=\"数学分类\", hue=\"性别\", kind=\"count\", data=students,col='英语分类') "
   ]
  },
  {
   "cell_type": "code",
   "execution_count": null,
   "id": "783632a5",
   "metadata": {},
   "outputs": [],
   "source": [
    "sns.catplot(x=\"报考专业\", y=\"总分\", kind='point',data=students)\n",
    "plt.tick_params(axis='x',labelsize=8,rotation=90)"
   ]
  },
  {
   "cell_type": "code",
   "execution_count": null,
   "id": "d44b3843",
   "metadata": {},
   "outputs": [],
   "source": [
    "sns.pointplot(x=\"报考专业\", y=\"总分\", data=students)\n",
    "plt.tick_params(axis='x',labelsize=8,rotation=90)"
   ]
  },
  {
   "cell_type": "code",
   "execution_count": null,
   "id": "15e226ac",
   "metadata": {},
   "outputs": [],
   "source": [
    "sns.catplot(data=students, x=\"复习时间\", y=\"英语成绩\",kind=\"swarm\",col='性别')"
   ]
  },
  {
   "cell_type": "code",
   "execution_count": null,
   "id": "bbe535d2",
   "metadata": {},
   "outputs": [],
   "source": [
    "sns.regplot(x=\"数学成绩\", y=\"总分\", data=students)"
   ]
  },
  {
   "cell_type": "code",
   "execution_count": null,
   "id": "e4709f8b",
   "metadata": {},
   "outputs": [],
   "source": [
    "sns.lmplot(x=\"数学成绩\", y=\"总分\", data=students,col='性别')"
   ]
  },
  {
   "cell_type": "code",
   "execution_count": null,
   "id": "6713c22f",
   "metadata": {},
   "outputs": [],
   "source": [
    "sns.pairplot(students, x_vars=[\"数学成绩\", \"英语成绩\",'政治成绩'], y_vars=[\"总分\"], height=5, aspect=.8, kind=\"reg\");"
   ]
  },
  {
   "cell_type": "code",
   "execution_count": null,
   "id": "97833dec",
   "metadata": {},
   "outputs": [],
   "source": [
    "sns.lmplot(x=\"数学成绩\", y=\"总分\", data=students,x_estimator=np.mean,col='性别');"
   ]
  },
  {
   "cell_type": "code",
   "execution_count": null,
   "id": "450c7d4b",
   "metadata": {},
   "outputs": [],
   "source": [
    "sns.catplot(data=students, x=\"性别\", y=\"总分\",kind=\"box\",col='英语分类')"
   ]
  },
  {
   "cell_type": "code",
   "execution_count": null,
   "id": "4c147f46",
   "metadata": {},
   "outputs": [],
   "source": [
    "sns.lmplot(x=\"数学成绩\", y=\"总分\", hue=\"性别\", markers=[\"o\", \"x\"],col=\"英语分类\", data=students);"
   ]
  },
  {
   "cell_type": "code",
   "execution_count": null,
   "id": "6dc49dbe",
   "metadata": {},
   "outputs": [],
   "source": [
    "sns.lmplot(x=\"数学成绩\", y=\"总分\", hue=\"性别\", markers=[\"o\", \"x\"],col=\"英语分类\", palette=\"Set2\",height=4,data=students);"
   ]
  },
  {
   "cell_type": "code",
   "execution_count": null,
   "id": "ec577803",
   "metadata": {},
   "outputs": [],
   "source": []
  },
  {
   "cell_type": "code",
   "execution_count": null,
   "id": "c5d88037",
   "metadata": {},
   "outputs": [],
   "source": [
    "sns.lmplot(data=students,x='数学成绩',y='总分',order=4,col='性别')"
   ]
  },
  {
   "cell_type": "code",
   "execution_count": null,
   "id": "5b3fe860",
   "metadata": {},
   "outputs": [],
   "source": [
    "sns.lmplot(data=students,x='专业课成绩',y='总分',order=4)"
   ]
  },
  {
   "cell_type": "code",
   "execution_count": null,
   "id": "02af8d14",
   "metadata": {},
   "outputs": [],
   "source": [
    "sns.displot(students, x=\"英语成绩\",binwidth=1,bins=50)"
   ]
  },
  {
   "cell_type": "code",
   "execution_count": null,
   "id": "6624f517",
   "metadata": {
    "scrolled": true
   },
   "outputs": [],
   "source": [
    "sns.displot(students, x=\"英语成绩\", hue=\"英语分类\")"
   ]
  },
  {
   "cell_type": "code",
   "execution_count": null,
   "id": "37a362d7",
   "metadata": {},
   "outputs": [],
   "source": [
    "sns.displot(students, x=\"英语成绩\", hue=\"英语分类\",element=\"step\")"
   ]
  },
  {
   "cell_type": "code",
   "execution_count": null,
   "id": "eeed8c2a",
   "metadata": {},
   "outputs": [],
   "source": [
    "sns.displot(students, x=\"英语成绩\", hue=\"英语分类\", multiple=\"stack\")"
   ]
  },
  {
   "cell_type": "code",
   "execution_count": null,
   "id": "272b1ad9",
   "metadata": {},
   "outputs": [],
   "source": [
    "sns.displot(students, x=\"英语成绩\", hue=\"英语分类\",multiple=\"dodge\")"
   ]
  },
  {
   "cell_type": "code",
   "execution_count": null,
   "id": "c294ba84",
   "metadata": {},
   "outputs": [],
   "source": [
    "sns.displot(students, x=\"英语成绩\", hue=\"英语分类\",multiple=\"dodge\",col=\"性别\")"
   ]
  },
  {
   "cell_type": "code",
   "execution_count": null,
   "id": "b56c7965",
   "metadata": {},
   "outputs": [],
   "source": [
    "sns.displot(students, x=\"数学成绩\", hue=\"数学分类\", stat=\"density\")"
   ]
  },
  {
   "cell_type": "code",
   "execution_count": null,
   "id": "b102b9ed",
   "metadata": {},
   "outputs": [],
   "source": [
    "sns.displot(students, x=\"数学成绩\", hue=\"数学分类\", stat=\"probability\")"
   ]
  },
  {
   "cell_type": "code",
   "execution_count": null,
   "id": "fa9a4319",
   "metadata": {},
   "outputs": [],
   "source": [
    "sns.displot(students, x=\"数学成绩\", kind=\"kde\",col='性别')"
   ]
  },
  {
   "cell_type": "code",
   "execution_count": null,
   "id": "3d2998e4",
   "metadata": {},
   "outputs": [],
   "source": [
    "sns.displot(students, x=\"数学成绩\", kind=\"kde\",col='性别',bw_adjust=.1)"
   ]
  },
  {
   "cell_type": "code",
   "execution_count": null,
   "id": "31a43f15",
   "metadata": {},
   "outputs": [],
   "source": [
    "sns.displot(students, x=\"数学成绩\", kind=\"kde\",col='性别',bw_adjust=2)"
   ]
  },
  {
   "cell_type": "code",
   "execution_count": null,
   "id": "4febb64b",
   "metadata": {},
   "outputs": [],
   "source": [
    "sns.displot(students, x=\"数学成绩\", hue='数学分类',kind=\"kde\",col='性别',bw_adjust=.25)"
   ]
  },
  {
   "cell_type": "code",
   "execution_count": null,
   "id": "bb945ab7",
   "metadata": {},
   "outputs": [],
   "source": [
    "sns.displot(students, x=\"数学成绩\", hue='数学分类',kind=\"kde\",col='性别',bw_adjust=.25,multiple=\"stack\")"
   ]
  },
  {
   "cell_type": "code",
   "execution_count": null,
   "id": "f0549f4f",
   "metadata": {},
   "outputs": [],
   "source": [
    "sns.displot(students, x=\"数学成绩\", hue='数学分类',kde=True,col='性别',multiple=\"stack\")"
   ]
  },
  {
   "cell_type": "code",
   "execution_count": null,
   "id": "0a668888",
   "metadata": {},
   "outputs": [],
   "source": [
    "sns.displot(students, x=\"数学成绩\", hue='数学分类',col='性别',kind=\"ecdf\")"
   ]
  },
  {
   "cell_type": "code",
   "execution_count": null,
   "id": "59656f87",
   "metadata": {},
   "outputs": [],
   "source": [
    "sns.displot(students, x=\"数学成绩\", y=\"英语成绩\")"
   ]
  },
  {
   "cell_type": "code",
   "execution_count": null,
   "id": "94bd3317",
   "metadata": {},
   "outputs": [],
   "source": [
    "sns.displot(students, x=\"数学成绩\", y=\"英语成绩\",kind='kde',col='性别')"
   ]
  },
  {
   "cell_type": "code",
   "execution_count": null,
   "id": "ec7eac9e",
   "metadata": {},
   "outputs": [],
   "source": [
    "sns.pairplot(students)"
   ]
  },
  {
   "cell_type": "code",
   "execution_count": null,
   "id": "f5f95403",
   "metadata": {},
   "outputs": [],
   "source": [
    "sns.displot(data=students,x='数学成绩',binwidth=3)"
   ]
  },
  {
   "cell_type": "code",
   "execution_count": null,
   "id": "9cb2a3be",
   "metadata": {},
   "outputs": [],
   "source": [
    "sns.displot(data=students,x='数学成绩',binwidth=13)"
   ]
  },
  {
   "cell_type": "code",
   "execution_count": null,
   "id": "546e1d6a",
   "metadata": {},
   "outputs": [],
   "source": []
  },
  {
   "cell_type": "code",
   "execution_count": null,
   "id": "ac76dc0d",
   "metadata": {},
   "outputs": [],
   "source": []
  },
  {
   "cell_type": "code",
   "execution_count": null,
   "id": "dd5d7d42",
   "metadata": {},
   "outputs": [],
   "source": []
  },
  {
   "cell_type": "code",
   "execution_count": null,
   "id": "36182597",
   "metadata": {},
   "outputs": [],
   "source": []
  },
  {
   "cell_type": "code",
   "execution_count": null,
   "id": "688b86fa",
   "metadata": {},
   "outputs": [],
   "source": []
  },
  {
   "cell_type": "code",
   "execution_count": null,
   "id": "d0ab89d2",
   "metadata": {},
   "outputs": [],
   "source": []
  },
  {
   "cell_type": "code",
   "execution_count": null,
   "id": "0488837e",
   "metadata": {},
   "outputs": [],
   "source": []
  },
  {
   "cell_type": "code",
   "execution_count": null,
   "id": "41eeaecd",
   "metadata": {},
   "outputs": [],
   "source": []
  },
  {
   "cell_type": "code",
   "execution_count": null,
   "id": "fd3c9be3",
   "metadata": {},
   "outputs": [],
   "source": []
  },
  {
   "cell_type": "code",
   "execution_count": null,
   "id": "f962ead3",
   "metadata": {},
   "outputs": [],
   "source": []
  },
  {
   "cell_type": "code",
   "execution_count": null,
   "id": "010f6c31",
   "metadata": {},
   "outputs": [],
   "source": []
  },
  {
   "cell_type": "code",
   "execution_count": null,
   "id": "ce8d0111",
   "metadata": {},
   "outputs": [],
   "source": []
  }
 ],
 "metadata": {
  "kernelspec": {
   "display_name": "Python 3 (ipykernel)",
   "language": "python",
   "name": "python3"
  },
  "language_info": {
   "codemirror_mode": {
    "name": "ipython",
    "version": 3
   },
   "file_extension": ".py",
   "mimetype": "text/x-python",
   "name": "python",
   "nbconvert_exporter": "python",
   "pygments_lexer": "ipython3",
   "version": "3.10.4"
  },
  "vp": {
   "base_numbering": 1,
   "nav_menu": {},
   "number_sections": true,
   "sideBar": true,
   "title_cell": "VisualPython",
   "title_sidebar": "VisualPython",
   "vpPosition": {
    "height": "calc(100% - 180px)",
    "right": "10px",
    "top": "110px",
    "width": "50%"
   },
   "vp_cell": false,
   "vp_section_display": true,
   "vp_window_display": false
  }
 },
 "nbformat": 4,
 "nbformat_minor": 5
}
