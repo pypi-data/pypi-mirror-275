{
 "cells": [
  {
   "cell_type": "markdown",
   "id": "efd98859",
   "metadata": {},
   "source": [
    "## 面向对象程序设计"
   ]
  },
  {
   "cell_type": "code",
   "execution_count": 4,
   "id": "368d41cd",
   "metadata": {},
   "outputs": [
    {
     "name": "stdout",
     "output_type": "stream",
     "text": [
      "品牌: 华为6s. 价格: 2198\n",
      "hello world  message was sent!\n",
      "Phone object was deleted!!\n"
     ]
    }
   ],
   "source": [
    "#【例8-1】\t类的定义与使用演示。\n",
    "\n",
    "class Phone:\n",
    "    \"\"\"\n",
    "        面向对象的类的基本结构演示，以手机为例\n",
    "    \"\"\"\n",
    "    counter=1\n",
    "    def __init__(self, brand, price):\n",
    "        '''定义手机属性，初始化方法（构造函数）'''\n",
    "        self.brand = brand\n",
    "        self.price = price\n",
    "\n",
    "    def __del__(self):\n",
    "        '''定义析构函数，对象删除时候调用'''\n",
    "        print(f'{self.__class__.__name__} object was deleted!!')\n",
    "\n",
    "    def info(self):\n",
    "        '''定义手机类的功能，即：手机的品牌和价格'''\n",
    "        print(f\"品牌: {self.brand}. 价格: {self.price}\")\n",
    "        \n",
    "    def send_message(self,msg):\n",
    "        ''' 定义手机发送短信的功能'''\n",
    "        print(f\"{msg} message was sent!\")\n",
    "#上述这段代码只定义了类，但没有创建存储空间。只有完成由类创建对象的实例化后，系统才为之分配存储空间。所以对象是类的一个具体实例。\n",
    "phone1=Phone('华为6s',2198)\n",
    "phone1.info()\n",
    "phone1.send_message(\"hello world \")\n",
    "del phone1\n"
   ]
  },
  {
   "cell_type": "code",
   "execution_count": 8,
   "id": "24439ea5",
   "metadata": {},
   "outputs": [
    {
     "name": "stdout",
     "output_type": "stream",
     "text": [
      "品牌: 华为6s. 价格: 2198\n",
      "Total :1.\n",
      "hello world  message was sent!\n",
      "Phone object was deleted!!\n",
      "品牌: 苹果5s. 价格: 4198\n",
      "Total :2.\n"
     ]
    }
   ],
   "source": [
    "#【例8-2】\t类的实例变量与类变量代码演示。\n",
    "class Phone:\n",
    "    \"\"\"\n",
    "        面向对象的类的基本结构演示，以手机为例\n",
    "    \"\"\"\n",
    "    counter=0\n",
    "    '''这个变量是凑数的 '''\n",
    "    def __init__(self, brand, price):\n",
    "        '''定义手机属性，初始化方法（构造函数）'''\n",
    "        self.brand = brand\n",
    "        self.price = price\n",
    "        self.__class__.counter+=1\n",
    "        \n",
    "\n",
    "    def __del__(self):\n",
    "        '''定义析构函数，对象删除时候调用'''\n",
    "        print(f'{self.__class__.__name__} object was deleted!!')\n",
    "   \n",
    "   \n",
    "    def info(self):\n",
    "        '''定义手机类的功能，即：手机的品牌和价格'''\n",
    "        print(f\"品牌: {self.brand}. 价格: {self.price}\")\n",
    "        print(f'Total :{self.__class__.counter}.')\n",
    "        \n",
    "    def send_message(self,msg):\n",
    "        ''' 定义手机发送短信的功能'''\n",
    "        print(f\"{msg} message was sent!\")\n",
    "phone1=Phone('华为6s',2198)\n",
    "phone1.info()\n",
    "phone1.send_message(\"hello world \")\n",
    "phone1=Phone('苹果5s',4198)\n",
    "phone1.info()\n"
   ]
  },
  {
   "cell_type": "code",
   "execution_count": 9,
   "id": "880d3278",
   "metadata": {},
   "outputs": [
    {
     "name": "stdout",
     "output_type": "stream",
     "text": [
      "100 3\n",
      "100 3 200 300\n"
     ]
    }
   ],
   "source": [
    "#【例8-3】\t类的实例变量与类变量的定义与使用演示。\n",
    "class A:\n",
    "    xc=100\n",
    "    def __init__(self,t1):\n",
    "        self.x=t1\n",
    "\n",
    "a1=A(3)\n",
    "print(a1.xc,a1.x)\n",
    "A.xc1=200\n",
    "a1.y=300\n",
    "print(a1.xc,a1.x,a1.xc1,a1.y)\n"
   ]
  },
  {
   "cell_type": "code",
   "execution_count": 10,
   "id": "853c1343",
   "metadata": {},
   "outputs": [
    {
     "name": "stdout",
     "output_type": "stream",
     "text": [
      "zhang - 17\n",
      "li - 21\n",
      "5\n",
      "add two objects:\n",
      "38\n",
      "-4\n"
     ]
    }
   ],
   "source": [
    "#【例8-4】\t类的特殊函数的定义与使用演示。\n",
    "\n",
    "class Student:\n",
    "    def __init__(self, name, age):\n",
    "        self.name = name\n",
    "        self.age = age\n",
    "\n",
    "    def __repr__(self):\n",
    "        return \"Student('{}', '{}')\".format(self.name, self.age)\n",
    "\n",
    "    def __str__(self):\n",
    "        return '{} - {}'.format(self.name, self.age)\n",
    "    def __add__(self, other):\n",
    "        return self.age + other.age\n",
    "    def __sub__(self, other):\n",
    "         return self.age - other.age\n",
    "    def __len__(self):\n",
    "        return len(self.name)\n",
    "\n",
    "if __name__=='__main__':\n",
    "    st_1 = Student('zhang', 17)\n",
    "    st_2 = Student('li', 21)\n",
    "    print(st_1)\n",
    "    print(st_2)\n",
    "    print(len(st_1))\n",
    "    print(\"add two objects:\")\n",
    "    print(st_1 + st_2)\n",
    "    print(st_1 - st_2)\n"
   ]
  },
  {
   "cell_type": "code",
   "execution_count": 12,
   "id": "2e28a45e",
   "metadata": {},
   "outputs": [
    {
     "name": "stdout",
     "output_type": "stream",
     "text": [
      "Phone object was deleted!!\n",
      "品牌: 华为6s. 价格: 2198\n",
      "Total :1.\n",
      "品牌: 苹果5s. 价格: 4198\n",
      "Total :2.\n",
      "共有：2.\n"
     ]
    },
    {
     "data": {
      "text/plain": [
       "2"
      ]
     },
     "execution_count": 12,
     "metadata": {},
     "output_type": "execute_result"
    }
   ],
   "source": [
    "#【例8-5】\t类的实例方法与类方法的定义与使用演示。\n",
    "\n",
    "class Phone:\n",
    "    \"\"\"\n",
    "        面向对象的类的基本结构演示，以手机为例\n",
    "    \"\"\"\n",
    "    counter=0\n",
    "    '''这个变量是凑数的 '''\n",
    "    def __init__(self, brand, price):\n",
    "        '''定义手机属性，初始化方法（构造函数）'''\n",
    "        self.brand = brand\n",
    "        self.price = price\n",
    "        self.__class__.counter+=1\n",
    "        \n",
    "\n",
    "    def __del__(self):\n",
    "        '''定义析构函数，对象删除时候调用'''\n",
    "        print(f'{self.__class__.__name__} object was deleted!!')\n",
    "   \n",
    "   \n",
    "    def info(self):\n",
    "        '''定义手机类的功能，即：手机的品牌和价格'''\n",
    "        print(f\"品牌: {self.brand}. 价格: {self.price}\")\n",
    "        print(f'Total :{self.__class__.counter}.')\n",
    "        \n",
    "    @classmethod\n",
    "    def getCounter(cls):\n",
    "        print(f'共有：{cls.counter}.')\n",
    "        return cls.counter\n",
    "#上述这段代码只定义了类，但没有创建存储空间。只有完成由类创建对象的实例化后，系统才为之分配存储空间。见下面例子:所以对象是类的一个具体实例。\n",
    "phone1=Phone('华为6s',2198)\n",
    "phone1.info()\n",
    "phone2=Phone('苹果5s',4198)\n",
    "phone2.info()\n",
    "phone1.getCounter()        \n"
   ]
  },
  {
   "cell_type": "code",
   "execution_count": 13,
   "id": "b96a9d24",
   "metadata": {},
   "outputs": [
    {
     "name": "stdout",
     "output_type": "stream",
     "text": [
      "Working hours : 5\n",
      "Sleeping hours : 6\n"
     ]
    }
   ],
   "source": [
    "class People_ClassMethods:\n",
    "    def __init__(self):\n",
    "        pass\n",
    "\n",
    "    def sleep(self, sleep_hour):\n",
    "        print('Sleeping hours :', sleep_hour)\n",
    "\n",
    "    @classmethod\n",
    "    def work(cls, work_hour):\n",
    "        print('Working hours :', work_hour)\n",
    "        cls().sleep(6)\n",
    "People_ClassMethods.work(5)\n"
   ]
  },
  {
   "cell_type": "code",
   "execution_count": 14,
   "id": "874dcc0e",
   "metadata": {},
   "outputs": [
    {
     "name": "stdout",
     "output_type": "stream",
     "text": [
      "Sleeping hours : 3\n",
      "Working hours : 4\n"
     ]
    }
   ],
   "source": [
    "#【例8-6】\t类的静态方法的定义与使用演示。\n",
    "\n",
    "class People_StaticMethods:\n",
    "    def __init__(self):\n",
    "        pass\n",
    "\n",
    "    def sleep(self, sleep_hour):\n",
    "        print('Sleeping hours :', sleep_hour)\n",
    "\n",
    "    @staticmethod\n",
    "    def work(work_hour):\n",
    "        print('Working hours :', work_hour)\n",
    "\n",
    "m = People_StaticMethods()\n",
    "m.sleep(3)\n",
    "\n",
    "People_StaticMethods.work(4)\n"
   ]
  },
  {
   "cell_type": "code",
   "execution_count": 15,
   "id": "56cfb97d",
   "metadata": {},
   "outputs": [
    {
     "name": "stdout",
     "output_type": "stream",
     "text": [
      "Phone object was deleted!!\n",
      "品牌: 华为6s. 价格: 2198\n",
      "Right Now,total :1.\n",
      "Phone object was deleted!!\n",
      "品牌: 苹果5s. 价格: 4198\n",
      "Right Now,total :2.\n",
      "test for property\n",
      "100\n",
      "0\n"
     ]
    }
   ],
   "source": [
    "#类中函数装饰器的使用演示\n",
    "class Phone:\n",
    "    \"\"\"\n",
    "        面向对象的类的基本结构演示，以手机为例\n",
    "    \"\"\"\n",
    "    counter = 0\n",
    "\n",
    "    '''这个变量是凑数的 '''\n",
    "\n",
    "    def __init__(self, brand, price):\n",
    "        '''定义手机属性，初始化方法（构造函数）'''\n",
    "        self.brand = brand\n",
    "        self.price = price\n",
    "        self.__class__.counter += 1\n",
    "\n",
    "    def __del__(self):\n",
    "        '''定义析构函数，对象删除时候调用'''\n",
    "        print(f'{self.__class__.__name__} object was deleted!!')\n",
    "\n",
    "    def info(self):\n",
    "        '''定义手机类的功能，即：手机的品牌和价格'''\n",
    "        print(f\"品牌: {self.brand}. 价格: {self.price}\")\n",
    "        print(f'Right Now,total :{self.__class__.counter}.')\n",
    "\n",
    "\n",
    "    @property\n",
    "    def num(self):\n",
    "        return self.__class__.counter\n",
    "    @num.setter\n",
    "    def num(self,a):\n",
    "        self.__class__.counter =a\n",
    "    @num.deleter\n",
    "    def num(self):\n",
    "        self.__class__.counter =0\n",
    "\n",
    "\n",
    "\n",
    "phone1=Phone('华为6s',2198)\n",
    "phone1.info()\n",
    "phone2=Phone('苹果5s',4198)\n",
    "phone2.info()\n",
    "print('test for property')\n",
    "phone1.num=100\n",
    "print(phone1.num)\n",
    "del phone1.num\n",
    "print(phone1.num)\n"
   ]
  },
  {
   "cell_type": "code",
   "execution_count": 16,
   "id": "44a1d748",
   "metadata": {},
   "outputs": [
    {
     "name": "stdout",
     "output_type": "stream",
     "text": [
      "hurt\n"
     ]
    }
   ],
   "source": [
    "class Athlete:\n",
    "    def __init__(self,name,maxW,state='healthy',weight=0):\n",
    "        self.name=name\n",
    "        self.__maxW=maxW\n",
    "        self.__state=state\n",
    "        self.weight=weight\n",
    "        \n",
    "    def get_state(self):\n",
    "       \n",
    "        return 'hurt' if self.weight>self.__maxW else 'healthy'\n",
    "\n",
    "bob=Athlete('Bob',200)\n",
    "bob.weight=300\n",
    "print(bob.get_state())\n"
   ]
  },
  {
   "cell_type": "code",
   "execution_count": 17,
   "id": "fd90515c",
   "metadata": {},
   "outputs": [
    {
     "name": "stdout",
     "output_type": "stream",
     "text": [
      "weight= 500\n",
      "sorry, I do not accept\n",
      "healthy\n"
     ]
    }
   ],
   "source": [
    "class Athlete:\n",
    "    def __init__(self,name,maxW,state='healthy',weight=0):\n",
    "        self.name=name\n",
    "        self.__maxW=maxW\n",
    "        self.__state=state\n",
    "        self.__weight=weight\n",
    "       \n",
    "  \n",
    "    def get_state(self):\n",
    "       \n",
    "        return 'hurt' if self.__weight>self.__maxW else 'healthy'\n",
    "    \n",
    "    def add_weight(self,weight):\n",
    "        print('weight=',weight)\n",
    "        if weight<=self.__maxW:\n",
    "            self.__weight=weight\n",
    "        else:\n",
    "             self.__weight=0\n",
    "             print('sorry, I do not accept')\n",
    "        \n",
    "bob=Athlete('Bob',200)\n",
    "bob.add_weight(500)\n",
    "bob.weight=900\n",
    "print(bob.get_state())\n"
   ]
  },
  {
   "cell_type": "code",
   "execution_count": 18,
   "id": "26a501b7",
   "metadata": {},
   "outputs": [
    {
     "name": "stdout",
     "output_type": "stream",
     "text": [
      "Parrot can fly\n",
      "Penguin can't fly\n"
     ]
    }
   ],
   "source": [
    "#【例8-9】\tPython 中使用多态性。\n",
    "class Parrot:\n",
    "\n",
    "    def fly(self):\n",
    "        print(\"Parrot can fly\")\n",
    "    \n",
    "    def swim(self):\n",
    "        print(\"Parrot can't swim\")\n",
    "\n",
    "class Penguin:\n",
    "\n",
    "    def fly(self):\n",
    "        print(\"Penguin can't fly\")\n",
    "    \n",
    "    def swim(self):\n",
    "        print(\"Penguin can swim\")\n",
    "\n",
    "# common interface\n",
    "def flying_test(bird):\n",
    "    bird.fly()\n",
    "\n",
    "#instantiate objects\n",
    "blu = Parrot()\n",
    "peggy = Penguin()\n",
    "\n",
    "# passing the object\n",
    "flying_test(blu)\n",
    "flying_test(peggy)\n"
   ]
  },
  {
   "cell_type": "code",
   "execution_count": 20,
   "id": "64ed8b7c",
   "metadata": {},
   "outputs": [
    {
     "name": "stdout",
     "output_type": "stream",
     "text": [
      "I can send and receive msg over network\n",
      "品牌: LG. 价格: 6000\n",
      "Right Now,total :1.\n"
     ]
    }
   ],
   "source": [
    "#【例8-10】\t类的继承代码演示。\n",
    "\n",
    "\n",
    "class SmartPhone(Phone):\n",
    "    def wifi(self):\n",
    "        print('I can send and receive msg over network')\n",
    "\n",
    "sp=SmartPhone(\"LG\",6000)\n",
    "sp.wifi()\n",
    "sp.info()\n"
   ]
  },
  {
   "cell_type": "code",
   "execution_count": 21,
   "id": "5055b421",
   "metadata": {},
   "outputs": [
    {
     "name": "stdout",
     "output_type": "stream",
     "text": [
      "show1: name\n",
      "show1: name1\n",
      "show1: name2\n",
      "show: name\n",
      "show: name1\n",
      "show: name2\n"
     ]
    }
   ],
   "source": [
    "class Father:\n",
    "    def __init__(self,name,name1,name2):\n",
    "        self.__name=name\n",
    "        self._name1=name1\n",
    "        self.name2=name2\n",
    "    \n",
    "    def show(self):\n",
    "        print('show:',self.__name)\n",
    "        print('show:',self._name1)\n",
    "        print('show:',self.name2)\n",
    "        \n",
    "    def _show1(self):\n",
    "        print('show1:',self.__name)\n",
    "        print('show1:',self._name1)\n",
    "        print('show1:',self.name2)\n",
    "\n",
    "    def __show2(self):\n",
    "        print('show2:',self.__name)\n",
    "        print('show2:',self._name1)\n",
    "        print('show2:',self.name2)\n",
    "\n",
    "if __name__=='__main__':\n",
    "    fa=Father(\"name\",\"name1\",\"name2\")\n",
    "    fa._show1()\n",
    "    fa.show()\n"
   ]
  },
  {
   "cell_type": "code",
   "execution_count": 22,
   "id": "62da6734",
   "metadata": {},
   "outputs": [
    {
     "name": "stdout",
     "output_type": "stream",
     "text": [
      "show: name\n",
      "show: name1\n",
      "show: name2\n",
      "my own method\n",
      "name1\n",
      "show1: name\n",
      "show1: name1\n",
      "show1: name2\n"
     ]
    }
   ],
   "source": [
    "\n",
    "\n",
    "class Son(Father):\n",
    "     def show3(self):\n",
    "         print('my own method')\n",
    "sn=Son('name','name1','name2')\n",
    "sn.show()\n",
    "sn.show3()\n",
    "print(sn._name1)\n",
    "sn._show1()\n"
   ]
  },
  {
   "cell_type": "code",
   "execution_count": 23,
   "id": "a6b4fb3f",
   "metadata": {},
   "outputs": [
    {
     "name": "stdout",
     "output_type": "stream",
     "text": [
      "father show1: name\n",
      "father show1: name1\n",
      "father show1: name2\n",
      "father show: name\n",
      "father show: name1\n",
      "father show: name2\n"
     ]
    }
   ],
   "source": [
    "#Father.py\n",
    "class Father:\n",
    "    def __init__(self,name,name1,name2):\n",
    "        self.__name=name\n",
    "        self._name1=name1\n",
    "        self.name2=name2\n",
    "    \n",
    "    def show(self):\n",
    "        print('father show:',self.__name)\n",
    "        print('father show:',self._name1)\n",
    "        print('father show:',self.name2)\n",
    "        \n",
    "    def _show1(self):\n",
    "        print('father show1:',self.__name)\n",
    "        print('father show1:',self._name1)\n",
    "        print('father show1:',self.name2)\n",
    "\n",
    "    def __show2(self):\n",
    "        print('father show2:',self.__name)\n",
    "        print('father show2:',self._name1)\n",
    "        print('father show2:',self.name2)\n",
    "\n",
    "if __name__=='__main__':\n",
    "    fa=Father(\"name\",\"name1\",\"name2\")\n",
    "    fa._show1()\n",
    "    fa.show()\n",
    "    \n"
   ]
  },
  {
   "cell_type": "code",
   "execution_count": null,
   "id": "b927be56",
   "metadata": {},
   "outputs": [],
   "source": []
  },
  {
   "cell_type": "code",
   "execution_count": 24,
   "id": "34d2c4ae",
   "metadata": {},
   "outputs": [
    {
     "name": "stdout",
     "output_type": "stream",
     "text": [
      "mother show1: name\n",
      "mother show1: name1\n",
      "mother show1: name2\n",
      "mother show: name\n",
      "mother show: name1\n",
      "mother show: name2\n"
     ]
    }
   ],
   "source": [
    "#Mother.py\n",
    "class Mother:\n",
    "    def __init__(self,name,name1,name2):\n",
    "        self.__name=name\n",
    "        self._name1=name1\n",
    "        self.name2=name2\n",
    "    \n",
    "    def show(self):\n",
    "        print('mother show:',self.__name)\n",
    "        print('mother show:',self._name1)\n",
    "        print('mother show:',self.name2)\n",
    "        \n",
    "    def _show1(self):\n",
    "        print('mother show1:',self.__name)\n",
    "        print('mother show1:',self._name1)\n",
    "        print('mother show1:',self.name2)\n",
    "\n",
    "    def __show2(self):\n",
    "        print('mother show2:',self.__name)\n",
    "        print('mother show2:',self._name1)\n",
    "        print('mother show2:',self.name2)\n",
    "\n",
    "if __name__=='__main__':\n",
    "    mo=Mother(\"name\",\"name1\",\"name2\")\n",
    "    mo._show1()\n",
    "    mo.show()\n",
    "    "
   ]
  },
  {
   "cell_type": "code",
   "execution_count": 26,
   "id": "2dd2f84f",
   "metadata": {},
   "outputs": [
    {
     "name": "stdout",
     "output_type": "stream",
     "text": [
      "(<class '__main__.Son'>, <class '__main__.Father'>, <class '__main__.Mother'>, <class 'object'>)\n",
      "father show: name\n",
      "father show: name1\n",
      "father show: name2\n",
      "ok\n",
      "father show: name\n",
      "father show: name1\n",
      "father show: name2\n",
      "father show: name\n",
      "father show: name1\n",
      "father show: name2\n",
      "my own method\n",
      "name1\n",
      "father show1: name\n",
      "father show1: name1\n",
      "father show1: name2\n",
      "None\n"
     ]
    }
   ],
   "source": [
    "#son.py\n",
    "\n",
    "class Son(Father,Mother):\n",
    "   \n",
    "    def show3(self):\n",
    "        print('ok')\n",
    "        Father.show(self)\n",
    "        #Mother.show(self)\n",
    "        super().show()\n",
    "        print('my own method')\n",
    "\n",
    "sn=Son('name','name1','name2')\n",
    "print(Son.__mro__)\n",
    "sn.show()\n",
    "sn.show3()\n",
    "print(sn._name1)\n",
    "print(sn._show1())"
   ]
  },
  {
   "cell_type": "code",
   "execution_count": 34,
   "id": "437b3c21",
   "metadata": {},
   "outputs": [
    {
     "name": "stdout",
     "output_type": "stream",
     "text": [
      "work\n"
     ]
    }
   ],
   "source": [
    "#【例8-13】\t类的抽象方法代码演示。\n",
    "import abc\n",
    "#定义具有work（）抽象方法的类class Employee\n",
    "# Python 3.4+\n",
    "class Employee(abc.ABC):\n",
    "    @abc.abstractmethod\n",
    "    def work(self):\n",
    "        return NotImplemented\n",
    "\n",
    "#定义实现了父类抽象方法的子类Andy\n",
    "class Andy(Employee):\n",
    "    def work(self):\n",
    "        print('work')\n",
    "\n",
    "#定义没有实现父类抽象方法的子类Max\n",
    "\n",
    "class Max(Employee):\n",
    "    @classmethod\n",
    "    def sleep(cls):\n",
    "        print('sleep')\n",
    "\n",
    "#测试Andy子类实例化，正常！\n",
    "Andy().work()\n"
   ]
  },
  {
   "cell_type": "code",
   "execution_count": 33,
   "id": "0a0a1639",
   "metadata": {},
   "outputs": [],
   "source": [
    "\n",
    "#测试Max子类实例化，出错！\n"
   ]
  },
  {
   "cell_type": "code",
   "execution_count": 35,
   "id": "274ddad7",
   "metadata": {},
   "outputs": [
    {
     "ename": "TypeError",
     "evalue": "Can't instantiate abstract class Max with abstract method work",
     "output_type": "error",
     "traceback": [
      "\u001b[1;31m---------------------------------------------------------------------------\u001b[0m",
      "\u001b[1;31mTypeError\u001b[0m                                 Traceback (most recent call last)",
      "\u001b[1;32m~\\AppData\\Local\\Temp\\ipykernel_4396\\1179324878.py\u001b[0m in \u001b[0;36m<cell line: 1>\u001b[1;34m()\u001b[0m\n\u001b[1;32m----> 1\u001b[1;33m \u001b[0mMax\u001b[0m\u001b[1;33m(\u001b[0m\u001b[1;33m)\u001b[0m\u001b[1;33m.\u001b[0m\u001b[0msleep\u001b[0m\u001b[1;33m(\u001b[0m\u001b[1;33m)\u001b[0m\u001b[1;33m\u001b[0m\u001b[1;33m\u001b[0m\u001b[0m\n\u001b[0m",
      "\u001b[1;31mTypeError\u001b[0m: Can't instantiate abstract class Max with abstract method work"
     ]
    }
   ],
   "source": [
    "Max().sleep()"
   ]
  },
  {
   "cell_type": "code",
   "execution_count": 31,
   "id": "9ecc89da",
   "metadata": {},
   "outputs": [
    {
     "name": "stdout",
     "output_type": "stream",
     "text": [
      "(3,5)\n"
     ]
    }
   ],
   "source": [
    "class Point:\n",
    "    def __init__(self, x=0, y=0):\n",
    "        self.x = x\n",
    "        self.y = y\n",
    "\n",
    "    def __str__(self):\n",
    "        return \"({0},{1})\".format(self.x, self.y)\n",
    "\n",
    "    def __add__(self, other):\n",
    "        x = self.x + other.x\n",
    "        y = self.y + other.y\n",
    "        return Point(x, y)\n",
    "\n",
    "\n",
    "p1 = Point(1, 2)\n",
    "p2 = Point(2, 3)\n",
    "\n",
    "print(p1+p2)\n"
   ]
  },
  {
   "cell_type": "code",
   "execution_count": 32,
   "id": "4047eb58",
   "metadata": {},
   "outputs": [
    {
     "name": "stdout",
     "output_type": "stream",
     "text": [
      "True\n",
      "False\n",
      "False\n"
     ]
    }
   ],
   "source": [
    "class Point:\n",
    "    def __init__(self, x=0, y=0):\n",
    "        self.x = x\n",
    "        self.y = y\n",
    "\n",
    "    def __str__(self):\n",
    "        return \"({0},{1})\".format(self.x, self.y)\n",
    "\n",
    "    def __lt__(self, other):\n",
    "        self_mag = (self.x ** 2) + (self.y ** 2)\n",
    "        other_mag = (other.x ** 2) + (other.y ** 2)\n",
    "        return self_mag < other_mag\n",
    "\n",
    "p1 = Point(1,1)\n",
    "p2 = Point(-2,-3)\n",
    "p3 = Point(1,-1)\n",
    "\n",
    "# use less than\n",
    "print(p1<p2)\n",
    "print(p2<p3)\n",
    "print(p1<p3)\n"
   ]
  },
  {
   "cell_type": "markdown",
   "id": "9902347c",
   "metadata": {},
   "source": [
    "## 综合案例：两个角色打斗游戏"
   ]
  },
  {
   "cell_type": "code",
   "execution_count": 14,
   "id": "5e00e95e",
   "metadata": {},
   "outputs": [],
   "source": [
    "import random"
   ]
  },
  {
   "cell_type": "code",
   "execution_count": 15,
   "id": "30f48dc1",
   "metadata": {},
   "outputs": [],
   "source": [
    "class Animal:\n",
    "    def __init__(self,name,blood):\n",
    "        self.name=name\n",
    "        self.blood=blood\n",
    "    def set_target(self,target):\n",
    "        self.target=target\n",
    "    def attack(self):\n",
    "        pass"
   ]
  },
  {
   "cell_type": "code",
   "execution_count": 16,
   "id": "cd066b17",
   "metadata": {},
   "outputs": [],
   "source": [
    "class Wolf(Animal):\n",
    "    def attack(self):\n",
    "        hit=random.randint(3,5)\n",
    "        self.target.blood-=hit"
   ]
  },
  {
   "cell_type": "code",
   "execution_count": 19,
   "id": "04beba4a",
   "metadata": {},
   "outputs": [],
   "source": [
    "class Tiger(Animal):\n",
    "    def attack(self):\n",
    "        hit=random.randint(6,10)\n",
    "        self.target.blood-=hit"
   ]
  },
  {
   "cell_type": "code",
   "execution_count": 20,
   "id": "8d69920b",
   "metadata": {},
   "outputs": [],
   "source": [
    "wolf=Wolf('wolf',100)\n",
    "tiger=Tiger('tiger',100)"
   ]
  },
  {
   "cell_type": "code",
   "execution_count": 21,
   "id": "31a855d5",
   "metadata": {},
   "outputs": [],
   "source": [
    "wolf.set_target(tiger)\n",
    "tiger.set_target(wolf)\n",
    "wolf.attack()"
   ]
  },
  {
   "cell_type": "code",
   "execution_count": 22,
   "id": "4a17d4bd",
   "metadata": {},
   "outputs": [
    {
     "data": {
      "text/plain": [
       "97"
      ]
     },
     "execution_count": 22,
     "metadata": {},
     "output_type": "execute_result"
    }
   ],
   "source": [
    "tiger.blood"
   ]
  },
  {
   "cell_type": "code",
   "execution_count": null,
   "id": "68fc3314",
   "metadata": {},
   "outputs": [],
   "source": [
    "class Dog:\n",
    "    def __init__(self, name, breed):\n",
    "        self.name = name\n",
    "        self.breed = breed\n",
    "        \n",
    "    def bark(self):\n",
    "        print(\"Woof woof!\")\n",
    "        \n",
    "    def show_info(self):\n",
    "        print(f\"I am a {self.breed} dog named {self.name}.\")\n",
    "\n",
    "dog1 = Dog(\"Fido\", \"Golden Retriever\")\n",
    "dog1.bark() # prints \"Woof woof!\"\n",
    "dog1.show_info() # prints \"I am a Golden Retriever dog named Fido.\""
   ]
  }
 ],
 "metadata": {
  "kernelspec": {
   "display_name": "Python 3 (ipykernel)",
   "language": "python",
   "name": "python3"
  },
  "language_info": {
   "codemirror_mode": {
    "name": "ipython",
    "version": 3
   },
   "file_extension": ".py",
   "mimetype": "text/x-python",
   "name": "python",
   "nbconvert_exporter": "python",
   "pygments_lexer": "ipython3",
   "version": "3.10.4"
  }
 },
 "nbformat": 4,
 "nbformat_minor": 5
}
