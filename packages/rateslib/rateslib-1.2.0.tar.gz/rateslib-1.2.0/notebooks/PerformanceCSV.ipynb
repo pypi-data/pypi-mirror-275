{
 "cells": [
  {
   "cell_type": "code",
   "execution_count": 1,
   "id": "4c47c4eb-c6c3-485c-a578-59a2d7dbfe87",
   "metadata": {},
   "outputs": [],
   "source": [
    "import context\n",
    "from rateslib import *\n",
    "import pandas as pd\n",
    "import datetime\n",
    "import time"
   ]
  },
  {
   "cell_type": "code",
   "execution_count": 2,
   "id": "eae3c16d-6f45-4d4b-9c75-6fae648c638e",
   "metadata": {},
   "outputs": [],
   "source": [
    "start = time.time()"
   ]
  },
  {
   "cell_type": "markdown",
   "id": "419e4c40-27af-4b19-84ee-3d86d12545b0",
   "metadata": {},
   "source": [
    "# Load IRS from CSV"
   ]
  },
  {
   "cell_type": "code",
   "execution_count": 3,
   "id": "0a08ec7c-6960-47f9-818a-e8012772e795",
   "metadata": {},
   "outputs": [],
   "source": [
    "# df = pd.read_csv(\"100swaps.csv\", parse_dates=[\"effective\", \"termination\"])\n",
    "df = pd.read_csv(\"100swaps.csv\")\n",
    "df[\"effective\"] = df[\"effective\"].map(lambda x: dt.strptime(x, \"%d-%b-%Y\"))\n",
    "df[\"termination\"] = df[\"termination\"].map(lambda x: dt.strptime(x, \"%d-%b-%Y\"))"
   ]
  },
  {
   "cell_type": "code",
   "execution_count": 4,
   "id": "55036e51-92d1-4abc-8122-9c27803a7c4c",
   "metadata": {},
   "outputs": [
    {
     "name": "stdout",
     "output_type": "stream",
     "text": [
      "Loading swaps took 87.59821081161499secs\n"
     ]
    }
   ],
   "source": [
    "start2 = time.time()\n",
    "swaps = [\n",
    "        IRS(\n",
    "            effective=row.effective, \n",
    "            termination=row.termination, \n",
    "            frequency=row.frequency, \n",
    "            currency=row.currency,\n",
    "            notional=row.notional,\n",
    "            stub=\"SHORTBACK\",\n",
    "            calendar=\"bus\",\n",
    "            curves=row.currency,\n",
    "            fixed_rate=row.fixed_rate,\n",
    "        )\n",
    "        for row in df.itertuples()\n",
    "    ]\n",
    "print(f\"Loading swaps took {time.time() - start2}secs\")"
   ]
  },
  {
   "cell_type": "markdown",
   "id": "ec5491c7-e9e5-4007-8f50-d78011091f9d",
   "metadata": {},
   "source": [
    "# Construct some Curves"
   ]
  },
  {
   "cell_type": "code",
   "execution_count": 5,
   "id": "9df68805-331f-46e7-84ec-e8382578d88c",
   "metadata": {},
   "outputs": [
    {
     "name": "stdout",
     "output_type": "stream",
     "text": [
      "SUCCESS: `func_tol` reached after 7 iterations (levenberg_marquardt) , `f_val`: 7.611210062589067e-13, `time`: 1.9036s\n",
      "SUCCESS: `func_tol` reached after 7 iterations (levenberg_marquardt) , `f_val`: 7.635491507221569e-13, `time`: 1.8914s\n",
      "SUCCESS: `func_tol` reached after 7 iterations (levenberg_marquardt) , `f_val`: 7.635491507221569e-13, `time`: 1.8670s\n"
     ]
    }
   ],
   "source": [
    "kwargs = dict(\n",
    "    effective=dt(2023, 7, 21),\n",
    "    frequency=\"A\",\n",
    ")\n",
    "chf_instruments = [\n",
    "    IRS(termination=f\"{i}Y\", currency=\"chf\", curves=\"chf\", **kwargs) for i in range(1, 51)\n",
    "]\n",
    "gbp_instruments = [\n",
    "    IRS(termination=f\"{i}Y\", currency=\"gbp\", curves=\"gbp\", **kwargs) for i in range(1, 51)\n",
    "]\n",
    "usd_instruments = [\n",
    "    IRS(termination=f\"{i}Y\", currency=\"usd\", curves=\"usd\", **kwargs) for i in range(1, 51)\n",
    "]\n",
    "rates = [(3.0 - i/100) for i in range(50)]\n",
    "chf = Curve({add_tenor(dt(2023, 7, 21), f\"{i}Y\", \"None\"): 1.0 for i in range(51)}, id=\"chf\")\n",
    "gbp = Curve({add_tenor(dt(2023, 7, 21), f\"{i}Y\", \"F\", calendar=\"bus\"): 1.0 for i in range(51)}, id=\"gbp\")\n",
    "usd = Curve({add_tenor(dt(2023, 7, 21), f\"{i}Y\", \"F\", calendar=\"bus\"): 1.0 for i in range(51)}, id=\"usd\")\n",
    "defaults.algorithm = \"levenberg_marquardt\"\n",
    "solver1 = Solver(curves=[chf], instruments=chf_instruments, s=rates, id=\"CHF\")\n",
    "solver2 = Solver(curves=[gbp], instruments=gbp_instruments, s=rates, id=\"GBP\")\n",
    "solver3 = Solver(curves=[usd], instruments=usd_instruments, s=rates, id=\"USD\", pre_solvers=[solver1, solver2])"
   ]
  },
  {
   "cell_type": "code",
   "execution_count": 6,
   "id": "6b7fb88a-f296-477e-a67a-23a9e717e7aa",
   "metadata": {},
   "outputs": [],
   "source": [
    "pf = Portfolio(swaps)"
   ]
  },
  {
   "cell_type": "code",
   "execution_count": 7,
   "id": "22eac839-c91d-4bb6-ad22-b53fd0cdf80c",
   "metadata": {},
   "outputs": [],
   "source": [
    "defaults.cores = 5"
   ]
  },
  {
   "cell_type": "code",
   "execution_count": 8,
   "id": "375cd470-f754-4654-8b5f-8b0c75ecbfce",
   "metadata": {},
   "outputs": [],
   "source": [
    "# for i, swap in enumerate(swaps):\n",
    "#     print(i)\n",
    "#     swap.npv(solver=solver3)"
   ]
  },
  {
   "cell_type": "code",
   "execution_count": 9,
   "id": "92a934bb-20de-4578-87b2-b00921ba0052",
   "metadata": {},
   "outputs": [],
   "source": [
    "npv = pf.npv(solver=solver3, local=True)"
   ]
  },
  {
   "cell_type": "code",
   "execution_count": 10,
   "id": "4075a0a8-a00b-404d-aebf-61aebf13ee2c",
   "metadata": {},
   "outputs": [
    {
     "data": {
      "text/html": [
       "<div>\n",
       "<style scoped>\n",
       "    .dataframe tbody tr th:only-of-type {\n",
       "        vertical-align: middle;\n",
       "    }\n",
       "\n",
       "    .dataframe tbody tr th {\n",
       "        vertical-align: top;\n",
       "    }\n",
       "\n",
       "    .dataframe thead tr th {\n",
       "        text-align: left;\n",
       "    }\n",
       "\n",
       "    .dataframe thead tr:last-of-type th {\n",
       "        text-align: right;\n",
       "    }\n",
       "</style>\n",
       "<table border=\"1\" class=\"dataframe\">\n",
       "  <thead>\n",
       "    <tr>\n",
       "      <th></th>\n",
       "      <th></th>\n",
       "      <th>local_ccy</th>\n",
       "      <th>chf</th>\n",
       "      <th>gbp</th>\n",
       "      <th>usd</th>\n",
       "    </tr>\n",
       "    <tr>\n",
       "      <th></th>\n",
       "      <th></th>\n",
       "      <th>display_ccy</th>\n",
       "      <th>chf</th>\n",
       "      <th>gbp</th>\n",
       "      <th>usd</th>\n",
       "    </tr>\n",
       "    <tr>\n",
       "      <th>type</th>\n",
       "      <th>solver</th>\n",
       "      <th>label</th>\n",
       "      <th></th>\n",
       "      <th></th>\n",
       "      <th></th>\n",
       "    </tr>\n",
       "  </thead>\n",
       "  <tbody>\n",
       "    <tr>\n",
       "      <th rowspan=\"11\" valign=\"top\">instruments</th>\n",
       "      <th rowspan=\"5\" valign=\"top\">CHF</th>\n",
       "      <th>CHF0</th>\n",
       "      <td>15526.140051</td>\n",
       "      <td>0.0</td>\n",
       "      <td>0.000000</td>\n",
       "    </tr>\n",
       "    <tr>\n",
       "      <th>CHF1</th>\n",
       "      <td>44775.652947</td>\n",
       "      <td>0.0</td>\n",
       "      <td>0.000000</td>\n",
       "    </tr>\n",
       "    <tr>\n",
       "      <th>CHF2</th>\n",
       "      <td>68209.460854</td>\n",
       "      <td>0.0</td>\n",
       "      <td>0.000000</td>\n",
       "    </tr>\n",
       "    <tr>\n",
       "      <th>CHF3</th>\n",
       "      <td>550873.214572</td>\n",
       "      <td>0.0</td>\n",
       "      <td>0.000000</td>\n",
       "    </tr>\n",
       "    <tr>\n",
       "      <th>CHF4</th>\n",
       "      <td>225472.506439</td>\n",
       "      <td>0.0</td>\n",
       "      <td>0.000000</td>\n",
       "    </tr>\n",
       "    <tr>\n",
       "      <th>...</th>\n",
       "      <th>...</th>\n",
       "      <td>...</td>\n",
       "      <td>...</td>\n",
       "      <td>...</td>\n",
       "    </tr>\n",
       "    <tr>\n",
       "      <th rowspan=\"5\" valign=\"top\">USD</th>\n",
       "      <th>USD45</th>\n",
       "      <td>0.000000</td>\n",
       "      <td>0.0</td>\n",
       "      <td>214378.868528</td>\n",
       "    </tr>\n",
       "    <tr>\n",
       "      <th>USD46</th>\n",
       "      <td>0.000000</td>\n",
       "      <td>0.0</td>\n",
       "      <td>825604.617603</td>\n",
       "    </tr>\n",
       "    <tr>\n",
       "      <th>USD47</th>\n",
       "      <td>0.000000</td>\n",
       "      <td>0.0</td>\n",
       "      <td>-64858.936069</td>\n",
       "    </tr>\n",
       "    <tr>\n",
       "      <th>USD48</th>\n",
       "      <td>0.000000</td>\n",
       "      <td>0.0</td>\n",
       "      <td>549729.860501</td>\n",
       "    </tr>\n",
       "    <tr>\n",
       "      <th>USD49</th>\n",
       "      <td>0.000000</td>\n",
       "      <td>0.0</td>\n",
       "      <td>-821216.500268</td>\n",
       "    </tr>\n",
       "  </tbody>\n",
       "</table>\n",
       "<p>150 rows × 3 columns</p>\n",
       "</div>"
      ],
      "text/plain": [
       "local_ccy                           chf  gbp            usd\n",
       "display_ccy                         chf  gbp            usd\n",
       "type        solver label                                   \n",
       "instruments CHF    CHF0    15526.140051  0.0       0.000000\n",
       "                   CHF1    44775.652947  0.0       0.000000\n",
       "                   CHF2    68209.460854  0.0       0.000000\n",
       "                   CHF3   550873.214572  0.0       0.000000\n",
       "                   CHF4   225472.506439  0.0       0.000000\n",
       "...                                 ...  ...            ...\n",
       "            USD    USD45       0.000000  0.0  214378.868528\n",
       "                   USD46       0.000000  0.0  825604.617603\n",
       "                   USD47       0.000000  0.0  -64858.936069\n",
       "                   USD48       0.000000  0.0  549729.860501\n",
       "                   USD49       0.000000  0.0 -821216.500268\n",
       "\n",
       "[150 rows x 3 columns]"
      ]
     },
     "execution_count": 10,
     "metadata": {},
     "output_type": "execute_result"
    }
   ],
   "source": [
    "solver3.delta(npv)"
   ]
  },
  {
   "cell_type": "code",
   "execution_count": 11,
   "id": "1454ab39-ebf6-4014-8ebd-318acb3588d1",
   "metadata": {},
   "outputs": [],
   "source": [
    "end = time.time()"
   ]
  },
  {
   "cell_type": "code",
   "execution_count": 12,
   "id": "1cae5cab-fdb6-4794-b122-b3eed61f360d",
   "metadata": {},
   "outputs": [
    {
     "name": "stdout",
     "output_type": "stream",
     "text": [
      "137.78131794929504\n"
     ]
    }
   ],
   "source": [
    "print(end-start)"
   ]
  },
  {
   "cell_type": "code",
   "execution_count": null,
   "id": "c9315c2b-a0a0-462d-9fca-a878edb024ee",
   "metadata": {},
   "outputs": [],
   "source": []
  },
  {
   "cell_type": "code",
   "execution_count": null,
   "id": "dfdfe10c-f878-4240-b424-ebd735e78bb8",
   "metadata": {},
   "outputs": [],
   "source": []
  }
 ],
 "metadata": {
  "kernelspec": {
   "display_name": "Python 3 (ipykernel)",
   "language": "python",
   "name": "python3"
  },
  "language_info": {
   "codemirror_mode": {
    "name": "ipython",
    "version": 3
   },
   "file_extension": ".py",
   "mimetype": "text/x-python",
   "name": "python",
   "nbconvert_exporter": "python",
   "pygments_lexer": "ipython3",
   "version": "3.11.4"
  }
 },
 "nbformat": 4,
 "nbformat_minor": 5
}
