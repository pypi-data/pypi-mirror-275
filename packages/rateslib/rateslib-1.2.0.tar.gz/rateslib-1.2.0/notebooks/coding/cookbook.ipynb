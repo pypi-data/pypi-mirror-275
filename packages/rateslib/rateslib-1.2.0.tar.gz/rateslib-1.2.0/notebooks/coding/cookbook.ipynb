{
 "cells": [
  {
   "cell_type": "code",
   "execution_count": 2,
   "id": "11bef07b-142f-4296-9e21-04988fc93c51",
   "metadata": {},
   "outputs": [],
   "source": [
    "from rateslib import *"
   ]
  },
  {
   "cell_type": "code",
   "execution_count": null,
   "id": "4b04f9ed-a1dd-40b9-b7c0-62bab3733cba",
   "metadata": {},
   "outputs": [],
   "source": [
    "curve = Curve({\n",
    "    dt(2022, 12, 1): 1.0,\n",
    "    dt(2022, 12, 31): 1.0,\n",
    "    dt(2023, 1, 1): 1.0,\n",
    "    dt(2023, 2, 1): 1.0,\n",
    "}, \"log_linear\")\n",
    "instruments = [\n",
    "    IRS(dt(2022, 12, 1), \"1d\", \"A\", curves=curve),\n",
    "    Spread(\n",
    "        IRS(dt(2022, 12, 30), \"1d\", \"A\", curves=curve),\n",
    "        IRS(dt(2022, 12, 31), \"1d\", \"A\", curves=curve),\n",
    "    ),\n",
    "    IRS(dt(2023, 1, 1), \"1d\", \"A\", curves=curve),\n",
    "]\n",
    "turn_solver = Solver(\n",
    "    curves=[curve], \n",
    "    instruments=instruments, \n",
    "    s=[0.0, -0.5, 0.0],\n",
    "    instrument_labels=[\"null1\", \"turn\", \"null2\"],\n",
    ")"
   ]
  },
  {
   "cell_type": "code",
   "execution_count": null,
   "id": "31571d27-c73b-4bfb-b01c-77817eb91ac3",
   "metadata": {},
   "outputs": [],
   "source": [
    "curve.plot(\"1d\")"
   ]
  },
  {
   "cell_type": "code",
   "execution_count": null,
   "id": "2ff41350-c40e-4afe-a90a-30ff1c638b51",
   "metadata": {},
   "outputs": [],
   "source": [
    "linecurve = LineCurve({\n",
    "    dt(2022, 12, 1): 0.0,\n",
    "    dt(2022, 12, 31): -50.0,\n",
    "    dt(2023, 1, 1): 0.0,\n",
    "}, \"flat_forward\")\n",
    "instruments = [\n",
    "    Value(dt(2022, 12, 1), curves=linecurve),\n",
    "    Value(dt(2022, 12, 31), curves=linecurve),\n",
    "    Value(dt(2023, 1, 1), curves=linecurve),\n",
    "]\n",
    "solver = Solver(curves=[linecurve], instruments=instruments, s=[0.0, -0.5, 0.0])"
   ]
  },
  {
   "cell_type": "code",
   "execution_count": null,
   "id": "e4570c99-3c4d-4336-aa77-f28725909e79",
   "metadata": {},
   "outputs": [],
   "source": [
    "linecurve.plot(\"1d\", right=dt(2023, 2, 1))"
   ]
  },
  {
   "cell_type": "code",
   "execution_count": null,
   "id": "2beacec4-a097-458a-8a27-116071e17d28",
   "metadata": {},
   "outputs": [],
   "source": [
    "cubiccurve = Curve({\n",
    "    dt(2022, 12, 1): 1.0,\n",
    "    dt(2022, 12, 21): 1.0,\n",
    "    dt(2023, 1, 11): 1.0,\n",
    "    dt(2023, 2, 1): 1.0,\n",
    "}, \"log_linear\", t = [\n",
    "    dt(2022, 12, 1), dt(2022, 12, 1), dt(2022, 12, 1), dt(2022, 12, 1),\n",
    "    dt(2022, 12, 21),\n",
    "    dt(2023, 1, 11),\n",
    "    dt(2023, 2, 1), dt(2023, 2, 1), dt(2023, 2, 1), dt(2023, 2, 1),\n",
    "])\n",
    "instruments = [\n",
    "    IRS(dt(2022, 12, 1), \"20d\", \"A\", curves=cubiccurve),\n",
    "    IRS(dt(2022, 12, 21), \"20d\", \"A\", curves=cubiccurve),\n",
    "    IRS(dt(2023, 1, 11), \"20d\", \"A\", curves=cubiccurve),\n",
    "]\n",
    "solver = Solver(curves=[cubiccurve], instruments=instruments, s=[2.10, 2.20, 2.35])"
   ]
  },
  {
   "cell_type": "code",
   "execution_count": null,
   "id": "a877600d-17db-4cb7-81af-6e0744322bb2",
   "metadata": {},
   "outputs": [],
   "source": [
    "cubiccurve.plot(\"1b\")"
   ]
  },
  {
   "cell_type": "code",
   "execution_count": null,
   "id": "fc9e6602-1ca0-4013-9959-25b9cd3dc5da",
   "metadata": {},
   "outputs": [],
   "source": [
    "compcurve = CompositeCurve([cubiccurve, curve])"
   ]
  },
  {
   "cell_type": "code",
   "execution_count": null,
   "id": "3a58ae96-72b3-4c06-80e0-f509385cee75",
   "metadata": {},
   "outputs": [],
   "source": [
    "print(IRS(dt(2022, 12, 21), \"20d\", \"A\").rate(curves=compcurve))"
   ]
  },
  {
   "cell_type": "code",
   "execution_count": null,
   "id": "321fcea2-75dc-4d55-b436-b8dd917a7089",
   "metadata": {},
   "outputs": [],
   "source": [
    "cubiccurve = Curve({\n",
    "    dt(2022, 12, 1): 1.0,\n",
    "    dt(2022, 12, 21): 1.0,\n",
    "    dt(2023, 1, 11): 1.0,\n",
    "    dt(2023, 2, 1): 1.0,\n",
    "}, \"log_linear\", t = [\n",
    "    dt(2022, 12, 1), dt(2022, 12, 1), dt(2022, 12, 1), dt(2022, 12, 1),\n",
    "    dt(2022, 12, 21),\n",
    "    dt(2023, 1, 11),\n",
    "    dt(2023, 2, 1), dt(2023, 2, 1), dt(2023, 2, 1), dt(2023, 2, 1),\n",
    "])\n",
    "compositecurve = CompositeCurve([curve, cubiccurve])\n",
    "instruments = [\n",
    "    IRS(dt(2022, 12, 1), \"20d\", \"A\", curves=compositecurve),\n",
    "    IRS(dt(2022, 12, 21), \"20d\", \"A\", curves=compositecurve),\n",
    "    IRS(dt(2023, 1, 11), \"20d\", \"A\", curves=compositecurve),\n",
    "]\n",
    "solver = Solver(\n",
    "    curves=[cubiccurve, compositecurve], \n",
    "    instruments=instruments, \n",
    "    s=[2.10, 2.20, 2.35],\n",
    "    instrument_labels=[\"irs1\", \"irs2\", \"irs3\"],\n",
    "    pre_solvers=[turn_solver],\n",
    ")"
   ]
  },
  {
   "cell_type": "code",
   "execution_count": null,
   "id": "bc0747db-7e19-4391-bc91-905cb2f9f5e6",
   "metadata": {},
   "outputs": [],
   "source": [
    "compositecurve.plot(\"1d\", comparators=[cubiccurve])"
   ]
  },
  {
   "cell_type": "code",
   "execution_count": null,
   "id": "6eb719f4-c3f3-4c12-9665-eba2e61546dc",
   "metadata": {},
   "outputs": [],
   "source": [
    "irs = IRS(dt(2022, 12, 31), dt(2023, 1, 1), \"A\", notional=1e9)\n",
    "irs.delta(curves=compositecurve, solver=solver)"
   ]
  },
  {
   "cell_type": "code",
   "execution_count": null,
   "id": "692c5fe0-1f2e-49e7-a07a-286a8b3e1f25",
   "metadata": {},
   "outputs": [],
   "source": [
    "turn_curve = Curve({\n",
    "    dt(2022, 12, 1): 1.0,\n",
    "    dt(2022, 12, 31): 1.0,\n",
    "    dt(2023, 1, 1): 1.0,\n",
    "    dt(2023, 2, 1): 1.0,\n",
    "}, \"log_linear\")\n",
    "cubic_curve = Curve({\n",
    "    dt(2022, 12, 1): 1.0,\n",
    "    dt(2022, 12, 21): 1.0,\n",
    "    dt(2023, 1, 11): 1.0,\n",
    "    dt(2023, 2, 1): 1.0,\n",
    "}, t = [\n",
    "    dt(2022, 12, 1), dt(2022, 12, 1), dt(2022, 12, 1), dt(2022, 12, 1),\n",
    "    dt(2022, 12, 21),\n",
    "    dt(2023, 1, 11),\n",
    "    dt(2023, 2, 1), dt(2023, 2, 1), dt(2023, 2, 1), dt(2023, 2, 1),\n",
    "])\n",
    "composite_curve = CompositeCurve([turn_curve, cubic_curve])\n",
    "instruments = [\n",
    "    IRS(dt(2022, 12, 1), \"1d\", \"A\", curves=turn_curve),\n",
    "    Spread(\n",
    "        IRS(dt(2022, 12, 30), \"1d\", \"A\", curves=turn_curve),\n",
    "        IRS(dt(2022, 12, 31), \"1d\", \"A\", curves=turn_curve),\n",
    "    ),\n",
    "    IRS(dt(2023, 1, 1), \"1d\", \"A\", curves=turn_curve),\n",
    "    IRS(dt(2022, 12, 1), \"20d\", \"A\", curves=composite_curve),\n",
    "    IRS(dt(2022, 12, 21), \"20d\", \"A\", curves=composite_curve),\n",
    "    IRS(dt(2023, 1, 11), \"20d\", \"A\", curves=composite_curve),\n",
    "]\n",
    "solver = Solver(\n",
    "    curves=[turn_curve, cubic_curve, composite_curve], \n",
    "    instruments=instruments, \n",
    "    s=[0.0, -0.5, 0.0, 2.01, 2.175, 2.35],\n",
    "    instrument_labels=[\"zero1\", \"turn\", \"zero2\", \"irs1\", \"irs2\", \"irs3\"],\n",
    ")"
   ]
  },
  {
   "cell_type": "code",
   "execution_count": null,
   "id": "ebce89b2-81ce-4a89-b232-1bbdd0a1ddd8",
   "metadata": {},
   "outputs": [],
   "source": [
    "f, a, l = composite_curve.plot(\"1d\")"
   ]
  },
  {
   "cell_type": "code",
   "execution_count": null,
   "id": "971f598e-cddf-4d3c-819b-1006a54baa74",
   "metadata": {},
   "outputs": [],
   "source": []
  },
  {
   "cell_type": "code",
   "execution_count": null,
   "id": "a10e7164-a238-4b42-bd41-567a0a4ec577",
   "metadata": {},
   "outputs": [],
   "source": [
    "turn_curve = LineCurve({\n",
    "    dt(2022, 9, 15): 0.0,\n",
    "    dt(2022, 10, 1): 0.0,\n",
    "    dt(2023, 1, 1): 0.0,\n",
    "}, \"flat_forward\")\n",
    "line_curve = LineCurve({\n",
    "    dt(2022, 9, 15): 1.0,\n",
    "    dt(2022, 12, 15): 1.0,\n",
    "    dt(2023, 3, 15): 1.0,\n",
    "}, \"linear\")\n",
    "composite_curve=CompositeCurve([turn_curve, line_curve])\n",
    "instruments = [\n",
    "    Value(dt(2022, 9, 15), curves=turn_curve),\n",
    "    Value(dt(2022, 10, 1), curves=turn_curve),\n",
    "    Value(dt(2023, 1, 1), curves=turn_curve),\n",
    "    Value(dt(2022, 9, 15), curves=composite_curve),\n",
    "    Value(dt(2022, 12, 15), curves=composite_curve),\n",
    "    Value(dt(2023, 3, 15), curves=composite_curve),\n",
    "]\n",
    "solver = Solver(\n",
    "    curves=[turn_curve, line_curve, composite_curve], \n",
    "    instruments=instruments, \n",
    "    s=[0.0, -0.2, 0.0, 3.5, 3.7, 4.05],\n",
    "    instrument_labels=[\"zero1\", \"turn\", \"zero2\", \"fra1\", \"fra2\", \"fra3\"],\n",
    ")"
   ]
  },
  {
   "cell_type": "code",
   "execution_count": null,
   "id": "67ac3037-0b40-4341-b39e-b8d1401c685d",
   "metadata": {},
   "outputs": [],
   "source": [
    "composite_curve.plot(\"3m\", right=dt(2023, 3, 15))"
   ]
  },
  {
   "cell_type": "code",
   "execution_count": null,
   "id": "a0a57043-a930-4d9b-af8c-cff41ec4a820",
   "metadata": {},
   "outputs": [],
   "source": [
    "turn_curve = LineCurve({\n",
    "    dt(2022, 9, 15): 0.0,\n",
    "    dt(2022, 9, 30): 0.0,\n",
    "    dt(2022, 10, 1): 0.0,\n",
    "    dt(2022, 12, 31): 0.0,\n",
    "    dt(2023, 1, 1): 0.0,\n",
    "    dt(2023, 3, 15): 0.0,\n",
    "}, \"linear\")\n",
    "line_curve = LineCurve({\n",
    "    dt(2022, 9, 15): 1.0,\n",
    "    dt(2022, 12, 15): 1.0,\n",
    "    dt(2023, 3, 15): 1.0,\n",
    "}, \"linear\")\n",
    "composite_curve=CompositeCurve([turn_curve, line_curve])\n",
    "instruments = [\n",
    "    Value(dt(2022, 9, 15), curves=turn_curve),\n",
    "    Value(dt(2022, 9, 30), curves=turn_curve),\n",
    "    Value(dt(2022, 10, 1), curves=turn_curve),\n",
    "    Value(dt(2022, 12, 31), curves=turn_curve),\n",
    "    Value(dt(2023, 1, 1), curves=turn_curve),\n",
    "    Value(dt(2023, 3, 15), curves=turn_curve),\n",
    "    Value(dt(2022, 9, 15), curves=composite_curve),\n",
    "    Value(dt(2022, 12, 15), curves=composite_curve),\n",
    "    Value(dt(2023, 3, 15), curves=composite_curve),\n",
    "]\n",
    "solver = Solver(\n",
    "    curves=[turn_curve, line_curve, composite_curve], \n",
    "    instruments=instruments, \n",
    "    s=[0.0, 0.0, -0.2, -0.04, 0.0, 0.0, 3.5, 3.7, 4.05],\n",
    "    instrument_labels=[\"zero1\", \"zero2\", \"turnA\", \"turnB\", \"zero3\", \"zero4\", \"fra1\", \"fra2\", \"fra3\"],\n",
    ")"
   ]
  },
  {
   "cell_type": "code",
   "execution_count": null,
   "id": "bd9bf75b-5323-4a04-90ab-c330f3f3a004",
   "metadata": {},
   "outputs": [],
   "source": [
    "composite_curve.plot(\"3m\", right=dt(2023, 3, 15))"
   ]
  },
  {
   "cell_type": "code",
   "execution_count": 3,
   "id": "7c491c5e-6813-4882-acdb-651f9493be65",
   "metadata": {},
   "outputs": [],
   "source": [
    "zfl = ZeroFixedLeg(\n",
    "    dt(2022, 1, 1), \"30y\", \"A\", calendar=\"ldn\", fixed_rate=2.5, notional=100e6, convention=\"1+\",\n",
    ")"
   ]
  },
  {
   "cell_type": "code",
   "execution_count": 4,
   "id": "3d1caa11-e711-41d0-b76c-d00074b381a4",
   "metadata": {},
   "outputs": [
    {
     "data": {
      "text/html": [
       "<div>\n",
       "<style scoped>\n",
       "    .dataframe tbody tr th:only-of-type {\n",
       "        vertical-align: middle;\n",
       "    }\n",
       "\n",
       "    .dataframe tbody tr th {\n",
       "        vertical-align: top;\n",
       "    }\n",
       "\n",
       "    .dataframe thead th {\n",
       "        text-align: right;\n",
       "    }\n",
       "</style>\n",
       "<table border=\"1\" class=\"dataframe\">\n",
       "  <thead>\n",
       "    <tr style=\"text-align: right;\">\n",
       "      <th></th>\n",
       "      <th>Type</th>\n",
       "      <th>Period</th>\n",
       "      <th>Ccy</th>\n",
       "      <th>Acc Start</th>\n",
       "      <th>Acc End</th>\n",
       "      <th>Payment</th>\n",
       "      <th>Convention</th>\n",
       "      <th>DCF</th>\n",
       "      <th>Notional</th>\n",
       "      <th>DF</th>\n",
       "      <th>Rate</th>\n",
       "      <th>Spread</th>\n",
       "      <th>Cashflow</th>\n",
       "      <th>NPV</th>\n",
       "      <th>FX Rate</th>\n",
       "      <th>NPV Ccy</th>\n",
       "    </tr>\n",
       "  </thead>\n",
       "  <tbody>\n",
       "    <tr>\n",
       "      <th>0</th>\n",
       "      <td>ZeroFixedLeg</td>\n",
       "      <td>None</td>\n",
       "      <td>USD</td>\n",
       "      <td>2022-01-01</td>\n",
       "      <td>2052-01-01</td>\n",
       "      <td>2052-01-04</td>\n",
       "      <td>1+</td>\n",
       "      <td>30.0</td>\n",
       "      <td>100000000.0</td>\n",
       "      <td>None</td>\n",
       "      <td>2.5</td>\n",
       "      <td>None</td>\n",
       "      <td>-1.097568e+08</td>\n",
       "      <td>None</td>\n",
       "      <td>1.0</td>\n",
       "      <td>None</td>\n",
       "    </tr>\n",
       "  </tbody>\n",
       "</table>\n",
       "</div>"
      ],
      "text/plain": [
       "           Type Period  Ccy  Acc Start    Acc End    Payment Convention   DCF  \\\n",
       "0  ZeroFixedLeg   None  USD 2022-01-01 2052-01-01 2052-01-04         1+  30.0   \n",
       "\n",
       "      Notional    DF  Rate Spread      Cashflow   NPV  FX Rate NPV Ccy  \n",
       "0  100000000.0  None   2.5   None -1.097568e+08  None      1.0    None  "
      ]
     },
     "execution_count": 4,
     "metadata": {},
     "output_type": "execute_result"
    }
   ],
   "source": [
    "zfl.cashflows()"
   ]
  },
  {
   "cell_type": "code",
   "execution_count": 5,
   "id": "a3a4fb74-d1a7-47ea-99da-7054c914913f",
   "metadata": {},
   "outputs": [
    {
     "data": {
      "text/plain": [
       "3.658558596939286"
      ]
     },
     "execution_count": 5,
     "metadata": {},
     "output_type": "execute_result"
    }
   ],
   "source": [
    "zfl.periods[0].fixed_rate"
   ]
  },
  {
   "cell_type": "code",
   "execution_count": 6,
   "id": "2522c9c7-8e69-4741-b41a-e2e10d776f27",
   "metadata": {},
   "outputs": [
    {
     "data": {
      "text/plain": [
       "{'Type': 'FixedPeriod',\n",
       " 'Period': 'Regular',\n",
       " 'Ccy': 'USD',\n",
       " 'Acc Start': datetime.datetime(2022, 1, 1, 0, 0),\n",
       " 'Acc End': datetime.datetime(2052, 1, 1, 0, 0),\n",
       " 'Payment': datetime.datetime(2052, 1, 4, 0, 0),\n",
       " 'Convention': '1+',\n",
       " 'DCF': 30.0,\n",
       " 'Notional': 100000000.0,\n",
       " 'DF': None,\n",
       " 'Rate': 3.658558596939286,\n",
       " 'Spread': None,\n",
       " 'Cashflow': -109756757.90817858,\n",
       " 'NPV': None,\n",
       " 'FX Rate': 1.0,\n",
       " 'NPV Ccy': None}"
      ]
     },
     "execution_count": 6,
     "metadata": {},
     "output_type": "execute_result"
    }
   ],
   "source": [
    "zfl.periods[0].cashflows()"
   ]
  },
  {
   "cell_type": "code",
   "execution_count": null,
   "id": "b9568e2d-0edd-4fd5-8c02-5302f9488846",
   "metadata": {},
   "outputs": [],
   "source": []
  }
 ],
 "metadata": {
  "kernelspec": {
   "display_name": "Python 3 (ipykernel)",
   "language": "python",
   "name": "python3"
  },
  "language_info": {
   "codemirror_mode": {
    "name": "ipython",
    "version": 3
   },
   "file_extension": ".py",
   "mimetype": "text/x-python",
   "name": "python",
   "nbconvert_exporter": "python",
   "pygments_lexer": "ipython3",
   "version": "3.11.1"
  }
 },
 "nbformat": 4,
 "nbformat_minor": 5
}
