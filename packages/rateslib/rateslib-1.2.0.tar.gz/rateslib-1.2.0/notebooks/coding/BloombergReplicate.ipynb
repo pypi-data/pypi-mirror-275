{
 "cells": [
  {
   "cell_type": "code",
   "execution_count": 1,
   "id": "81195b0b-5b06-4a1c-986a-5536a5bb75ad",
   "metadata": {},
   "outputs": [],
   "source": [
    "import context\n",
    "\n",
    "from rateslib.fx import FXRates, FXForwards\n",
    "from rateslib.dual import Dual\n",
    "from rateslib.curves import Curve, LineCurve\n",
    "from rateslib.instruments import FRA, IRS, SBS, Spread\n",
    "from rateslib.solver import Solver\n",
    "from rateslib.calendars import add_tenor\n",
    "from datetime import datetime as dt\n",
    "import pandas as pd"
   ]
  },
  {
   "cell_type": "code",
   "execution_count": 17,
   "id": "e36edd48",
   "metadata": {},
   "outputs": [
    {
     "data": {
      "text/plain": [
       "[datetime.datetime(2023, 8, 29, 0, 0),\n",
       " datetime.datetime(2023, 9, 6, 0, 0),\n",
       " datetime.datetime(2023, 9, 12, 0, 0),\n",
       " datetime.datetime(2023, 9, 20, 0, 0),\n",
       " datetime.datetime(2023, 10, 20, 0, 0),\n",
       " datetime.datetime(2023, 11, 22, 0, 0),\n",
       " datetime.datetime(2023, 12, 20, 0, 0),\n",
       " datetime.datetime(2024, 1, 22, 0, 0),\n",
       " datetime.datetime(2024, 2, 22, 0, 0),\n",
       " datetime.datetime(2024, 3, 20, 0, 0),\n",
       " datetime.datetime(2024, 4, 22, 0, 0),\n",
       " datetime.datetime(2024, 5, 22, 0, 0),\n",
       " datetime.datetime(2024, 6, 21, 0, 0),\n",
       " datetime.datetime(2024, 7, 22, 0, 0),\n",
       " datetime.datetime(2024, 8, 21, 0, 0),\n",
       " datetime.datetime(2025, 2, 20, 0, 0),\n",
       " datetime.datetime(2025, 8, 20, 0, 0),\n",
       " datetime.datetime(2026, 8, 20, 0, 0),\n",
       " datetime.datetime(2027, 8, 20, 0, 0)]"
      ]
     },
     "execution_count": 17,
     "metadata": {},
     "output_type": "execute_result"
    }
   ],
   "source": [
    "tenors = [\"1w\", \"2w\", \"3w\", \"1m\", \"2m\", \"3m\", \"4m\", \"5m\", \"6m\", \"7m\", \"8m\", \"9m\", \"10m\", \"11m\", \"12m\", \"18m\", \"2Y\", \"3Y\", \"4Y\"]\n",
    "dates = [add_tenor(dt(2023, 8, 18), _, \"F\", \"nyc\") for _ in tenors]\n",
    "dates_p = [add_tenor(_, \"2b\", None, \"nyc\") for _ in dates]\n",
    "dates_p"
   ]
  },
  {
   "cell_type": "code",
   "execution_count": 21,
   "id": "d49eba75",
   "metadata": {},
   "outputs": [],
   "source": [
    "sofr = dict(\n",
    "    calendar=\"nyc\",\n",
    "    effective=dt(2023, 8, 18),\n",
    "    frequency=\"A\",\n",
    "    curves=\"sofr\"\n",
    ")\n",
    "instruments = [\n",
    "    IRS(**sofr, termination=_) for _ in dates\n",
    "]\n",
    "curve = Curve({**{dt(2023, 8, 16): 1.0}, **{_ : 1.0 for _ in dates}}, calendar=\"nyc\", id=\"sofr\", interpolation=\"log_linear\")"
   ]
  },
  {
   "cell_type": "code",
   "execution_count": 22,
   "id": "8850b0a4",
   "metadata": {},
   "outputs": [
    {
     "name": "stdout",
     "output_type": "stream",
     "text": [
      "SUCCESS: `func_tol` reached after 3 iterations (gauss_newton) , `f_val`: 3.81264830418605e-13, `time`: 0.0630s\n"
     ]
    }
   ],
   "source": [
    "solver = Solver(curves=[curve], instruments=instruments, s=[\n",
    "    5.30190,\n",
    "    5.30470,\n",
    "    5.30732,\n",
    "    5.31038,\n",
    "    5.33912,\n",
    "    5.37200,\n",
    "    5.40000,\n",
    "    5.41712,\n",
    "    5.42800,\n",
    "    5.43218,\n",
    "    5.42928,\n",
    "    5.41930,\n",
    "    5.40600,\n",
    "    5.38300,\n",
    "    5.35550,\n",
    "    5.04775,\n",
    "    4.79988,\n",
    "    4.44106,\n",
    "    4.22650,\n",
    "])"
   ]
  },
  {
   "cell_type": "code",
   "execution_count": 23,
   "id": "70c45a70",
   "metadata": {},
   "outputs": [
    {
     "data": {
      "text/plain": [
       "(<Figure size 432x288 with 1 Axes>,\n",
       " <AxesSubplot:>,\n",
       " [<matplotlib.lines.Line2D at 0x216d0ca3700>])"
      ]
     },
     "execution_count": 23,
     "metadata": {},
     "output_type": "execute_result"
    },
    {
     "data": {
      "image/png": "[encoded data removed]",
      "text/plain": [
       "<Figure size 432x288 with 1 Axes>"
      ]
     },
     "metadata": {
      "needs_background": "light"
     },
     "output_type": "display_data"
    }
   ],
   "source": [
    "curve.plot(\"1b\")"
   ]
  },
  {
   "cell_type": "code",
   "execution_count": 24,
   "id": "b6e3796c",
   "metadata": {},
   "outputs": [
    {
     "data": {
      "text/plain": [
       "{datetime.datetime(2023, 8, 16, 0, 0): <Dual: 1.000000, ('sofr0',), [1.]>,\n",
       " datetime.datetime(2023, 8, 25, 0, 0): <Dual: 0.998676, ('sofr1',), [1.]>,\n",
       " datetime.datetime(2023, 9, 1, 0, 0): <Dual: 0.997648, ('sofr2',), [1.]>,\n",
       " datetime.datetime(2023, 9, 8, 0, 0): <Dual: 0.996620, ('sofr3',), [1.]>,\n",
       " datetime.datetime(2023, 9, 18, 0, 0): <Dual: 0.995155, ('sofr4',), [1.]>,\n",
       " datetime.datetime(2023, 10, 18, 0, 0): <Dual: 0.990743, ('sofr5',), [1.]>,\n",
       " datetime.datetime(2023, 11, 20, 0, 0): <Dual: 0.985877, ('sofr6',), [1.]>,\n",
       " datetime.datetime(2023, 12, 18, 0, 0): <Dual: 0.981740, ('sofr7',), [1.]>,\n",
       " datetime.datetime(2024, 1, 18, 0, 0): <Dual: 0.977208, ('sofr8',), [1.]>,\n",
       " datetime.datetime(2024, 2, 20, 0, 0): <Dual: 0.972434, ('sofr9',), [1.]>,\n",
       " datetime.datetime(2024, 3, 18, 0, 0): <Dual: 0.968575, ('sofr10',), [1.]>,\n",
       " datetime.datetime(2024, 4, 18, 0, 0): <Dual: 0.964224, ('sofr11',), [1.]>,\n",
       " datetime.datetime(2024, 5, 20, 0, 0): <Dual: 0.959827, ('sofr12',), [1.]>,\n",
       " datetime.datetime(2024, 6, 18, 0, 0): <Dual: 0.955924, ('sofr13',), [1.]>,\n",
       " datetime.datetime(2024, 7, 18, 0, 0): <Dual: 0.952017, ('sofr14',), [1.]>,\n",
       " datetime.datetime(2024, 8, 19, 0, 0): <Dual: 0.947951, ('sofr15',), [1.]>,\n",
       " datetime.datetime(2025, 2, 18, 0, 0): <Dual: 0.927030, ('sofr16',), [1.]>,\n",
       " datetime.datetime(2025, 8, 18, 0, 0): <Dual: 0.909195, ('sofr17',), [1.]>,\n",
       " datetime.datetime(2026, 8, 18, 0, 0): <Dual: 0.876495, ('sofr18',), [1.]>,\n",
       " datetime.datetime(2027, 8, 18, 0, 0): <Dual: 0.846186, ('sofr19',), [1.]>}"
      ]
     },
     "execution_count": 24,
     "metadata": {},
     "output_type": "execute_result"
    }
   ],
   "source": [
    "curve.nodes"
   ]
  },
  {
   "cell_type": "code",
   "execution_count": 7,
   "id": "fce41f13",
   "metadata": {},
   "outputs": [
    {
     "data": {
      "text/plain": [
       "<Dual: 518,773.688581, ('sofr10', 'sofr15', 'sofr16', 'sofr17', 'sofr5', 'sofr6', 'sofr8', 'sofr9'), [-1.77480824e+02  0.00000000e+00  1.05431153e+08  6.33301873e+03\n",
       "  0.00000000e+00 -9.99705518e+07  0.00000000e+00  1.37178580e+06]>"
      ]
     },
     "execution_count": 7,
     "metadata": {},
     "output_type": "execute_result"
    }
   ],
   "source": [
    "irs = IRS(dt(2023, 11, 18), dt(2025, 2, 18), \"A\", calendar=\"nyc\", curves=\"sofr\", fixed_rate=5.40, notional=-100e6)\n",
    "irs.npv(solver=solver)"
   ]
  },
  {
   "cell_type": "code",
   "execution_count": 8,
   "id": "6a7343de",
   "metadata": {},
   "outputs": [
    {
     "data": {
      "text/plain": [
       "<Dual: 4.962426, ('sofr10', 'sofr15', 'sofr16', 'sofr17', 'sofr5', 'sofr6', 'sofr8', 'sofr9'), [ 7.16225261e-03  0.00000000e+00 -8.85598921e+01 -1.13818052e-03\n",
       "  0.00000000e+00  8.43229765e+01  0.00000000e+00 -1.06976230e+00]>"
      ]
     },
     "execution_count": 8,
     "metadata": {},
     "output_type": "execute_result"
    }
   ],
   "source": [
    "irs.rate(solver=solver)"
   ]
  },
  {
   "cell_type": "code",
   "execution_count": 9,
   "id": "b9a70d63",
   "metadata": {},
   "outputs": [
    {
     "data": {
      "text/plain": [
       "local_ccy  display_ccy\n",
       "usd        usd           -11845.085955\n",
       "dtype: float64"
      ]
     },
     "execution_count": 9,
     "metadata": {},
     "output_type": "execute_result"
    }
   ],
   "source": [
    "irs.delta(solver=solver).sum()"
   ]
  },
  {
   "cell_type": "code",
   "execution_count": 10,
   "id": "aff3855b",
   "metadata": {},
   "outputs": [
    {
     "data": {
      "text/plain": [
       "3.14953984444117"
      ]
     },
     "execution_count": 10,
     "metadata": {},
     "output_type": "execute_result"
    }
   ],
   "source": [
    "irs.gamma(solver=solver).sum().sum()"
   ]
  },
  {
   "cell_type": "code",
   "execution_count": 11,
   "id": "532bf0cb",
   "metadata": {},
   "outputs": [
    {
     "data": {
      "text/plain": [
       "<Dual: -11,855.671614, ('sofr10', 'sofr16', 'sofr17', 'sofr9'), [ -189.99861711 -9997.23990164  -113.89219131 -2365.55832552]>"
      ]
     },
     "execution_count": 11,
     "metadata": {},
     "output_type": "execute_result"
    }
   ],
   "source": [
    "irs.analytic_delta(curve)"
   ]
  },
  {
   "cell_type": "code",
   "execution_count": 12,
   "id": "de3a0d98",
   "metadata": {},
   "outputs": [
    {
     "data": {
      "text/html": [
       "<div>\n",
       "<style scoped>\n",
       "    .dataframe tbody tr th:only-of-type {\n",
       "        vertical-align: middle;\n",
       "    }\n",
       "\n",
       "    .dataframe tbody tr th {\n",
       "        vertical-align: top;\n",
       "    }\n",
       "\n",
       "    .dataframe thead th {\n",
       "        text-align: right;\n",
       "    }\n",
       "</style>\n",
       "<table border=\"1\" class=\"dataframe\">\n",
       "  <thead>\n",
       "    <tr style=\"text-align: right;\">\n",
       "      <th></th>\n",
       "      <th></th>\n",
       "      <th>Type</th>\n",
       "      <th>Period</th>\n",
       "      <th>Ccy</th>\n",
       "      <th>Acc Start</th>\n",
       "      <th>Acc End</th>\n",
       "      <th>Payment</th>\n",
       "      <th>Convention</th>\n",
       "      <th>DCF</th>\n",
       "      <th>Notional</th>\n",
       "      <th>DF</th>\n",
       "      <th>Collateral</th>\n",
       "      <th>Rate</th>\n",
       "      <th>Spread</th>\n",
       "      <th>Cashflow</th>\n",
       "      <th>NPV</th>\n",
       "      <th>FX Rate</th>\n",
       "      <th>NPV Ccy</th>\n",
       "    </tr>\n",
       "  </thead>\n",
       "  <tbody>\n",
       "    <tr>\n",
       "      <th rowspan=\"2\" valign=\"top\">leg1</th>\n",
       "      <th>0</th>\n",
       "      <td>FixedPeriod</td>\n",
       "      <td>Stub</td>\n",
       "      <td>USD</td>\n",
       "      <td>2023-11-20</td>\n",
       "      <td>2024-02-20</td>\n",
       "      <td>2024-02-22</td>\n",
       "      <td>ACT360</td>\n",
       "      <td>0.255556</td>\n",
       "      <td>-100000000.0</td>\n",
       "      <td>0.972148</td>\n",
       "      <td>None</td>\n",
       "      <td>5.400000</td>\n",
       "      <td>None</td>\n",
       "      <td>1.380000e+06</td>\n",
       "      <td>1.341564e+06</td>\n",
       "      <td>1.0</td>\n",
       "      <td>1.341564e+06</td>\n",
       "    </tr>\n",
       "    <tr>\n",
       "      <th>1</th>\n",
       "      <td>FixedPeriod</td>\n",
       "      <td>Regular</td>\n",
       "      <td>USD</td>\n",
       "      <td>2024-02-20</td>\n",
       "      <td>2025-02-18</td>\n",
       "      <td>2025-02-20</td>\n",
       "      <td>ACT360</td>\n",
       "      <td>1.011111</td>\n",
       "      <td>-100000000.0</td>\n",
       "      <td>0.926831</td>\n",
       "      <td>None</td>\n",
       "      <td>5.400000</td>\n",
       "      <td>None</td>\n",
       "      <td>5.460000e+06</td>\n",
       "      <td>5.060499e+06</td>\n",
       "      <td>1.0</td>\n",
       "      <td>5.060499e+06</td>\n",
       "    </tr>\n",
       "    <tr>\n",
       "      <th rowspan=\"2\" valign=\"top\">leg2</th>\n",
       "      <th>0</th>\n",
       "      <td>FloatPeriod</td>\n",
       "      <td>Stub</td>\n",
       "      <td>USD</td>\n",
       "      <td>2023-11-20</td>\n",
       "      <td>2024-02-20</td>\n",
       "      <td>2024-02-22</td>\n",
       "      <td>ACT360</td>\n",
       "      <td>0.255556</td>\n",
       "      <td>100000000.0</td>\n",
       "      <td>0.972148</td>\n",
       "      <td>None</td>\n",
       "      <td>5.409341</td>\n",
       "      <td>0.0</td>\n",
       "      <td>-1.382387e+06</td>\n",
       "      <td>-1.343885e+06</td>\n",
       "      <td>1.0</td>\n",
       "      <td>-1.343885e+06</td>\n",
       "    </tr>\n",
       "    <tr>\n",
       "      <th>1</th>\n",
       "      <td>FloatPeriod</td>\n",
       "      <td>Regular</td>\n",
       "      <td>USD</td>\n",
       "      <td>2024-02-20</td>\n",
       "      <td>2025-02-18</td>\n",
       "      <td>2025-02-20</td>\n",
       "      <td>ACT360</td>\n",
       "      <td>1.011111</td>\n",
       "      <td>100000000.0</td>\n",
       "      <td>0.926831</td>\n",
       "      <td>None</td>\n",
       "      <td>4.843946</td>\n",
       "      <td>0.0</td>\n",
       "      <td>-4.897768e+06</td>\n",
       "      <td>-4.539404e+06</td>\n",
       "      <td>1.0</td>\n",
       "      <td>-4.539404e+06</td>\n",
       "    </tr>\n",
       "  </tbody>\n",
       "</table>\n",
       "</div>"
      ],
      "text/plain": [
       "               Type   Period  Ccy  Acc Start    Acc End    Payment Convention  \\\n",
       "leg1 0  FixedPeriod     Stub  USD 2023-11-20 2024-02-20 2024-02-22     ACT360   \n",
       "     1  FixedPeriod  Regular  USD 2024-02-20 2025-02-18 2025-02-20     ACT360   \n",
       "leg2 0  FloatPeriod     Stub  USD 2023-11-20 2024-02-20 2024-02-22     ACT360   \n",
       "     1  FloatPeriod  Regular  USD 2024-02-20 2025-02-18 2025-02-20     ACT360   \n",
       "\n",
       "             DCF     Notional        DF Collateral      Rate Spread  \\\n",
       "leg1 0  0.255556 -100000000.0  0.972148       None  5.400000   None   \n",
       "     1  1.011111 -100000000.0  0.926831       None  5.400000   None   \n",
       "leg2 0  0.255556  100000000.0  0.972148       None  5.409341    0.0   \n",
       "     1  1.011111  100000000.0  0.926831       None  4.843946    0.0   \n",
       "\n",
       "            Cashflow           NPV  FX Rate       NPV Ccy  \n",
       "leg1 0  1.380000e+06  1.341564e+06      1.0  1.341564e+06  \n",
       "     1  5.460000e+06  5.060499e+06      1.0  5.060499e+06  \n",
       "leg2 0 -1.382387e+06 -1.343885e+06      1.0 -1.343885e+06  \n",
       "     1 -4.897768e+06 -4.539404e+06      1.0 -4.539404e+06  "
      ]
     },
     "execution_count": 12,
     "metadata": {},
     "output_type": "execute_result"
    }
   ],
   "source": [
    "irs.cashflows(solver=solver)"
   ]
  },
  {
   "cell_type": "code",
   "execution_count": 16,
   "id": "70f8a9dc",
   "metadata": {},
   "outputs": [
    {
     "data": {
      "text/plain": [
       "freq: S,  stub: SHORTFRONT,  roll: eom,  pay lag: 2,  modifier: MF\n",
       "    Period Unadj Acc Start Unadj Acc End  Acc Start    Acc End    Payment\n",
       "0  Regular      2033-02-28    2033-08-31 2033-02-28 2033-08-31 2033-09-02\n",
       "1  Regular      2033-08-31    2034-02-28 2033-08-31 2034-02-28 2034-03-02"
      ]
     },
     "execution_count": 16,
     "metadata": {},
     "output_type": "execute_result"
    }
   ],
   "source": [
    "from rateslib.scheduling import Schedule\n",
    "sch = Schedule(\n",
    "    effective=\"9Y\",\n",
    "    termination=\"1Y\",\n",
    "    frequency=\"s\",\n",
    "    eom=True,\n",
    "    eval_date=dt(2024, 2, 26),\n",
    "    eval_mode=\"swaptions_align\",\n",
    "    calendar=\"bus\"\n",
    ")\n",
    "sch"
   ]
  },
  {
   "cell_type": "code",
   "execution_count": null,
   "id": "fa05cb4d",
   "metadata": {},
   "outputs": [],
   "source": []
  }
 ],
 "metadata": {
  "kernelspec": {
   "display_name": "Python 3 (ipykernel)",
   "language": "python",
   "name": "python3"
  },
  "language_info": {
   "codemirror_mode": {
    "name": "ipython",
    "version": 3
   },
   "file_extension": ".py",
   "mimetype": "text/x-python",
   "name": "python",
   "nbconvert_exporter": "python",
   "pygments_lexer": "ipython3",
   "version": "3.11.4"
  }
 },
 "nbformat": 4,
 "nbformat_minor": 5
}
