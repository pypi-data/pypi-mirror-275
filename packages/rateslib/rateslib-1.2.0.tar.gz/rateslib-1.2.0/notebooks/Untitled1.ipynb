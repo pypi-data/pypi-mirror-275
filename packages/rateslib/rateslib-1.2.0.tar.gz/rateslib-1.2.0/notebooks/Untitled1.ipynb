{
 "cells": [
  {
   "cell_type": "code",
   "execution_count": 1,
   "id": "967f8996-a18b-4136-85e1-ba1de6a72200",
   "metadata": {},
   "outputs": [],
   "source": [
    "import context\n",
    "from rateslib import *\n",
    "from rateslib.fx_volatility import FXDeltaVolSmile"
   ]
  },
  {
   "cell_type": "code",
   "execution_count": null,
   "id": "302970fa-b389-4a15-9cbc-18075f3dc4d2",
   "metadata": {},
   "outputs": [],
   "source": [
    "eureur = Curve(\n",
    "    {dt(2023, 3, 16): 1.0, dt(2023, 9, 16): 0.9851909811629752}, calendar=\"tgt\", id=\"eureur\"\n",
    ")\n",
    "usdusd = Curve(\n",
    "    {dt(2023, 3, 16): 1.0, dt(2023, 9, 16): 0.976009366603271}, calendar=\"nyc\", id=\"usdusd\"\n",
    ")\n",
    "eurusd = Curve(\n",
    "    {dt(2023, 3, 16): 1.0, dt(2023, 9, 16): 0.987092591908283}, id=\"eurusd\"\n",
    ")\n",
    "fxr = FXRates({\"eurusd\": 1.0615}, settlement=dt(2023, 3, 20))\n",
    "fxf = FXForwards(\n",
    "    fx_curves={\"eureur\": eureur, \"eurusd\": eurusd, \"usdusd\": usdusd},\n",
    "    fx_rates=fxr\n",
    ")"
   ]
  },
  {
   "cell_type": "code",
   "execution_count": null,
   "id": "904cbc48-56b3-4b0d-ad01-d1b7fd8863f7",
   "metadata": {},
   "outputs": [],
   "source": [
    "fxvs = FXDeltaVolSmile(\n",
    "    nodes={0.25: 8.9, 0.5: 7.9, 0.75: 10.15},\n",
    "    eval_date=dt(2023, 3, 16),\n",
    "    expiry=dt(2023, 6, 16),\n",
    "    delta_type=\"forward\",\n",
    "    id=\"fxvs\",\n",
    ")"
   ]
  },
  {
   "cell_type": "code",
   "execution_count": null,
   "id": "27552002-ddeb-46a9-8011-c6cc907ee8a7",
   "metadata": {},
   "outputs": [],
   "source": [
    "fxc = FXCall(\n",
    "    pair=\"eurusd\",\n",
    "    expiry=dt(2023, 6, 16),\n",
    "    notional=20e6,\n",
    "    strike=1.101,\n",
    "    payment_lag=dt(2023, 3, 20),\n",
    "    delivery_lag=2,\n",
    "    calendar=\"tgt\",\n",
    "    modifier=\"mf\",\n",
    "    premium_ccy=\"usd\",\n",
    "    eval_date=NoInput(0),\n",
    "    option_fixing=NoInput(0),\n",
    "    premium=NoInput(0),\n",
    "    delta_type=\"forward\",\n",
    "    curves=[None, fxf.curve(\"eur\", \"usd\"), None, fxf.curve(\"usd\",\"usd\")],\n",
    "    spec=NoInput(0),\n",
    ")"
   ]
  },
  {
   "cell_type": "code",
   "execution_count": null,
   "id": "02bc7e71-ac12-4a3a-a2f0-0136776b828c",
   "metadata": {},
   "outputs": [],
   "source": [
    "fxc2 = FXCall(\n",
    "    pair=\"eurusd\",\n",
    "    expiry=dt(2023, 6, 16),\n",
    "    notional=20e6,\n",
    "    strike=1.101,\n",
    "    payment_lag=dt(2023, 3, 20),\n",
    "    delivery_lag=2,\n",
    "    calendar=\"tgt\",\n",
    "    modifier=\"mf\",\n",
    "    premium_ccy=\"usd\",\n",
    "    eval_date=NoInput(0),\n",
    "    option_fixing=NoInput(0),\n",
    "    premium=float(fxc.rate(vol=8.9, fx=fxf)*20e6/10e3),\n",
    "    delta_type=\"forward\",\n",
    "    curves=[None, fxf.curve(\"eur\", \"usd\"), None, fxf.curve(\"usd\",\"usd\")],\n",
    "    spec=NoInput(0),\n",
    ")"
   ]
  },
  {
   "cell_type": "code",
   "execution_count": null,
   "id": "431730e5-c92c-4417-a104-5009e4e32bfd",
   "metadata": {},
   "outputs": [],
   "source": [
    "g0 = fxc2.analytic_greeks(vol=8.9, fx=fxf)\n",
    "g0"
   ]
  },
  {
   "cell_type": "code",
   "execution_count": null,
   "id": "b1e31205-0bac-488f-8535-6d63ea54dcc5",
   "metadata": {},
   "outputs": [],
   "source": []
  },
  {
   "cell_type": "code",
   "execution_count": null,
   "id": "0a99672a-6558-4edb-9123-fe45dcf6ce01",
   "metadata": {},
   "outputs": [],
   "source": []
  },
  {
   "cell_type": "markdown",
   "id": "86e7546b-5088-491b-9866-78dbb40f2848",
   "metadata": {},
   "source": [
    "# Wyestrup"
   ]
  },
  {
   "cell_type": "code",
   "execution_count": null,
   "id": "677cf9af-966f-48c5-a5ba-e5921e4332da",
   "metadata": {},
   "outputs": [],
   "source": [
    "fxr = FXRates({\"eurusd\": 1.3088, \"usdjpy\": 90.68}, settlement=dt(2009, 1, 22))\n",
    "eureur = Curve(id=\"eur\", nodes={dt(2009, 1, 20): 1.0, dt(2009, 2, 25): 1.0})\n",
    "usdusd = Curve(id=\"usd\", nodes={dt(2009, 1, 20): 1.0, dt(2009, 2, 25): 1.0})\n",
    "jpyjpy = Curve(id=\"jpy\", nodes={dt(2009, 1, 20): 1.0, dt(2009, 2, 25): 1.0})\n",
    "fxf = FXForwards(\n",
    "    fx_rates=fxr,\n",
    "    fx_curves={\n",
    "        \"eureur\": eureur, \"eurusd\": eureur,\n",
    "        \"usdusd\": usdusd,\n",
    "        \"jpyjpy\": jpyjpy, \"jpyusd\": jpyjpy,\n",
    "    }\n",
    ")\n",
    "solver = Solver(\n",
    "    id=\"rates\",\n",
    "    curves=[eureur, usdusd, jpyjpy],\n",
    "    instruments=[\n",
    "        IRS(dt(2009, 1, 22), \"1M\", spec=\"eur_irs\", curves=eureur),\n",
    "        IRS(dt(2009, 1, 22), \"1M\", spec=\"usd_irs\", curves=usdusd),\n",
    "        IRS(dt(2009, 1, 22), \"1M\", spec=\"usd_irs\", curves=jpyjpy),\n",
    "    ],\n",
    "    s=[2.0113, 0.3525, 0.42875],\n",
    "    instrument_labels=[\"eur_1m\", \"usd_1m\", \"jpy_1m\"],\n",
    "    fx=fxf,\n",
    ")"
   ]
  },
  {
   "cell_type": "code",
   "execution_count": null,
   "id": "9022f73f-5540-4f21-a42a-b4f517e18ed3",
   "metadata": {},
   "outputs": [],
   "source": [
    "dvs = FXDeltaVolSmile(\n",
    "    id=\"smile\",\n",
    "    nodes={0.25: 10.0, 0.50: 10.0, 0.75: 10.0},\n",
    "    eval_date=dt(2009, 1, 20),\n",
    "    expiry=dt(2009, 2, 20),\n",
    "    delta_type=\"spot\",\n",
    ")\n",
    "curves = [None, \"eur\", None, \"usd\"]\n",
    "args = {\n",
    "    \"expiry\": dt(2009, 2, 20), \n",
    "    \"pair\": \"eurusd\", \n",
    "    \"curves\": curves, \n",
    "    \"delta_type\": \"spot\",\n",
    "    \"vol\": \"smile\"\n",
    "} \n",
    "solver2 = Solver(\n",
    "    id=\"vol_smile\",\n",
    "    pre_solvers=[solver],\n",
    "    curves=[dvs],\n",
    "    instruments=[\n",
    "        FXStraddle(strike=\"atm_delta\", **args),\n",
    "        FXRiskReversal(strike=[\"-25d\", \"25d\"], **args),\n",
    "        FXBrokerFly(strike=[\"-25d\", \"atm_delta\", \"25d\"], **args),\n",
    "    ],\n",
    "    instrument_labels=[\"atm\", \"25rr\", \"25fly\"],\n",
    "    s=[21.6215, -0.5, 0.7375],\n",
    "    fx=fxf,\n",
    ")"
   ]
  },
  {
   "cell_type": "code",
   "execution_count": null,
   "id": "4e6ede62-8cd7-476b-ad49-ff5cf8c7879e",
   "metadata": {},
   "outputs": [],
   "source": [
    "dvs.plot()"
   ]
  },
  {
   "cell_type": "code",
   "execution_count": null,
   "id": "965103aa-a035-474c-a996-25cd5529cf36",
   "metadata": {},
   "outputs": [],
   "source": [
    "fxc = FXCall(strike=1.36, **args, notional=100e6, premium=139.262198*100e6/10e3, premium_ccy=\"usd\")\n",
    "fxc.rate(solver=solver2, metric=\"pips_or_%\")"
   ]
  },
  {
   "cell_type": "code",
   "execution_count": null,
   "id": "3370cadf-c28d-4a55-9303-9d180dd74d05",
   "metadata": {},
   "outputs": [],
   "source": [
    "fxc.npv(solver=solver2)"
   ]
  },
  {
   "cell_type": "code",
   "execution_count": null,
   "id": "501843e3-ce24-4da2-9f1a-5f642306f7b7",
   "metadata": {},
   "outputs": [],
   "source": [
    "fxc.delta(solver=solver2)"
   ]
  },
  {
   "cell_type": "code",
   "execution_count": null,
   "id": "f4c05970-7af4-494a-9ed3-1f72456ef4b0",
   "metadata": {},
   "outputs": [],
   "source": [
    "fxc.gamma(solver=solver2)"
   ]
  },
  {
   "cell_type": "code",
   "execution_count": null,
   "id": "8389c0cc-7ac8-4203-89e6-2b5283cc9789",
   "metadata": {},
   "outputs": [],
   "source": [
    "fxc.analytic_greeks(solver=solver2)"
   ]
  },
  {
   "cell_type": "code",
   "execution_count": null,
   "id": "9927bbb5-925a-4fb1-bbe3-0a1ae99e324e",
   "metadata": {},
   "outputs": [],
   "source": []
  },
  {
   "cell_type": "code",
   "execution_count": null,
   "id": "c959774f-af0b-48ad-bdf3-e2e761005e68",
   "metadata": {},
   "outputs": [],
   "source": [
    "dvs.plot()"
   ]
  },
  {
   "cell_type": "code",
   "execution_count": null,
   "id": "9d2a26e3-504b-4bf0-86c7-ba55cfe844c3",
   "metadata": {},
   "outputs": [],
   "source": [
    "dvs2 = FXDeltaVolSmile(\n",
    "    id=\"smile2\",\n",
    "    nodes={0.25: 1.0, 0.50: 1.0, 0.75: 1.0},\n",
    "    eval_date=dt(2009, 1, 20),\n",
    "    expiry=dt(2009, 2, 20),\n",
    "    delta_type=\"forward\",\n",
    ")\n",
    "args = {\n",
    "    \"expiry\": dt(2009, 2, 20), \n",
    "    \"pair\": \"eurusd\", \n",
    "    \"curves\": [None, \"eur\", None, \"usd\"], \n",
    "    \"delta_type\": \"spot\",\n",
    "    \"vol\": \"smile2\",\n",
    "    \"premium_ccy\": \"eur\",\n",
    "} \n",
    "solver2 = Solver(\n",
    "    id=\"vol_smile\",\n",
    "    pre_solvers=[solver],\n",
    "    curves=[dvs2],\n",
    "    instruments=[\n",
    "        FXStraddle(strike=\"atm_delta\", **args),\n",
    "        FXRiskReversal(strike=[\"-25d\", \"25d\"], **args),\n",
    "        FXStrangle(strike=[\"-25d\", \"25d\"], **args),\n",
    "    ],\n",
    "    s=[21.6215, -0.5, 22.359],\n",
    "    fx=fxf,\n",
    ")"
   ]
  },
  {
   "cell_type": "code",
   "execution_count": null,
   "id": "a7326e8b-1e03-48a8-9851-9275ed84043e",
   "metadata": {},
   "outputs": [],
   "source": [
    "dvs.plot(comparators=[dvs2], labels=[\"unajd.\", \"prem adj.\"])"
   ]
  },
  {
   "cell_type": "code",
   "execution_count": null,
   "id": "128a7f1c-dab5-4c24-a94a-0c7477721feb",
   "metadata": {},
   "outputs": [],
   "source": []
  },
  {
   "cell_type": "code",
   "execution_count": null,
   "id": "f41752a3-cb7c-4dd8-aa8c-49929e2bcac8",
   "metadata": {},
   "outputs": [],
   "source": [
    "fxr = FXRates({\"eurusd\": 1.3088}, settlement=dt(2009, 1, 22))\n",
    "eureur = Curve(id=\"eur\", nodes={dt(2009, 1, 20): 1.0, dt(2009, 2, 25): 1.0})\n",
    "usdusd = Curve(id=\"usd\", nodes={dt(2009, 1, 20): 1.0, dt(2009, 2, 25): 1.0})\n",
    "fxf = FXForwards(\n",
    "    fx_rates=fxr,\n",
    "    fx_curves={\n",
    "        \"eureur\": eureur,\n",
    "        \"eurusd\": eureur,\n",
    "        \"usdusd\": usdusd,\n",
    "    }\n",
    ")\n",
    "solver = Solver(\n",
    "    id=\"rates\",\n",
    "    curves=[eureur, usdusd],\n",
    "    instruments=[\n",
    "        IRS(dt(2009, 1, 22), \"1M\", spec=\"eur_irs\", curves=eureur),\n",
    "        IRS(dt(2009, 1, 22), \"1M\", spec=\"usd_irs\", curves=usdusd),\n",
    "    ],\n",
    "    s=[2.0113, 0.3525],\n",
    "    instrument_labels=[\"eur_1m\", \"usd_1m\"],\n",
    "    fx=fxf,\n",
    ")"
   ]
  },
  {
   "cell_type": "code",
   "execution_count": null,
   "id": "d359dd0a-5c7a-4be1-940b-833f4c406777",
   "metadata": {},
   "outputs": [],
   "source": []
  },
  {
   "cell_type": "code",
   "execution_count": null,
   "id": "b12f1db7-4fbb-4c37-bd5f-b61e0b00d1c3",
   "metadata": {},
   "outputs": [],
   "source": []
  },
  {
   "cell_type": "code",
   "execution_count": 1,
   "id": "9aa10b95-aa55-4943-9fcd-222f6ff64059",
   "metadata": {},
   "outputs": [],
   "source": [
    "import context\n",
    "from rateslib import *\n",
    "from rateslib.fx_volatility import FXDeltaVolSmile, FXDeltaVolSurface\n",
    "import numpy as np"
   ]
  },
  {
   "cell_type": "code",
   "execution_count": 2,
   "id": "19c692bb-12fc-4cfe-884e-d80ea3878b33",
   "metadata": {},
   "outputs": [],
   "source": [
    "fxvs = FXDeltaVolSurface(\n",
    "    expiries=[dt(2024, 6, 1), dt(2024, 7, 1), dt(2024, 8, 1)],\n",
    "    delta_indexes=[0.25, 0.5, 0.75],\n",
    "    eval_date=dt(2024, 5, 1),\n",
    "    delta_type=\"forward\",\n",
    "    node_values=10.0 * np.eye(3,3),\n",
    ")"
   ]
  },
  {
   "cell_type": "code",
   "execution_count": 3,
   "id": "4d93a8ee-4cd7-481e-af50-632c94f17ead",
   "metadata": {},
   "outputs": [
    {
     "data": {
      "text/plain": [
       "[<rateslib.fx_volatility.FXDeltaVolSmile at 0x1240b3350>,\n",
       " <rateslib.fx_volatility.FXDeltaVolSmile at 0x1240b33d0>,\n",
       " <rateslib.fx_volatility.FXDeltaVolSmile at 0x1240b3490>]"
      ]
     },
     "execution_count": 3,
     "metadata": {},
     "output_type": "execute_result"
    }
   ],
   "source": [
    "fxvs.smiles"
   ]
  },
  {
   "cell_type": "code",
   "execution_count": null,
   "id": "68c64b45-3e3c-437f-98bd-7be91d66d570",
   "metadata": {},
   "outputs": [],
   "source": []
  },
  {
   "cell_type": "code",
   "execution_count": 2,
   "id": "0ae16b19-acec-4279-ada7-10f9a9fe93de",
   "metadata": {},
   "outputs": [],
   "source": [
    "bus = get_calendar(\"bus\")"
   ]
  },
  {
   "cell_type": "code",
   "execution_count": 7,
   "id": "0c87dc42-88fa-4b50-a9d8-e6799a47a530",
   "metadata": {},
   "outputs": [
    {
     "data": {
      "text/html": [
       "<style type=\"text/css\">\n",
       "</style>\n",
       "<table id=\"T_c17a1\">\n",
       "  <thead>\n",
       "    <tr>\n",
       "      <th class=\"blank level0\" >&nbsp;</th>\n",
       "      <th id=\"T_c17a1_level0_col0\" class=\"col_heading level0 col0\" >0</th>\n",
       "    </tr>\n",
       "  </thead>\n",
       "  <tbody>\n",
       "    <tr>\n",
       "      <th id=\"T_c17a1_level0_row0\" class=\"row_heading level0 row0\" >2022-01-03 00:00:00</th>\n",
       "      <td id=\"T_c17a1_row0_col0\" class=\"data row0 col0\" >2.000000</td>\n",
       "    </tr>\n",
       "    <tr>\n",
       "      <th id=\"T_c17a1_level0_row1\" class=\"row_heading level0 row1\" >2022-01-04 00:00:00</th>\n",
       "      <td id=\"T_c17a1_row1_col0\" class=\"data row1 col0\" >2.000000</td>\n",
       "    </tr>\n",
       "    <tr>\n",
       "      <th id=\"T_c17a1_level0_row2\" class=\"row_heading level0 row2\" >2022-01-05 00:00:00</th>\n",
       "      <td id=\"T_c17a1_row2_col0\" class=\"data row2 col0\" >2.000000</td>\n",
       "    </tr>\n",
       "    <tr>\n",
       "      <th id=\"T_c17a1_level0_row3\" class=\"row_heading level0 row3\" >2022-01-06 00:00:00</th>\n",
       "      <td id=\"T_c17a1_row3_col0\" class=\"data row3 col0\" >2.000000</td>\n",
       "    </tr>\n",
       "    <tr>\n",
       "      <th id=\"T_c17a1_level0_row4\" class=\"row_heading level0 row4\" >2022-01-07 00:00:00</th>\n",
       "      <td id=\"T_c17a1_row4_col0\" class=\"data row4 col0\" >2.000000</td>\n",
       "    </tr>\n",
       "    <tr>\n",
       "      <th id=\"T_c17a1_level0_row5\" class=\"row_heading level0 row5\" >2022-01-10 00:00:00</th>\n",
       "      <td id=\"T_c17a1_row5_col0\" class=\"data row5 col0\" >2.000000</td>\n",
       "    </tr>\n",
       "    <tr>\n",
       "      <th id=\"T_c17a1_level0_row6\" class=\"row_heading level0 row6\" >2022-01-11 00:00:00</th>\n",
       "      <td id=\"T_c17a1_row6_col0\" class=\"data row6 col0\" >2.000000</td>\n",
       "    </tr>\n",
       "    <tr>\n",
       "      <th id=\"T_c17a1_level0_row7\" class=\"row_heading level0 row7\" >2022-01-12 00:00:00</th>\n",
       "      <td id=\"T_c17a1_row7_col0\" class=\"data row7 col0\" >2.000000</td>\n",
       "    </tr>\n",
       "    <tr>\n",
       "      <th id=\"T_c17a1_level0_row8\" class=\"row_heading level0 row8\" >2022-01-13 00:00:00</th>\n",
       "      <td id=\"T_c17a1_row8_col0\" class=\"data row8 col0\" >2.000000</td>\n",
       "    </tr>\n",
       "    <tr>\n",
       "      <th id=\"T_c17a1_level0_row9\" class=\"row_heading level0 row9\" >2022-01-14 00:00:00</th>\n",
       "      <td id=\"T_c17a1_row9_col0\" class=\"data row9 col0\" >2.000000</td>\n",
       "    </tr>\n",
       "    <tr>\n",
       "      <th id=\"T_c17a1_level0_row10\" class=\"row_heading level0 row10\" >2022-01-17 00:00:00</th>\n",
       "      <td id=\"T_c17a1_row10_col0\" class=\"data row10 col0\" >2.000000</td>\n",
       "    </tr>\n",
       "    <tr>\n",
       "      <th id=\"T_c17a1_level0_row11\" class=\"row_heading level0 row11\" >2022-01-18 00:00:00</th>\n",
       "      <td id=\"T_c17a1_row11_col0\" class=\"data row11 col0\" >2.000000</td>\n",
       "    </tr>\n",
       "    <tr>\n",
       "      <th id=\"T_c17a1_level0_row12\" class=\"row_heading level0 row12\" >2022-01-19 00:00:00</th>\n",
       "      <td id=\"T_c17a1_row12_col0\" class=\"data row12 col0\" >2.000000</td>\n",
       "    </tr>\n",
       "    <tr>\n",
       "      <th id=\"T_c17a1_level0_row13\" class=\"row_heading level0 row13\" >2022-01-20 00:00:00</th>\n",
       "      <td id=\"T_c17a1_row13_col0\" class=\"data row13 col0\" >2.000000</td>\n",
       "    </tr>\n",
       "    <tr>\n",
       "      <th id=\"T_c17a1_level0_row14\" class=\"row_heading level0 row14\" >2022-01-21 00:00:00</th>\n",
       "      <td id=\"T_c17a1_row14_col0\" class=\"data row14 col0\" >2.000000</td>\n",
       "    </tr>\n",
       "    <tr>\n",
       "      <th id=\"T_c17a1_level0_row15\" class=\"row_heading level0 row15\" >2022-01-24 00:00:00</th>\n",
       "      <td id=\"T_c17a1_row15_col0\" class=\"data row15 col0\" >2.000000</td>\n",
       "    </tr>\n",
       "    <tr>\n",
       "      <th id=\"T_c17a1_level0_row16\" class=\"row_heading level0 row16\" >2022-01-25 00:00:00</th>\n",
       "      <td id=\"T_c17a1_row16_col0\" class=\"data row16 col0\" >2.000000</td>\n",
       "    </tr>\n",
       "    <tr>\n",
       "      <th id=\"T_c17a1_level0_row17\" class=\"row_heading level0 row17\" >2022-01-26 00:00:00</th>\n",
       "      <td id=\"T_c17a1_row17_col0\" class=\"data row17 col0\" >2.000000</td>\n",
       "    </tr>\n",
       "    <tr>\n",
       "      <th id=\"T_c17a1_level0_row18\" class=\"row_heading level0 row18\" >2022-01-27 00:00:00</th>\n",
       "      <td id=\"T_c17a1_row18_col0\" class=\"data row18 col0\" >2.000000</td>\n",
       "    </tr>\n",
       "    <tr>\n",
       "      <th id=\"T_c17a1_level0_row19\" class=\"row_heading level0 row19\" >2022-01-28 00:00:00</th>\n",
       "      <td id=\"T_c17a1_row19_col0\" class=\"data row19 col0\" >2.000000</td>\n",
       "    </tr>\n",
       "    <tr>\n",
       "      <th id=\"T_c17a1_level0_row20\" class=\"row_heading level0 row20\" >2022-01-31 00:00:00</th>\n",
       "      <td id=\"T_c17a1_row20_col0\" class=\"data row20 col0\" >2.000000</td>\n",
       "    </tr>\n",
       "    <tr>\n",
       "      <th id=\"T_c17a1_level0_row21\" class=\"row_heading level0 row21\" >2022-02-01 00:00:00</th>\n",
       "      <td id=\"T_c17a1_row21_col0\" class=\"data row21 col0\" >2.000000</td>\n",
       "    </tr>\n",
       "    <tr>\n",
       "      <th id=\"T_c17a1_level0_row22\" class=\"row_heading level0 row22\" >2022-02-02 00:00:00</th>\n",
       "      <td id=\"T_c17a1_row22_col0\" class=\"data row22 col0\" >2.000000</td>\n",
       "    </tr>\n",
       "    <tr>\n",
       "      <th id=\"T_c17a1_level0_row23\" class=\"row_heading level0 row23\" >2022-02-03 00:00:00</th>\n",
       "      <td id=\"T_c17a1_row23_col0\" class=\"data row23 col0\" >2.000000</td>\n",
       "    </tr>\n",
       "    <tr>\n",
       "      <th id=\"T_c17a1_level0_row24\" class=\"row_heading level0 row24\" >2022-02-04 00:00:00</th>\n",
       "      <td id=\"T_c17a1_row24_col0\" class=\"data row24 col0\" >2.000000</td>\n",
       "    </tr>\n",
       "    <tr>\n",
       "      <th id=\"T_c17a1_level0_row25\" class=\"row_heading level0 row25\" >2022-02-07 00:00:00</th>\n",
       "      <td id=\"T_c17a1_row25_col0\" class=\"data row25 col0\" >2.000000</td>\n",
       "    </tr>\n",
       "    <tr>\n",
       "      <th id=\"T_c17a1_level0_row26\" class=\"row_heading level0 row26\" >2022-02-08 00:00:00</th>\n",
       "      <td id=\"T_c17a1_row26_col0\" class=\"data row26 col0\" >2.000000</td>\n",
       "    </tr>\n",
       "    <tr>\n",
       "      <th id=\"T_c17a1_level0_row27\" class=\"row_heading level0 row27\" >2022-02-09 00:00:00</th>\n",
       "      <td id=\"T_c17a1_row27_col0\" class=\"data row27 col0\" >2.000000</td>\n",
       "    </tr>\n",
       "    <tr>\n",
       "      <th id=\"T_c17a1_level0_row28\" class=\"row_heading level0 row28\" >2022-02-10 00:00:00</th>\n",
       "      <td id=\"T_c17a1_row28_col0\" class=\"data row28 col0\" >2.000000</td>\n",
       "    </tr>\n",
       "    <tr>\n",
       "      <th id=\"T_c17a1_level0_row29\" class=\"row_heading level0 row29\" >2022-02-11 00:00:00</th>\n",
       "      <td id=\"T_c17a1_row29_col0\" class=\"data row29 col0\" >2.000000</td>\n",
       "    </tr>\n",
       "    <tr>\n",
       "      <th id=\"T_c17a1_level0_row30\" class=\"row_heading level0 row30\" >2022-02-14 00:00:00</th>\n",
       "      <td id=\"T_c17a1_row30_col0\" class=\"data row30 col0\" >2.000000</td>\n",
       "    </tr>\n",
       "    <tr>\n",
       "      <th id=\"T_c17a1_level0_row31\" class=\"row_heading level0 row31\" >2022-02-15 00:00:00</th>\n",
       "      <td id=\"T_c17a1_row31_col0\" class=\"data row31 col0\" >2.000000</td>\n",
       "    </tr>\n",
       "    <tr>\n",
       "      <th id=\"T_c17a1_level0_row32\" class=\"row_heading level0 row32\" >2022-02-16 00:00:00</th>\n",
       "      <td id=\"T_c17a1_row32_col0\" class=\"data row32 col0\" >2.000000</td>\n",
       "    </tr>\n",
       "    <tr>\n",
       "      <th id=\"T_c17a1_level0_row33\" class=\"row_heading level0 row33\" >2022-02-17 00:00:00</th>\n",
       "      <td id=\"T_c17a1_row33_col0\" class=\"data row33 col0\" >2.000000</td>\n",
       "    </tr>\n",
       "    <tr>\n",
       "      <th id=\"T_c17a1_level0_row34\" class=\"row_heading level0 row34\" >2022-02-18 00:00:00</th>\n",
       "      <td id=\"T_c17a1_row34_col0\" class=\"data row34 col0\" >2.000000</td>\n",
       "    </tr>\n",
       "    <tr>\n",
       "      <th id=\"T_c17a1_level0_row35\" class=\"row_heading level0 row35\" >2022-02-21 00:00:00</th>\n",
       "      <td id=\"T_c17a1_row35_col0\" class=\"data row35 col0\" >2.000000</td>\n",
       "    </tr>\n",
       "    <tr>\n",
       "      <th id=\"T_c17a1_level0_row36\" class=\"row_heading level0 row36\" >2022-02-22 00:00:00</th>\n",
       "      <td id=\"T_c17a1_row36_col0\" class=\"data row36 col0\" >2.000000</td>\n",
       "    </tr>\n",
       "    <tr>\n",
       "      <th id=\"T_c17a1_level0_row37\" class=\"row_heading level0 row37\" >2022-02-23 00:00:00</th>\n",
       "      <td id=\"T_c17a1_row37_col0\" class=\"data row37 col0\" >2.000000</td>\n",
       "    </tr>\n",
       "    <tr>\n",
       "      <th id=\"T_c17a1_level0_row38\" class=\"row_heading level0 row38\" >2022-02-24 00:00:00</th>\n",
       "      <td id=\"T_c17a1_row38_col0\" class=\"data row38 col0\" >2.000000</td>\n",
       "    </tr>\n",
       "    <tr>\n",
       "      <th id=\"T_c17a1_level0_row39\" class=\"row_heading level0 row39\" >2022-02-25 00:00:00</th>\n",
       "      <td id=\"T_c17a1_row39_col0\" class=\"data row39 col0\" >2.000000</td>\n",
       "    </tr>\n",
       "    <tr>\n",
       "      <th id=\"T_c17a1_level0_row40\" class=\"row_heading level0 row40\" >2022-02-28 00:00:00</th>\n",
       "      <td id=\"T_c17a1_row40_col0\" class=\"data row40 col0\" >2.000000</td>\n",
       "    </tr>\n",
       "    <tr>\n",
       "      <th id=\"T_c17a1_level0_row41\" class=\"row_heading level0 row41\" >2022-03-01 00:00:00</th>\n",
       "      <td id=\"T_c17a1_row41_col0\" class=\"data row41 col0\" >2.000000</td>\n",
       "    </tr>\n",
       "    <tr>\n",
       "      <th id=\"T_c17a1_level0_row42\" class=\"row_heading level0 row42\" >2022-03-02 00:00:00</th>\n",
       "      <td id=\"T_c17a1_row42_col0\" class=\"data row42 col0\" >2.000000</td>\n",
       "    </tr>\n",
       "    <tr>\n",
       "      <th id=\"T_c17a1_level0_row43\" class=\"row_heading level0 row43\" >2022-03-03 00:00:00</th>\n",
       "      <td id=\"T_c17a1_row43_col0\" class=\"data row43 col0\" >2.000000</td>\n",
       "    </tr>\n",
       "    <tr>\n",
       "      <th id=\"T_c17a1_level0_row44\" class=\"row_heading level0 row44\" >2022-03-04 00:00:00</th>\n",
       "      <td id=\"T_c17a1_row44_col0\" class=\"data row44 col0\" >2.000000</td>\n",
       "    </tr>\n",
       "    <tr>\n",
       "      <th id=\"T_c17a1_level0_row45\" class=\"row_heading level0 row45\" >2022-03-07 00:00:00</th>\n",
       "      <td id=\"T_c17a1_row45_col0\" class=\"data row45 col0\" >2.000000</td>\n",
       "    </tr>\n",
       "    <tr>\n",
       "      <th id=\"T_c17a1_level0_row46\" class=\"row_heading level0 row46\" >2022-03-08 00:00:00</th>\n",
       "      <td id=\"T_c17a1_row46_col0\" class=\"data row46 col0\" >2.000000</td>\n",
       "    </tr>\n",
       "    <tr>\n",
       "      <th id=\"T_c17a1_level0_row47\" class=\"row_heading level0 row47\" >2022-03-09 00:00:00</th>\n",
       "      <td id=\"T_c17a1_row47_col0\" class=\"data row47 col0\" >2.000000</td>\n",
       "    </tr>\n",
       "    <tr>\n",
       "      <th id=\"T_c17a1_level0_row48\" class=\"row_heading level0 row48\" >2022-03-10 00:00:00</th>\n",
       "      <td id=\"T_c17a1_row48_col0\" class=\"data row48 col0\" >2.000000</td>\n",
       "    </tr>\n",
       "    <tr>\n",
       "      <th id=\"T_c17a1_level0_row49\" class=\"row_heading level0 row49\" >2022-03-11 00:00:00</th>\n",
       "      <td id=\"T_c17a1_row49_col0\" class=\"data row49 col0\" >2.000000</td>\n",
       "    </tr>\n",
       "    <tr>\n",
       "      <th id=\"T_c17a1_level0_row50\" class=\"row_heading level0 row50\" >2022-03-14 00:00:00</th>\n",
       "      <td id=\"T_c17a1_row50_col0\" class=\"data row50 col0\" >2.000000</td>\n",
       "    </tr>\n",
       "    <tr>\n",
       "      <th id=\"T_c17a1_level0_row51\" class=\"row_heading level0 row51\" >2022-03-15 00:00:00</th>\n",
       "      <td id=\"T_c17a1_row51_col0\" class=\"data row51 col0\" >2.000000</td>\n",
       "    </tr>\n",
       "    <tr>\n",
       "      <th id=\"T_c17a1_level0_row52\" class=\"row_heading level0 row52\" >2022-03-16 00:00:00</th>\n",
       "      <td id=\"T_c17a1_row52_col0\" class=\"data row52 col0\" >2.000000</td>\n",
       "    </tr>\n",
       "    <tr>\n",
       "      <th id=\"T_c17a1_level0_row53\" class=\"row_heading level0 row53\" >2022-03-17 00:00:00</th>\n",
       "      <td id=\"T_c17a1_row53_col0\" class=\"data row53 col0\" >2.000000</td>\n",
       "    </tr>\n",
       "    <tr>\n",
       "      <th id=\"T_c17a1_level0_row54\" class=\"row_heading level0 row54\" >2022-03-18 00:00:00</th>\n",
       "      <td id=\"T_c17a1_row54_col0\" class=\"data row54 col0\" >2.000000</td>\n",
       "    </tr>\n",
       "    <tr>\n",
       "      <th id=\"T_c17a1_level0_row55\" class=\"row_heading level0 row55\" >2022-03-21 00:00:00</th>\n",
       "      <td id=\"T_c17a1_row55_col0\" class=\"data row55 col0\" >2.000000</td>\n",
       "    </tr>\n",
       "    <tr>\n",
       "      <th id=\"T_c17a1_level0_row56\" class=\"row_heading level0 row56\" >2022-03-22 00:00:00</th>\n",
       "      <td id=\"T_c17a1_row56_col0\" class=\"data row56 col0\" >2.000000</td>\n",
       "    </tr>\n",
       "    <tr>\n",
       "      <th id=\"T_c17a1_level0_row57\" class=\"row_heading level0 row57\" >2022-03-23 00:00:00</th>\n",
       "      <td id=\"T_c17a1_row57_col0\" class=\"data row57 col0\" >2.000000</td>\n",
       "    </tr>\n",
       "    <tr>\n",
       "      <th id=\"T_c17a1_level0_row58\" class=\"row_heading level0 row58\" >2022-03-24 00:00:00</th>\n",
       "      <td id=\"T_c17a1_row58_col0\" class=\"data row58 col0\" >2.000000</td>\n",
       "    </tr>\n",
       "    <tr>\n",
       "      <th id=\"T_c17a1_level0_row59\" class=\"row_heading level0 row59\" >2022-03-25 00:00:00</th>\n",
       "      <td id=\"T_c17a1_row59_col0\" class=\"data row59 col0\" >2.000000</td>\n",
       "    </tr>\n",
       "    <tr>\n",
       "      <th id=\"T_c17a1_level0_row60\" class=\"row_heading level0 row60\" >2022-03-28 00:00:00</th>\n",
       "      <td id=\"T_c17a1_row60_col0\" class=\"data row60 col0\" >2.000000</td>\n",
       "    </tr>\n",
       "    <tr>\n",
       "      <th id=\"T_c17a1_level0_row61\" class=\"row_heading level0 row61\" >2022-03-29 00:00:00</th>\n",
       "      <td id=\"T_c17a1_row61_col0\" class=\"data row61 col0\" >2.000000</td>\n",
       "    </tr>\n",
       "    <tr>\n",
       "      <th id=\"T_c17a1_level0_row62\" class=\"row_heading level0 row62\" >2022-03-30 00:00:00</th>\n",
       "      <td id=\"T_c17a1_row62_col0\" class=\"data row62 col0\" >2.000000</td>\n",
       "    </tr>\n",
       "    <tr>\n",
       "      <th id=\"T_c17a1_level0_row63\" class=\"row_heading level0 row63\" >2022-03-31 00:00:00</th>\n",
       "      <td id=\"T_c17a1_row63_col0\" class=\"data row63 col0\" >2.000000</td>\n",
       "    </tr>\n",
       "    <tr>\n",
       "      <th id=\"T_c17a1_level0_row64\" class=\"row_heading level0 row64\" >2022-04-01 00:00:00</th>\n",
       "      <td id=\"T_c17a1_row64_col0\" class=\"data row64 col0\" >2.000000</td>\n",
       "    </tr>\n",
       "  </tbody>\n",
       "</table>\n"
      ],
      "text/plain": [
       "<pandas.io.formats.style.Styler at 0x11b249350>"
      ]
     },
     "execution_count": 7,
     "metadata": {},
     "output_type": "execute_result"
    }
   ],
   "source": [
    "import pandas as pd\n",
    "fixings = pd.Series(\n",
    "    data=2.0, \n",
    "    index=pd.date_range(start=dt(2022, 1, 1), end=dt(2022, 4, 1), freq=bus)\n",
    ")"
   ]
  },
  {
   "cell_type": "markdown",
   "id": "4ed7dd71-ce96-43df-8690-9c33320f7e52",
   "metadata": {},
   "source": [
    "# Easiest way\n",
    "\n",
    "But very basic and not really what the object is designed for."
   ]
  },
  {
   "cell_type": "code",
   "execution_count": 2,
   "id": "9183a43a-223d-41a1-88e2-770be8e4b717",
   "metadata": {},
   "outputs": [],
   "source": [
    "fx_curve = LineCurve(\n",
    "    nodes={\n",
    "        dt(2024, 5, 23): 1.06,\n",
    "        dt(2024, 5, 30): 1.063,\n",
    "        dt(2024, 6, 23): 1.064,\n",
    "        dt(2024, 7, 23): 1.068,\n",
    "    }\n",
    ")"
   ]
  },
  {
   "cell_type": "code",
   "execution_count": 6,
   "id": "45b47495-c4d8-470d-94c9-31ba4ad36e74",
   "metadata": {},
   "outputs": [
    {
     "data": {
      "text/plain": [
       "(<Figure size 640x480 with 1 Axes>,\n",
       " <Axes: >,\n",
       " [<matplotlib.lines.Line2D at 0x11e5ad010>])"
      ]
     },
     "execution_count": 6,
     "metadata": {},
     "output_type": "execute_result"
    },
    {
     "data": {
      "image/png": "[encoded data removed]",
      "text/plain": [
       "<Figure size 640x480 with 1 Axes>"
      ]
     },
     "metadata": {},
     "output_type": "display_data"
    }
   ],
   "source": [
    "fx_curve.plot(\"1b\")"
   ]
  },
  {
   "cell_type": "markdown",
   "id": "64edae3e-5ec7-4487-8690-f79ff129c85e",
   "metadata": {},
   "source": [
    "# Using a Solver to Parametrise the Easy Curve"
   ]
  },
  {
   "cell_type": "code",
   "execution_count": 11,
   "id": "4c900a84-5071-40d1-ba34-9ea2edc9c86f",
   "metadata": {},
   "outputs": [
    {
     "name": "stdout",
     "output_type": "stream",
     "text": [
      "SUCCESS: `func_tol` reached after 8 iterations (levenberg_marquardt), `f_val`: 3.4069700029923517e-12, `time`: 0.0033s\n"
     ]
    }
   ],
   "source": [
    "solver = Solver(\n",
    "    curves=[fx_curve],\n",
    "    instruments=[\n",
    "        Value(dt(2024, 5, 30), curves=fx_curve),\n",
    "        Value(dt(2024, 6, 23), curves=fx_curve),\n",
    "        Value(dt(2024, 7, 23), curves=fx_curve),\n",
    "    ],\n",
    "    s=[1.065, 1.07, 1.095]\n",
    ")"
   ]
  },
  {
   "cell_type": "code",
   "execution_count": 12,
   "id": "e16eb2bc-9353-444f-aaba-9aaa26a92ef3",
   "metadata": {},
   "outputs": [
    {
     "data": {
      "text/plain": [
       "(<Figure size 640x480 with 1 Axes>,\n",
       " <Axes: >,\n",
       " [<matplotlib.lines.Line2D at 0x11ea60c90>])"
      ]
     },
     "execution_count": 12,
     "metadata": {},
     "output_type": "execute_result"
    },
    {
     "data": {
      "image/png": "[encoded data removed]",
      "text/plain": [
       "<Figure size 640x480 with 1 Axes>"
      ]
     },
     "metadata": {},
     "output_type": "display_data"
    }
   ],
   "source": [
    "fx_curve.plot(\"1b\")"
   ]
  },
  {
   "cell_type": "markdown",
   "id": "c2bbcca0-9218-4922-81e0-e0b6b40820c6",
   "metadata": {},
   "source": [
    "# Getting Closer to the Proper Method\n",
    "\n",
    "Creating FX curves without rates information, i.e. setting \n",
    "domestic and foreign rates to zero and relying on the FXSwaps"
   ]
  },
  {
   "cell_type": "code",
   "execution_count": null,
   "id": "69f6681a-0be2-4c7a-845c-da48e34d1670",
   "metadata": {},
   "outputs": [],
   "source": []
  },
  {
   "cell_type": "code",
   "execution_count": null,
   "id": "d52a94e9-c92e-4e1d-ab53-636912c319fa",
   "metadata": {},
   "outputs": [],
   "source": []
  },
  {
   "cell_type": "code",
   "execution_count": 21,
   "id": "0a996e2f-22ff-424c-81cd-b7c07fd80f95",
   "metadata": {},
   "outputs": [],
   "source": [
    "fxr = FXRates({\"audusd\": 0.620}, settlement=dt(2003, 4, 7))"
   ]
  },
  {
   "cell_type": "code",
   "execution_count": 22,
   "id": "c9011aaa-e546-4bae-99cf-51e045d865ee",
   "metadata": {},
   "outputs": [
    {
     "data": {
      "text/html": [
       "<div>\n",
       "<style scoped>\n",
       "    .dataframe tbody tr th:only-of-type {\n",
       "        vertical-align: middle;\n",
       "    }\n",
       "\n",
       "    .dataframe tbody tr th {\n",
       "        vertical-align: top;\n",
       "    }\n",
       "\n",
       "    .dataframe thead th {\n",
       "        text-align: right;\n",
       "    }\n",
       "</style>\n",
       "<table border=\"1\" class=\"dataframe\">\n",
       "  <thead>\n",
       "    <tr style=\"text-align: right;\">\n",
       "      <th></th>\n",
       "      <th>aud</th>\n",
       "      <th>usd</th>\n",
       "    </tr>\n",
       "  </thead>\n",
       "  <tbody>\n",
       "    <tr>\n",
       "      <th>aud</th>\n",
       "      <td>1.000000</td>\n",
       "      <td>0.62</td>\n",
       "    </tr>\n",
       "    <tr>\n",
       "      <th>usd</th>\n",
       "      <td>1.612903</td>\n",
       "      <td>1.00</td>\n",
       "    </tr>\n",
       "  </tbody>\n",
       "</table>\n",
       "</div>"
      ],
      "text/plain": [
       "          aud   usd\n",
       "aud  1.000000  0.62\n",
       "usd  1.612903  1.00"
      ]
     },
     "execution_count": 22,
     "metadata": {},
     "output_type": "execute_result"
    }
   ],
   "source": [
    "fxr.rates_table()"
   ]
  },
  {
   "cell_type": "code",
   "execution_count": 26,
   "id": "fdcb7cfc-a885-4223-88fb-3df3bfe1d85e",
   "metadata": {},
   "outputs": [],
   "source": [
    "import math\n",
    "aud = Curve({dt(2003, 4, 7): 1.0, dt(2005, 4, 7): math.exp(-0.05*2)}, id=\"aud\")\n",
    "usd = Curve({dt(2003, 4, 7): 1.0, dt(2005, 4, 7): math.exp(-0.07*2)}, id=\"usd\")\n",
    "fxf = FXForwards(\n",
    "    fx_rates=fxr,\n",
    "    fx_curves={\"audaud\": aud, \"usdusd\": usd, \"audusd\": aud}\n",
    ")"
   ]
  },
  {
   "cell_type": "code",
   "execution_count": 24,
   "id": "f8a73222-a70b-41cd-b55b-ef377be3601c",
   "metadata": {},
   "outputs": [
    {
     "name": "stdout",
     "output_type": "stream",
     "text": [
      "SUCCESS: `func_tol` reached after 4 iterations (levenberg_marquardt), `f_val`: 1.0610826305298004e-15, `time`: 0.0030s\n"
     ]
    }
   ],
   "source": [
    "solver = Solver(\n",
    "    curves=[aud, usd],\n",
    "    instruments=[\n",
    "        Value(dt(2005, 4, 7), curves=\"aud\", metric=\"cc_zero_rate\", convention=\"30360\"),\n",
    "        Value(dt(2005, 4, 7), curves=\"usd\", metric=\"cc_zero_rate\", convention=\"30360\"),\n",
    "    ],\n",
    "    s=[5.00, 7.00],\n",
    "    fx=fxf,\n",
    ")       "
   ]
  },
  {
   "cell_type": "code",
   "execution_count": 27,
   "id": "a6b83546-d3ad-4273-bd29-92b6fac16c30",
   "metadata": {},
   "outputs": [
    {
     "data": {
      "text/plain": [
       "<Dual: 0.645303, (fx_audusd), [1.0]>"
      ]
     },
     "execution_count": 27,
     "metadata": {},
     "output_type": "execute_result"
    }
   ],
   "source": [
    "fxf.rate(\"audusd\", dt(2005, 4, 7))"
   ]
  },
  {
   "cell_type": "code",
   "execution_count": 28,
   "id": "f32b5090-76b7-4157-9d8a-580c5975b043",
   "metadata": {},
   "outputs": [
    {
     "data": {
      "text/plain": [
       "0.4593333333333333"
      ]
     },
     "execution_count": 28,
     "metadata": {},
     "output_type": "execute_result"
    }
   ],
   "source": [
    "1378 / 3000"
   ]
  },
  {
   "cell_type": "code",
   "execution_count": 29,
   "id": "ff924511-c37b-4110-8794-a902c1a480ef",
   "metadata": {},
   "outputs": [
    {
     "data": {
      "text/plain": [
       "1.1403333333333334"
      ]
     },
     "execution_count": 29,
     "metadata": {},
     "output_type": "execute_result"
    }
   ],
   "source": [
    "3421/3000"
   ]
  },
  {
   "cell_type": "code",
   "execution_count": 30,
   "id": "6e0fd026-844e-4f2b-a5a4-225be5e5c804",
   "metadata": {},
   "outputs": [
    {
     "data": {
      "text/plain": [
       "0.7836666666666666"
      ]
     },
     "execution_count": 30,
     "metadata": {},
     "output_type": "execute_result"
    }
   ],
   "source": [
    "2351/3000"
   ]
  },
  {
   "cell_type": "code",
   "execution_count": 31,
   "id": "247ac6b3-f3fe-45e3-9dc8-3eac4833bc9c",
   "metadata": {},
   "outputs": [
    {
     "data": {
      "text/plain": [
       "1.046"
      ]
     },
     "execution_count": 31,
     "metadata": {},
     "output_type": "execute_result"
    }
   ],
   "source": [
    "3138/3000"
   ]
  },
  {
   "cell_type": "code",
   "execution_count": 32,
   "id": "260c8c0a-20de-40c8-b79c-41c3336cc846",
   "metadata": {},
   "outputs": [
    {
     "data": {
      "text/plain": [
       "1.8083333333333333"
      ]
     },
     "execution_count": 32,
     "metadata": {},
     "output_type": "execute_result"
    }
   ],
   "source": [
    "5425 / 3000"
   ]
  },
  {
   "cell_type": "code",
   "execution_count": null,
   "id": "074ee5b7-cf31-422d-bae4-15a3c6d3dd7e",
   "metadata": {},
   "outputs": [],
   "source": []
  }
 ],
 "metadata": {
  "kernelspec": {
   "display_name": "Python 3 (ipykernel)",
   "language": "python",
   "name": "python3"
  },
  "language_info": {
   "codemirror_mode": {
    "name": "ipython",
    "version": 3
   },
   "file_extension": ".py",
   "mimetype": "text/x-python",
   "name": "python",
   "nbconvert_exporter": "python",
   "pygments_lexer": "ipython3",
   "version": "3.11.4"
  }
 },
 "nbformat": 4,
 "nbformat_minor": 5
}
