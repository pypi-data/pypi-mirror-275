{
 "cells": [
  {
   "cell_type": "code",
   "execution_count": 1,
   "id": "2217c2fe-e8a9-4b07-903d-6199ac48e7bb",
   "metadata": {},
   "outputs": [],
   "source": [
    "from rateslib import *"
   ]
  },
  {
   "cell_type": "code",
   "execution_count": 36,
   "id": "fafd5826-1623-47cc-944d-ad0e93e4b3e5",
   "metadata": {},
   "outputs": [
    {
     "name": "stdout",
     "output_type": "stream",
     "text": [
      "SUCCESS: `func_tol` reached after 4 iterations (gauss_newton) , `f_val`: 9.625017277816567e-20, `time`: 0.3125s\n"
     ]
    }
   ],
   "source": [
    "usdrfr = Curve({dt(2022, 1, 1): 1.0, dt(2027, 1, 1): 1.0, dt(2032, 1, 1): 1.0}, id=\"usdrfr\")\n",
    "usdusd = Curve({dt(2022, 1, 1): 1.0, dt(2027, 1, 1): 1.0, dt(2032, 1, 1): 1.0}, id=\"usdusd\")\n",
    "eurrfr = Curve({dt(2022, 1, 1): 1.0, dt(2027, 1, 1): 1.0, dt(2032, 1, 1): 1.0}, id=\"eurrfr\")\n",
    "eureur = Curve({dt(2022, 1, 1): 1.0, dt(2027, 1, 1): 1.0, dt(2032, 1, 1): 1.0}, id=\"eureur\")\n",
    "eurusd = Curve({dt(2022, 1, 1): 1.0, dt(2027, 1, 1): 1.0, dt(2032, 1, 1): 1.0}, id=\"eurusd\")\n",
    "eur_eurusd = CompositeCurve([eureur, eurusd], multi_csa=True, id=\"eur_eurusd\")\n",
    "\n",
    "instruments = [\n",
    "    IRS(dt(2022, 1, 1), \"5Y\", \"A\", currency=\"eur\", curves=[\"eurrfr\", \"eureur\"]),\n",
    "    IRS(dt(2022, 1, 1), \"10Y\", \"A\", currency=\"eur\", curves=[\"eurrfr\", \"eureur\"]),\n",
    "    SBS(dt(2022, 1, 1), \"5Y\", \"A\", currency=\"eur\", curves=[\"eureur\", \"eureur\", \"eurrfr\", \"eureur\"]),\n",
    "    SBS(dt(2022, 1, 1), \"10Y\", \"A\", currency=\"eur\", curves=[\"eureur\", \"eureur\", \"eurrfr\", \"eureur\"]),\n",
    "    IRS(dt(2022, 1, 1), \"5Y\", \"A\", currency=\"usd\", curves=[\"usdrfr\", \"usdusd\"]),\n",
    "    IRS(dt(2022, 1, 1), \"10Y\", \"A\", currency=\"usd\", curves=[\"usdrfr\", \"usdusd\"]),\n",
    "    SBS(dt(2022, 1, 1), \"5Y\", \"A\", currency=\"usd\", curves=[\"usdusd\", \"usdusd\", \"usdrfr\", \"usdusd\"]),\n",
    "    SBS(dt(2022, 1, 1), \"10Y\", \"A\", currency=\"usd\", curves=[\"usdusd\", \"usdusd\", \"usdrfr\", \"usdusd\"]),\n",
    "    XCS(dt(2022, 1, 1), \"5Y\", \"A\", currency=\"eur\", leg2_currency=\"usd\", curves=[\"eurrfr\", \"eurusd\", \"usdrfr\", \"usdusd\"]),\n",
    "    XCS(dt(2022, 1, 1), \"10Y\", \"A\", currency=\"eur\", leg2_currency=\"usd\", curves=[\"eurrfr\", \"eurusd\", \"usdrfr\", \"usdusd\"]),\n",
    "]\n",
    "fxf = FXForwards(\n",
    "    fx_rates=FXRates({\"eurusd\": 1.20}, settlement=dt(2022, 1, 3)),\n",
    "    fx_curves={\n",
    "        \"usdusd\": usdusd,\n",
    "        \"eureur\": eureur,\n",
    "        \"eurusd\": eurusd,\n",
    "    }\n",
    ")\n",
    "solver = Solver(\n",
    "    curves=[usdrfr, usdusd, eurrfr, eureur, eurusd, eur_eurusd],\n",
    "    instruments=instruments,\n",
    "    fx=fxf,\n",
    "    s=[1.25, 1.35, 0.0, 0.0, 3.35, 3.10, 3.35, 3.10, -12.0, -2.0],\n",
    "    instrument_labels=[\n",
    "        \"EUR 5Y dP/dr\", \"EUR 10Y dP/dr\", \"EUR 5Y dP/ds\", \"EUR 10Y dP/ds\",\n",
    "        \"USD 5Y dP/dr\", \"USD 10Y dP/dr\", \"USD 5Y dP/ds\", \"USD 10Y dP/ds\",\n",
    "        \"XCS 5Y\", \"XCS 10Y\",\n",
    "    ]\n",
    ")\n",
    "\n"
   ]
  },
  {
   "cell_type": "code",
   "execution_count": 37,
   "id": "0603f33c-9575-4aa3-a6a0-f7ae88beafad",
   "metadata": {},
   "outputs": [
    {
     "data": {
      "text/html": [
       "<style type=\"text/css\">\n",
       "</style>\n",
       "<table id=\"T_79894\">\n",
       "  <thead>\n",
       "    <tr>\n",
       "      <th class=\"blank\" >&nbsp;</th>\n",
       "      <th class=\"blank\" >&nbsp;</th>\n",
       "      <th class=\"index_name level0\" >local_ccy</th>\n",
       "      <th id=\"T_79894_level0_col0\" class=\"col_heading level0 col0\" >eur</th>\n",
       "    </tr>\n",
       "    <tr>\n",
       "      <th class=\"blank\" >&nbsp;</th>\n",
       "      <th class=\"blank\" >&nbsp;</th>\n",
       "      <th class=\"index_name level1\" >display_ccy</th>\n",
       "      <th id=\"T_79894_level1_col0\" class=\"col_heading level1 col0\" >eur</th>\n",
       "    </tr>\n",
       "    <tr>\n",
       "      <th class=\"index_name level0\" >type</th>\n",
       "      <th class=\"index_name level1\" >solver</th>\n",
       "      <th class=\"index_name level2\" >label</th>\n",
       "      <th class=\"blank col0\" >&nbsp;</th>\n",
       "    </tr>\n",
       "  </thead>\n",
       "  <tbody>\n",
       "    <tr>\n",
       "      <th id=\"T_79894_level0_row0\" class=\"row_heading level0 row0\" rowspan=\"10\">instruments</th>\n",
       "      <th id=\"T_79894_level1_row0\" class=\"row_heading level1 row0\" rowspan=\"10\">8dfbc_</th>\n",
       "      <th id=\"T_79894_level2_row0\" class=\"row_heading level2 row0\" >EUR 5Y dP/dr</th>\n",
       "      <td id=\"T_79894_row0_col0\" class=\"data row0 col0\" >-1571</td>\n",
       "    </tr>\n",
       "    <tr>\n",
       "      <th id=\"T_79894_level2_row1\" class=\"row_heading level2 row1\" >EUR 10Y dP/dr</th>\n",
       "      <td id=\"T_79894_row1_col0\" class=\"data row1 col0\" >-96090</td>\n",
       "    </tr>\n",
       "    <tr>\n",
       "      <th id=\"T_79894_level2_row2\" class=\"row_heading level2 row2\" >EUR 5Y dP/ds</th>\n",
       "      <td id=\"T_79894_row2_col0\" class=\"data row2 col0\" >1894</td>\n",
       "    </tr>\n",
       "    <tr>\n",
       "      <th id=\"T_79894_level2_row3\" class=\"row_heading level2 row3\" >EUR 10Y dP/ds</th>\n",
       "      <td id=\"T_79894_row3_col0\" class=\"data row3 col0\" >255</td>\n",
       "    </tr>\n",
       "    <tr>\n",
       "      <th id=\"T_79894_level2_row4\" class=\"row_heading level2 row4\" >USD 5Y dP/dr</th>\n",
       "      <td id=\"T_79894_row4_col0\" class=\"data row4 col0\" >1</td>\n",
       "    </tr>\n",
       "    <tr>\n",
       "      <th id=\"T_79894_level2_row5\" class=\"row_heading level2 row5\" >USD 10Y dP/dr</th>\n",
       "      <td id=\"T_79894_row5_col0\" class=\"data row5 col0\" >-1</td>\n",
       "    </tr>\n",
       "    <tr>\n",
       "      <th id=\"T_79894_level2_row6\" class=\"row_heading level2 row6\" >USD 5Y dP/ds</th>\n",
       "      <td id=\"T_79894_row6_col0\" class=\"data row6 col0\" >-844</td>\n",
       "    </tr>\n",
       "    <tr>\n",
       "      <th id=\"T_79894_level2_row7\" class=\"row_heading level2 row7\" >USD 10Y dP/ds</th>\n",
       "      <td id=\"T_79894_row7_col0\" class=\"data row7 col0\" >1573</td>\n",
       "    </tr>\n",
       "    <tr>\n",
       "      <th id=\"T_79894_level2_row8\" class=\"row_heading level2 row8\" >XCS 5Y</th>\n",
       "      <td id=\"T_79894_row8_col0\" class=\"data row8 col0\" >787</td>\n",
       "    </tr>\n",
       "    <tr>\n",
       "      <th id=\"T_79894_level2_row9\" class=\"row_heading level2 row9\" >XCS 10Y</th>\n",
       "      <td id=\"T_79894_row9_col0\" class=\"data row9 col0\" >-1525</td>\n",
       "    </tr>\n",
       "    <tr>\n",
       "      <th id=\"T_79894_level0_row10\" class=\"row_heading level0 row10\" >fx</th>\n",
       "      <th id=\"T_79894_level1_row10\" class=\"row_heading level1 row10\" >fx</th>\n",
       "      <th id=\"T_79894_level2_row10\" class=\"row_heading level2 row10\" >eurusd</th>\n",
       "      <td id=\"T_79894_row10_col0\" class=\"data row10 col0\" >-0</td>\n",
       "    </tr>\n",
       "  </tbody>\n",
       "</table>\n"
      ],
      "text/plain": [
       "<pandas.io.formats.style.Styler at 0x120e4d790>"
      ]
     },
     "execution_count": 37,
     "metadata": {},
     "output_type": "execute_result"
    }
   ],
   "source": [
    "irs = IRS(dt(2022, 1, 1), \"10Y\", \"A\", curves=[\"eurrfr\", \"eur_eurusd\"], notional=-100e6, fixed_rate=2.0, currency=\"eur\")\n",
    "irs.delta(solver=solver).style.format(precision=0)"
   ]
  },
  {
   "cell_type": "code",
   "execution_count": 28,
   "id": "844d5d19-c0b8-487c-8c14-6c61d8c7d237",
   "metadata": {},
   "outputs": [
    {
     "data": {
      "text/plain": [
       "<Dual: 5,449,970.676826, ('eureur0', 'eureur1', 'eurrfr0', 'eurrfr1', 'eurrfr2', 'eurusd0', 'eurusd1', 'eurusd2', 'fx_eurusd', 'usdusd0', 'usdusd1'), [-4.09293438e+06  4.35910307e+06 -1.07258873e+08  7.53711370e+06\n",
       "  1.14819580e+08 -5.44400138e+06 -1.32302526e+06  1.41970668e+06\n",
       "  4.95451880e+06  5.44400138e+06  7.04333642e+03]>"
      ]
     },
     "execution_count": 28,
     "metadata": {},
     "output_type": "execute_result"
    }
   ],
   "source": [
    "irs.npv(solver=solver)"
   ]
  },
  {
   "cell_type": "code",
   "execution_count": 24,
   "id": "f60bdd42-e55f-4714-a17e-f7670db107d2",
   "metadata": {},
   "outputs": [
    {
     "data": {
      "text/plain": [
       "(<Figure size 640x480 with 1 Axes>,\n",
       " <AxesSubplot: >,\n",
       " [<matplotlib.lines.Line2D at 0x1204d1010>,\n",
       "  <matplotlib.lines.Line2D at 0x120ced390>])"
      ]
     },
     "execution_count": 24,
     "metadata": {},
     "output_type": "execute_result"
    },
    {
     "data": {
      "image/png": "[encoded data removed]",
      "text/plain": [
       "<Figure size 640x480 with 1 Axes>"
      ]
     },
     "metadata": {},
     "output_type": "display_data"
    }
   ],
   "source": [
    "eureur.plot(\"1d\", comparators=[eurusd], labels=[\"eur\", \"usd\"])"
   ]
  },
  {
   "cell_type": "code",
   "execution_count": null,
   "id": "8eaf1e37-7983-46e4-a17d-31e79d8e49c7",
   "metadata": {},
   "outputs": [],
   "source": []
  }
 ],
 "metadata": {
  "kernelspec": {
   "display_name": "Python 3 (ipykernel)",
   "language": "python",
   "name": "python3"
  },
  "language_info": {
   "codemirror_mode": {
    "name": "ipython",
    "version": 3
   },
   "file_extension": ".py",
   "mimetype": "text/x-python",
   "name": "python",
   "nbconvert_exporter": "python",
   "pygments_lexer": "ipython3",
   "version": "3.11.4"
  }
 },
 "nbformat": 4,
 "nbformat_minor": 5
}
