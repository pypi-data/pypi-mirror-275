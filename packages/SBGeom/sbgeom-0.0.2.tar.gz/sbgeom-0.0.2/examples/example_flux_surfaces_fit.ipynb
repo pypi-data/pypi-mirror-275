{
 "cells": [
  {
   "cell_type": "code",
   "execution_count": null,
   "metadata": {},
   "outputs": [],
   "source": [
    "%load_ext autoreload\n",
    "%autoreload 2\n",
    "import SBGeom\n",
    "import numpy as np\n",
    "import jax\n",
    "import jax.numpy as jnp\n",
    "import meshio"
   ]
  },
  {
   "cell_type": "markdown",
   "metadata": {},
   "source": [
    "### Simple Flux Surface Meshing"
   ]
  },
  {
   "cell_type": "code",
   "execution_count": null,
   "metadata": {},
   "outputs": [],
   "source": [
    "\n",
    "vmec_file = \"../example_data/helias5_vmec.nc4\"\n",
    "s1 = SBGeom.Flux_Surfaces_From_HDF5(vmec_file)\n",
    "s1.Mesh_Surface(1.0,0.0,300,500,- 0.00 * np.pi, 2 * np.pi / 5).write(\"LCFS.vtk\")\n",
    "\n"
   ]
  },
  {
   "cell_type": "markdown",
   "metadata": {},
   "source": [
    "### Plotting Tiled Surfaces\n"
   ]
  },
  {
   "cell_type": "code",
   "execution_count": null,
   "metadata": {},
   "outputs": [],
   "source": [
    "tiled = True\n",
    "if tiled:\n",
    "    snorm = SBGeom.Flux_Surfaces_Normal_Extended(s1)\n",
    "    mtile = snorm.Mesh_Tiled_Surface(1.0,0.4, 200,50,0.9, 0.7*  np.pi, 2.3 * np.pi)\n",
    "\n",
    "    SBGeom.to_meshio(mtile).write(\"tiled_fw.stl\")\n",
    "\n",
    "    edge = snorm.Mesh_Surfaces_Closed(1.0,1.0,0.415,1.4,400,400, 0.8 * np.pi , 2.2 * np.pi)\n",
    "    SBGeom.to_meshio(edge).write(\"blanket.stl\")\n",
    "\n",
    "\n",
    "    mtile = snorm.Mesh_Tiled_Surface(1.0,1.4, 100,20,0.9, 0.9*  np.pi, 2.1 * np.pi)\n",
    "\n",
    "    SBGeom.to_meshio(mtile).write(\"tiled_blanket.stl\")\n"
   ]
  },
  {
   "cell_type": "markdown",
   "metadata": {},
   "source": [
    "### Plotting VTK files with B strength"
   ]
  },
  {
   "cell_type": "code",
   "execution_count": null,
   "metadata": {},
   "outputs": [],
   "source": [
    "import h5py\n",
    "import meshio\n",
    "def to_vtk_plus_b(filename, Nu, Nv, output):\n",
    "    with h5py.File(filename,\"r\") as f:\n",
    "        bmnc = np.array(f['bmnc'] )\n",
    "        mpol = np.array(f['xm_nyq'])\n",
    "        ntor = np.array(f['xn_nyq'])\n",
    "\n",
    "    u = np.linspace(0, 2 * np.pi , Nu, endpoint=False)\n",
    "    v = np.linspace(0, 2 * np.pi , Nv, endpoint=False)\n",
    "    uu, vv= np.meshgrid(u,v)\n",
    "    uu = uu.T\n",
    "    vv = vv.T\n",
    "\n",
    "\n",
    "    bmag = np.sum(bmnc[-1,:][:,np.newaxis] * np.cos(mpol[:,np.newaxis] * uu.ravel()[np.newaxis, : ] - ntor[:,np.newaxis] * vv.ravel()[np.newaxis,:]),axis=0)\n",
    "    s1 = SBGeom.Flux_Surfaces_From_HDF5(filename)\n",
    "    mesh = SBGeom.to_meshio(s1.Mesh_Surface(1.0,0.0,Nv,Nu, 0.0, 2* np.pi))\n",
    "    mesh.point_data = {\"bm\" : bmag }\n",
    "    mesh.write(output+\".vtk\")\n",
    "\n",
    "#to_vtk_plus_b(vmec_file,800,800,\"bstrength\")"
   ]
  },
  {
   "cell_type": "markdown",
   "metadata": {},
   "source": [
    "### Plotting VTK lines with a grid of poloidal and toroidal lines"
   ]
  },
  {
   "cell_type": "code",
   "execution_count": null,
   "metadata": {},
   "outputs": [],
   "source": [
    "import itertools\n",
    "def grid_to_vtk(filename,Nu,Nv,output, linedec = 300):\n",
    "    s1 = SBGeom.Flux_Surfaces_From_HDF5(filename)\n",
    "    u_lines = np.linspace(0.0, 2 * np.pi , linedec, endpoint=False)\n",
    "    v_lines = np.linspace(0.0, 2 * np.pi , linedec, endpoint=False)\n",
    "\n",
    "    v_linedec = np.linspace(0.0, 2 * np.pi, Nv, endpoint = True)\n",
    "    u_linedec = np.linspace(0.0, 2 * np.pi, Nu, endpoint = True)\n",
    "    \n",
    "\n",
    "    ulines = np.hstack([s1.Return_Position(np.ones(u_lines.shape), np.zeros(u_lines.shape), u_lines, np.ones(u_lines.shape) * v_linedec[i]).T for i in range(Nv)]).T\n",
    "    vlines = np.hstack([s1.Return_Position(np.ones(u_lines.shape), np.zeros(u_lines.shape),np.ones(v_lines.shape)* u_linedec[i], v_lines).T for i in range(Nu)]).T\n",
    "    \n",
    "    ulist = list(itertools.chain.from_iterable([[[i + j * linedec, (i+1)%linedec + j * linedec] for i in range(linedec)] for j in range(Nv)]))    \n",
    "    vlist = list(itertools.chain.from_iterable([[[i + j * linedec, (i+1)%linedec + j * linedec] for i in range(linedec)] for j in range(Nu)]))    \n",
    "    meshio.Mesh(points = ulines, cells = [(\"line\", ulist )]).write(\"ulines_\"+output+\".vtk\")\n",
    "    meshio.Mesh(points = vlines, cells = [(\"line\", vlist )]).write(\"vlines_\"+output+\".vtk\")\n",
    "    \n",
    "\n",
    "grid_to_vtk(vmec_file,20,60, \"grid\")\n"
   ]
  },
  {
   "cell_type": "markdown",
   "metadata": {},
   "source": [
    "### Creating Extension Files using reduced boundary representation"
   ]
  },
  {
   "cell_type": "code",
   "execution_count": null,
   "metadata": {},
   "outputs": [],
   "source": [
    "\n",
    "b1 = SBGeom.Optimise_Blanket.Stellarator_Blanket_Optimizer(vmec_file)"
   ]
  },
  {
   "cell_type": "code",
   "execution_count": null,
   "metadata": {},
   "outputs": [],
   "source": [
    "b1.flux_surfaces.Mesh_Surface(1.0,1.39, 60,100,0.0, 0.5 * np.pi).write(\"blanket_normal_vec.vtk\")\n",
    "d_list = [1.4]\n",
    "Rmnc, Zmns = b1.Optimize_d_list([lambda u,v,fs : np.ones(u.shape) * d for d in d_list],30,50)"
   ]
  },
  {
   "cell_type": "code",
   "execution_count": null,
   "metadata": {},
   "outputs": [],
   "source": [
    "b2 = SBGeom.Flux_Surfaces_Fourier_Extended(s1, d_list, Rmnc, Zmns )\n",
    "b2.Mesh_Surface(1.0,1.39,60,100,0.5 * np.pi ,np.pi).write(\"blanket_fit.vtk\")"
   ]
  },
  {
   "cell_type": "code",
   "execution_count": null,
   "metadata": {},
   "outputs": [],
   "source": [
    "npl = 10\n",
    "nbl = 10\n",
    "slist = np.linspace(0.0,1.0,npl)\n",
    "dlist = np.linspace(0.0,0.0, npl)\n",
    "dbl = np.linspace(0.0, 1.39, nbl)\n",
    "sbl = np.linspace(1.0,1.0, nbl)\n",
    "stot = np.concatenate([slist,sbl])\n",
    "dtot = np.concatenate([dlist,dbl])\n",
    "b2.Mesh_Tetrahedrons(stot,dtot, 100,100, np.pi, np.pi * 1.5).write(\"tetrahedral_mesh.vtk\")"
   ]
  },
  {
   "cell_type": "code",
   "execution_count": null,
   "metadata": {},
   "outputs": [],
   "source": [
    "mtile = b2.Mesh_Tiled_Surface(1.0,1.3999, 100,20,0.9, 0.8*  np.pi, 2.2 * np.pi)\n",
    "\n",
    "SBGeom.to_meshio(mtile).write(\"tiled_blanket.stl\")"
   ]
  },
  {
   "cell_type": "markdown",
   "metadata": {},
   "source": [
    "### Using the Direct Approach\n"
   ]
  },
  {
   "cell_type": "code",
   "execution_count": null,
   "metadata": {},
   "outputs": [],
   "source": [
    "\n",
    "b1 = SBGeom.Optimise_Blanket_Direct.Stellarator_Blanket_Optimizer_Direct(vmec_file)\n",
    "d_list = [1.4]\n",
    "Rmnc, Zmns = b1.Optimize_d_list([lambda u,v,fs : np.ones(u.shape) * d for d in d_list], 30, 50)"
   ]
  },
  {
   "cell_type": "code",
   "execution_count": null,
   "metadata": {},
   "outputs": [],
   "source": [
    "direct_approach = SBGeom.Flux_Surfaces_Fourier_Extended(s1, d_list, Rmnc, Zmns)\n",
    "direct_approach.Mesh_Surface(1.0,1.39,60,100,0.5 * np.pi ,np.pi).write(\"blanket_fit2.vtk\")"
   ]
  },
  {
   "cell_type": "code",
   "execution_count": null,
   "metadata": {},
   "outputs": [],
   "source": [
    "npl = 10\n",
    "nbl = 10\n",
    "slist = np.linspace(0.0,1.0,npl)\n",
    "dlist = np.linspace(0.0,0.0, npl)\n",
    "dbl = np.linspace(0.0, 1.39, nbl)\n",
    "sbl = np.linspace(1.0,1.0, nbl)\n",
    "stot = np.concatenate([slist,sbl])\n",
    "dtot = np.concatenate([dlist,dbl])\n",
    "direct_approach.Mesh_Tetrahedrons(stot,dtot, 100,100, np.pi, np.pi * 1.5).write(\"tetrahedral_mesh2.vtk\")"
   ]
  },
  {
   "cell_type": "markdown",
   "metadata": {},
   "source": [
    "### Non-uniform thickness wall fitting"
   ]
  },
  {
   "cell_type": "code",
   "execution_count": null,
   "metadata": {},
   "outputs": [],
   "source": [
    "b1 = SBGeom.Optimise_Blanket_Direct.Stellarator_Blanket_Optimizer_Direct(vmec_file)\n",
    "\n",
    "def dfunc(u,v, fs):\n",
    "\n",
    "    return 1.4* np.ones(u.shape) + 0.8 * np.sin(u + 0.5 * np.pi)\n",
    "\n",
    "rmnc, zmns = b1.Optimize_d_list([dfunc], 30,50, optimize_arclength=True)\n",
    "direct_approach = SBGeom.Flux_Surfaces_Fourier_Extended(s1, [1.0], rmnc, zmns) # this d here is not physical distance but just a label\n",
    "direct_approach.Mesh_Surface(1.0,0.99,60,100,0.0 * np.pi ,np.pi / 5).write(\"blanket_fit_varying.vtk\")\n",
    "npl = 10\n",
    "nbl = 10\n",
    "slist = np.linspace(0.0,1.0,npl)\n",
    "dlist = np.linspace(0.0,0.0, npl)\n",
    "dbl = np.linspace(0.0, 0.99, nbl)\n",
    "sbl = np.linspace(1.0,1.0, nbl)\n",
    "stot = np.concatenate([slist,sbl])\n",
    "dtot = np.concatenate([dlist,dbl])\n",
    "direct_approach.Mesh_Tetrahedrons(stot,dtot, 100,100, 0.0, np.pi * 1.5).write(\"tetrahedral_mesh_varying.vtk\")"
   ]
  }
 ],
 "metadata": {
  "kernelspec": {
   "display_name": "meshio",
   "language": "python",
   "name": "python3"
  },
  "language_info": {
   "codemirror_mode": {
    "name": "ipython",
    "version": 3
   },
   "file_extension": ".py",
   "mimetype": "text/x-python",
   "name": "python",
   "nbconvert_exporter": "python",
   "pygments_lexer": "ipython3",
   "version": "3.12.3"
  },
  "orig_nbformat": 4
 },
 "nbformat": 4,
 "nbformat_minor": 2
}
