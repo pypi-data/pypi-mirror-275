{
 "cells": [
  {
   "cell_type": "code",
   "execution_count": null,
   "metadata": {},
   "outputs": [],
   "source": [
    "import SBGeom\n",
    "import numpy as np\n",
    "import meshio"
   ]
  },
  {
   "cell_type": "code",
   "execution_count": null,
   "metadata": {},
   "outputs": [],
   "source": [
    "cs = SBGeom.Discrete_Coil_Set_From_HDF5(\"../example_data/HELIAS5_coils_all_corr.h5\")\n",
    "\n",
    "# These two lines create the already provided HDF5 file. Commented out here because it takes a while\n",
    "#fourier_coils_convert = SBGeom.Convert_to_Fourier_Coils(cs, 10) \n",
    "#SBGeom.Save_Fourier_Coils_HDF5(fourier_coils_convert,\"../example_data/HELIAS5_coils_fourier.h5\")\n",
    "\n",
    "# The new scale_points feature; also for fourier coils so it can be used for both entire coil sets.\n",
    "# cs.Scale_Points(2.0)\n",
    "# fourier_coils.Scale_Points(2.0)\n",
    "\n",
    "\n",
    "fourier_coils = SBGeom.Fourier_Coil_Set_From_HDF5(\"../example_data/HELIAS5_coils_fourier.h5\")"
   ]
  },
  {
   "cell_type": "code",
   "execution_count": null,
   "metadata": {},
   "outputs": [],
   "source": []
  },
  {
   "cell_type": "code",
   "execution_count": null,
   "metadata": {},
   "outputs": [],
   "source": [
    "cs.Mesh_Triangles(0.2,0.2,300, \"RMF\").write('RMFd.vtk')\n",
    "\n",
    "fourier_coils.Truncate_to_Angles(0.7 * np.pi, 2.3 * np.pi)\n",
    "fourier_coils.Mesh_Triangles(0.2,0.2,300, \"RMF\").write('RMFf.stl')\n",
    "\n",
    "cs.Mesh_Triangles(0.2,0.2,300, \"Centroid\").write('Centroidd.vtk')\n",
    "fourier_coils.Mesh_Triangles(0.2,0.2,300, \"Centroid\").write('Centroidf.vtk')\n",
    "\n",
    "\n",
    "\n",
    "cs.Mesh_Triangles(0.2,0.2,300, \"Rotated_From_Centroid\",np.linspace(0.0,4 * np.pi, 300)).write('Rotated_From_Centroidd.vtk')\n",
    "fourier_coils.Mesh_Triangles(0.2,0.2,300, \"Rotated_From_Centroid\", - np.linspace(0.0,4 * np.pi, 300)).write('Rotated_From_Centroidf.vtk')\n",
    "\n",
    "#cs.Mesh_Triangles(0.2,0.2,300, \"Frenet\").write('Frenetd.vtk') # crashes due to vanishing curvature!\n",
    "fourier_coils.Mesh_Triangles(0.2,0.2,300, \"Frenet\").write('Frenetf.vtk')\n"
   ]
  },
  {
   "cell_type": "code",
   "execution_count": null,
   "metadata": {},
   "outputs": [],
   "source": [
    "fourier_coils.Return_Coil(0).Finite_Size_Lines(0.2,0.2,300,\"Centroid\")"
   ]
  },
  {
   "cell_type": "code",
   "execution_count": null,
   "metadata": {},
   "outputs": [],
   "source": [
    "def GetCoilPoints(coil_set : SBGeom.Coil_Set, coil_index : int, width_phi : float, width_r : float, number_of_points : int, finite_size_type : str = \"Centroid\"):\n",
    "    lines = coil_set.Return_Coil(coil_index).Finite_Size_Lines(width_phi, width_r, number_of_points, finite_size_type)\n",
    "    \n",
    "    lines_rs = lines.reshape(4,-1,3)\n",
    "    lines2   = np.zeros(lines_rs.shape)\n",
    "    lines2[0,:,:] = lines_rs[3,:,:]\n",
    "    lines2[1,:,:] = lines_rs[1,:,:]\n",
    "    lines2[2,:,:] = lines_rs[0,:,:]\n",
    "    lines2[3,:,:] = lines_rs[2,:,:]\n",
    "    lines_tp = lines2.transpose((1,0,2))\n",
    "    return lines_tp.reshape((-1,3))\n",
    "    \n",
    "\n",
    "    "
   ]
  }
 ],
 "metadata": {
  "kernelspec": {
   "display_name": "sbgeom",
   "language": "python",
   "name": "python3"
  },
  "language_info": {
   "codemirror_mode": {
    "name": "ipython",
    "version": 3
   },
   "file_extension": ".py",
   "mimetype": "text/x-python",
   "name": "python",
   "nbconvert_exporter": "python",
   "pygments_lexer": "ipython3",
   "version": "3.12.3"
  }
 },
 "nbformat": 4,
 "nbformat_minor": 2
}
