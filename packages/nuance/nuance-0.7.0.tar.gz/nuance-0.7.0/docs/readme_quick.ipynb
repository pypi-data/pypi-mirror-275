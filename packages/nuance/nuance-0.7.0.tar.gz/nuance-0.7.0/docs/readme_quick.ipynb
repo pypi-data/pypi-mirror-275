{
 "cells": [
  {
   "cell_type": "code",
   "execution_count": 4,
   "metadata": {},
   "outputs": [
    {
     "data": {
      "application/vnd.jupyter.widget-view+json": {
       "model_id": "9705390c29e1479799478b173cbf33eb",
       "version_major": 2,
       "version_minor": 0
      },
      "text/plain": [
       "  0%|          | 0/2880 [00:00<?, ?it/s]"
      ]
     },
     "metadata": {},
     "output_type": "display_data"
    },
    {
     "data": {
      "application/vnd.jupyter.widget-view+json": {
       "model_id": "b7ca6a7339e24a77a58882a52144e7dc",
       "version_major": 2,
       "version_minor": 0
      },
      "text/plain": [
       "  0%|          | 0/2000 [00:00<?, ?it/s]"
      ]
     },
     "metadata": {},
     "output_type": "display_data"
    }
   ],
   "source": [
    "from nuance import Nuance, utils\n",
    "import numpy as np\n",
    "\n",
    "(time, flux, error), X, kernel = utils.simulated()\n",
    "\n",
    "nu = Nuance(time, flux, error, kernel, X=X)\n",
    "\n",
    "# linear search\n",
    "t0s = time.copy()\n",
    "Ds = np.linspace(0.01, 0.2, 15)\n",
    "nu.linear_search(t0s, Ds)\n",
    "\n",
    "# periodic search\n",
    "periods = np.linspace(0.3, 5, 2000)\n",
    "search = nu.periodic_search(periods)\n",
    "\n",
    "t0, D, P = search.best"
   ]
  },
  {
   "cell_type": "code",
   "execution_count": null,
   "metadata": {},
   "outputs": [],
   "source": []
  }
 ],
 "metadata": {
  "kernelspec": {
   "display_name": "nuance",
   "language": "python",
   "name": "python3"
  },
  "language_info": {
   "codemirror_mode": {
    "name": "ipython",
    "version": 3
   },
   "file_extension": ".py",
   "mimetype": "text/x-python",
   "name": "python",
   "nbconvert_exporter": "python",
   "pygments_lexer": "ipython3",
   "version": "3.10.4"
  },
  "orig_nbformat": 4,
  "vscode": {
   "interpreter": {
    "hash": "93a77b3b843cffc8bd39b05449aa29995319844b870696fee6b93b7ccb2ec5d4"
   }
  }
 },
 "nbformat": 4,
 "nbformat_minor": 2
}
