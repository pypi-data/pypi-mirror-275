{
 "cells": [
  {
   "cell_type": "code",
   "execution_count": null,
   "metadata": {},
   "outputs": [],
   "source": [
    "from geodeticengine import CoordTrans, CrsSearch, CtSearch\n",
    "import json"
   ]
  },
  {
   "cell_type": "markdown",
   "metadata": {},
   "source": [
    "## Transformation examples"
   ]
  },
  {
   "cell_type": "markdown",
   "metadata": {},
   "source": [
    "### Transforming coordinates from an engineering CRS to a global CRS and back to engineering again"
   ]
  },
  {
   "cell_type": "code",
   "execution_count": null,
   "metadata": {},
   "outputs": [],
   "source": [
    "points = [[8911.832,5139.165]]\n",
    "crs_from = \"EQUINOR:4100002\" # ST_MON_Refinery_E4100002\n",
    "crs_to = \"EPSG:25832\"        # ST_ETRS89_UTM32N_P25832\n",
    "ct_from = \"EQUINOR:3100002\"  # ST_MON_ETRS89_P25832_T3100002\n",
    "ct = CoordTrans(crs_from=crs_from, crs_to=crs_to, ct_from=ct_from, points=points)\n",
    "transformed_coords = ct.transform_pointlist()\n",
    "print(f\"Coordinates transformed to {crs_to}:\\n{transformed_coords}\")\n",
    "\n",
    "# Transform back to engineering\n",
    "ct = CoordTrans(crs_from=crs_to, crs_to=crs_from, ct_to=ct_from, points=transformed_coords)\n",
    "transformed_coords_back = ct.transform_pointlist()\n",
    "print(f\"Coordinates transformed back to the engineering CRS {crs_to}:\\n{transformed_coords_back}\")"
   ]
  },
  {
   "cell_type": "markdown",
   "metadata": {},
   "source": [
    "### Transform coordinates by specifying EPSG codes for both the source and target CRS and the transformation between them and by sending the coordinates to the API."
   ]
  },
  {
   "cell_type": "code",
   "execution_count": null,
   "metadata": {},
   "outputs": [],
   "source": [
    "points = [[10, 60]]\n",
    "crs_from = \"EPSG:4230\"\n",
    "crs_to = \"EPSG:4326\"\n",
    "ct_from = \"EPSG:1612\"\n",
    "\n",
    "# Transform coordinates\n",
    "ct = CoordTrans(crs_from=crs_from, crs_to=crs_to, ct_from=ct_from, points=points)\n",
    "print(f\"Transformed coordinates:{ct.transform_pointlist()}\")\n",
    "\n",
    "# Get transformation pipeline\n",
    "pipeline = ct.get_pipeline()\n",
    "print(f\"Transformation pipeline: {pipeline}\")"
   ]
  },
  {
   "cell_type": "markdown",
   "metadata": {},
   "source": [
    "### Transform coordinates using a bound CRS and by sending the coordinates to the API."
   ]
  },
  {
   "cell_type": "code",
   "execution_count": null,
   "metadata": {},
   "outputs": [],
   "source": [
    "points = [[9,65],[12,70]]\n",
    "crs_from = \"ST_ED50_T1133\"\n",
    "crs_to = \"ST_WGS84_G4326\"\n",
    "\n",
    "# Transform coordinates\n",
    "ct = CoordTrans(crs_from=crs_from, crs_to=crs_to, points=points)\n",
    "print(f\"Transformed coordinates:{ct.transform_pointlist()}\")\n",
    "\n",
    "# Get transformation pipeline\n",
    "pipeline =  ct.get_pipeline()\n",
    "print(f\"Transformation pipeline: {pipeline}\")\n"
   ]
  },
  {
   "cell_type": "markdown",
   "metadata": {},
   "source": [
    "### Transform coordinates without sending them to the API. Only the transformation pipeline is extracted from the API and the transformation is done ``locally`` using pyproj "
   ]
  },
  {
   "cell_type": "code",
   "execution_count": null,
   "metadata": {},
   "outputs": [],
   "source": [
    "crs_from = \"EPSG:32632\" # WGS84 / UTM zone 32N\n",
    "crs_to = \"EPSG:23031\"   # ED50 / UTM zone 31N\n",
    "ct_code = \"EPSG:1613\"   # Transformation from  ED50 til WGS84\n",
    "\n",
    "points = [[273178.571, 6846980.063]]\n",
    "\n",
    "# Create a transformer object of the source crs, target crs and the transformation between them\n",
    "trans_obj = CoordTrans(crs_from, crs_to, ct_from=ct_code)\n",
    "\n",
    "# Get the transformation pipeline\n",
    "trans_pipeline = trans_obj.get_pipeline()\n",
    "\n",
    "# Use the transformation pipeline extracted in the line above to transform the coordiantes\n",
    "transformed_coord_lst = trans_obj.transform_from_pipeline(points, trans_pipeline)\n",
    "print(f\"Transformed coordinates by using the pipeline from the GeodeticEngine:\\n{transformed_coord_lst}\")"
   ]
  },
  {
   "cell_type": "markdown",
   "metadata": {},
   "source": [
    "### Transform coordiantes by using two different transformations (two-step)\n",
    "First transform the coordinates from ``ETRS89`` to ``WGS84`` using the ``EQUINOR:3000034`` transformation, and then transform from ``WGS84`` to ``ED50`` using ``EPSG:1613``\n",
    "\n",
    "``NB: Pyproj is in this case only used to get a pretty formatting on the transformation pipeline.``"
   ]
  },
  {
   "cell_type": "code",
   "execution_count": null,
   "metadata": {},
   "outputs": [],
   "source": [
    "from pyproj import Transformer\n",
    "\n",
    "crs_from = \"EPSG:25832\"          # ETS89 / UTM zone 32N\n",
    "crs_to = \"EPSG:23031\"            # ED50 / UTM zone 31N\n",
    "ct_from_code = \"EQUINOR:3000034\" # Equinor custom transformation from ETRS89 to WGS84\n",
    "ct_to_code = \"EPSG:1613\"         # Transformation from ED50 to WGS84\n",
    "\n",
    "points = [[273178.571, 6846980.063]]\n",
    "\n",
    "# Create a transformer object of the source crs, target crs and the transformation between them\n",
    "trans_obj = CoordTrans(crs_from, crs_to, ct_from=ct_from_code, ct_to=ct_to_code)\n",
    "\n",
    "# Get the transformation pipeline\n",
    "trans_pipeline = trans_obj.get_pipeline()\n",
    "print(f\"The transformation pipeline for the two transformations:\\n{Transformer.from_pipeline(trans_pipeline).to_proj4(pretty=True)}\\n\")\n",
    "\n",
    "# Use the transformation pipeline extracted in the line above to transform the coordiantes\n",
    "transformed_coord_lst = trans_obj.transform_from_pipeline(points, trans_pipeline)\n",
    "print(f\"Transformed coordinates by using the pipeline from the GeodeticEngine:\\n{transformed_coord_lst}\")"
   ]
  },
  {
   "cell_type": "markdown",
   "metadata": {},
   "source": [
    "### Convert geographic coordinates (lat/lon) to projected coordinates"
   ]
  },
  {
   "cell_type": "code",
   "execution_count": null,
   "metadata": {},
   "outputs": [],
   "source": [
    "from geodeticengine import CoordTrans\n",
    "\n",
    "crs_from = \"EPSG:4326\"           # WGS84 geograpich 2D (lat/lon)\n",
    "crs_to = \"EPSG:32631\"            # WGS84 / UTM zone 31N\n",
    "\n",
    "points = [[1.97926020, 60.53835841]] # longitude first, then latitude (degree)\n",
    "\n",
    "# Create a transformer object of the source crs, target crs\n",
    "trans_obj = CoordTrans(crs_from, crs_to)\n",
    "\n",
    "# Get the transformation pipeline\n",
    "conv_pipeline = trans_obj.get_pipeline()\n",
    "print(f\"The pipeline for the conversion:\\n{trans_pipeline}\\n\")\n",
    "\n",
    "# Use the transformation pipeline extracted in the line above to convert the coordinates\n",
    "converted_coord_lst = trans_obj.transform_from_pipeline(points, conv_pipeline)\n",
    "print(f\"Converted coordinates by using the pipeline from the GeodeticEngine:\\n{converted_coord_lst}\")"
   ]
  },
  {
   "cell_type": "markdown",
   "metadata": {},
   "source": [
    "## Listing examples"
   ]
  },
  {
   "cell_type": "markdown",
   "metadata": {},
   "source": [
    "#### Get all bound CRS to WGS84"
   ]
  },
  {
   "cell_type": "code",
   "execution_count": null,
   "metadata": {},
   "outputs": [],
   "source": [
    "\n",
    "# Get all bound CRS to WGS84\n",
    "crs_query = CrsSearch(types=[\"bound projected\",\"bound geographic 2D\"], target_crs=\"ST_WGS84_G4326\")\n",
    "all_bound_crs = json.dumps(crs_query.get_entities(), indent=2)\n",
    "print(f\"All bound CRS:\\n{all_bound_crs}\")\n"
   ]
  },
  {
   "cell_type": "markdown",
   "metadata": {},
   "source": [
    "#### Get all bound Projeced and Projected CRS"
   ]
  },
  {
   "cell_type": "code",
   "execution_count": null,
   "metadata": {},
   "outputs": [],
   "source": [
    "crs_query = CrsSearch(types=[\"bound projected\",\"projected\"])\n",
    "all_bound_proj_and_proj = json.dumps(crs_query.get_entities(), indent=2)\n",
    "print(f'All \"Bound Projeced\" and \"Projected\":\\n{all_bound_proj_and_proj}')"
   ]
  },
  {
   "cell_type": "markdown",
   "metadata": {},
   "source": [
    "#### Get all transformations between ED50 and WGS 84 "
   ]
  },
  {
   "cell_type": "code",
   "execution_count": null,
   "metadata": {},
   "outputs": [],
   "source": [
    "ct_query = CtSearch(types=[\"transformation\",\"concatenated operation\"], source_crs=\"ST_ED50_G4230\", target_crs=\"ST_WGS84_G4326\")\n",
    "cts = json.dumps(ct_query.get_entities(), indent=2)\n",
    "print(f'All transformation between ED50 and WGS 84:\\n{cts}')\n"
   ]
  },
  {
   "cell_type": "markdown",
   "metadata": {},
   "source": [
    "### List all available transformations between ED50 and WGS84\n"
   ]
  },
  {
   "cell_type": "code",
   "execution_count": null,
   "metadata": {},
   "outputs": [],
   "source": [
    "ct_query = CtSearch(types=[\"transformation\",\"concatenated operation\"], source_crs=\"ST_ED50_G4230\", target_crs=\"ST_WGS84_G4326\")\n",
    "all_available_trans = json.dumps(ct_query.get_entities(), indent=2)\n",
    "print(f'All availiable transformation between ED50 and WGS 84 in total:\\n{all_available_trans}')"
   ]
  }
 ],
 "metadata": {
  "kernelspec": {
   "display_name": "Python 3",
   "language": "python",
   "name": "python3"
  },
  "language_info": {
   "codemirror_mode": {
    "name": "ipython",
    "version": 3
   },
   "file_extension": ".py",
   "mimetype": "text/x-python",
   "name": "python",
   "nbconvert_exporter": "python",
   "pygments_lexer": "ipython3",
   "version": "3.11.8"
  }
 },
 "nbformat": 4,
 "nbformat_minor": 2
}
