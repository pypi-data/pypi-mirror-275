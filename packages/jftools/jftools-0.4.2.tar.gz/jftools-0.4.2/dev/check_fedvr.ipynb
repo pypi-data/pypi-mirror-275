{
  "cells": [
    {
      "cell_type": "code",
      "execution_count": null,
      "metadata": {
        "collapsed": true
      },
      "outputs": [],
      "source": [
        "import numpy as np\n",
        "import scipy"
      ]
    },
    {
      "cell_type": "code",
      "execution_count": null,
      "metadata": {
        "collapsed": false
      },
      "outputs": [],
      "source": [
        "import matplotlib.pyplot as plt\n",
        "%matplotlib inline\n",
        "plt.style.use('jf')"
      ]
    },
    {
      "cell_type": "code",
      "execution_count": null,
      "metadata": {
        "collapsed": false,
        "scrolled": true
      },
      "outputs": [],
      "source": [
        "from jftools import fedvr"
      ]
    },
    {
      "cell_type": "code",
      "execution_count": null,
      "metadata": {
        "collapsed": false
      },
      "outputs": [],
      "source": [
        "# 5 points (element boundaries) gives 4 elements\n",
        "# very low order to have only a few basis functions for plot\n",
        "# g = fedvr_grid(4,np.linspace(0,8,5))\n",
        "g = fedvr.fedvr_grid(4,np.array([0,2,3.5,4.5,6,8]))\n",
        "xnew = np.linspace(g.x[0],g.x[-1],500)\n",
        "fvals = g.get_basis_function_values(xnew)\n",
        "plt.plot(g.x,0*g.x,'ro',ms=10,mew=2.5,zorder=5,label='FEDVR points')\n",
        "for x in [r.x[0] for r in g.regs]+[g.regs[-1].x[-1]]:\n",
        "    plt.axvline(x,ls='--',color='0.4',lw=1,label='FE boundaries' if x==g.regs[0].x[0] else None)\n",
        "plt.plot(xnew,fvals.T)\n",
        "plt.margins(0.03)\n",
        "plt.legend();"
      ]
    },
    {
      "cell_type": "code",
      "execution_count": null,
      "metadata": {
        "collapsed": false
      },
      "outputs": [],
      "source": [
        "from ipywidgets import interact\n",
        "import scipy.sparse.linalg\n",
        "\n",
        "g = fedvr.fedvr_grid(11,np.linspace(-80,80,41))\n",
        "print(\"#Grid points:\",len(g.x))\n",
        "M = 1.\n",
        "sigma = 8.\n",
        "k0 = 1.\n",
        "ts, dt = np.linspace(0,300,301,retstep=True)\n",
        "f0 = lambda x: np.exp(-x**2/(2*sigma**2) + 1j*k0*x)\n",
        "H = -g.dx2/(2*M)\n",
        "psis = np.zeros([len(ts),len(g.x)],dtype=complex)\n",
        "psis[0] = g.project_function(f0)\n",
        "U = scipy.sparse.linalg.expm(-1j*dt*H.tocsc())\n",
        "for ii in range(1,len(ts)):\n",
        "    psis[ii] = U.dot(psis[ii-1])\n",
        "\n",
        "xnew = np.linspace(g.x[0],g.x[-1],500)\n",
        "psiplots = g.evaluate_basis(psis,xnew)\n",
        "@interact(ii=(0,len(ts)-1))\n",
        "def doplot(ii=0):\n",
        "    plt.plot(xnew,abs(psiplots[ii])**2)\n",
        "    #plt.plot(g.x,abs(psis[ii])**2/g.wt,'o--')\n",
        "    plt.ylim(0,1)"
      ]
    },
    {
      "cell_type": "code",
      "execution_count": null,
      "metadata": {
        "collapsed": false
      },
      "outputs": [],
      "source": [
        "sigma = 0.8\n",
        "fdfs = [(lambda x: np.exp(-x**2/(2*sigma**2)), lambda x: np.exp(-x**2/(2*sigma**2)) * -x/sigma**2, lambda x: np.exp(-x**2/(2*sigma**2)) * (x**2-sigma**2)/sigma**4),\n",
        "        (np.sin, np.cos, lambda x: -np.sin(x)),\n",
        "        (lambda x: np.sin(np.pi*x/4)**2, lambda x: np.pi/4*np.sin(np.pi*x/2), lambda x: np.pi**2/8*np.cos(np.pi*x/2)),\n",
        "        (lambda x: np.pi/4*np.sin(np.pi*x/2), lambda x: np.pi**2/8*np.cos(np.pi*x/2), lambda x: -np.pi**3/16*np.sin(np.pi*x/2)),\n",
        "        (lambda x: np.sin(x)**2, lambda x: np.sin(2*x), lambda x: 2*np.cos(2*x)),\n",
        "        (lambda x: np.sin(12*x), lambda x: 12*np.cos(12*x), lambda x: -144*np.sin(12*x))\n",
        "       ]\n",
        "g = fedvr.fedvr_grid(11,np.linspace(-4,4,5))\n",
        "xnew = np.linspace(g.x[0],g.x[-1],1000)\n",
        "\n",
        "fig, axs = plt.subplots(1,len(fdfs),figsize=(7.5*len(fdfs),6.5))\n",
        "for (f,df,d2f),ax in zip(fdfs,axs):\n",
        "    cn = g.project_function(f)\n",
        "    y  = g.evaluate_basis(cn,xnew)\n",
        "    dcn = g.dx.dot(cn)\n",
        "    dy  = g.evaluate_basis(dcn,xnew)\n",
        "    dcn2 = g.dx2.dot(cn)\n",
        "    dcn2a = g.dx.dot(dcn)\n",
        "    dy2  = g.evaluate_basis(dcn2,xnew)\n",
        "    dy2a = g.evaluate_basis(dcn2a,xnew)\n",
        "    ax._get_lines.get_next_color()\n",
        "    ax.plot(xnew,y,label=r'$f(x)$')\n",
        "    ax.plot(xnew,f(xnew),'k--')\n",
        "    ax.plot(xnew,dy,label=r\"$f'(x)$\")\n",
        "    ax.plot(xnew,df(xnew),'k--')\n",
        "    ax.plot(xnew,dy2,label=r\"$f''(x)$\")\n",
        "    ax.plot(xnew,d2f(xnew),'k--')\n",
        "    ax.margins(0.03)\n",
        "    ax.legend(fontsize=18)"
      ]
    },
    {
      "cell_type": "code",
      "execution_count": null,
      "metadata": {
        "collapsed": false
      },
      "outputs": [],
      "source": [
        "dx = g.dx.toarray()\n",
        "dxdx = dx @ dx\n",
        "dx2 = g.dx2.toarray()\n",
        "print(np.linalg.norm(dx+dx.T))\n",
        "print(np.linalg.norm(dxdx-dxdx.T))\n",
        "print(np.linalg.norm(dx2-dx2.T))\n",
        "plt.plot(np.linalg.eigvalsh(-0.5*dx2))\n",
        "plt.plot(np.linalg.eigvalsh(-0.5*dxdx))\n",
        "plt.plot(np.arange(dx.shape[0])**2*np.pi**2/(2*8**2))\n",
        "plt.ylim(0,100)\n",
        "#plt.xlim(0,10); plt.ylim(0,10)"
      ]
    },
    {
      "cell_type": "code",
      "execution_count": null,
      "metadata": {
        "collapsed": false
      },
      "outputs": [],
      "source": [
        "f, axs = plt.subplots(1,4,figsize=(23,4))\n",
        "for ax, arr in zip(axs,[dx,dx2,dxdx,dx2-dxdx]):\n",
        "    arr = np.sign(arr)*np.sqrt(abs(arr))\n",
        "    vmax = abs(arr).max()\n",
        "    im = ax.imshow(arr,interpolation='none',cmap='coolwarm',vmin=-vmax,vmax=vmax)\n",
        "    plt.colorbar(im,ax=ax)"
      ]
    },
    {
      "cell_type": "code",
      "execution_count": null,
      "metadata": {
        "collapsed": false
      },
      "outputs": [],
      "source": [
        "fdfs = [(lambda x: np.exp(-x**2/(2*0.5**2)), lambda x: np.exp(-x**2/(2*0.5**2)) * -x/0.5**2),\n",
        "        (np.sin, np.cos),\n",
        "        (lambda x: np.sin(x)**2, lambda x: np.sin(2*x)),\n",
        "        (lambda x: np.sin(12*x), lambda x: 12*np.cos(12*x))\n",
        "       ]\n",
        "g = fedvr.fedvr_grid(11,np.linspace(-4,4,5))\n",
        "xnew = np.linspace(g.x[0],g.x[-1],1000)\n",
        "\n",
        "fig, axs = plt.subplots(1,len(fdfs),figsize=(7*len(fdfs),5.5))\n",
        "for (f,df),ax in zip(fdfs,axs):\n",
        "    cn = g.project_function(f)\n",
        "    y  = g.evaluate_basis(cn,xnew)\n",
        "    dcn = g.dx.dot(cn)\n",
        "    dy  = g.evaluate_basis(dcn,xnew)\n",
        "    ax._get_lines.get_next_color()\n",
        "    ax.plot(xnew,y,label=r'$f(x)$')\n",
        "    ax.plot(xnew,f(xnew),'k--')\n",
        "    ax.plot(xnew,dy,label=r\"$f'(x)$\")\n",
        "    ax.plot(xnew,df(xnew),'k--')\n",
        "    ax.margins(0.03)\n",
        "    ax.legend(fontsize=18)"
      ]
    },
    {
      "cell_type": "code",
      "execution_count": null,
      "metadata": {
        "collapsed": false
      },
      "outputs": [],
      "source": [
        "f = lambda x: np.exp(-x**2/(2*0.5**2))\n",
        "nfuns = [5,8,11,15]\n",
        "fig, axs = plt.subplots(1,len(nfuns),figsize=(7*len(nfuns),5.5),sharey=True)\n",
        "for nfun, ax in zip(nfuns,axs):\n",
        "    g = fedvr.fedvr_grid(nfun,np.linspace(-4,4,5))\n",
        "    xnew = np.linspace(g.x[0],g.x[-1],1000)\n",
        "    y = f(xnew)\n",
        "    cn = g.project_function(f)\n",
        "    ynew = g.evaluate_basis(cn,xnew)\n",
        "    ax.plot(xnew,y,label=r'$f(x)$',lw=3)\n",
        "    ax.plot(g.x,cn/np.sqrt(g.wt),'o--',lw=1,ms=6,label=r'$f(x_n) = c_n/\\sqrt{w_n}$',zorder=4)\n",
        "    ax.plot(xnew,ynew,'--',label=r'$\\tilde f(x) = \\sum_n c_n b_n(x)$')\n",
        "    ax.margins(0.02)\n",
        "    ax.legend()\n",
        "    ax.set_title(r\"$N_{fun} = %d$, $\\|\\tilde f - f\\|/\\|f\\| = %.3e$\"%(nfun,np.trapz(abs(y-ynew),xnew)/np.trapz(y,xnew)),verticalalignment='bottom')\n",
        "    print(np.trapz(y,xnew)-np.sum(cn*np.sqrt(g.wt)))"
      ]
    }
  ],
  "metadata": {
    "kernelspec": {
      "display_name": "Python 3",
      "language": "python",
      "name": "python3"
    },
    "language_info": {
      "codemirror_mode": {
        "name": "ipython",
        "version": 3
      },
      "file_extension": ".py",
      "mimetype": "text/x-python",
      "name": "python",
      "nbconvert_exporter": "python",
      "pygments_lexer": "ipython3",
      "version": "3.12.1"
    }
  },
  "nbformat": 4,
  "nbformat_minor": 0
}
