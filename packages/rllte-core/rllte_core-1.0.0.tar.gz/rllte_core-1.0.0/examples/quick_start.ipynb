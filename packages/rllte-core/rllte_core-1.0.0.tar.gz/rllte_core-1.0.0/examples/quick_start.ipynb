{
 "cells": [
  {
   "cell_type": "markdown",
   "id": "ac5e7c3e-9bc5-484e-9fb1-34ec3d338a3a",
   "metadata": {},
   "source": [
    "**RLLTE** provides reliable implementations for highly-recognized RL algorithms, and users can build applications with very simple code."
   ]
  },
  {
   "cell_type": "code",
   "execution_count": null,
   "id": "4fe839ed-1f5a-43fc-9d32-394a2304b9db",
   "metadata": {},
   "outputs": [],
   "source": [
    "!pip install rllte-core"
   ]
  },
  {
   "cell_type": "markdown",
   "id": "796874d7-98dc-4cf5-ba73-0e1c0ea7709f",
   "metadata": {},
   "source": [
    "# 1. On NVIDIA GPU"
   ]
  },
  {
   "cell_type": "markdown",
   "id": "24c2f964-53e3-4ceb-9a50-260cfe80ab14",
   "metadata": {},
   "source": [
    "Suppose we want to use [DrQ-v2](https://openreview.net/forum?id=_SJ-_yyes8) to solve a task of DeepMind Control Suite, and \n",
    "it suffices to write a `train.py` like:"
   ]
  },
  {
   "cell_type": "code",
   "execution_count": 3,
   "id": "b2330cb2-95bf-498d-81a4-b6a1a7600cd0",
   "metadata": {},
   "outputs": [
    {
     "name": "stdout",
     "output_type": "stream",
     "text": [
      "[08/28/2023 05:57:14 PM] - [\u001b[1m\u001b[34mINFO.\u001b[0m] - Invoking RLLTE Engine...\n",
      "[08/28/2023 05:57:14 PM] - [\u001b[1m\u001b[34mINFO.\u001b[0m] - ================================================================================\n",
      "[08/28/2023 05:57:14 PM] - [\u001b[1m\u001b[34mINFO.\u001b[0m] - Tag               : drqv2_dmc_pixel\n",
      "[08/28/2023 05:57:14 PM] - [\u001b[1m\u001b[34mINFO.\u001b[0m] - Device            : NVIDIA GeForce RTX 3090\n",
      "[08/28/2023 05:57:14 PM] - [\u001b[1m\u001b[33mDEBUG\u001b[0m] - Agent             : DrQv2\n",
      "[08/28/2023 05:57:14 PM] - [\u001b[1m\u001b[33mDEBUG\u001b[0m] - Encoder           : TassaCnnEncoder\n",
      "[08/28/2023 05:57:14 PM] - [\u001b[1m\u001b[33mDEBUG\u001b[0m] - Policy            : OffPolicyDetActorDoubleCritic\n",
      "[08/28/2023 05:57:14 PM] - [\u001b[1m\u001b[33mDEBUG\u001b[0m] - Storage           : NStepReplayStorage\n",
      "[08/28/2023 05:57:14 PM] - [\u001b[1m\u001b[33mDEBUG\u001b[0m] - Distribution      : TruncatedNormalNoise\n",
      "[08/28/2023 05:57:14 PM] - [\u001b[1m\u001b[33mDEBUG\u001b[0m] - Augmentation      : True, RandomShift\n",
      "[08/28/2023 05:57:14 PM] - [\u001b[1m\u001b[33mDEBUG\u001b[0m] - Intrinsic Reward  : False\n",
      "[08/28/2023 05:57:14 PM] - [\u001b[1m\u001b[33mDEBUG\u001b[0m] - ================================================================================\n",
      "[08/28/2023 05:57:27 PM] - [\u001b[1m\u001b[32mEVAL.\u001b[0m] - S: 0           | E: 0           | L: 500         | R: 651.855     | T: 0:00:13    \n",
      "[08/28/2023 05:57:30 PM] - [\u001b[1m\u001b[31mTRAIN\u001b[0m] - S: 1000        | E: 2           | L: 500         | R: 277.332     | FPS: 61.594    | T: 0:00:16    \n",
      "[08/28/2023 05:57:33 PM] - [\u001b[1m\u001b[31mTRAIN\u001b[0m] - S: 2000        | E: 4           | L: 500         | R: 357.231     | FPS: 104.331   | T: 0:00:19    \n",
      "[08/28/2023 05:57:46 PM] - [\u001b[1m\u001b[31mTRAIN\u001b[0m] - S: 3000        | E: 6           | L: 500         | R: 293.753     | FPS: 92.672    | T: 0:00:32    \n",
      "[08/28/2023 05:57:59 PM] - [\u001b[1m\u001b[31mTRAIN\u001b[0m] - S: 4000        | E: 8           | L: 500         | R: 259.510     | FPS: 87.979    | T: 0:00:45    \n",
      "[08/28/2023 05:58:13 PM] - [\u001b[1m\u001b[31mTRAIN\u001b[0m] - S: 5000        | E: 10          | L: 500         | R: 239.729     | FPS: 85.238    | T: 0:00:58    \n",
      "[08/28/2023 05:58:26 PM] - [\u001b[1m\u001b[32mEVAL.\u001b[0m] - S: 5000        | E: 10          | L: 500         | R: 135.729     | T: 0:01:11    \n",
      "[08/28/2023 05:58:26 PM] - [\u001b[1m\u001b[34mINFO.\u001b[0m] - Training Accomplished!\n",
      "[08/28/2023 05:58:26 PM] - [\u001b[1m\u001b[34mINFO.\u001b[0m] - Model saved at: /export/yuanmingqi/code/rllte/examples/logs/drqv2_dmc_pixel/2023-08-28-05-54-20/logs/drqv2_dmc_pixel/2023-08-28-05-57-14/model\n"
     ]
    }
   ],
   "source": [
    "# import `env` and `agent` api\n",
    "from rllte.env import make_dmc_env \n",
    "from rllte.agent import DrQv2\n",
    "\n",
    "if __name__ == \"__main__\":\n",
    "    device = \"cuda:0\"\n",
    "    # create env, and `eval_env` is optional\n",
    "    env = make_dmc_env(env_id=\"cartpole_balance\", device=device)\n",
    "    eval_env = make_dmc_env(env_id=\"cartpole_balance\", device=device)\n",
    "    # create agent\n",
    "    agent = DrQv2(env=env, \n",
    "                  eval_env=eval_env, \n",
    "                  device='cuda',\n",
    "                  tag=\"drqv2_dmc_pixel\")\n",
    "    # start training\n",
    "    agent.train(num_train_steps=5000, log_interval=1000)"
   ]
  },
  {
   "cell_type": "markdown",
   "id": "e50d2127-4664-4b12-91d2-6e87bb875d38",
   "metadata": {},
   "source": [
    "2. # On HUAWEI NPU"
   ]
  },
  {
   "cell_type": "markdown",
   "id": "a5757276-53bf-4887-9de1-61e4a6ad655f",
   "metadata": {},
   "source": [
    "Similarly, if we want to train an agent on HUAWEI NPU, it suffices to replace `cuda` with `npu`:"
   ]
  },
  {
   "cell_type": "code",
   "execution_count": null,
   "id": "d18850ea-6e4b-4121-bce4-b0db89f7fcbd",
   "metadata": {},
   "outputs": [],
   "source": [
    "device = \"npu:0\""
   ]
  },
  {
   "cell_type": "markdown",
   "id": "06c2294a-23ee-491e-a3b3-280dd1478a9b",
   "metadata": {},
   "source": [
    "Please refer to [https://docs.rllte.dev/api/](https://docs.rllte.dev/api/) for the compatibility of NPU."
   ]
  },
  {
   "cell_type": "markdown",
   "id": "980b05a4-eab4-46f3-b046-c1df3c4a952c",
   "metadata": {},
   "source": [
    "# 3. Load the trained model"
   ]
  },
  {
   "cell_type": "markdown",
   "id": "4ed0abdb-e7ed-439a-bd22-2f5e620bf3d4",
   "metadata": {},
   "source": [
    "Once the training is finished, you can find `agent.pth` in the subfolder `model` of the specified working directory."
   ]
  },
  {
   "cell_type": "code",
   "execution_count": 9,
   "id": "b13b8410-ed25-4618-a952-fc2acc8c7e99",
   "metadata": {},
   "outputs": [
    {
     "name": "stdout",
     "output_type": "stream",
     "text": [
      "tensor([[-1.0000]], grad_fn=<TanhBackward0>)\n"
     ]
    }
   ],
   "source": [
    "import torch as th\n",
    "\n",
    "# load the model and specify the map location\n",
    "agent = th.load(\"agent.pth\", map_location=th.device('cpu'))\n",
    "obs = th.zeros(size=(1, 9, 84, 84))\n",
    "action = agent(obs)\n",
    "print(action)"
   ]
  }
 ],
 "metadata": {
  "kernelspec": {
   "display_name": "Python 3 (ipykernel)",
   "language": "python",
   "name": "python3"
  },
  "language_info": {
   "codemirror_mode": {
    "name": "ipython",
    "version": 3
   },
   "file_extension": ".py",
   "mimetype": "text/x-python",
   "name": "python",
   "nbconvert_exporter": "python",
   "pygments_lexer": "ipython3",
   "version": "3.8.16"
  }
 },
 "nbformat": 4,
 "nbformat_minor": 5
}
