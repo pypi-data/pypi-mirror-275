{
 "cells": [
  {
   "cell_type": "markdown",
   "id": "8eb1a4c3-f96b-4795-8f94-0094c930014b",
   "metadata": {},
   "source": [
    "Observation augmentation is an efficient approach to improve sample efficiency and generalization, which is also a basic primitive of **RLLTE**.\n",
    "\n",
    "> - Laskin M, Lee K, Stooke A, et al. Reinforcement learning with augmented data[J]. Advances in neural information processing systems, 2020, 33: 19884-19895.\n",
    "> - Yarats D, Fergus R, Lazaric A, et al. Mastering Visual Continuous Control: Improved Data-Augmented Reinforcement Learning[C]//International Conference on Learning Representations. 2021.\n",
    "\n",
    "**RLLTE** implements the augmentation modules via a PyTorch-NN manner, and both imaged-based and state-based observations are supported. A code example is:"
   ]
  },
  {
   "cell_type": "code",
   "execution_count": 2,
   "id": "88f9302e-aea2-4a19-9ca8-425db76c838a",
   "metadata": {},
   "outputs": [
    {
     "name": "stdout",
     "output_type": "stream",
     "text": [
      "pygame 2.4.0 (SDL 2.26.4, Python 3.8.16)\n",
      "Hello from the pygame community. https://www.pygame.org/contribute.html\n"
     ]
    },
    {
     "name": "stderr",
     "output_type": "stream",
     "text": [
      "A.L.E: Arcade Learning Environment (version 0.8.1+53f58b7)\n",
      "[Powered by Stella]\n"
     ]
    },
    {
     "name": "stdout",
     "output_type": "stream",
     "text": [
      "[08/29/2023 11:59:15 AM] - [\u001b[1m\u001b[34mINFO.\u001b[0m] - Invoking RLLTE Engine...\n",
      "[08/29/2023 11:59:15 AM] - [\u001b[1m\u001b[34mINFO.\u001b[0m] - ================================================================================\n",
      "[08/29/2023 11:59:15 AM] - [\u001b[1m\u001b[34mINFO.\u001b[0m] - Tag               : drac_atari\n",
      "[08/29/2023 11:59:15 AM] - [\u001b[1m\u001b[34mINFO.\u001b[0m] - Device            : NVIDIA GeForce RTX 3090\n",
      "[08/29/2023 11:59:15 AM] - [\u001b[1m\u001b[33mDEBUG\u001b[0m] - Agent             : DrAC\n",
      "[08/29/2023 11:59:15 AM] - [\u001b[1m\u001b[33mDEBUG\u001b[0m] - Encoder           : MnihCnnEncoder\n",
      "[08/29/2023 11:59:15 AM] - [\u001b[1m\u001b[33mDEBUG\u001b[0m] - Policy            : OnPolicySharedActorCritic\n",
      "[08/29/2023 11:59:15 AM] - [\u001b[1m\u001b[33mDEBUG\u001b[0m] - Storage           : VanillaRolloutStorage\n",
      "[08/29/2023 11:59:15 AM] - [\u001b[1m\u001b[33mDEBUG\u001b[0m] - Distribution      : Categorical\n",
      "[08/29/2023 11:59:15 AM] - [\u001b[1m\u001b[33mDEBUG\u001b[0m] - Augmentation      : True, RandomCrop\n",
      "[08/29/2023 11:59:15 AM] - [\u001b[1m\u001b[33mDEBUG\u001b[0m] - Intrinsic Reward  : False\n",
      "[08/29/2023 11:59:15 AM] - [\u001b[1m\u001b[33mDEBUG\u001b[0m] - ================================================================================\n",
      "[08/29/2023 11:59:18 AM] - [\u001b[1m\u001b[32mEVAL.\u001b[0m] - S: 0           | E: 0           | L: 23          | R: 24.000      | T: 0:00:03    \n",
      "[08/29/2023 11:59:20 AM] - [\u001b[1m\u001b[31mTRAIN\u001b[0m] - S: 1024        | E: 8           | L: 44          | R: 99.000      | FPS: 185.009   | T: 0:00:05    \n",
      "[08/29/2023 11:59:21 AM] - [\u001b[1m\u001b[31mTRAIN\u001b[0m] - S: 2048        | E: 16          | L: 44          | R: 108.000     | FPS: 314.479   | T: 0:00:06    \n",
      "[08/29/2023 11:59:22 AM] - [\u001b[1m\u001b[31mTRAIN\u001b[0m] - S: 3072        | E: 24          | L: 38          | R: 105.000     | FPS: 409.164   | T: 0:00:07    \n",
      "[08/29/2023 11:59:23 AM] - [\u001b[1m\u001b[31mTRAIN\u001b[0m] - S: 4096        | E: 32          | L: 72          | R: 202.000     | FPS: 487.733   | T: 0:00:08    \n",
      "[08/29/2023 11:59:23 AM] - [\u001b[1m\u001b[34mINFO.\u001b[0m] - Training Accomplished!\n",
      "[08/29/2023 11:59:23 AM] - [\u001b[1m\u001b[34mINFO.\u001b[0m] - Model saved at: /export/yuanmingqi/code/rllte/examples/logs/drac_atari/2023-08-29-11-59-14/model\n"
     ]
    }
   ],
   "source": [
    "from rllte.agent import DrAC\n",
    "from rllte.env import make_atari_env\n",
    "from rllte.xplore.augmentation import RandomCrop\n",
    "\n",
    "if __name__ == \"__main__\":\n",
    "    # env setup\n",
    "    device = \"cuda:0\"\n",
    "    env = make_atari_env(device=device)\n",
    "    eval_env = make_atari_env(device=device)\n",
    "    # create agent\n",
    "    agent = DrAC(env=env, \n",
    "                eval_env=eval_env, \n",
    "                device=device,\n",
    "                tag=\"drac_atari\")\n",
    "    # create augmentation module\n",
    "    random_crop = RandomCrop()\n",
    "    # set the module\n",
    "    agent.set(augmentation=random_crop)\n",
    "    # start training\n",
    "    agent.train(num_train_steps=5000)"
   ]
  },
  {
   "cell_type": "markdown",
   "id": "d3a04952-c083-4939-8d87-b3af4565e521",
   "metadata": {},
   "source": [
    "Note that the module will only make difference when the algorithm supports data augmentation.\n",
    "    Please refer to [https://docs.rllte.dev/api/](https://docs.rllte.dev/api/) for the compatibility."
   ]
  }
 ],
 "metadata": {
  "kernelspec": {
   "display_name": "Python 3 (ipykernel)",
   "language": "python",
   "name": "python3"
  },
  "language_info": {
   "codemirror_mode": {
    "name": "ipython",
    "version": 3
   },
   "file_extension": ".py",
   "mimetype": "text/x-python",
   "name": "python",
   "nbconvert_exporter": "python",
   "pygments_lexer": "ipython3",
   "version": "3.8.16"
  }
 },
 "nbformat": 4,
 "nbformat_minor": 5
}
