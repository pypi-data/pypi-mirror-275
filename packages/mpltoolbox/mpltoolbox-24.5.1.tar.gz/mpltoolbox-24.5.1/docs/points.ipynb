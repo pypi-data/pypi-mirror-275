{
 "cells": [
  {
   "cell_type": "markdown",
   "id": "1615b0d8-83f8-46f9-9b9d-888acbb36f60",
   "metadata": {},
   "source": [
    "# Points\n",
    "\n",
    "Use the `Points` tool to add markers to a plot:"
   ]
  },
  {
   "cell_type": "code",
   "execution_count": null,
   "id": "ddff48f4-b5f9-4ec6-bbb7-212e9574404d",
   "metadata": {},
   "outputs": [],
   "source": [
    "%matplotlib widget\n",
    "import matplotlib.pyplot as plt\n",
    "\n",
    "plt.ioff()\n",
    "import mpltoolbox as tbx"
   ]
  },
  {
   "cell_type": "code",
   "execution_count": null,
   "id": "facfeb74-9092-4cbf-a795-5d3ca6f2ebff",
   "metadata": {},
   "outputs": [],
   "source": [
    "fig, ax = plt.subplots(dpi=96)\n",
    "\n",
    "ax.set_xlim(0, 100)\n",
    "ax.set_ylim(0, 100)\n",
    "\n",
    "points = tbx.Points(ax=ax)"
   ]
  },
  {
   "cell_type": "code",
   "execution_count": null,
   "id": "e530ef80-be62-4dbc-b539-718ab0f4354c",
   "metadata": {
    "nbsphinx": "hidden"
   },
   "outputs": [],
   "source": [
    "import numpy as np\n",
    "\n",
    "np.random.seed(100)  # Fixed for reproducibility\n",
    "N = 10\n",
    "\n",
    "for i in range(N):\n",
    "    x, y = 100 * np.random.random(2)\n",
    "    points.click(x, y)"
   ]
  },
  {
   "cell_type": "code",
   "execution_count": null,
   "id": "fce3b6a6-9ea7-45ca-96b6-b4b1deda945e",
   "metadata": {},
   "outputs": [],
   "source": [
    "fig"
   ]
  },
  {
   "cell_type": "markdown",
   "id": "f0d78f65-1990-483b-913f-6d4dbc7a1cea",
   "metadata": {},
   "source": [
    "**Controls**\n",
    "\n",
    "- Left-click to make new point\n",
    "- Left-click and hold on point to move point\n",
    "- Middle-click (or Ctrl + left-click) to delete point"
   ]
  }
 ],
 "metadata": {
  "kernelspec": {
   "display_name": "Python 3 (ipykernel)",
   "language": "python",
   "name": "python3"
  },
  "language_info": {
   "codemirror_mode": {
    "name": "ipython",
    "version": 3
   },
   "file_extension": ".py",
   "mimetype": "text/x-python",
   "name": "python",
   "nbconvert_exporter": "python",
   "pygments_lexer": "ipython3",
   "version": "3.10.12"
  }
 },
 "nbformat": 4,
 "nbformat_minor": 5
}
