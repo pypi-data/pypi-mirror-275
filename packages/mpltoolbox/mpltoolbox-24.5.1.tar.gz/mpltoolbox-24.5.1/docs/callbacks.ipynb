{
 "cells": [
  {
   "cell_type": "markdown",
   "id": "99eccf27-aff0-4ce3-a21d-2c5b6593bc54",
   "metadata": {},
   "source": [
    "# Callbacks\n",
    "\n",
    "Every tool in the `mpltoolbox` comes with entry points for adding callbacks to different events.\n",
    "The different events are:\n",
    "\n",
    "- `on_create`: called when drawing the shape (rectangle, line or polygon) is complete\n",
    "- `on_change`: called when the shape has changed in any way (position, size...)\n",
    "- `on_remove`: called when the shape is deleted (middle-click, or Ctrl + left-click)\n",
    "- `on_vertex_press`: called when a vertex is clicked (left-click)\n",
    "- `on_vertex_move`: called when a vertex is moved\n",
    "- `on_vertex_release`: called when the mouse button is released after clicking a vertex\n",
    "- `on_drag_press`: called when the entire shape (rectangle, line, etc..) is right clicked to initiate drag\n",
    "- `on_drag_move`: called for every movement during shape drag (right-click and hold)\n",
    "- `on_drag_release`: called when the shape is released after drag\n",
    "\n",
    "Below is a couple of examples on how these callbacks are used."
   ]
  },
  {
   "cell_type": "code",
   "execution_count": null,
   "id": "83db812a-0d64-442c-b1bc-b222aa30292a",
   "metadata": {},
   "outputs": [],
   "source": [
    "%matplotlib widget\n",
    "import numpy as np\n",
    "import matplotlib.pyplot as plt\n",
    "\n",
    "plt.ioff()\n",
    "import mpltoolbox as tbx"
   ]
  },
  {
   "cell_type": "markdown",
   "id": "c8045a0a-1922-4686-9c75-1e1439c408a7",
   "metadata": {},
   "source": [
    "## Example 1: Add markers to slice 3d cube\n",
    "\n",
    "We first make some three-dimensional data:"
   ]
  },
  {
   "cell_type": "code",
   "execution_count": null,
   "id": "e4788fa0-f364-4529-a86b-23ac9b57f98c",
   "metadata": {},
   "outputs": [],
   "source": [
    "N = 200\n",
    "M = 300\n",
    "L = 100\n",
    "xx = np.arange(N, dtype=np.float64)\n",
    "yy = np.arange(M, dtype=np.float64)\n",
    "zz = np.arange(L, dtype=np.float64)\n",
    "x, y, z = np.meshgrid(xx, yy, zz, indexing=\"ij\")\n",
    "b = N / 20.0\n",
    "c = M / 2.0\n",
    "d = L / 2.0\n",
    "r = np.sqrt(((x - c) / b) ** 2 + ((y - c) / b) ** 2 + ((z - d) / b) ** 2)\n",
    "a = 10.0 * np.sin(r) + np.random.random([N, M, L])"
   ]
  },
  {
   "cell_type": "markdown",
   "id": "610fd362-36bc-4922-8629-2e7978f37aa4",
   "metadata": {},
   "source": [
    "Create a figure to display the first `z` slice of the data as a two-dimensional image,\n",
    "as well as an empty subplot below:"
   ]
  },
  {
   "cell_type": "code",
   "execution_count": null,
   "id": "83d494dc-edf4-4f65-901b-40eeaa0ac0dd",
   "metadata": {},
   "outputs": [],
   "source": [
    "fig, ax = plt.subplots(2, 1, figsize=(7, 7))\n",
    "fig.canvas.header_visible = False\n",
    "ax[0].imshow(a[..., 0], interpolation=\"none\", origin=\"lower\")\n",
    "ax[0].set(xlabel='x', ylabel='y')\n",
    "ax[1].set(xlabel='z')\n",
    "fig.tight_layout()"
   ]
  },
  {
   "cell_type": "markdown",
   "id": "56f8e75a-1bb5-464b-be67-0aa9df616556",
   "metadata": {},
   "source": [
    "Then we add a `Points` tool where:\n",
    "\n",
    "- When a dot is added on the image, a line is created in the lower panel, showing a one-dimensional `z` slice at the location of the marker\n",
    "- When a dot is moved, the `z` line is updated accordingly\n",
    "- When a dot is removed, remove the corresponding `z` profile"
   ]
  },
  {
   "cell_type": "code",
   "execution_count": null,
   "id": "6071cdd9-2b7c-4e1e-8532-50bcd962a850",
   "metadata": {},
   "outputs": [],
   "source": [
    "def make_line(new_point):\n",
    "    (l,) = ax[1].plot(a[int(new_point.y), int(new_point.x), :])\n",
    "    new_point.associated = l\n",
    "\n",
    "\n",
    "def update_line(new_point):\n",
    "    new_point.associated.set_ydata(a[int(new_point.y), int(new_point.x), :])\n",
    "\n",
    "\n",
    "def remove_line(point):\n",
    "    point.associated.remove()\n",
    "\n",
    "\n",
    "points = tbx.Points(ax=ax[0], mec=\"white\")\n",
    "points.on_create(make_line)\n",
    "points.on_change(update_line)\n",
    "points.on_remove(remove_line)"
   ]
  },
  {
   "cell_type": "code",
   "execution_count": null,
   "id": "919d3cdb-56aa-40b9-8c8a-faae2a6b0472",
   "metadata": {
    "nbsphinx": "hidden"
   },
   "outputs": [],
   "source": [
    "points.click(x=101, y=67)\n",
    "points.click(x=116, y=96)\n",
    "points.click(x=271, y=155)"
   ]
  },
  {
   "cell_type": "code",
   "execution_count": null,
   "id": "7adb0d4a-84c1-463d-ad87-2188e4bedf1c",
   "metadata": {},
   "outputs": [],
   "source": [
    "fig"
   ]
  },
  {
   "cell_type": "markdown",
   "id": "9bcc5b12-ca85-4aeb-a3fb-81191b3caeae",
   "metadata": {},
   "source": [
    "## Example 2: Histogram inside a rectangular region\n",
    "\n",
    "In the second example, we use the `Ractangles` tool to draw rectangles on the same 2d image.\n",
    "This defines a region of interest, inside which the data will be histogrammed and displayed on the lower panel. "
   ]
  },
  {
   "cell_type": "code",
   "execution_count": null,
   "id": "37fea063-f036-4d06-a0b6-92d57e8f32d5",
   "metadata": {},
   "outputs": [],
   "source": [
    "fig2, ax2 = plt.subplots(2, 1, figsize=(7, 7))\n",
    "fig2.canvas.header_visible = False\n",
    "fig2.tight_layout()\n",
    "ax2[0].imshow(a[..., 0], interpolation=\"none\", origin=\"lower\")\n",
    "\n",
    "\n",
    "def make_hist(new_rectangle):\n",
    "    xy = new_rectangle.xy\n",
    "    ix0 = int(xy[0])\n",
    "    iy0 = int(xy[1])\n",
    "    ix1 = int(xy[0] + new_rectangle.width)\n",
    "    iy1 = int(xy[1] + new_rectangle.height)\n",
    "    n, bins, patches = ax2[1].hist(\n",
    "        a[min(iy0, iy1) : max(iy0, iy1), min(ix0, ix1) : max(ix0, ix1), :].ravel(),\n",
    "        edgecolor=new_rectangle.edgecolor,\n",
    "        facecolor=\"None\",\n",
    "    )\n",
    "    new_rectangle.associated = patches\n",
    "\n",
    "\n",
    "def update_hist(new_rectangle):\n",
    "    new_rectangle.associated.remove()\n",
    "    make_hist(new_rectangle)\n",
    "\n",
    "\n",
    "def remove_hist(rectangle):\n",
    "    rectangle.associated.remove()\n",
    "\n",
    "\n",
    "rects = tbx.Rectangles(ax=ax2[0], facecolor=(0, 0, 0, 0.3))\n",
    "rects.on_create(make_hist)\n",
    "rects.on_change(update_hist)\n",
    "rects.on_remove(remove_hist)"
   ]
  },
  {
   "cell_type": "code",
   "execution_count": null,
   "id": "9b906bbd-4f24-4df0-a72a-0af7ffd4609d",
   "metadata": {
    "nbsphinx": "hidden"
   },
   "outputs": [],
   "source": [
    "rects.click(x=51, y=67)\n",
    "rects.click(x=159, y=125)\n",
    "\n",
    "rects.click(x=200, y=130)\n",
    "rects.click(x=260, y=175)"
   ]
  },
  {
   "cell_type": "code",
   "execution_count": null,
   "id": "0b4b39a5-6967-4490-ad66-0b2cda41a259",
   "metadata": {},
   "outputs": [],
   "source": [
    "fig2"
   ]
  },
  {
   "cell_type": "markdown",
   "id": "9b70b2f8-734b-4848-a1ef-115c76cf6dde",
   "metadata": {},
   "source": [
    "## Example 3: Multiple callbacks\n",
    "\n",
    "It is also possible to add multiple callbacks by calling the `on_*` methods multiple times:"
   ]
  },
  {
   "cell_type": "code",
   "execution_count": null,
   "id": "0654a4a4-0ebb-4156-a987-2dbff2623ac1",
   "metadata": {},
   "outputs": [],
   "source": [
    "fig, ax = plt.subplots(2, 1, figsize=(7, 7))\n",
    "fig.canvas.header_visible = False\n",
    "ax[0].set(xlabel='x', ylabel='y')\n",
    "ax[1].set(xlabel='z')\n",
    "fig.tight_layout()\n",
    "ax[0].imshow(a[..., 0], interpolation=\"none\", origin=\"lower\")\n",
    "\n",
    "\n",
    "def make_line(p):\n",
    "    (l,) = ax[1].plot(a[int(p.y), int(p.y), :])\n",
    "    p.associated = l\n",
    "\n",
    "\n",
    "def update_line(p):\n",
    "    p.associated.set_ydata(a[int(p.y), int(p.y), :])\n",
    "\n",
    "\n",
    "def make_text(p):\n",
    "    t = ax[1].text(50.0, np.random.random() * 10, f\"x={int(p.x)}; y={int(p.y)}\")\n",
    "    p.text = t\n",
    "\n",
    "\n",
    "def update_text(p):\n",
    "    p.text.set_text(f\"x={int(p.x)}; y={int(p.y)}\")\n",
    "\n",
    "\n",
    "points = tbx.Points(ax=ax[0], mec=\"white\")\n",
    "points.on_create(make_line)\n",
    "points.on_create(make_text)\n",
    "points.on_change(update_line)\n",
    "points.on_change(update_text)"
   ]
  },
  {
   "cell_type": "code",
   "execution_count": null,
   "id": "00c86508-7aff-4f88-9917-adaaa5877ad7",
   "metadata": {
    "nbsphinx": "hidden"
   },
   "outputs": [],
   "source": [
    "points.click(x=101, y=67)\n",
    "points.click(x=116, y=96)\n",
    "points.click(x=271, y=155)"
   ]
  },
  {
   "cell_type": "code",
   "execution_count": null,
   "id": "72b61fda-0f05-4983-ab70-ac78bf47b25f",
   "metadata": {},
   "outputs": [],
   "source": [
    "fig"
   ]
  }
 ],
 "metadata": {
  "kernelspec": {
   "display_name": "Python 3 (ipykernel)",
   "language": "python",
   "name": "python3"
  },
  "language_info": {
   "codemirror_mode": {
    "name": "ipython",
    "version": 3
   },
   "file_extension": ".py",
   "mimetype": "text/x-python",
   "name": "python",
   "nbconvert_exporter": "python",
   "pygments_lexer": "ipython3",
   "version": "3.10.12"
  }
 },
 "nbformat": 4,
 "nbformat_minor": 5
}
