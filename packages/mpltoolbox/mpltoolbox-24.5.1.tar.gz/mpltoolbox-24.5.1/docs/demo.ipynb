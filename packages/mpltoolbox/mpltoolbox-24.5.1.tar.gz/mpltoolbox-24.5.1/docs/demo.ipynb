{
 "cells": [
  {
   "cell_type": "markdown",
   "id": "6bd703db-0c7a-4d7e-baee-ab6b899dbf2a",
   "metadata": {},
   "source": [
    "# Mpltoolbox demo"
   ]
  },
  {
   "cell_type": "code",
   "execution_count": null,
   "id": "dabfdcd2-2828-4d62-92e8-992f5bd2ce01",
   "metadata": {},
   "outputs": [],
   "source": [
    "%matplotlib widget\n",
    "import matplotlib.pyplot as plt\n",
    "import mpltoolbox as tbx\n",
    "import numpy as np\n",
    "\n",
    "\n",
    "def new_figure():\n",
    "    fig, ax = plt.subplots(dpi=96)\n",
    "    ax.set_xlim(0, 100)\n",
    "    ax.set_ylim(0, 100)\n",
    "    return fig, ax"
   ]
  },
  {
   "cell_type": "markdown",
   "id": "19d02926-a9ec-4402-9f92-f11d3f70e0cc",
   "metadata": {},
   "source": [
    "## Points\n",
    "\n",
    "Use the `Points` tool to add markers to a plot.\n",
    "\n",
    "**Controls**\n",
    "\n",
    "- Left-click to make new point\n",
    "- Left-click and hold on point to move point\n",
    "- Middle-click (or Ctrl + left-click) to delete point"
   ]
  },
  {
   "cell_type": "code",
   "execution_count": null,
   "id": "facfeb74-9092-4cbf-a795-5d3ca6f2ebff",
   "metadata": {},
   "outputs": [],
   "source": [
    "fig, ax = new_figure()\n",
    "\n",
    "points = tbx.Points(ax=ax)"
   ]
  },
  {
   "cell_type": "markdown",
   "id": "cab9a16c-ca09-45f2-bbed-f649b3a2356e",
   "metadata": {},
   "source": [
    "## Lines\n",
    "\n",
    "Use the `Lines` tool to add lines to a plot.\n",
    "The argument `n` should be used to set the number of vertices per line.\n",
    "\n",
    "**Controls**\n",
    "\n",
    "- Left-click to make new lines\n",
    "- Left-click and hold on line vertex to move vertex\n",
    "- Right-click and hold to drag/move the entire line\n",
    "- Middle-click (or Ctrl + left-click) to delete line"
   ]
  },
  {
   "cell_type": "code",
   "execution_count": null,
   "id": "851df6d6-17ed-4691-b5fb-d9cd4adc9104",
   "metadata": {},
   "outputs": [],
   "source": [
    "fig, ax = new_figure()\n",
    "\n",
    "lines = tbx.Lines(ax=ax, n=2)"
   ]
  },
  {
   "cell_type": "markdown",
   "id": "00c0922f-e34c-4709-bf54-23b04e12282b",
   "metadata": {},
   "source": [
    "## Rectangles\n",
    "\n",
    "Use the `Rectangles` tool to add rectangles to a plot.\n",
    "\n",
    "**Controls**\n",
    "\n",
    "- Left-click and hold to make new rectangle\n",
    "- Left-click and hold on ellipse vertex to resize\n",
    "- Right-click and hold to drag/move rectangle\n",
    "- Middle-click (or Ctrl + left-click) to delete rectangle"
   ]
  },
  {
   "cell_type": "code",
   "execution_count": null,
   "id": "343d6d02-e6e8-4384-a56b-d22be12ffb3c",
   "metadata": {},
   "outputs": [],
   "source": [
    "fig, ax = new_figure()\n",
    "\n",
    "rects = tbx.Rectangles(ax=ax)"
   ]
  },
  {
   "cell_type": "markdown",
   "id": "60be9e36-1dba-4af3-98c0-1c93eab333e2",
   "metadata": {},
   "source": [
    "## Ellipses\n",
    "\n",
    "Use the `Ellipses` tool to add ellipses to a plot.\n",
    "\n",
    "**Controls**\n",
    "\n",
    "- Left-click and hold to make new ellipse\n",
    "- Left-click and hold on ellipse vertex to resize\n",
    "- Right-click and hold to drag/move ellipse\n",
    "- Middle-click (or Ctrl + left-click) to delete ellipse"
   ]
  },
  {
   "cell_type": "code",
   "execution_count": null,
   "id": "2653ea9d-5a3d-43d2-96a4-c5a680cd0611",
   "metadata": {},
   "outputs": [],
   "source": [
    "fig, ax = new_figure()\n",
    "\n",
    "ellipses = tbx.Ellipses(ax=ax)"
   ]
  },
  {
   "cell_type": "markdown",
   "id": "230bf370-ccbf-43a2-8595-8f8809d4b081",
   "metadata": {},
   "source": [
    "## Polygons\n",
    "\n",
    "Use the `Polygons` tool to add closed polygons to a plot.\n",
    "\n",
    "**Controls**\n",
    "\n",
    "- Left-click to make new polygon\n",
    "- Left-click and hold on polygon vertex to move vertex\n",
    "- Right-click and hold to drag/move the entire polygon\n",
    "- Middle-click (or Ctrl + left-click) to delete polygon"
   ]
  },
  {
   "cell_type": "code",
   "execution_count": null,
   "id": "e7f8d790-44e1-47f9-ab8b-f7f37e2e9775",
   "metadata": {},
   "outputs": [],
   "source": [
    "fig, ax = new_figure()\n",
    "\n",
    "polygons = tbx.Polygons(ax=ax)"
   ]
  },
  {
   "cell_type": "markdown",
   "id": "7f0c4094-bdc8-4175-bad4-71db182691e7",
   "metadata": {},
   "source": [
    "## Spans\n",
    "\n",
    "Use the `Vspans` tool to add vertical spans to a plot.\n",
    "\n",
    "**Controls**\n",
    "\n",
    "- Left-click and hold to make new span\n",
    "- Left-click and hold on span vertex to resize\n",
    "- Right-click and hold to drag/move span\n",
    "- Middle-click (or Ctrl + left-click) to delete span"
   ]
  },
  {
   "cell_type": "code",
   "execution_count": null,
   "id": "fd1170a9-224f-475f-ad2a-737b3ea80371",
   "metadata": {},
   "outputs": [],
   "source": [
    "fig, ax = new_figure()\n",
    "\n",
    "vspans = tbx.Vspans(ax=ax)"
   ]
  },
  {
   "cell_type": "markdown",
   "id": "7334cbb6-1984-4c31-931c-bb56b17e3ca0",
   "metadata": {},
   "source": [
    "Use the `Hspans` tool to add horizontal spans to a plot."
   ]
  },
  {
   "cell_type": "code",
   "execution_count": null,
   "id": "d20270e1-b106-47cc-9909-62eb2200f8e2",
   "metadata": {},
   "outputs": [],
   "source": [
    "fig, ax = new_figure()\n",
    "\n",
    "hspans = tbx.Hspans(ax=ax)"
   ]
  },
  {
   "cell_type": "markdown",
   "id": "5347d8e8-fac4-421d-9dfa-8bf68e7f930d",
   "metadata": {},
   "source": [
    "# Callbacks\n",
    "\n",
    "Every tool in the `mpltoolbox` comes with entry points for adding callbacks to different events.\n",
    "The different events are:\n",
    "\n",
    "- `on_create`: called when drawing the shape (rectangle, line or polygon) is complete\n",
    "- `on_change`: called when the shape has changed in any way (position, size...)\n",
    "- `on_remove`: called when the shape is deleted (middle-click, or Ctrl + left-click)\n",
    "- `on_vertex_press`: called when a vertex is clicked (left-click)\n",
    "- `on_vertex_move`: called when a vertex is moved\n",
    "- `on_vertex_release`: called when the mouse button is released after clicking a vertex\n",
    "- `on_drag_press`: called when the entire shape (rectangle, line, etc..) is right clicked to initiate drag\n",
    "- `on_drag_move`: called for every movement during shape drag (right-click and hold)\n",
    "- `on_drag_release`: called when the shape is released after drag\n",
    "\n",
    "Below is a couple of examples on how these callbacks are used."
   ]
  },
  {
   "cell_type": "markdown",
   "id": "34f65a2d-6d42-4d8b-b153-471ccaa4661f",
   "metadata": {},
   "source": [
    "### Example: adding markers to slice a 3d data cube\n",
    "\n",
    "We first make some three-dimensional data:"
   ]
  },
  {
   "cell_type": "code",
   "execution_count": null,
   "id": "e5a6e4df-b923-4b0b-a643-faee549c7836",
   "metadata": {},
   "outputs": [],
   "source": [
    "N = 200\n",
    "M = 300\n",
    "L = 100\n",
    "xx = np.arange(N, dtype=np.float64)\n",
    "yy = np.arange(M, dtype=np.float64)\n",
    "zz = np.arange(L, dtype=np.float64)\n",
    "x, y, z = np.meshgrid(xx, yy, zz, indexing='ij')\n",
    "b = N / 20.0\n",
    "c = M / 2.0\n",
    "d = L / 2.0\n",
    "r = np.sqrt(((x - c) / b) ** 2 + ((y - c) / b) ** 2 + ((z - d) / b) ** 2)\n",
    "a = 10.0 * np.sin(r) + np.random.random([N, M, L])"
   ]
  },
  {
   "cell_type": "markdown",
   "id": "833f5a6c-f0b5-4681-b085-250a9b6a73ad",
   "metadata": {},
   "source": [
    "Create a figure to display the first `z` slice of the data as a two-dimensional image,\n",
    "as well as an empty subplot below:"
   ]
  },
  {
   "cell_type": "code",
   "execution_count": null,
   "id": "a9dad0d9-81c0-4de7-9c73-b3b4e23b57f7",
   "metadata": {},
   "outputs": [],
   "source": [
    "fig, ax = plt.subplots(2, 1, figsize=(7, 7))\n",
    "fig.canvas.header_visible = False\n",
    "ax[0].imshow(a[..., 0], interpolation=\"none\", origin=\"lower\")\n",
    "ax[0].set(xlabel='x', ylabel='y')\n",
    "ax[1].set(xlabel='z')\n",
    "fig.tight_layout()"
   ]
  },
  {
   "cell_type": "markdown",
   "id": "b727cdb8-9ba5-4121-bf19-f9245dc68379",
   "metadata": {},
   "source": [
    "Then we add a `Points` tool where:\n",
    "\n",
    "- When a dot is added on the image, a line is created in the lower panel, showing a one-dimensional `z` slice at the location of the marker\n",
    "- When a dot is moved, the `z` line is updated accordingly\n",
    "- When a dot is removed, we remove the corresponding `z` profile"
   ]
  },
  {
   "cell_type": "code",
   "execution_count": null,
   "id": "17434ac6-9201-4f46-afe8-042c258e7b36",
   "metadata": {},
   "outputs": [],
   "source": [
    "def make_line(new_point):\n",
    "    (l,) = ax[1].plot(a[int(new_point.y), int(new_point.x), :])\n",
    "    new_point.associated = l\n",
    "\n",
    "\n",
    "def update_line(new_point):\n",
    "    new_point.associated.set_ydata(a[int(new_point.y), int(new_point.x), :])\n",
    "\n",
    "\n",
    "def remove_line(point):\n",
    "    point.associated.remove()\n",
    "\n",
    "\n",
    "points = tbx.Points(ax=ax[0], mec='white')\n",
    "points.on_create(make_line)\n",
    "points.on_change(update_line)\n",
    "points.on_remove(remove_line)"
   ]
  },
  {
   "cell_type": "markdown",
   "id": "b9134c7c-3a7c-4f20-b8e1-e20b965f650c",
   "metadata": {},
   "source": [
    "Now click on the 2D image to add point markers and `z` profiles on the line plot below."
   ]
  }
 ],
 "metadata": {
  "kernelspec": {
   "display_name": "Python 3 (ipykernel)",
   "language": "python",
   "name": "python3"
  },
  "language_info": {
   "codemirror_mode": {
    "name": "ipython",
    "version": 3
   },
   "file_extension": ".py",
   "mimetype": "text/x-python",
   "name": "python",
   "nbconvert_exporter": "python",
   "pygments_lexer": "ipython3",
   "version": "3.10.12"
  }
 },
 "nbformat": 4,
 "nbformat_minor": 5
}
