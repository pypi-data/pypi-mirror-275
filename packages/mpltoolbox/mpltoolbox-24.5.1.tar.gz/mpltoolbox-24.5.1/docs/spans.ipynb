{
 "cells": [
  {
   "cell_type": "markdown",
   "id": "1615b0d8-83f8-46f9-9b9d-888acbb36f60",
   "metadata": {},
   "source": [
    "# Vertical and horizontal spans\n",
    "\n",
    "## Vspans\n",
    "\n",
    "Use the `Vspans` tool to add vertical spans to a plot."
   ]
  },
  {
   "cell_type": "code",
   "execution_count": null,
   "id": "ddff48f4-b5f9-4ec6-bbb7-212e9574404d",
   "metadata": {},
   "outputs": [],
   "source": [
    "%matplotlib widget\n",
    "import matplotlib.pyplot as plt\n",
    "\n",
    "plt.ioff()\n",
    "import mpltoolbox as tbx"
   ]
  },
  {
   "cell_type": "code",
   "execution_count": null,
   "id": "facfeb74-9092-4cbf-a795-5d3ca6f2ebff",
   "metadata": {},
   "outputs": [],
   "source": [
    "fig, ax = plt.subplots(dpi=96)\n",
    "\n",
    "ax.set_xlim(0, 100)\n",
    "ax.set_ylim(0, 100)\n",
    "\n",
    "vspans = tbx.Vspans(ax=ax)"
   ]
  },
  {
   "cell_type": "code",
   "execution_count": null,
   "id": "e530ef80-be62-4dbc-b539-718ab0f4354c",
   "metadata": {
    "nbsphinx": "hidden"
   },
   "outputs": [],
   "source": [
    "import numpy as np\n",
    "\n",
    "np.random.seed(10)  # Fixed for reproducibility\n",
    "N = 2\n",
    "\n",
    "for i in range(N):\n",
    "    x0, y0, x1, y1 = 100 * np.random.random(4)\n",
    "    vspans.click(x0, y0)\n",
    "    vspans.click(x1, y1)"
   ]
  },
  {
   "cell_type": "code",
   "execution_count": null,
   "id": "fce3b6a6-9ea7-45ca-96b6-b4b1deda945e",
   "metadata": {},
   "outputs": [],
   "source": [
    "fig"
   ]
  },
  {
   "cell_type": "markdown",
   "id": "896224cb-0611-4217-8a6c-07eea4b1d2b6",
   "metadata": {},
   "source": [
    "**Controls**\n",
    "\n",
    "- Left-click and hold to make new vertical span\n",
    "- Right-click and hold to drag/move span\n",
    "- Middle-click (or Ctrl + left-click) to delete span"
   ]
  },
  {
   "cell_type": "markdown",
   "id": "bbc29aab-f385-4cf1-87eb-48c7a9681f45",
   "metadata": {},
   "source": [
    "## Hspans\n",
    "\n",
    "Use the `Hspans` tool to add horizontal spans to a plot."
   ]
  },
  {
   "cell_type": "code",
   "execution_count": null,
   "id": "a94adc99-944d-4b22-a555-aa8aaad5c46e",
   "metadata": {},
   "outputs": [],
   "source": [
    "fig, ax = plt.subplots(dpi=96)\n",
    "\n",
    "ax.set_xlim(0, 100)\n",
    "ax.set_ylim(0, 100)\n",
    "\n",
    "hspans = tbx.Hspans(ax=ax)"
   ]
  },
  {
   "cell_type": "code",
   "execution_count": null,
   "id": "748d584e-8b97-4e6a-bdf4-d312fc1bb3cb",
   "metadata": {
    "nbsphinx": "hidden"
   },
   "outputs": [],
   "source": [
    "np.random.seed(1)  # Fixed for reproducibility\n",
    "N = 2\n",
    "\n",
    "for i in range(N):\n",
    "    x0, y0, x1, y1 = 100 * np.random.random(4)\n",
    "    hspans.click(x0, y0)\n",
    "    hspans.click(x1, y1)"
   ]
  },
  {
   "cell_type": "code",
   "execution_count": null,
   "id": "0f6c5d6f-ad0e-458a-8b14-e509572b6d2b",
   "metadata": {},
   "outputs": [],
   "source": [
    "fig"
   ]
  },
  {
   "cell_type": "markdown",
   "id": "01a53414-0bef-4645-a727-bc3591ef444f",
   "metadata": {},
   "source": [
    "**Controls**\n",
    "\n",
    "- Left-click and hold to make new horizontal span\n",
    "- Right-click and hold to drag/move span\n",
    "- Middle-click (or Ctrl + left-click) to delete span"
   ]
  }
 ],
 "metadata": {
  "kernelspec": {
   "display_name": "Python 3 (ipykernel)",
   "language": "python",
   "name": "python3"
  },
  "language_info": {
   "codemirror_mode": {
    "name": "ipython",
    "version": 3
   },
   "file_extension": ".py",
   "mimetype": "text/x-python",
   "name": "python",
   "nbconvert_exporter": "python",
   "pygments_lexer": "ipython3",
   "version": "3.10.12"
  }
 },
 "nbformat": 4,
 "nbformat_minor": 5
}
