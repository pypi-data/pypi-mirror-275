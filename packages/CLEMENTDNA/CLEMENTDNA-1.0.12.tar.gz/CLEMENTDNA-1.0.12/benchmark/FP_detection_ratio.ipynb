{
 "cells": [
  {
   "cell_type": "code",
   "execution_count": null,
   "metadata": {},
   "outputs": [],
   "source": [
    "import matplotlib.pyplot as plt\n",
    "import warnings\n",
    "import pandas as pd\n",
    "\n",
    "# Suppress Matplotlib warnings\n",
    "warnings.filterwarnings(\"ignore\", category=UserWarning)\n",
    "pd.set_option('display.max_rows', 500)"
   ]
  },
  {
   "cell_type": "markdown",
   "metadata": {},
   "source": [
    "### SimData: FP detection ratio"
   ]
  },
  {
   "cell_type": "code",
   "execution_count": null,
   "metadata": {},
   "outputs": [
    {
     "name": "stdout",
     "output_type": "stream",
     "text": [
      "/data/project/Alzheimer/CLEMENT/03.combinedoutput/1.SimData/SimData_1D/n500_250x/lump/0.1/clone_7/0/result/CLEMENT_decision.results.txt 없음\n",
      "/data/project/Alzheimer/CLEMENT/03.combinedoutput/1.SimData/SimData_1D/n500_250x/lump/0.1/clone_7/2/result/CLEMENT_decision.results.txt 없음\n"
     ]
    }
   ],
   "source": [
    "import numpy as np \n",
    "import pandas as pd\n",
    "import os, glob, math\n",
    "import matplotlib \n",
    "matplotlib.rcParams[\"font.family\"] = 'arial'\n",
    "import palettable\n",
    "import matplotlib.pyplot as plt\n",
    "import seaborn as sns\n",
    "from scipy.stats import ttest_ind\n",
    "\n",
    "for subdir in [\"by_depth\", \"by_fpratio\", \"by_numclone\", \"by_numblock\", \"by_nummutation\",  \"proportions\", \"with_simpleKmeans\", \"Sex_chromosome\", \" FPdetection_ratio\"]:\n",
    "    OUTPUT_DIR = \"/data/project/Alzheimer/YSscript/cle/Revision/\" + str (subdir)\n",
    "    if os.path.exists(OUTPUT_DIR) == False:\n",
    "        os.system(\"mkdir -p \" + OUTPUT_DIR)\n",
    "\n",
    "tabl = palettable.tableau.Tableau_20.mpl_colors\n",
    "safe7 = palettable.cartocolors.qualitative.Vivid_10.mpl_colors\n",
    "Gr_10 = palettable.scientific.sequential.GrayC_20.mpl_colors\n",
    "\n",
    "colorlist = [i for i in safe7]\n",
    "colorlist = [\"royalblue\", \"firebrick\", \"forestgreen\", \"darkorange\", \"saddlebrown\", \"chocolate\",  \"tan\"]\n",
    "colorlist = [\"royalblue\", \"firebrick\", \"forestgreen\", \"darkorange\", \"#7161ef\", \"#957fef\",  \"#b79ced\"]\n",
    "colorlist = [\"royalblue\", \"firebrick\", \"forestgreen\", \"darkorange\", Gr_10[6], Gr_10[5], Gr_10[4]]\n",
    "sns.set_style(\"white\")\n",
    "#sns.set_palette(\"tab10\")\n",
    "sns.set_palette(sns.color_palette(colorlist))\n",
    "\n",
    "\n",
    "\n",
    "def FPdetection_ratio_SimData ( NUM_BLOCK_LIST, NUM_MUTATION_LIST, DEPTH_MEAN_LIST, NUM_CLONE_LIST, FP_RATIO_LIST, SIMDATA_LIST, BENCHMARK_LIST):\n",
    "    long_df = pd.DataFrame ( columns = [\"NUM_BLOCK\", \"NUM_CLONE\", \"BENCHMARK_NO\", \"NUM_MUTATION\", \"DEPTH_MEAN\", \"FP_RATIO\", \"SIMDATA\", \"tool\", \"MS\", \"ARI\", \"EC\", \"FPexistence\", \"FPindex\", \"FPnum\", \"FPnum_ratio\"] )\n",
    "    long_df = long_df.astype ({'FPexistence':'bool' } )\n",
    "    for FP_RATIO in FP_RATIO_LIST:\n",
    "        for SIMDATA in SIMDATA_LIST:         # \"deocy, lump\"\n",
    "        \n",
    "            for NUM_MUTATION in NUM_MUTATION_LIST:\n",
    "                for DEPTH_MEAN in DEPTH_MEAN_LIST:\n",
    "\n",
    "                    for NUM_CLONE in NUM_CLONE_LIST:\n",
    "                        for NUM_BLOCK in NUM_BLOCK_LIST:                            \n",
    "                            for BENCHMARK_NO in range (BENCHMARK_LIST[0], BENCHMARK_LIST[1] + 1):\n",
    "                                INPUT_DIR = \"/data/project/Alzheimer/CLEMENT/03.combinedoutput/1.SimData/SimData_\" + str(NUM_BLOCK) + \"D/n\" + str(NUM_MUTATION) + \"_\" + str(DEPTH_MEAN) + \"x/\" + str (SIMDATA) + \"/\" + str(FP_RATIO) + \"/clone_\" + str(NUM_CLONE) + \"/\" + str(BENCHMARK_NO)\n",
    "                                if \"bm.jpg\" in INPUT_DIR:\n",
    "                                    continue\n",
    "                                if not os.path.exists ( INPUT_DIR ):\n",
    "                                    print (INPUT_DIR + \"없음\")\n",
    "                                    continue\n",
    "                                if not os.path.exists ( INPUT_DIR + \"/result/CLEMENT_decision.results.txt\" ):\n",
    "                                    print (INPUT_DIR + \"/result/CLEMENT_decision.results.txt 없음\" )\n",
    "                                    continue\n",
    "            \n",
    "                                df1 = pd.read_csv ( INPUT_DIR + \"/result/CLEMENT_decision.results.txt\" , sep = \"\\t\", header = None, index_col = 0)\n",
    "                                df2 = pd.read_csv ( INPUT_DIR + \"/result/CLEMENT_decision.membership_count.txt\" , sep = \"\\t\").T\n",
    "\n",
    "                                boo = True if df1.loc [\"FPexistence\"][1] == \"True\" else False\n",
    "                                \n",
    "                                if (FP_RATIO != 0.0) & (df1.loc [\"FPexistence\"][1] == \"True\"):\n",
    "                                    long_df.loc[len(long_df.index)] = [ NUM_BLOCK, NUM_CLONE, BENCHMARK_NO, NUM_MUTATION, DEPTH_MEAN, FP_RATIO, SIMDATA, \"CLEMENT_decision\", int(df1.loc [\"score\"][1].split(\"/\")[0]), float(df1.loc [\"ARI\"][1]), int(df1.loc [\"NUM_CLONE\"][1]), boo, df1.loc [\"FPindex\"][1],  int( df2.loc [ df1.loc [\"FPindex\"][1] ] [0]),  int (df2.loc [ df1.loc [\"FPindex\"][1] ] [0])  / (NUM_MUTATION * FP_RATIO )  ]   # 맨 끝에 하나씩 추가\n",
    "                                elif FP_RATIO == 0.0:\n",
    "                                    if (df1.loc [\"FPexistence\"][1] == \"True\"):\n",
    "                                        long_df.loc[len(long_df.index)] = [ NUM_BLOCK, NUM_CLONE, BENCHMARK_NO, NUM_MUTATION, DEPTH_MEAN, FP_RATIO, SIMDATA, \"CLEMENT_decision\", int(df1.loc [\"score\"][1].split(\"/\")[0]), float(df1.loc [\"ARI\"][1]), int(df1.loc [\"NUM_CLONE\"][1]), boo, df1.loc [\"FPindex\"][1],  int( df2.loc [ df1.loc [\"FPindex\"][1] ] [0]),  None  ]   # 맨 끝에 하나씩 추가\n",
    "                                    else:\n",
    "                                        long_df.loc[len(long_df.index)] = [ NUM_BLOCK, NUM_CLONE, BENCHMARK_NO, NUM_MUTATION, DEPTH_MEAN, FP_RATIO, SIMDATA, \"CLEMENT_decision\", int(df1.loc [\"score\"][1].split(\"/\")[0]), float(df1.loc [\"ARI\"][1]), int(df1.loc [\"NUM_CLONE\"][1]), boo, None,  None,  None  ]   # 맨 끝에 하나씩 추가\n",
    "                            \n",
    "            long_df[\"MS\"] = long_df[\"MS\"] * (100 / long_df[\"NUM_MUTATION\"])     # 100점 만점으로 normalize \n",
    "\n",
    "            # # Visualization\n",
    "            # drawfigure_3column (long_df, RMSE_df, 'NUM_CLONE', \"NUM_BLOCK\", NUM_CLONE_LIST, NUM_BLOCK_LIST, \"SIMDATA - {} & {}\".format (FP_RATIO, SIMDATA), \"/data/project/Alzheimer/YSscript/cle/Revision/by_numclone/1.SimData-byclone_{}_{}.pdf\".format (FP_RATIO, SIMDATA))\n",
    "    return long_df\n",
    "\n",
    "if __name__ == \"__main__\":\n",
    "    global toollist\n",
    "    toollist = [\"CLEMENT_decision\", \"pyclonevi\", \"sciclone\", \"quantumclone\"]\n",
    "\n",
    "    # SimData : decoy, lump\n",
    "    NUM_BLOCK_LIST = [ 1, 2, 3 ]             # 1, 2, 3\n",
    "    NUM_MUTATION_LIST = [ 1000, 500, 100 ]    # 100, 500, 100\n",
    "    DEPTH_MEAN_LIST = [ 250, 125, 30 ]       # 250, 125, 30\n",
    "    FP_RATIO_LIST = [ 0.0, 0.1  ]        # 0.0, 0.1\n",
    "    SIMDATA_LIST = [ \"decoy\", \"lump\"] # \"decoy\", \"lump\"\n",
    "    NUM_CLONE_LIST = [2, 3, 4, 5, 6, 7]      # 2, 3, 4, 5, 6, 7\n",
    "    BENCHMARK_LIST = [0, 3]\n",
    "    long_df = FPdetection_ratio_SimData ( [1], [500], [250], NUM_CLONE_LIST, [0.0, 0.1], [\"decoy\", \"lump\"],  BENCHMARK_LIST  )\n",
    "\n",
    "    long_df\n",
    "    # # CellData \n",
    "    # NUM_BLOCK_LIST = [  1, 2, 3  ]             # 1, 2, 3\n",
    "    # NUM_MUTATION_LIST = [1000, 500, 100]    # 1000, 500, 100\n",
    "    # DEPTH_MEAN_LIST = [250, 125, 30]       # 250, 125, 30\n",
    "    # NUM_PARENT_LIST = [ 0, 1 ]       # 0 , 1\n",
    "    # FP_RATIO_LIST = [ 0.0  ]        # 0.0, 0.1\n",
    "    # AXIS_RATIO_LIST = [ -1 ]        # -1, 0.0, 0.2\n",
    "    # long_df = FPdetection_ratio_CellData ( NUM_BLOCK_LIST, [ 500 ], [250], [0, 1], [0.0], [-1] )\n"
   ]
  },
  {
   "cell_type": "code",
   "execution_count": null,
   "metadata": {},
   "outputs": [
    {
     "data": {
      "text/plain": [
       "<Axes: xlabel='SIMDATA', ylabel='count'>"
      ]
     },
     "metadata": {},
     "output_type": "display_data"
    },
    {
     "data": {
      "image/png": "[encoded data removed]",
      "text/plain": [
       "<Figure size 561.6x288 with 1 Axes>"
      ]
     },
     "metadata": {},
     "output_type": "display_data"
    }
   ],
   "source": [
    "fig, ax = plt.subplots( nrows = 1, ncols = 1, figsize = (7.8 , 4 ))\n",
    "fig.subplots_adjust ( wspace = 0.4, bottom = 0.15, top = 0.85, left = 0.08, right = 0.98)\n",
    "\n",
    "#sns.countplot ( long_df, x = \"SIMDATA\", hue = \"FPexistence\", ax = ax)\n",
    "sns.countplot(data=long_df, x=\"SIMDATA\", hue=\"FP_RATIO\", hue_order=[0.0, 0.1], palette=\"Set2\", ax = ax)"
   ]
  },
  {
   "cell_type": "code",
   "execution_count": null,
   "metadata": {},
   "outputs": [],
   "source": [
    "pd.DataFrame ( long_df.groupby ( [\"SIMDATA\", \"FP_RATIO\",\"NUM_CLONE\"])[\"FPexistence\"] .sum() )\n",
    "\n",
    "long_df [ (long_df [\"SIMDATA\"] == \"decoy\") & (long_df[\"FP_RATIO\"] == 0.0) ]\n",
    "\n",
    "long_df"
   ]
  },
  {
   "cell_type": "markdown",
   "metadata": {},
   "source": [
    "---"
   ]
  },
  {
   "cell_type": "markdown",
   "metadata": {},
   "source": [
    "### CellData 1D: FP의 VAF, BQ\n",
    "- /data/project/Alzheimer/CLEMENT/03.combinedoutput/2.CellData/CellData_1D/n500_125x/parent_0/fp_0.1"
   ]
  },
  {
   "cell_type": "code",
   "execution_count": null,
   "metadata": {},
   "outputs": [],
   "source": [
    "import pandas as pd\n",
    "import numpy as np\n",
    "import matplotlib \n",
    "matplotlib.rcParams[\"font.family\"] = 'arial'\n",
    "import matplotlib.pyplot as plt\n",
    "import seaborn as sns\n",
    "import os, re, glob\n",
    "\n",
    "kwargs = {}\n",
    "\n",
    "NUM_BLOCK_LIST = [ 1 ]             # 1, 2, 3\n",
    "NUM_MUTATION_LIST = [ 500 ]    # 1000, 500, 100\n",
    "DEPTH_MEAN_LIST = [ 250 ]       # 250, 125, 30\n",
    "NUM_PARENT_LIST = [ 0 ]       # 0 , 1\n",
    "FP_RATIO_LIST = [ 0.1  ]        # 0.0, 0.1\n",
    "AXIS_RATIO_LIST = [ -1 ]        # -1, 0.0, 0.2\n",
    "\n",
    "def CellData_FP_BQVAF ( NUM_BLOCK_LIST, NUM_MUTATION_LIST, DEPTH_MEAN_LIST, NUM_PARENT_LIST, FP_RATIO_LIST, AXIS_RATIO_LIST, BENCHMARK_LIST ):\n",
    "    df_concat_all = pd.DataFrame ( columns = [\"ANSWER_MEMBERSHIP\",\t\"NPVAF\", \"NPBQ\",\t\"NUM_MUTATION\",\t\"NUM_BLOCK\",\t\"DEPTH_MEAN\",\t\"NUM_PARENT\",\t\"FP_RATIO\",\t\"SAMPLE\",\t\"BENCHMARK_NO\" ] )\n",
    "    \n",
    "    for NUM_MUTATION in NUM_MUTATION_LIST:\n",
    "        for NUM_BLOCK in NUM_BLOCK_LIST:\n",
    "            for DEPTH_MEAN in DEPTH_MEAN_LIST:\n",
    "                for NUM_PARENT in NUM_PARENT_LIST:\n",
    "                    for FP_RATIO in FP_RATIO_LIST:\n",
    "                        SAMPLE_DIR_LIST = sorted ( glob.glob (\"/data/project/Alzheimer/CLEMENT/03.combinedoutput/2.CellData/CellData_\" + str(NUM_BLOCK) + \"D/n\" + str(NUM_MUTATION) + \"_\" + str(DEPTH_MEAN) + \"x/parent_\" + str (NUM_PARENT) + \"/fp_\" + str(FP_RATIO) + \"/axis_-1/*\" ) )\n",
    "                \n",
    "                        for SAMPLE_DIR in SAMPLE_DIR_LIST:\n",
    "                            if os.path.isdir( SAMPLE_DIR ) == False:\n",
    "                                continue\n",
    "\n",
    "                            SAMPLE = SAMPLE_DIR.split(\"/\")[-1]\n",
    "                            for BENCHMARK_NO in range (BENCHMARK_LIST[0], BENCHMARK_LIST[1] + 1):\n",
    "                                INPUT_ANSWER_MEMBERSHIP = SAMPLE_DIR + \"/\" + str(BENCHMARK_NO) + \"/0.input_membership_letter.txt\"\n",
    "                                INPUT_NPVAF = SAMPLE_DIR + \"/\" + str(BENCHMARK_NO) + \"/0.input_npvaf.txt\"\n",
    "                                INPUT_NPBQ = SAMPLE_DIR + \"/\" + str(BENCHMARK_NO) + \"/0.input_npBQ.txt\"\n",
    "                                if not os.path.exists ( INPUT_ANSWER_MEMBERSHIP ):\n",
    "                                    print (\"{}없음\".format (INPUT_ANSWER_MEMBERSHIP))\n",
    "                                    continue\n",
    "\n",
    "                                df_ANSWER_MEMBERSHIP = pd.read_csv (INPUT_ANSWER_MEMBERSHIP, sep = \"\\t\", header = None)\n",
    "                                df_NPVAF = pd.read_csv (INPUT_NPVAF, sep = \"\\t\", header = None)\n",
    "                                df_NPBQ = pd.read_csv (INPUT_NPBQ, sep = \"\\t\", header = None)\n",
    "                                df_concat = pd.concat ( [df_ANSWER_MEMBERSHIP, df_NPVAF, df_NPBQ], axis = 1)\n",
    "                                df_concat.columns = [\"ANSWER_MEMBERSHIP\", \"NPVAF\", \"NPBQ\"]\n",
    "                                df_concat [\"NUM_MUTATION\"], df_concat [\"NUM_BLOCK\"], df_concat [\"DEPTH_MEAN\"], df_concat[\"NUM_PARENT\"], df_concat[\"FP_RATIO\"] = NUM_MUTATION, NUM_BLOCK, DEPTH_MEAN, NUM_PARENT, FP_RATIO\n",
    "                                df_concat [\"SAMPLE\"] = SAMPLE\n",
    "                                df_concat [\"BENCHMARK_NO\"] = BENCHMARK_NO\n",
    "                                #print (SAMPLE_DIR + \"/\" + str(BENCHMARK_NO), df_ANSWER_MEMBERSHIP.shape, df_NPVAF.shape, df_NPBQ.shape, df_concat.shape)\n",
    "                            df_concat_all = pd.concat ( [df_concat_all, df_concat], axis = 0, ignore_index = True)\n",
    "                            \n",
    "\n",
    "\n",
    "    return df_concat_all\n",
    "\n",
    "if __name__ == \"__main__\":\n",
    "    kwargs = {}\n",
    "\n",
    "    # CellData \n",
    "    NUM_BLOCK_LIST = [  1  ]             # 1, 2, 3\n",
    "    NUM_MUTATION_LIST = [ 500 ]    # 1000, 500, 100\n",
    "    DEPTH_MEAN_LIST = [ 125 ]       # 250, 125, 30\n",
    "    NUM_PARENT_LIST = [ 0 ]       # 0 , 1\n",
    "    FP_RATIO_LIST = [ 0.1  ]        # 0.0, 0.1\n",
    "    AXIS_RATIO_LIST = [ -1 ]        # -1, 0.0, 0.2\n",
    "    df_concat_all = CellData_FP_BQVAF ( NUM_BLOCK_LIST, [ 500 ], [125], [0], [0.1], [-1], [0, 3] )"
   ]
  },
  {
   "cell_type": "code",
   "execution_count": null,
   "metadata": {},
   "outputs": [],
   "source": [
    "df_concat_all.groupby ([\"ANSWER_MEMBERSHIP\"])[[\"NPVAF\", \"NPBQ\"]].mean()"
   ]
  },
  {
   "cell_type": "code",
   "execution_count": null,
   "metadata": {},
   "outputs": [],
   "source": [
    "import warnings, palettable\n",
    "\n",
    "fig, ax = plt.subplots( nrows = 2, ncols = 1, figsize = (15.92 , 10))\n",
    "fig.subplots_adjust ( wspace = 0.25, bottom = 0.2, top = 0.80, left = 0.03, right = 0.98)\n",
    "\n",
    "with warnings.catch_warnings():\n",
    "    warnings.simplefilter(\"ignore\")\n",
    "\n",
    "tabl = palettable.tableau.Tableau_20.mpl_colors\n",
    "safe7 = palettable.cartocolors.qualitative.Vivid_10.mpl_colors\n",
    "Gr_10 = palettable.scientific.sequential.GrayC_20.mpl_colors\n",
    "\n",
    "colorlist = [i for i in tabl]\n",
    "sns.set_style(\"white\")\n",
    "#sns.set_palette(\"tab10\")\n",
    "sns.set_palette(sns.color_palette(colorlist))\n",
    "\n",
    "# Create a grouped bar graph    \n",
    "sns.boxplot(data = df_concat_all, x = 'ANSWER_MEMBERSHIP', y = \"NPVAF\", hue = \"SAMPLE\", ax = ax [0])\n",
    "sns.violinplot(data = df_concat_all, x = 'ANSWER_MEMBERSHIP', y = \"NPBQ\", hue = \"SAMPLE\", ax = ax [1])\n",
    "\n",
    "for ax_individual in ax:\n",
    "    ax_individual.set_xlabel( '' )\n",
    "    ax_individual.set_ylabel( ax_individual.get_ylabel(), fontsize = 15, fontweight = \"semibold\"  )\n",
    "    \n",
    "\n",
    "    ax_individual.yaxis.set_label_coords( -0.09, 0.5)  # ylabel을 이동 (- 왼쪽)\n",
    "    ax_individual.tick_params(axis = 'x', labelsize=14)\n",
    "    ax_individual.tick_params(axis = 'y', labelsize=14)      # pad = -1.0, \n",
    "    sns.despine ( top = True, right = True, ax = ax_individual)\n",
    "    for axis in ['left','bottom']:\n",
    "        ax_individual.spines[axis].set_linewidth(2)\n",
    "    ax_individual.legend_.remove()\n"
   ]
  }
 ],
 "metadata": {
  "kernelspec": {
   "display_name": "Python 3",
   "language": "python",
   "name": "python3"
  },
  "language_info": {
   "codemirror_mode": {
    "name": "ipython",
    "version": 3
   },
   "file_extension": ".py",
   "mimetype": "text/x-python",
   "name": "python",
   "nbconvert_exporter": "python",
   "pygments_lexer": "ipython3",
   "version": "3.8.1"
  }
 },
 "nbformat": 4,
 "nbformat_minor": 2
}
