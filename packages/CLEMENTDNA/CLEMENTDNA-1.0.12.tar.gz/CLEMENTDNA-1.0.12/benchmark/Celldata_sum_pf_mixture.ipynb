{
 "cells": [
  {
   "cell_type": "code",
   "execution_count": 2,
   "metadata": {},
   "outputs": [],
   "source": [
    "import matplotlib.pyplot as plt\n",
    "import seaborn\n",
    "import warnings, os, glob ,subprocess\n",
    "import pandas as pd\n",
    "import numpy as np\n",
    "\n",
    "# Suppress Matplotlib warnings\n",
    "warnings.filterwarnings(\"ignore\", category=UserWarning)\n",
    "pd.set_option('display.max_rows', 500)\n",
    "\n",
    "for subdir in [ \"Celldata_sum_of_mixture\"]:\n",
    "    OUTPUT_DIR = \"/data/project/Alzheimer/YSscript/cle/Revision/\" + str (subdir)\n",
    "    if os.path.exists(OUTPUT_DIR) == False:\n",
    "        os.system(\"mkdir -p \" + OUTPUT_DIR)"
   ]
  },
  {
   "cell_type": "code",
   "execution_count": 49,
   "metadata": {},
   "outputs": [
    {
     "name": "stdout",
     "output_type": "stream",
     "text": [
      "100x\n",
      "1100x\n",
      "125x\n",
      "250x\n",
      "30x\n",
      "60x\n"
     ]
    }
   ],
   "source": [
    "DEPTH_DIRS = sorted ( glob.glob (\"/data/project/Alzheimer/CLEMENT/01.INPUT_TSV/2.CellData/CellData_1D/*x\") )\n",
    "long_df = pd.DataFrame ( columns = [\"DEPTH\", \"TSV\", \"LABEL\", \"NPVAF\", \"CHRPOS\", \"SUM_MIXTURE_CHILD\"] )\n",
    "\n",
    "for DEPTH_DIR in DEPTH_DIRS:\n",
    "    DEPTH = DEPTH_DIR.split(\"/\")[-1].split(\"x\")[0]\n",
    "    TSV_DIRS = sorted ( glob.glob (DEPTH_DIR + \"/*\"))\n",
    "    print (\"{}x\".format (DEPTH))\n",
    "    for TSV_DIR in TSV_DIRS:\n",
    "        if ( \"M3\" in TSV_DIR.split(\"/\")[-1] ) | (\"-9\" in TSV_DIR.split(\"/\")[-1]) | (\"-10\" in TSV_DIR.split(\"/\")[-1]) | (\"-11\" in TSV_DIR.split(\"/\")[-1])  | (\"12\" in TSV_DIR.split(\"/\")[-1])  | (\"-1\" in TSV_DIR.split(\"/\")[-1]) | (\"-3\" in TSV_DIR.split(\"/\")[-1])  | (\"-5\" in TSV_DIR.split(\"/\")[-1])  | (\"-7\" in TSV_DIR.split(\"/\")[-1])  :\n",
    "            continue\n",
    "\n",
    "        inputdf = pd.read_csv (TSV_DIR, sep = \"\\t\", names = [\"CHRPOS\", \"LABEL\", \"DEPTHALT\", \"BQ\"] )\n",
    "        inputdf [\"DEPTH\"] = DEPTH\n",
    "        inputdf [\"NPVAF\"] = inputdf[\"DEPTHALT\"].str.split(\",\").str[1].astype(\"int\")  /  inputdf[\"DEPTHALT\"].str.split(\",\").str[0].astype (\"int\")\n",
    "        inputdf [\"DEP\"] = inputdf[\"DEPTHALT\"].str.split(\",\").str[0].astype (\"int\")\n",
    "        inputdf [\"TSV\"] = TSV_DIR.split(\"/\")[-1].split(\"_input\")[0]\n",
    "        inputdf = inputdf [ inputdf[\"DEP\"] >= 10].drop (columns = \"DEP\", axis = 1  )\n",
    "        \n",
    "        mean_inputdf = pd.DataFrame ( inputdf.groupby( \"LABEL\" )[\"NPVAF\"].mean() )\n",
    "        sum_mixture_child = np.sum ( mean_inputdf.loc[ list( {'S0', 'V1', 'V2', 'V3', 'V4'}.intersection(mean_inputdf.index) ) ][\"NPVAF\"].astype(\"float\") * 2 ) \n",
    "        inputdf [\"SUM_MIXTURE_CHILD\"] = sum_mixture_child\n",
    "        \n",
    "        long_df = pd.concat ( [  long_df, inputdf [ [\"DEPTH\", \"TSV\", \"LABEL\", \"NPVAF\", \"CHRPOS\", \"SUM_MIXTURE_CHILD\"] ]  ], axis = 0 )\n",
    "\n",
    "long_df[\"DEPTH\"] = long_df[\"DEPTH\"].astype (\"int\")\n",
    "long_df = long_df.sort_values (by = 'DEPTH', axis = 0).reset_index ( drop = True)\n",
    "long_df = long_df [long_df[\"LABEL\"].isin ( [\"S0\", \"V1\", \"V2\", \"V3\", \"V4\"])].drop_duplicates(['DEPTH', 'TSV', 'SUM_MIXTURE_CHILD'], keep = 'first')[ [\"DEPTH\",\"TSV\", \"SUM_MIXTURE_CHILD\" ]]"
   ]
  },
  {
   "cell_type": "code",
   "execution_count": 61,
   "metadata": {},
   "outputs": [
    {
     "name": "stderr",
     "output_type": "stream",
     "text": [
      "<ipython-input-61-7a61e4f60f35>:15: FutureWarning: Passing `palette` without assigning `hue` is deprecated.\n",
      "  sns.swarmplot ( long_df , x = \"DEPTH\", y = \"SUM_MIXTURE_CHILD\", palette = colorlist, size = 8, edgecolor = \"white\", linewidth = 0.5)\n",
      "No artists with labels found to put in legend.  Note that artists whose label start with an underscore are ignored when legend() is called with no argument.\n"
     ]
    },
    {
     "name": "stdout",
     "output_type": "stream",
     "text": [
      "        DEPTH   TSV  SUM_MIXTURE_CHILD\n",
      "0          30  M2-2           1.417430\n",
      "1          30  M2-4           1.384033\n",
      "3037       30  M1-8           1.233851\n",
      "6073       30  M2-8           1.415207\n",
      "7021       30  M2-6           1.343394\n",
      "12143      30  M1-2           1.280535\n",
      "12145      30  M1-4           1.279689\n",
      "12262      30  M1-6           1.271105\n",
      "24286      60  M1-4           1.130611\n",
      "27510      60  M1-2           1.125913\n",
      "30736      60  M2-8           1.173293\n",
      "30739      60  M2-4           1.157325\n",
      "32660      60  M2-6           1.144896\n",
      "34581      60  M2-2           1.209718\n",
      "46108      60  M1-6           1.099693\n",
      "53792      60  M1-8           1.085990\n",
      "61475     100  M1-2           1.072654\n",
      "61476     100  M2-6           1.071647\n",
      "61477     100  M2-4           1.088368\n",
      "63197     100  M2-2           1.128319\n",
      "67327     100  M1-8           1.035561\n",
      "72490     100  M2-8           1.094911\n",
      "83504     100  M1-4           1.073279\n",
      "84192     100  M1-6           1.039521\n",
      "105528    125  M2-4           1.029802\n",
      "105970    125  M2-2           1.057075\n",
      "112653    125  M1-8           0.996302\n",
      "119783    125  M2-8           1.012659\n",
      "122011    125  M2-6           1.017444\n",
      "134037    125  M1-6           1.010268\n",
      "134040    125  M1-4           1.017594\n",
      "139587    125  M1-2           1.058449\n",
      "156230    250  M2-4           0.991930\n",
      "156735    250  M2-2           1.005186\n",
      "164417    250  M1-8           0.976278\n",
      "172608    250  M2-8           0.978045\n",
      "174657    250  M2-6           0.986711\n",
      "188989    250  M1-4           0.987848\n",
      "191056    250  M1-2           1.007319\n",
      "192296    250  M1-6           0.981566\n",
      "215431   1100  M2-2           0.976067\n",
      "219665   1100  M1-8           0.966780\n",
      "223902   1100  M2-4           0.974081\n",
      "232377   1100  M1-6           0.966672\n",
      "249326   1100  M1-2           0.973537\n",
      "249328   1100  M1-4           0.971748\n",
      "257802   1100  M2-8           0.962859\n",
      "266277   1100  M2-6           0.970333\n"
     ]
    },
    {
     "data": {
      "text/plain": [
       "<matplotlib.legend.Legend at 0x2adb105bcc10>"
      ]
     },
     "execution_count": 61,
     "metadata": {},
     "output_type": "execute_result"
    },
    {
     "data": {
      "image/png": "[encoded data removed]",
      "text/plain": [
       "<Figure size 561.6x288 with 1 Axes>"
      ]
     },
     "metadata": {},
     "output_type": "display_data"
    }
   ],
   "source": [
    "import palettable\n",
    "import matplotlib \n",
    "matplotlib.rcParams[\"font.family\"] = 'arial'\n",
    "import matplotlib.pyplot as plt\n",
    "import seaborn as sns\n",
    "tabl = palettable.tableau.Tableau_20.mpl_colors\n",
    "colorlist = [i for i in tabl]\n",
    "sns.set_style(\"white\")\n",
    "\n",
    "fig, ax = plt.subplots( nrows = 1, ncols = 1, figsize = (7.8, 4))\n",
    "\n",
    "\n",
    "print (long_df)\n",
    "sns.boxplot ( long_df , x = \"DEPTH\", y = \"SUM_MIXTURE_CHILD\", palette = colorlist, saturation = 0.8)\n",
    "sns.swarmplot ( long_df , x = \"DEPTH\", y = \"SUM_MIXTURE_CHILD\", palette = colorlist, size = 8, edgecolor = \"white\", linewidth = 0.5)\n",
    "\n",
    "sns.despine ( top = True, right = True, ax = ax)\n",
    "for axis in ['left','bottom']:\n",
    "    ax.spines[axis].set_linewidth( 4 )\n",
    "\n",
    "ax.set_xlabel( \"Depth (CellData 1D)\", fontsize = 24, fontweight = \"semibold\"  )\n",
    "ax.set_ylabel( \"Sum of mixture\", fontsize = 24, fontweight = \"semibold\"  )\n",
    "ax.xaxis.set_label_coords( 0.5, -0.12)  # xlabel을 이동 (- 아래쪽)\n",
    "ax.yaxis.set_label_coords( -0.1, 0.5)  # ylabel을 이동 (- 왼쪽)\n",
    "ax.set_xticklabels ( ax.get_xticklabels(), fontsize = 15, fontweight = \"normal\" ) \n",
    "ax.set_yticklabels ( np.round (ax.get_yticks(), 1), fontsize = 15, fontweight = \"normal\" ) \n",
    "ax.tick_params(axis='x', direction='out', length = 3, pad = 1)\n",
    "ax.tick_params(axis='y', direction='out', length = 3, pad = 1)\n",
    "#ax.legend( loc = \"upper right\")\n"
   ]
  },
  {
   "cell_type": "code",
   "execution_count": 18,
   "metadata": {},
   "outputs": [
    {
     "data": {
      "text/html": [
       "<div>\n",
       "<style scoped>\n",
       "    .dataframe tbody tr th:only-of-type {\n",
       "        vertical-align: middle;\n",
       "    }\n",
       "\n",
       "    .dataframe tbody tr th {\n",
       "        vertical-align: top;\n",
       "    }\n",
       "\n",
       "    .dataframe thead th {\n",
       "        text-align: right;\n",
       "    }\n",
       "</style>\n",
       "<table border=\"1\" class=\"dataframe\">\n",
       "  <thead>\n",
       "    <tr style=\"text-align: right;\">\n",
       "      <th></th>\n",
       "      <th>0</th>\n",
       "      <th>1</th>\n",
       "    </tr>\n",
       "  </thead>\n",
       "  <tbody>\n",
       "    <tr>\n",
       "      <th>0</th>\n",
       "      <td>100</td>\n",
       "      <td>0    1.072654\n",
       "0    1.073279\n",
       "0    1.039521\n",
       "0   ...</td>\n",
       "    </tr>\n",
       "    <tr>\n",
       "      <th>1</th>\n",
       "      <td>1100</td>\n",
       "      <td>0    0.973537\n",
       "0    0.971748\n",
       "0    0.966672\n",
       "0   ...</td>\n",
       "    </tr>\n",
       "    <tr>\n",
       "      <th>2</th>\n",
       "      <td>125</td>\n",
       "      <td>0    1.058449\n",
       "0    1.017594\n",
       "0    1.010268\n",
       "0   ...</td>\n",
       "    </tr>\n",
       "    <tr>\n",
       "      <th>3</th>\n",
       "      <td>250</td>\n",
       "      <td>0    1.007319\n",
       "0    0.987848\n",
       "0    0.981566\n",
       "0   ...</td>\n",
       "    </tr>\n",
       "    <tr>\n",
       "      <th>4</th>\n",
       "      <td>30</td>\n",
       "      <td>0    1.280535\n",
       "0    1.279689\n",
       "0    1.271105\n",
       "0   ...</td>\n",
       "    </tr>\n",
       "    <tr>\n",
       "      <th>5</th>\n",
       "      <td>60</td>\n",
       "      <td>0    1.125913\n",
       "0    1.130611\n",
       "0    1.099693\n",
       "0   ...</td>\n",
       "    </tr>\n",
       "  </tbody>\n",
       "</table>\n",
       "</div>"
      ],
      "text/plain": [
       "      0                                                  1\n",
       "0   100  0    1.072654\n",
       "0    1.073279\n",
       "0    1.039521\n",
       "0   ...\n",
       "1  1100  0    0.973537\n",
       "0    0.971748\n",
       "0    0.966672\n",
       "0   ...\n",
       "2   125  0    1.058449\n",
       "0    1.017594\n",
       "0    1.010268\n",
       "0   ...\n",
       "3   250  0    1.007319\n",
       "0    0.987848\n",
       "0    0.981566\n",
       "0   ...\n",
       "4    30  0    1.280535\n",
       "0    1.279689\n",
       "0    1.271105\n",
       "0   ...\n",
       "5    60  0    1.125913\n",
       "0    1.130611\n",
       "0    1.099693\n",
       "0   ..."
      ]
     },
     "execution_count": 18,
     "metadata": {},
     "output_type": "execute_result"
    }
   ],
   "source": [
    "pd.DataFrame ( long_df.drop_duplicates(['DEPTH', 'TSV', 'SUM_MIXTURE_CHILD'], keep = 'first')[ [\"DEPTH\",\"TSV\", \"SUM_MIXTURE_CHILD\" ]].groupby (\"DEPTH\")[\"SUM_MIXTURE_CHILD\"]  )"
   ]
  }
 ],
 "metadata": {
  "kernelspec": {
   "display_name": "Python 3",
   "language": "python",
   "name": "python3"
  },
  "language_info": {
   "codemirror_mode": {
    "name": "ipython",
    "version": 3
   },
   "file_extension": ".py",
   "mimetype": "text/x-python",
   "name": "python",
   "nbconvert_exporter": "python",
   "pygments_lexer": "ipython3",
   "version": "3.8.1"
  }
 },
 "nbformat": 4,
 "nbformat_minor": 2
}
