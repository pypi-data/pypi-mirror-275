{
 "cells": [
  {
   "cell_type": "markdown",
   "metadata": {},
   "source": [
    "# Example: Getting Started with Behaverse Data\n",
    "\n",
    "You need `behaverse` package to run this notebook. To install the latest version of the `behaverse` package:\n",
    "\n",
    "```bash\n",
    "pip install -U behaverse\n",
    "```\n"
   ]
  },
  {
   "cell_type": "code",
   "execution_count": null,
   "metadata": {},
   "outputs": [],
   "source": [
    "%reload_ext autoreload\n",
    "%autoreload 2\n",
    "\n",
    "from behaverse import open_dataset"
   ]
  },
  {
   "cell_type": "markdown",
   "metadata": {},
   "source": [
    "Now, we open the dataset, select a subset of the data, and then load the data into memory.\n",
    "\n",
    "For the two selected subjects, it may take a few minutes to download the dataset and then a few seconds to load the subset of data. Downloading the dataset is a one-time process."
   ]
  },
  {
   "cell_type": "code",
   "execution_count": null,
   "metadata": {},
   "outputs": [],
   "source": [
    "selected_subject_ids = ['001', '002']\n",
    "\n",
    "dataset = (open_dataset('P500_9subjects/L1m')\n",
    "           .select(subject_id=selected_subject_ids)\n",
    "           .load()\n",
    ")\n",
    "dataset.subjects"
   ]
  }
 ],
 "metadata": {
  "kernelspec": {
   "display_name": "behaverse",
   "language": "python",
   "name": "python3"
  },
  "language_info": {
   "codemirror_mode": {
    "name": "ipython",
    "version": 3
   },
   "file_extension": ".py",
   "mimetype": "text/x-python",
   "name": "python",
   "nbconvert_exporter": "python",
   "pygments_lexer": "ipython3",
   "version": "3.12.3"
  }
 },
 "nbformat": 4,
 "nbformat_minor": 2
}
