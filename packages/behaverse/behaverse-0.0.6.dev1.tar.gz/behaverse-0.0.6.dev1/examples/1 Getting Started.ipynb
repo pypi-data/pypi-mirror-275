{
 "cells": [
  {
   "cell_type": "markdown",
   "metadata": {},
   "source": [
    "# Example: Getting Started with Behaverse Data\n",
    "\n",
    "You need `behaverse` package to run this notebook. To install the latest version of the `behaverse` package:\n",
    "\n",
    "```bash\n",
    "pip install -U behaverse\n",
    "```\n"
   ]
  },
  {
   "cell_type": "code",
   "execution_count": 1,
   "metadata": {},
   "outputs": [],
   "source": [
    "%reload_ext autoreload\n",
    "%autoreload 2\n",
    "\n",
    "from behaverse import open_dataset"
   ]
  },
  {
   "cell_type": "markdown",
   "metadata": {},
   "source": [
    "Now, we open the dataset, select a subset of the data, and then load the data into memory.\n",
    "\n",
    "For the two selected subjects, it may take a few minutes to download the dataset and then a few seconds to load the subset of data. Downloading the dataset is a one-time process."
   ]
  },
  {
   "cell_type": "code",
   "execution_count": 2,
   "metadata": {},
   "outputs": [
    {
     "data": {
      "application/vnd.jupyter.widget-view+json": {
       "model_id": "1176fb61276e4841967f29e66cb3b58b",
       "version_major": 2,
       "version_minor": 0
      },
      "text/plain": [
       "  0%|          | 0/282 [00:00<?, ?it/s]"
      ]
     },
     "metadata": {},
     "output_type": "display_data"
    },
    {
     "data": {
      "text/html": [
       "<div>\n",
       "<style scoped>\n",
       "    .dataframe tbody tr th:only-of-type {\n",
       "        vertical-align: middle;\n",
       "    }\n",
       "\n",
       "    .dataframe tbody tr th {\n",
       "        vertical-align: top;\n",
       "    }\n",
       "\n",
       "    .dataframe thead th {\n",
       "        text-align: right;\n",
       "    }\n",
       "</style>\n",
       "<table border=\"1\" class=\"dataframe\">\n",
       "  <thead>\n",
       "    <tr style=\"text-align: right;\">\n",
       "      <th></th>\n",
       "      <th>subject_id</th>\n",
       "      <th>wave</th>\n",
       "      <th>first_activity_sequence_index</th>\n",
       "      <th>permutation_id</th>\n",
       "      <th>prolific_status</th>\n",
       "      <th>prolific_total_approvals</th>\n",
       "      <th>prolific_fluent_languages</th>\n",
       "      <th>prolific_english_speaking_monolingual</th>\n",
       "      <th>prolific_were_you_raised_monolingual?</th>\n",
       "      <th>prolific_bilingual</th>\n",
       "      <th>...</th>\n",
       "      <th>prolific_ethnicity_simplified</th>\n",
       "      <th>prolific_country_of_birth</th>\n",
       "      <th>prolific_country_of_residence</th>\n",
       "      <th>prolific_nationality</th>\n",
       "      <th>prolific_language</th>\n",
       "      <th>prolific_student_status</th>\n",
       "      <th>prolific_employment_status</th>\n",
       "      <th>prolific_total_rejections</th>\n",
       "      <th>prolific_approval_rate</th>\n",
       "      <th>prolific_custom_study_tncs_accepted_at</th>\n",
       "    </tr>\n",
       "  </thead>\n",
       "  <tbody>\n",
       "    <tr>\n",
       "      <th>0</th>\n",
       "      <td>001</td>\n",
       "      <td>wave2</td>\n",
       "      <td>7</td>\n",
       "      <td>Identity1</td>\n",
       "      <td>APPROVED</td>\n",
       "      <td>1095.0</td>\n",
       "      <td>English</td>\n",
       "      <td>I only know English</td>\n",
       "      <td>I was raised with my native language only</td>\n",
       "      <td>none just my native langauge</td>\n",
       "      <td>...</td>\n",
       "      <td>White</td>\n",
       "      <td>United Kingdom</td>\n",
       "      <td>United Kingdom</td>\n",
       "      <td>United Kingdom</td>\n",
       "      <td>English</td>\n",
       "      <td>No</td>\n",
       "      <td>Full-Time</td>\n",
       "      <td>NaN</td>\n",
       "      <td>NaN</td>\n",
       "      <td>NaN</td>\n",
       "    </tr>\n",
       "    <tr>\n",
       "      <th>1</th>\n",
       "      <td>002</td>\n",
       "      <td>wave3</td>\n",
       "      <td>3</td>\n",
       "      <td>Identity1</td>\n",
       "      <td>APPROVED</td>\n",
       "      <td>1262.0</td>\n",
       "      <td>English</td>\n",
       "      <td>I only know English</td>\n",
       "      <td>I was raised with my native language only</td>\n",
       "      <td>none just my native langauge</td>\n",
       "      <td>...</td>\n",
       "      <td>White</td>\n",
       "      <td>United Kingdom</td>\n",
       "      <td>United Kingdom</td>\n",
       "      <td>United Kingdom</td>\n",
       "      <td>English</td>\n",
       "      <td>Yes</td>\n",
       "      <td>Full-Time</td>\n",
       "      <td>NaN</td>\n",
       "      <td>NaN</td>\n",
       "      <td>Not Applicable</td>\n",
       "    </tr>\n",
       "  </tbody>\n",
       "</table>\n",
       "<p>2 rows × 42 columns</p>\n",
       "</div>"
      ],
      "text/plain": [
       "  subject_id   wave  first_activity_sequence_index permutation_id  \\\n",
       "0        001  wave2                              7      Identity1   \n",
       "1        002  wave3                              3      Identity1   \n",
       "\n",
       "  prolific_status  prolific_total_approvals prolific_fluent_languages  \\\n",
       "0        APPROVED                    1095.0                   English   \n",
       "1        APPROVED                    1262.0                   English   \n",
       "\n",
       "  prolific_english_speaking_monolingual  \\\n",
       "0                   I only know English   \n",
       "1                   I only know English   \n",
       "\n",
       "       prolific_were_you_raised_monolingual?            prolific_bilingual  \\\n",
       "0  I was raised with my native language only  none just my native langauge   \n",
       "1  I was raised with my native language only  none just my native langauge   \n",
       "\n",
       "   ... prolific_ethnicity_simplified prolific_country_of_birth  \\\n",
       "0  ...                         White            United Kingdom   \n",
       "1  ...                         White            United Kingdom   \n",
       "\n",
       "  prolific_country_of_residence prolific_nationality prolific_language  \\\n",
       "0                United Kingdom       United Kingdom           English   \n",
       "1                United Kingdom       United Kingdom           English   \n",
       "\n",
       "  prolific_student_status prolific_employment_status  \\\n",
       "0                      No                  Full-Time   \n",
       "1                     Yes                  Full-Time   \n",
       "\n",
       "  prolific_total_rejections prolific_approval_rate  \\\n",
       "0                       NaN                    NaN   \n",
       "1                       NaN                    NaN   \n",
       "\n",
       "  prolific_custom_study_tncs_accepted_at  \n",
       "0                                    NaN  \n",
       "1                         Not Applicable  \n",
       "\n",
       "[2 rows x 42 columns]"
      ]
     },
     "execution_count": 2,
     "metadata": {},
     "output_type": "execute_result"
    }
   ],
   "source": [
    "selected_subject_ids = ['001', '002']\n",
    "\n",
    "dataset = (open_dataset('P500_9subjects/L1m')\n",
    "           .where(subject_id=selected_subject_ids)\n",
    "           .load()\n",
    ")\n",
    "dataset.subjects"
   ]
  }
 ],
 "metadata": {
  "kernelspec": {
   "display_name": "behaverse",
   "language": "python",
   "name": "python3"
  },
  "language_info": {
   "codemirror_mode": {
    "name": "ipython",
    "version": 3
   },
   "file_extension": ".py",
   "mimetype": "text/x-python",
   "name": "python",
   "nbconvert_exporter": "python",
   "pygments_lexer": "ipython3",
   "version": "3.12.3"
  }
 },
 "nbformat": 4,
 "nbformat_minor": 2
}
