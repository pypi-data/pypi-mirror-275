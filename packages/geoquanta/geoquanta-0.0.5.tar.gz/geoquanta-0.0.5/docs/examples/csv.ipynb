{
 "cells": [
  {
   "cell_type": "markdown",
   "metadata": {},
   "source": [
    "# Convert CSV to Pandas DataFrame\n",
    "[![image](https://colab.research.google.com/assets/colab-badge.svg)](https://colab.research.google.com/github/chaitanyaj14/geoquanta/blob/main/docs/examples/csv.ipynb)"
   ]
  },
  {
   "cell_type": "code",
   "execution_count": 5,
   "metadata": {},
   "outputs": [],
   "source": [
    "import geoquanta"
   ]
  },
  {
   "cell_type": "code",
   "execution_count": 2,
   "metadata": {},
   "outputs": [],
   "source": [
    "from geoquanta import utils"
   ]
  },
  {
   "cell_type": "code",
   "execution_count": 4,
   "metadata": {},
   "outputs": [
    {
     "name": "stdout",
     "output_type": "stream",
     "text": [
      "   id        name\n",
      "0  AL     Alabama\n",
      "1  AK      Alaska\n",
      "2  AZ     Arizona\n",
      "3  AR    Arkansas\n",
      "4  CA  California\n"
     ]
    }
   ],
   "source": [
    "csv = \"https://github.com/opengeos/datasets/releases/download/us/us_states.csv\"\n",
    "df = utils.csv_to_df(csv)\n",
    "print(df.head())"
   ]
  }
 ],
 "metadata": {
  "kernelspec": {
   "display_name": "geo",
   "language": "python",
   "name": "python3"
  },
  "language_info": {
   "codemirror_mode": {
    "name": "ipython",
    "version": 3
   },
   "file_extension": ".py",
   "mimetype": "text/x-python",
   "name": "python",
   "nbconvert_exporter": "python",
   "pygments_lexer": "ipython3",
   "version": "3.11.8"
  }
 },
 "nbformat": 4,
 "nbformat_minor": 2
}
