{
 "cells": [
  {
   "cell_type": "markdown",
   "metadata": {},
   "source": [
    "# Operators"
   ]
  },
  {
   "cell_type": "markdown",
   "metadata": {},
   "source": [
    "[![image](https://colab.research.google.com/assets/colab-badge.svg)](https://colab.research.google.com/github/chaitanyaj14/geoquanta/blob/main/docs/python/04_operators.ipynb)\n",
    "\n",
    "Operators are special symbols in Python that are used to perform operations on variables and values. Python supports various types of operators, including arithmetic operators, comparison operators, logical operators, and more. Let's explore these operators in detail.\n",
    "\n",
    "## Arithmetic Operators\n",
    "\n",
    "Arithmetic operators are used to perform mathematical operations like addition, subtraction, multiplication, division, etc."
   ]
  },
  {
   "cell_type": "code",
   "execution_count": 1,
   "metadata": {},
   "outputs": [
    {
     "name": "stdout",
     "output_type": "stream",
     "text": [
      "Addition: 13\n",
      "Subtraction: 7\n",
      "Multiplication: 30\n",
      "Division: 3.3333333333333335\n",
      "Floor Division: 3\n",
      "Modulus: 1\n",
      "Exponentiation: 1000\n"
     ]
    }
   ],
   "source": [
    "# Arithmetic operators\n",
    "x = 10\n",
    "y = 3\n",
    "print(\"Addition:\", x + y)\n",
    "print(\"Subtraction:\", x - y)\n",
    "print(\"Multiplication:\", x * y)\n",
    "print(\"Division:\", x / y)\n",
    "print(\"Floor Division:\", x // y)\n",
    "print(\"Modulus:\", x % y)\n",
    "print(\"Exponentiation:\", x ** y)"
   ]
  },
  {
   "cell_type": "markdown",
   "metadata": {},
   "source": [
    "## Comparison Operators\n",
    "Comparison operators are used to compare two values and return a boolean result (True or False)."
   ]
  },
  {
   "cell_type": "code",
   "execution_count": 2,
   "metadata": {},
   "outputs": [
    {
     "name": "stdout",
     "output_type": "stream",
     "text": [
      "Equal to: False\n",
      "Not equal to: True\n",
      "Greater than: True\n",
      "Less than: False\n",
      "Greater than or equal to: True\n",
      "Less than or equal to: False\n"
     ]
    }
   ],
   "source": [
    "# Comparison operators\n",
    "x = 10\n",
    "y = 5\n",
    "print(\"Equal to:\", x == y)\n",
    "print(\"Not equal to:\", x != y)\n",
    "print(\"Greater than:\", x > y)\n",
    "print(\"Less than:\", x < y)\n",
    "print(\"Greater than or equal to:\", x >= y)\n",
    "print(\"Less than or equal to:\", x <= y)"
   ]
  },
  {
   "cell_type": "markdown",
   "metadata": {},
   "source": [
    "## Logical Operators\n",
    "Logical operators are used to combine conditional statements and return a boolean result."
   ]
  },
  {
   "cell_type": "code",
   "execution_count": 3,
   "metadata": {},
   "outputs": [
    {
     "name": "stdout",
     "output_type": "stream",
     "text": [
      "AND: False\n",
      "OR: True\n",
      "NOT: False\n"
     ]
    }
   ],
   "source": [
    "# Logical operators\n",
    "x = True\n",
    "y = False\n",
    "print(\"AND:\", x and y)\n",
    "print(\"OR:\", x or y)\n",
    "print(\"NOT:\", not x)"
   ]
  },
  {
   "cell_type": "markdown",
   "metadata": {},
   "source": [
    "## Assignment Operators\n",
    "Assignment operators are used to assign values to variables."
   ]
  },
  {
   "cell_type": "code",
   "execution_count": 4,
   "metadata": {},
   "outputs": [
    {
     "name": "stdout",
     "output_type": "stream",
     "text": [
      "x: 15\n"
     ]
    }
   ],
   "source": [
    "# Assignment operators\n",
    "x = 10\n",
    "x += 5  # Equivalent to x = x + 5\n",
    "print(\"x:\", x)"
   ]
  },
  {
   "cell_type": "markdown",
   "metadata": {},
   "source": [
    "## Identity Operators\n",
    "Identity operators are used to compare the memory locations of two objects."
   ]
  },
  {
   "cell_type": "code",
   "execution_count": 6,
   "metadata": {},
   "outputs": [
    {
     "name": "stdout",
     "output_type": "stream",
     "text": [
      "Is x the same object as y? False\n",
      "Is x not the same object as y? True\n"
     ]
    }
   ],
   "source": [
    "# Identity operators\n",
    "x = [\"apple\", \"banana\"]\n",
    "y = [\"apple\", \"banana\"]\n",
    "print(\"Is x the same object as y?\", x is y)\n",
    "print(\"Is x not the same object as y?\", x is not y)"
   ]
  },
  {
   "cell_type": "markdown",
   "metadata": {},
   "source": [
    "## Membership Operators\n",
    "Membership operators are used to test if a sequence is present in an object."
   ]
  },
  {
   "cell_type": "code",
   "execution_count": 7,
   "metadata": {},
   "outputs": [
    {
     "name": "stdout",
     "output_type": "stream",
     "text": [
      "Is 'banana' in fruits? True\n",
      "Is 'orange' not in fruits? True\n"
     ]
    }
   ],
   "source": [
    "# Membership operators\n",
    "fruits = [\"apple\", \"banana\", \"cherry\"]\n",
    "print(\"Is 'banana' in fruits?\", \"banana\" in fruits)\n",
    "print(\"Is 'orange' not in fruits?\", \"orange\" not in fruits)"
   ]
  },
  {
   "cell_type": "markdown",
   "metadata": {},
   "source": [
    "## Bitwise Operators\n",
    "Bitwise operators are used to perform bitwise operations on integers."
   ]
  },
  {
   "cell_type": "code",
   "execution_count": 8,
   "metadata": {},
   "outputs": [
    {
     "name": "stdout",
     "output_type": "stream",
     "text": [
      "Bitwise AND: 0\n",
      "Bitwise OR: 14\n",
      "Bitwise XOR: 14\n",
      "Bitwise NOT for x: -11\n",
      "Bitwise Left Shift for x: 20\n",
      "Bitwise Right Shift for x: 5\n"
     ]
    }
   ],
   "source": [
    "# Bitwise operators\n",
    "x = 10  # Binary: 1010\n",
    "y = 4   # Binary: 0100\n",
    "print(\"Bitwise AND:\", x & y)   # 0000\n",
    "print(\"Bitwise OR:\", x | y)    # 1110\n",
    "print(\"Bitwise XOR:\", x ^ y)   # 1110\n",
    "print(\"Bitwise NOT for x:\", ~x) # -11\n",
    "print(\"Bitwise Left Shift for x:\", x << 1)  # 10100\n",
    "print(\"Bitwise Right Shift for x:\", x >> 1) # 0101"
   ]
  },
  {
   "cell_type": "markdown",
   "metadata": {},
   "source": [
    "These are some of the most commonly used operators in Python. Understanding how they work is essential for writing efficient and effective Python code."
   ]
  }
 ],
 "metadata": {
  "kernelspec": {
   "display_name": "geo",
   "language": "python",
   "name": "python3"
  },
  "language_info": {
   "codemirror_mode": {
    "name": "ipython",
    "version": 3
   },
   "file_extension": ".py",
   "mimetype": "text/x-python",
   "name": "python",
   "nbconvert_exporter": "python",
   "pygments_lexer": "ipython3",
   "version": "3.11.8"
  }
 },
 "nbformat": 4,
 "nbformat_minor": 2
}
