{
 "cells": [
  {
   "cell_type": "markdown",
   "metadata": {},
   "source": [
    "# Python Data Types\n",
    "[![image](https://colab.research.google.com/assets/colab-badge.svg)](https://colab.research.google.com/github/chaitanyaj14/geoquanta/blob/main/docs/python/03_data_types.ipynb)\n",
    "\n",
    "Python is a dynamically typed language, which means you don't have to explicitly declare variables before using them. The Python interpreter infers the type based on the value assigned to the variable. Python supports several built-in data types, which can be classified into the following categories:\n",
    "\n",
    "1. **Numeric Types**\n",
    "2. **Sequence Types**\n",
    "3. **Mapping Types**\n",
    "4. **Set Types**\n",
    "5. **Boolean Type**\n",
    "6. **None Type**\n",
    "\n",
    "## 1. Numeric Types\n",
    "\n",
    "Python supports various numeric types, including integers, floating-point numbers, and complex numbers. Numeric types can be used for arithmetic operations."
   ]
  },
  {
   "cell_type": "code",
   "execution_count": 1,
   "metadata": {},
   "outputs": [
    {
     "name": "stdout",
     "output_type": "stream",
     "text": [
      "10 3.14 (2+3j)\n"
     ]
    }
   ],
   "source": [
    "# Examples of numeric types\n",
    "integer_num = 10\n",
    "float_num = 3.14\n",
    "complex_num = 2 + 3j\n",
    "\n",
    "print(integer_num, float_num, complex_num)"
   ]
  },
  {
   "cell_type": "markdown",
   "metadata": {},
   "source": [
    "## 2. Sequence Types\n",
    "Python has several built-in sequence types, including lists, tuples, and strings. Sequence types can store multiple items in an ordered collection."
   ]
  },
  {
   "cell_type": "code",
   "execution_count": 3,
   "metadata": {},
   "outputs": [
    {
     "name": "stdout",
     "output_type": "stream",
     "text": [
      "[1, 2, 3, 4, 5] (1, 2, 3, 4, 5) Hello, World!\n"
     ]
    }
   ],
   "source": [
    "# Examples of sequence types\n",
    "my_list = [1, 2, 3, 4, 5]\n",
    "my_tuple = (1, 2, 3, 4, 5)\n",
    "my_string = \"Hello, World!\"\n",
    "\n",
    "print(my_list, my_tuple, my_string)"
   ]
  },
  {
   "cell_type": "markdown",
   "metadata": {},
   "source": [
    "## 3. Mapping Types\n",
    "Python's mapping type is the dictionary, which stores key-value pairs. Dictionaries are unordered collections of items."
   ]
  },
  {
   "cell_type": "code",
   "execution_count": 4,
   "metadata": {},
   "outputs": [
    {
     "name": "stdout",
     "output_type": "stream",
     "text": [
      "{'name': 'John', 'age': 30, 'city': 'New York'}\n"
     ]
    }
   ],
   "source": [
    "# Example of a mapping type\n",
    "my_dict = {'name': 'John', 'age': 30, 'city': 'New York'}\n",
    "\n",
    "print(my_dict)"
   ]
  },
  {
   "cell_type": "markdown",
   "metadata": {},
   "source": [
    "## 4. Set Types\n",
    "Python includes set types, which are unordered collections of unique items. Sets are useful for operations like union, intersection, and difference."
   ]
  },
  {
   "cell_type": "code",
   "execution_count": 5,
   "metadata": {},
   "outputs": [
    {
     "name": "stdout",
     "output_type": "stream",
     "text": [
      "{1, 2, 3, 4, 5}\n"
     ]
    }
   ],
   "source": [
    "# Example of a set type\n",
    "my_set = {1, 2, 3, 4, 5}\n",
    "\n",
    "print(my_set)"
   ]
  },
  {
   "cell_type": "markdown",
   "metadata": {},
   "source": [
    "## 5. Boolean Type\n",
    "Python has a boolean type, which can have two values: True and False. Booleans are often used for logical operations."
   ]
  },
  {
   "cell_type": "code",
   "execution_count": 6,
   "metadata": {},
   "outputs": [
    {
     "name": "stdout",
     "output_type": "stream",
     "text": [
      "True\n"
     ]
    }
   ],
   "source": [
    "# Example of a boolean type\n",
    "is_valid = True\n",
    "\n",
    "print(is_valid)"
   ]
  },
  {
   "cell_type": "markdown",
   "metadata": {},
   "source": [
    "## 6. None Type\n",
    "Python has a special type called None, which represents the absence of a value. It is often used to signify that a variable has not been assigned a value yet."
   ]
  },
  {
   "cell_type": "code",
   "execution_count": 7,
   "metadata": {},
   "outputs": [
    {
     "name": "stdout",
     "output_type": "stream",
     "text": [
      "None\n"
     ]
    }
   ],
   "source": [
    "# Example of the None type\n",
    "my_var = None\n",
    "\n",
    "print(my_var)"
   ]
  }
 ],
 "metadata": {
  "kernelspec": {
   "display_name": "geo",
   "language": "python",
   "name": "python3"
  },
  "language_info": {
   "codemirror_mode": {
    "name": "ipython",
    "version": 3
   },
   "file_extension": ".py",
   "mimetype": "text/x-python",
   "name": "python",
   "nbconvert_exporter": "python",
   "pygments_lexer": "ipython3",
   "version": "3.11.8"
  }
 },
 "nbformat": 4,
 "nbformat_minor": 2
}
