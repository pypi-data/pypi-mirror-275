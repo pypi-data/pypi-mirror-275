{
 "cells": [
  {
   "cell_type": "markdown",
   "metadata": {},
   "source": [
    "# Modules and Packages in Python\n",
    "[![image](https://colab.research.google.com/assets/colab-badge.svg)](https://colab.research.google.com/github/chaitanyaj14/geoquanta/blob/main/docs/python/10_modules_and_packages.ipynb)"
   ]
  },
  {
   "cell_type": "markdown",
   "metadata": {},
   "source": [
    "## Modules:\n",
    "- Modules in Python are files that consist of Python code.\n",
    "- They can define functions, classes, and variables that can be used in other Python files.\n",
    "- Modules help in organizing code into logical units and can be reused across different projects.\n",
    "- To use a module in Python, you need to import it using the import statement.\n",
    "\n",
    "## Packages:\n",
    "- Packages in Python are directories that contain multiple modules.\n",
    "- They are used to organize related modules into a single directory hierarchy.\n",
    "- Packages can also contain sub-packages, which are packages within packages.\n",
    "- To import a module from a package, you use dot notation (.) to specify the package and module name (e.g., import package.module)."
   ]
  },
  {
   "cell_type": "markdown",
   "metadata": {},
   "source": [
    "```python\n",
    "# Creating a module\n",
    "\n",
    "# Save this code in a file named mymodule.py\n",
    "def greet(name):\n",
    "    return f\"Hello, {name}!\"\n",
    "\n",
    "# Using the module in another file\n",
    "import mymodule\n",
    "\n",
    "print(mymodule.greet(\"Alice\"))\n",
    "\n",
    "# Creating a package\n",
    "\n",
    "# Create a directory named 'mypackage'\n",
    "# Inside 'mypackage', create a file named 'mymodule.py'\n",
    "# Inside 'mypackage', create an empty file named '__init__.py' (this makes 'mypackage' a package)\n",
    "\n",
    "# Contents of mymodule.py\n",
    "def greet(name):\n",
    "    return f\"Hello, {name} from mypackage!\"\n",
    "\n",
    "# Using the package in another file\n",
    "from mypackage import mymodule\n",
    "\n",
    "print(mymodule.greet(\"Bob\"))\n",
    "\n",
    "# Importing sub-packages\n",
    "from mypackage import subpackage\n",
    "\n",
    "print(subpackage.say_hello(\"Charlie\"))\n"
   ]
  },
  {
   "cell_type": "markdown",
   "metadata": {},
   "source": [
    "In this example, `mymodule.py` is a module, and `mypackage` is a package that contains the `mymodule` module and a sub-package `subpackage` with its own module."
   ]
  }
 ],
 "metadata": {
  "kernelspec": {
   "display_name": "geo",
   "language": "python",
   "name": "python3"
  },
  "language_info": {
   "codemirror_mode": {
    "name": "ipython",
    "version": 3
   },
   "file_extension": ".py",
   "mimetype": "text/x-python",
   "name": "python",
   "nbconvert_exporter": "python",
   "pygments_lexer": "ipython3",
   "version": "3.11.8"
  }
 },
 "nbformat": 4,
 "nbformat_minor": 2
}
