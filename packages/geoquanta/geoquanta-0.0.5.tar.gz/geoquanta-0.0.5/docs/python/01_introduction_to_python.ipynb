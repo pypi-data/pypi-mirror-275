{
 "cells": [
  {
   "cell_type": "markdown",
   "metadata": {},
   "source": [
    "# Introduction to Python Programming\n",
    "[![image](https://colab.research.google.com/assets/colab-badge.svg)](https://colab.research.google.com/github/chaitanyaj14/geoquanta/blob/main/docs/python/01_introduction_to_python.ipynb)\n",
    "\n",
    "Python is a powerful and versatile programming language that is used in a wide variety of applications. It is known for its simplicity and readability, making it an excellent choice for beginners and experienced programmers alike. In this notebook, we will cover the basics of Python programming, including data types, control structures, functions, and more.\n",
    "\n",
    "## Getting Started\n",
    "\n",
    "To start using Python, you need to have it installed on your computer. You can download Python from the official website (https://www.python.org/downloads/) and follow the installation instructions for your operating system.\n",
    "\n",
    "Once Python is installed, you can start writing Python code in a text editor or an Integrated Development Environment (IDE) such as PyCharm, Visual Studio Code, or Jupyter Notebook.\n",
    "\n",
    "## Python Syntax\n",
    "\n",
    "Python syntax is designed to be simple and readable. Here are some basic syntax rules:\n",
    "\n",
    "- Python statements do not require a semicolon `;` at the end.\n",
    "- Indentation is used to define code blocks (e.g., for loops, if statements).\n",
    "- Comments start with the `#` symbol and are ignored by the interpreter.\n"
   ]
  },
  {
   "cell_type": "code",
   "execution_count": 1,
   "metadata": {},
   "outputs": [
    {
     "name": "stdout",
     "output_type": "stream",
     "text": [
      "Hello, World!\n"
     ]
    }
   ],
   "source": [
    "# This is a comment\n",
    "print(\"Hello, World!\")  # This is also a comment"
   ]
  },
  {
   "cell_type": "markdown",
   "metadata": {},
   "source": [
    "## Variables and Data Types\n",
    "Variables are used to store data values in Python. Python has several built-in data types, including integers, floats, strings, lists, tuples, dictionaries, and more."
   ]
  },
  {
   "cell_type": "code",
   "execution_count": 2,
   "metadata": {},
   "outputs": [],
   "source": [
    "# Variable assignment\n",
    "x = 10\n",
    "y = 3.14\n",
    "name = \"Alice\"\n",
    "my_list = [1, 2, 3, 4, 5]\n",
    "my_dict = {\"name\": \"Bob\", \"age\": 30}"
   ]
  },
  {
   "cell_type": "markdown",
   "metadata": {},
   "source": [
    "## Control Structures\n",
    "Python supports various control structures, including if statements, for loops, while loops, and more."
   ]
  },
  {
   "cell_type": "code",
   "execution_count": 3,
   "metadata": {},
   "outputs": [
    {
     "name": "stdout",
     "output_type": "stream",
     "text": [
      "x is greater than 5\n",
      "0\n",
      "1\n",
      "2\n",
      "3\n",
      "4\n",
      "0\n",
      "1\n",
      "2\n",
      "3\n",
      "4\n"
     ]
    }
   ],
   "source": [
    "# If statement\n",
    "if x > 5:\n",
    "    print(\"x is greater than 5\")\n",
    "elif x < 5:\n",
    "    print(\"x is less than 5\")\n",
    "else:\n",
    "    print(\"x is equal to 5\")\n",
    "\n",
    "# For loop\n",
    "for i in range(5):\n",
    "    print(i)\n",
    "\n",
    "# While loop\n",
    "i = 0\n",
    "while i < 5:\n",
    "    print(i)\n",
    "    i += 1"
   ]
  },
  {
   "cell_type": "markdown",
   "metadata": {},
   "source": [
    "## Functions\n",
    "Functions are reusable blocks of code that perform a specific task. You can define your own functions in Python using the def keyword."
   ]
  },
  {
   "cell_type": "code",
   "execution_count": 5,
   "metadata": {},
   "outputs": [
    {
     "name": "stdout",
     "output_type": "stream",
     "text": [
      "Hello, Alice!\n"
     ]
    }
   ],
   "source": [
    "# Function definition\n",
    "def greet(name):\n",
    "    print(\"Hello, \" + name + \"!\")\n",
    "\n",
    "# Function call\n",
    "greet(\"Alice\")"
   ]
  },
  {
   "cell_type": "markdown",
   "metadata": {},
   "source": [
    "Python is a versatile and easy-to-learn programming language that is widely used in various fields, including web development, data science, artificial intelligence, and more. In this notebook, we have covered the basics of Python programming, including variables, data types, control structures, and functions. These are just the foundation of what Python has to offer.\n",
    "\n",
    "In our journey of learning Python, we will delve into these topics and many others in more detail. We will explore advanced concepts, libraries, and best practices to help you become a proficient Python programmer. So, stay tuned and let's explore the world of Python programming together!\n"
   ]
  }
 ],
 "metadata": {
  "kernelspec": {
   "display_name": "geo",
   "language": "python",
   "name": "python3"
  },
  "language_info": {
   "codemirror_mode": {
    "name": "ipython",
    "version": 3
   },
   "file_extension": ".py",
   "mimetype": "text/x-python",
   "name": "python",
   "nbconvert_exporter": "python",
   "pygments_lexer": "ipython3",
   "version": "3.11.8"
  }
 },
 "nbformat": 4,
 "nbformat_minor": 2
}
