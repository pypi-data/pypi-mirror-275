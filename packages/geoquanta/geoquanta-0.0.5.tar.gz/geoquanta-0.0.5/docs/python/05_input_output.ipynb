{
 "cells": [
  {
   "cell_type": "markdown",
   "metadata": {},
   "source": [
    "# Basic Input/Output\n",
    "[![image](https://colab.research.google.com/assets/colab-badge.svg)](https://colab.research.google.com/github/chaitanyaj14/geoquanta/blob/main/docs/python/05_input_output.ipynb)\n",
    "\n",
    "Input/output (I/O) operations are essential for interacting with the user and reading/writing data to files in Python. In this notebook, we will cover how to perform basic input/output operations using the `input()` and `print()` functions.\n",
    "\n",
    "## Output with the `print()` Function\n",
    "\n",
    "The `print()` function is used to display output in Python. You can print text, variables, and expressions."
   ]
  },
  {
   "cell_type": "code",
   "execution_count": 1,
   "metadata": {},
   "outputs": [
    {
     "name": "stdout",
     "output_type": "stream",
     "text": [
      "Hello, World!\n",
      "The value of x is: 10\n",
      "The sum of 1 and 2 is: 3\n"
     ]
    }
   ],
   "source": [
    "# Example of using the print() function\n",
    "print(\"Hello, World!\")\n",
    "x = 10\n",
    "print(\"The value of x is:\", x)\n",
    "print(\"The sum of 1 and 2 is:\", 1 + 2)"
   ]
  },
  {
   "cell_type": "markdown",
   "metadata": {},
   "source": [
    "## Input with the `input()` Function\n",
    "The `input()` function is used to get user input in Python. It waits for the user to enter a value and then returns that value as a string."
   ]
  },
  {
   "cell_type": "markdown",
   "metadata": {},
   "source": [
    "```python\n",
    "# Example of using the input() function\n",
    "name = input(\"Enter your name: \")\n",
    "print(\"Hello,\", name)"
   ]
  },
  {
   "cell_type": "markdown",
   "metadata": {},
   "source": [
    "## Type Conversion\n",
    "When using the `input()` function, the input is always returned as a string. If you need to convert the input to a different data type, you can use type conversion."
   ]
  },
  {
   "cell_type": "markdown",
   "metadata": {},
   "source": [
    "```python\n",
    "# Example of type conversion\n",
    "age = input(\"Enter your age: \")\n",
    "age = int(age)  # Convert age to an integer\n",
    "print(\"You will be\", age + 10, \"years old in 10 years\")"
   ]
  },
  {
   "cell_type": "markdown",
   "metadata": {},
   "source": [
    "## Formatting Output\n",
    "You can format the output using the `print()` function's formatting options. For example, you can specify the number of decimal places for floating-point numbers."
   ]
  },
  {
   "cell_type": "markdown",
   "metadata": {},
   "source": [
    "```python\n",
    "# Example of formatting output\n",
    "pi = 3.14159\n",
    "print(\"The value of pi is:\", format(pi, \".2f\"))"
   ]
  },
  {
   "cell_type": "markdown",
   "metadata": {},
   "source": [
    "## Reading/Writing Files\n",
    "Python also provides functions for reading from and writing to files. You can use the `open()` function to open a file and then use methods like `read()`, `write()`, and `close()` to perform file operations."
   ]
  },
  {
   "cell_type": "markdown",
   "metadata": {},
   "source": [
    "```python\n",
    "# Example of reading from a file\n",
    "file = open(\"example.txt\", \"r\")\n",
    "content = file.read()\n",
    "print(\"File content:\", content)\n",
    "file.close()\n",
    "\n",
    "# Example of writing to a file\n",
    "file = open(\"example.txt\", \"w\")\n",
    "file.write(\"This is an example text.\")\n",
    "file.close()"
   ]
  },
  {
   "cell_type": "markdown",
   "metadata": {},
   "source": [
    "Basic input/output operations are fundamental in Python programming. They allow you to interact with users, process data, and work with files. Understanding how to use the `input()` and `print()` functions, along with file I/O operations, is essential for building Python applications."
   ]
  }
 ],
 "metadata": {
  "kernelspec": {
   "display_name": "geo",
   "language": "python",
   "name": "python3"
  },
  "language_info": {
   "codemirror_mode": {
    "name": "ipython",
    "version": 3
   },
   "file_extension": ".py",
   "mimetype": "text/x-python",
   "name": "python",
   "nbconvert_exporter": "python",
   "pygments_lexer": "ipython3",
   "version": "3.11.8"
  }
 },
 "nbformat": 4,
 "nbformat_minor": 2
}
