{
 "cells": [
  {
   "cell_type": "markdown",
   "metadata": {},
   "source": [
    "# Error Handling in Python\n",
    "[![image](https://colab.research.google.com/assets/colab-badge.svg)](https://colab.research.google.com/github/chaitanyaj14/geoquanta/blob/main/docs/python/11_error_handling.ipynb)\n",
    "\n",
    "- Error handling in Python allows you to deal with exceptions that may occur during the execution of a program.\n",
    "- Exceptions are events that occur during the execution of a program that disrupt the normal flow of the program's instructions.\n",
    "- Python uses a try-except block to handle exceptions. The try block contains the code that may raise an exception, and the except block contains the code to handle the exception.\n",
    "- You can also use the else block to run code that should only execute if no exceptions occur, and the finally block to run code that should always execute, regardless of whether an exception occurs or not."
   ]
  },
  {
   "cell_type": "code",
   "execution_count": 2,
   "metadata": {},
   "outputs": [
    {
     "name": "stdout",
     "output_type": "stream",
     "text": [
      "Error: division by zero\n",
      "Error: invalid literal for int() with base 10: 'abc'\n",
      "Error: invalid literal for int() with base 10: 'abc'\n",
      "No error occurred, result: 5.0\n",
      "Error: division by zero\n",
      "This will always execute\n"
     ]
    }
   ],
   "source": [
    "# Handling a specific exception\n",
    "try:\n",
    "    x = 10 / 0\n",
    "except ZeroDivisionError as e:\n",
    "    print(\"Error:\", e)\n",
    "\n",
    "# Handling multiple exceptions\n",
    "try:\n",
    "    x = int(\"abc\")\n",
    "except (ValueError, TypeError) as e:\n",
    "    print(\"Error:\", e)\n",
    "\n",
    "# Handling any exception\n",
    "try:\n",
    "    x = int(\"abc\")\n",
    "except Exception as e:\n",
    "    print(\"Error:\", e)\n",
    "\n",
    "# Using else block\n",
    "try:\n",
    "    x = 10 / 2\n",
    "except ZeroDivisionError as e:\n",
    "    print(\"Error:\", e)\n",
    "else:\n",
    "    print(\"No error occurred, result:\", x)\n",
    "\n",
    "# Using finally block\n",
    "try:\n",
    "    x = 10 / 0\n",
    "except ZeroDivisionError as e:\n",
    "    print(\"Error:\", e)\n",
    "finally:\n",
    "    print(\"This will always execute\")"
   ]
  },
  {
   "cell_type": "markdown",
   "metadata": {},
   "source": [
    "In this example, we demonstrate various aspects of error handling in Python using try-except blocks. We handle specific exceptions, multiple exceptions, and any exception. We also show the usage of the else block to execute code when no exceptions occur and the finally block to execute code that should always run."
   ]
  }
 ],
 "metadata": {
  "kernelspec": {
   "display_name": "geo",
   "language": "python",
   "name": "python3"
  },
  "language_info": {
   "codemirror_mode": {
    "name": "ipython",
    "version": 3
   },
   "file_extension": ".py",
   "mimetype": "text/x-python",
   "name": "python",
   "nbconvert_exporter": "python",
   "pygments_lexer": "ipython3",
   "version": "3.11.8"
  }
 },
 "nbformat": 4,
 "nbformat_minor": 2
}
