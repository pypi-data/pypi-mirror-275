{
 "cells": [
  {
   "cell_type": "markdown",
   "metadata": {},
   "source": [
    "# Variables in Python\n",
    "[![image](https://colab.research.google.com/assets/colab-badge.svg)](https://colab.research.google.com/github/chaitanyaj14/geoquanta/blob/main/docs/python/02_variables.ipynb)\n",
    "\n",
    "Variables are used to store data values in Python. Unlike other programming languages, Python has dynamic typing, which means you do not need to declare the type of a variable when you create one. The type of a variable is determined by the value it is assigned. Let's explore how to create and use variables in Python.\n",
    "\n",
    "## Variable Assignment\n",
    "\n",
    "In Python, you can create a variable and assign a value to it using the assignment operator `=`."
   ]
  },
  {
   "cell_type": "code",
   "execution_count": 1,
   "metadata": {},
   "outputs": [
    {
     "name": "stdout",
     "output_type": "stream",
     "text": [
      "5\n",
      "Hello, World!\n"
     ]
    }
   ],
   "source": [
    "# Variable assignment\n",
    "x = 5\n",
    "y = \"Hello, World!\"\n",
    "print(x)\n",
    "print(y)"
   ]
  },
  {
   "cell_type": "markdown",
   "metadata": {},
   "source": [
    "## Variable Naming Rules\n",
    "- Variable names must start with a letter (a-z, A-Z) or an underscore (_).\n",
    "- The rest of the variable name may consist of letters, numbers, and underscores.\n",
    "- Variable names are case-sensitive (myVar, myvar, and MYVAR are different variables)."
   ]
  },
  {
   "cell_type": "code",
   "execution_count": 2,
   "metadata": {},
   "outputs": [],
   "source": [
    "# Variable naming examples\n",
    "my_var = 10\n",
    "myVar = \"Python\"\n",
    "MYVAR = 3.14"
   ]
  },
  {
   "cell_type": "markdown",
   "metadata": {},
   "source": [
    "## Variable Reassignment\n",
    "You can change the value of a variable by assigning a new value to it."
   ]
  },
  {
   "cell_type": "code",
   "execution_count": 3,
   "metadata": {},
   "outputs": [
    {
     "name": "stdout",
     "output_type": "stream",
     "text": [
      "10\n",
      "Python\n"
     ]
    }
   ],
   "source": [
    "# Variable reassignment\n",
    "x = 10\n",
    "print(x)\n",
    "x = \"Python\"\n",
    "print(x)"
   ]
  },
  {
   "cell_type": "markdown",
   "metadata": {},
   "source": [
    "## Multiple Assignment\n",
    "You can assign values to multiple variables in a single line."
   ]
  },
  {
   "cell_type": "code",
   "execution_count": 4,
   "metadata": {},
   "outputs": [
    {
     "name": "stdout",
     "output_type": "stream",
     "text": [
      "1 2 3\n"
     ]
    }
   ],
   "source": [
    "# Multiple assignment\n",
    "a, b, c = 1, 2, 3\n",
    "print(a, b, c)"
   ]
  },
  {
   "cell_type": "markdown",
   "metadata": {},
   "source": [
    "## Swapping Variables\n",
    "You can swap the values of two variables using a temporary variable or by using tuple unpacking."
   ]
  },
  {
   "cell_type": "code",
   "execution_count": 5,
   "metadata": {},
   "outputs": [
    {
     "name": "stdout",
     "output_type": "stream",
     "text": [
      "Before swap: 10 20\n",
      "After swap: 20 10\n"
     ]
    }
   ],
   "source": [
    "# Swapping variables\n",
    "a, b = 10, 20\n",
    "print(\"Before swap:\", a, b)\n",
    "a, b = b, a\n",
    "print(\"After swap:\", a, b)"
   ]
  },
  {
   "cell_type": "markdown",
   "metadata": {},
   "source": [
    "## Constants\n",
    "Python does not have built-in constant types, but you can use variable names in uppercase to indicate that the value should not be changed."
   ]
  },
  {
   "cell_type": "code",
   "execution_count": 6,
   "metadata": {},
   "outputs": [],
   "source": [
    "# Constants\n",
    "PI = 3.14159\n",
    "GRAVITY = 9.8"
   ]
  },
  {
   "cell_type": "markdown",
   "metadata": {},
   "source": [
    "\n",
    "Variables are essential for storing and managing data in Python. Understanding how to create, name, and use variables is fundamental to writing Python code effectively."
   ]
  }
 ],
 "metadata": {
  "kernelspec": {
   "display_name": "geo",
   "language": "python",
   "name": "python3"
  },
  "language_info": {
   "codemirror_mode": {
    "name": "ipython",
    "version": 3
   },
   "file_extension": ".py",
   "mimetype": "text/x-python",
   "name": "python",
   "nbconvert_exporter": "python",
   "pygments_lexer": "ipython3",
   "version": "3.11.8"
  }
 },
 "nbformat": 4,
 "nbformat_minor": 2
}
