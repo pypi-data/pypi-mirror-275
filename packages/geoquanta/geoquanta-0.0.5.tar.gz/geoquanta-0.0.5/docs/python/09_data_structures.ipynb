{
 "cells": [
  {
   "cell_type": "markdown",
   "metadata": {},
   "source": [
    "# Introduction to Data Structures in Python\n",
    "[![image](https://colab.research.google.com/assets/colab-badge.svg)](https://colab.research.google.com/github/chaitanyaj14/geoquanta/blob/main/docs/python/09_data_structures.ipynb)\n",
    "\n",
    "Data structures are fundamental concepts in programming that allow you to organize and manipulate data efficiently. Python provides several built-in data structures, such as lists, tuples, dictionaries, and sets, each with its unique characteristics and use cases.\n",
    "\n",
    "In this tutorial, we will explore these data structures and learn how to use them effectively in Python. We will cover how to create, access, modify, and manipulate data stored in these structures. Understanding data structures is essential for writing efficient and maintainable code, as they play a crucial role in storing and organizing data in a program."
   ]
  },
  {
   "cell_type": "markdown",
   "metadata": {},
   "source": [
    "## Lists\n",
    "Lists are one of the most versatile and commonly used data structures in Python. They allow you to store a collection of items, which can be of different data types, and manipulate them in various ways. Lists are mutable, meaning you can change their elements after they are created, making them powerful tools for managing and organizing data.\n",
    "\n",
    "In this tutorial, we will explore the basics of lists in Python, including how to create lists, access and modify elements, add and remove items, and perform common operations on lists. "
   ]
  },
  {
   "cell_type": "code",
   "execution_count": 2,
   "metadata": {},
   "outputs": [
    {
     "name": "stdout",
     "output_type": "stream",
     "text": [
      "First element: 1\n",
      "Last element: 5\n",
      "Slice: [2, 3]\n",
      "Modified list: [10, 2, 3, 4, 5]\n",
      "After appending: [10, 2, 3, 4, 5, 6]\n",
      "After inserting: [10, 2, 20, 3, 4, 5, 6]\n",
      "After removing: [10, 2, 20, 4, 5, 6]\n",
      "Popped element: 2\n",
      "After popping: [10, 20, 4, 5, 6]\n",
      "Length of list: 5\n",
      "Concatenated list: [10, 20, 4, 5, 6, 7, 8, 9]\n",
      "Repeated list: [10, 20, 4, 5, 6, 10, 20, 4, 5, 6]\n",
      "Is 10 in the list? True\n",
      "Elements of the list:\n",
      "10\n",
      "20\n",
      "4\n",
      "5\n",
      "6\n",
      "Sorted list: [4, 5, 6, 10, 20]\n",
      "Reversed list: [20, 10, 6, 5, 4]\n"
     ]
    }
   ],
   "source": [
    "# Introduction to Lists and Common Operations\n",
    "\n",
    "## Creating Lists\n",
    "# Lists can contain elements of different data types\n",
    "my_list = [1, 2, 3, 4, 5]\n",
    "mixed_list = [1, \"Hello\", 3.14, True]\n",
    "\n",
    "## Accessing Elements\n",
    "# Elements can be accessed using indexing\n",
    "print(\"First element:\", my_list[0])\n",
    "print(\"Last element:\", my_list[-1])\n",
    "\n",
    "## Slicing\n",
    "# Slicing allows you to create a new list from a subset of elements\n",
    "print(\"Slice:\", my_list[1:3])  # elements at index 1 and 2\n",
    "\n",
    "## Modifying Elements\n",
    "# Lists are mutable, meaning you can change their elements\n",
    "my_list[0] = 10\n",
    "print(\"Modified list:\", my_list)\n",
    "\n",
    "## Adding Elements\n",
    "# Append: adds an element to the end of the list\n",
    "my_list.append(6)\n",
    "print(\"After appending:\", my_list)\n",
    "\n",
    "# Insert: adds an element at a specific index\n",
    "my_list.insert(2, 20)\n",
    "print(\"After inserting:\", my_list)\n",
    "\n",
    "## Removing Elements\n",
    "# Remove: removes the first occurrence of a value\n",
    "my_list.remove(3)\n",
    "print(\"After removing:\", my_list)\n",
    "\n",
    "# Pop: removes and returns the element at the given index\n",
    "popped_element = my_list.pop(1)\n",
    "print(\"Popped element:\", popped_element)\n",
    "print(\"After popping:\", my_list)\n",
    "\n",
    "## Common Operations\n",
    "# Length of a list\n",
    "print(\"Length of list:\", len(my_list))\n",
    "\n",
    "# Concatenation: combining two lists\n",
    "new_list = my_list + [7, 8, 9]\n",
    "print(\"Concatenated list:\", new_list)\n",
    "\n",
    "# Repetition: repeating a list\n",
    "repeated_list = my_list * 2\n",
    "print(\"Repeated list:\", repeated_list)\n",
    "\n",
    "# Membership: checking if an element is in the list\n",
    "print(\"Is 10 in the list?\", 10 in my_list)\n",
    "\n",
    "# Iterating over elements\n",
    "print(\"Elements of the list:\")\n",
    "for item in my_list:\n",
    "    print(item)\n",
    "\n",
    "# Sorting\n",
    "my_list.sort()\n",
    "print(\"Sorted list:\", my_list)\n",
    "\n",
    "# Reversing\n",
    "my_list.reverse()\n",
    "print(\"Reversed list:\", my_list)"
   ]
  },
  {
   "cell_type": "markdown",
   "metadata": {},
   "source": [
    "## Tuples\n",
    "\n",
    "Tuples are another fundamental data structure in Python, similar to lists but with a key difference: they are immutable. This means that once a tuple is created, its elements cannot be changed, added, or removed. Tuples are commonly used to store collections of items that should not be modified, such as coordinates, database records, or function arguments.\n",
    "\n",
    "In this tutorial, we will explore how to create tuples, access elements, and perform common operations on tuples"
   ]
  },
  {
   "cell_type": "code",
   "execution_count": 3,
   "metadata": {},
   "outputs": [
    {
     "name": "stdout",
     "output_type": "stream",
     "text": [
      "Original tuple: (1, 2, 3, 4, 5)\n",
      "First element: 1\n",
      "Last element: 5\n",
      "Slicing elements: (2, 3, 4)\n",
      "Length of tuple: 5\n",
      "Minimum value: 1\n",
      "Maximum value: 5\n",
      "Sum of elements: 15\n",
      "Index of value 4: 3\n",
      "Count of value 3: 1\n"
     ]
    }
   ],
   "source": [
    "# Creating a tuple\n",
    "my_tuple = (1, 2, 3, 4, 5)\n",
    "print(\"Original tuple:\", my_tuple)\n",
    "\n",
    "# Accessing elements\n",
    "print(\"First element:\", my_tuple[0])\n",
    "print(\"Last element:\", my_tuple[-1])\n",
    "print(\"Slicing elements:\", my_tuple[1:4])\n",
    "\n",
    "# Tuples are immutable, so you cannot modify elements\n",
    "# Uncommenting the following line will raise an error\n",
    "# my_tuple[0] = 10\n",
    "\n",
    "# Common operations\n",
    "print(\"Length of tuple:\", len(my_tuple))\n",
    "print(\"Minimum value:\", min(my_tuple))\n",
    "print(\"Maximum value:\", max(my_tuple))\n",
    "print(\"Sum of elements:\", sum(my_tuple))\n",
    "print(\"Index of value 4:\", my_tuple.index(4))\n",
    "print(\"Count of value 3:\", my_tuple.count(3))"
   ]
  },
  {
   "cell_type": "markdown",
   "metadata": {},
   "source": [
    "## Dictionaries\n",
    "\n",
    "Dictionaries are a versatile and powerful data structure in Python used to store key-value pairs. Unlike sequences such as lists and tuples, which are indexed by a range of numbers, dictionaries are indexed by keys, which can be of any immutable type, such as strings or numbers. This allows for fast and efficient retrieval of values based on their keys.\n",
    "\n",
    "In this tutorial, we will explore how to create dictionaries, access and modify values, add and remove key-value pairs, and perform common operations on dictionaries. Dictionaries are commonly used to store data in a structured way, making them ideal for tasks such as representing real-world objects, mapping relationships, and managing configurations. "
   ]
  },
  {
   "cell_type": "code",
   "execution_count": 5,
   "metadata": {},
   "outputs": [
    {
     "name": "stdout",
     "output_type": "stream",
     "text": [
      "Original dictionary: {'name': 'John', 'age': 30, 'city': 'New York'}\n",
      "Value for key 'name': John\n",
      "Keys: dict_keys(['name', 'age', 'city'])\n",
      "Values: dict_values(['John', 30, 'New York'])\n",
      "Items: dict_items([('name', 'John'), ('age', 30), ('city', 'New York')])\n",
      "Modified dictionary: {'name': 'John', 'age': 35, 'city': 'New York'}\n",
      "After adding: {'name': 'John', 'age': 35, 'city': 'New York', 'gender': 'Male'}\n",
      "After deleting: {'name': 'John', 'age': 35, 'gender': 'Male'}\n",
      "Length of dictionary: 3\n",
      "Value for key 'name' using get(): John\n",
      "Checking if key 'city' exists: False\n",
      "Clearing dictionary:\n",
      "Cleared dictionary: {}\n"
     ]
    }
   ],
   "source": [
    "# Creating a dictionary\n",
    "my_dict = {'name': 'John', 'age': 30, 'city': 'New York'}\n",
    "print(\"Original dictionary:\", my_dict)\n",
    "\n",
    "# Accessing elements\n",
    "print(\"Value for key 'name':\", my_dict['name'])\n",
    "print(\"Keys:\", my_dict.keys())\n",
    "print(\"Values:\", my_dict.values())\n",
    "print(\"Items:\", my_dict.items())\n",
    "\n",
    "# Modifying elements\n",
    "my_dict['age'] = 35\n",
    "print(\"Modified dictionary:\", my_dict)\n",
    "\n",
    "# Adding elements\n",
    "my_dict['gender'] = 'Male'\n",
    "print(\"After adding:\", my_dict)\n",
    "\n",
    "# Removing elements\n",
    "del my_dict['city']\n",
    "print(\"After deleting:\", my_dict)\n",
    "\n",
    "# Common operations\n",
    "print(\"Length of dictionary:\", len(my_dict))\n",
    "print(\"Value for key 'name' using get():\", my_dict.get('name'))\n",
    "print(\"Checking if key 'city' exists:\", 'city' in my_dict)\n",
    "print(\"Clearing dictionary:\")\n",
    "my_dict.clear()\n",
    "print(\"Cleared dictionary:\", my_dict)"
   ]
  },
  {
   "cell_type": "markdown",
   "metadata": {},
   "source": [
    "## Looping through lists, tuples, and dictionaries in Python\n",
    "\n",
    "This notebook demonstrates how to loop through lists, tuples, and dictionaries in Python using `for` loops. For lists and tuples, the loop iterates through each element, while for dictionaries, it iterates through key-value pairs using the `items()` method"
   ]
  },
  {
   "cell_type": "code",
   "execution_count": 6,
   "metadata": {},
   "outputs": [
    {
     "name": "stdout",
     "output_type": "stream",
     "text": [
      "Looping through a list:\n",
      "1\n",
      "2\n",
      "3\n",
      "4\n",
      "5\n"
     ]
    }
   ],
   "source": [
    "# Looping through a list\n",
    "my_list = [1, 2, 3, 4, 5]\n",
    "print(\"Looping through a list:\")\n",
    "for item in my_list:\n",
    "    print(item)"
   ]
  },
  {
   "cell_type": "code",
   "execution_count": 7,
   "metadata": {},
   "outputs": [
    {
     "name": "stdout",
     "output_type": "stream",
     "text": [
      "\n",
      "Looping through a tuple:\n",
      "1\n",
      "2\n",
      "3\n",
      "4\n",
      "5\n"
     ]
    }
   ],
   "source": [
    "# Looping through a tuple\n",
    "my_tuple = (1, 2, 3, 4, 5)\n",
    "print(\"\\nLooping through a tuple:\")\n",
    "for item in my_tuple:\n",
    "    print(item)"
   ]
  },
  {
   "cell_type": "code",
   "execution_count": 8,
   "metadata": {},
   "outputs": [
    {
     "name": "stdout",
     "output_type": "stream",
     "text": [
      "\n",
      "Looping through a dictionary:\n",
      "name : John\n",
      "age : 30\n",
      "city : New York\n"
     ]
    }
   ],
   "source": [
    "# Looping through a dictionary\n",
    "my_dict = {'name': 'John', 'age': 30, 'city': 'New York'}\n",
    "print(\"\\nLooping through a dictionary:\")\n",
    "for key, value in my_dict.items():\n",
    "    print(key, \":\", value)"
   ]
  }
 ],
 "metadata": {
  "kernelspec": {
   "display_name": "geo",
   "language": "python",
   "name": "python3"
  },
  "language_info": {
   "codemirror_mode": {
    "name": "ipython",
    "version": 3
   },
   "file_extension": ".py",
   "mimetype": "text/x-python",
   "name": "python",
   "nbconvert_exporter": "python",
   "pygments_lexer": "ipython3",
   "version": "3.11.8"
  }
 },
 "nbformat": 4,
 "nbformat_minor": 2
}
