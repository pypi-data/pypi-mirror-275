{
 "cells": [
  {
   "cell_type": "markdown",
   "metadata": {},
   "source": [
    "# Introduction to Object-Oriented Programming (OOP)\n",
    "[![image](https://colab.research.google.com/assets/colab-badge.svg)](https://colab.research.google.com/github/chaitanyaj14/geoquanta/blob/main/docs/python/13_oop.ipynb)\n",
    "\n",
    "Object-oriented programming (OOP) is a programming paradigm based on the concept of \"objects,\" which can contain data in the form of attributes and code in the form of methods. OOP is centered around the following key concepts:\n",
    "\n",
    "1. **Classes**: Templates for creating objects, defining their structure and behavior.\n",
    "2. **Objects**: Instances of classes, representing concrete entities in a program.\n",
    "3. **Encapsulation**: Bundling data (attributes) and methods that operate on the data within a single unit (class).\n",
    "4. **Inheritance**: Mechanism where a new class can inherit attributes and methods from an existing class.\n",
    "5. **Polymorphism**: Ability to treat objects of different classes as instances of the same class.\n",
    "\n",
    "## Benefits of Object-Oriented Programming\n",
    "\n",
    "1. **Modularity**: Organizing code into self-contained objects for easier understanding and maintenance.\n",
    "2. **Reusability**: Using existing classes to create new ones, saving time and effort.\n",
    "3. **Encapsulation**: Hiding the complexity of internal workings and exposing only necessary functionality.\n",
    "4. **Flexibility and Scalability**: Easily modifying and extending code as the project grows.\n",
    "5. **Abstraction**: Focusing on essential features while hiding unnecessary details, improving readability and maintainability."
   ]
  },
  {
   "cell_type": "markdown",
   "metadata": {},
   "source": [
    "## Introduction to Classes and Objects in Python\n",
    "\n",
    "### Table of Contents:\n",
    "1. [Classes](#classes)\n",
    "2. [Objects](#objects)\n",
    "3. [Attributes](#attributes)\n",
    "4. [Methods](#methods)\n",
    "5. [Encapsulation](#encapsulation)\n",
    "6. [Inheritance](#inheritance)\n",
    "7. [Polymorphism](#polymorphism)\n",
    "\n",
    "### 1. Classes <a id='classes'></a>\n",
    "\n",
    "- Classes in Python are blueprints for creating objects.\n",
    "- They define the structure and behavior of objects.\n",
    "- Classes can contain attributes (variables) and methods (functions)."
   ]
  },
  {
   "cell_type": "code",
   "execution_count": 2,
   "metadata": {},
   "outputs": [],
   "source": [
    "class Person:\n",
    "    def __init__(self, name, age):\n",
    "        self.name = name\n",
    "        self.age = age\n",
    "\n",
    "    def say_hello(self):\n",
    "        return f\"Hello, my name is {self.name} and I am {self.age} years old.\""
   ]
  },
  {
   "cell_type": "markdown",
   "metadata": {},
   "source": [
    "### 2. Objects <a id='objects'></a>\n",
    "- Objects are instances of classes.\n",
    "- They are created using the class constructor."
   ]
  },
  {
   "cell_type": "code",
   "execution_count": 3,
   "metadata": {},
   "outputs": [],
   "source": [
    "person1 = Person(\"Alice\", 30)\n",
    "person2 = Person(\"Bob\", 25)"
   ]
  },
  {
   "cell_type": "markdown",
   "metadata": {},
   "source": [
    "### 3. Attributes <a id='attributes'></a>\n",
    "- Attributes are variables associated with a class or object.\n",
    "- They can be class attributes (shared among all instances) or instance attributes (unique to each instance)."
   ]
  },
  {
   "cell_type": "code",
   "execution_count": 4,
   "metadata": {},
   "outputs": [
    {
     "name": "stdout",
     "output_type": "stream",
     "text": [
      "Alice\n",
      "25\n"
     ]
    }
   ],
   "source": [
    "print(person1.name)\n",
    "print(person2.age)"
   ]
  },
  {
   "cell_type": "markdown",
   "metadata": {},
   "source": [
    "### 4. Methods <a id='methods'></a>\n",
    "- Methods are functions defined within a class.\n",
    "- They can operate on the attributes of a class."
   ]
  },
  {
   "cell_type": "code",
   "execution_count": 5,
   "metadata": {},
   "outputs": [
    {
     "name": "stdout",
     "output_type": "stream",
     "text": [
      "Hello, my name is Alice and I am 30 years old.\n"
     ]
    }
   ],
   "source": [
    "print(person1.say_hello())"
   ]
  },
  {
   "cell_type": "markdown",
   "metadata": {},
   "source": [
    "### 5. Encapsulation <a id='encapsulation'></a>\n",
    "- Encapsulation is the concept of restricting access to certain parts of an object.\n",
    "- In Python, you can use private attributes and methods by prefixing them with double underscores __."
   ]
  },
  {
   "cell_type": "code",
   "execution_count": 6,
   "metadata": {},
   "outputs": [],
   "source": [
    "class Car:\n",
    "    def __init__(self, make, model):\n",
    "        self.__make = make\n",
    "        self.__model = model\n",
    "\n",
    "    def get_make_model(self):\n",
    "        return f\"{self.__make} {self.__model}\""
   ]
  },
  {
   "cell_type": "markdown",
   "metadata": {},
   "source": [
    "### 6. Inheritance <a id='inheritance'></a>\n",
    "- Inheritance is the ability to create a new class based on an existing class.\n",
    "- The new class (subclass) inherits attributes and methods from the existing class (superclass)."
   ]
  },
  {
   "cell_type": "code",
   "execution_count": 7,
   "metadata": {},
   "outputs": [],
   "source": [
    "class Student(Person):\n",
    "    def __init__(self, name, age, student_id):\n",
    "        super().__init__(name, age)\n",
    "        self.student_id = student_id\n",
    "\n",
    "    def get_student_info(self):\n",
    "        return f\"{self.name} (ID: {self.student_id})\""
   ]
  },
  {
   "cell_type": "markdown",
   "metadata": {},
   "source": [
    "### 7. Polymorphism <a id='polymorphism'></a>\n",
    "- Polymorphism is the ability of different classes to be treated as instances of the same class.\n",
    "- It allows objects of different classes to be used interchangeably."
   ]
  },
  {
   "cell_type": "code",
   "execution_count": 8,
   "metadata": {},
   "outputs": [
    {
     "name": "stdout",
     "output_type": "stream",
     "text": [
      "Hello, my name is Alice and I am 30 years old.\n",
      "Hello, my name is Charlie and I am 22 years old.\n"
     ]
    }
   ],
   "source": [
    "def print_info(person):\n",
    "    print(person.say_hello())\n",
    "\n",
    "print_info(person1)\n",
    "print_info(Student(\"Charlie\", 22, \"12345\"))"
   ]
  }
 ],
 "metadata": {
  "kernelspec": {
   "display_name": "geo",
   "language": "python",
   "name": "python3"
  },
  "language_info": {
   "codemirror_mode": {
    "name": "ipython",
    "version": 3
   },
   "file_extension": ".py",
   "mimetype": "text/x-python",
   "name": "python",
   "nbconvert_exporter": "python",
   "pygments_lexer": "ipython3",
   "version": "3.11.8"
  }
 },
 "nbformat": 4,
 "nbformat_minor": 2
}
