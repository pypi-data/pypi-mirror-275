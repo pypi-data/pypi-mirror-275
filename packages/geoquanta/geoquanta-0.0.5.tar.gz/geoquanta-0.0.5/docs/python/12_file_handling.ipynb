{
 "cells": [
  {
   "cell_type": "markdown",
   "metadata": {},
   "source": [
    "# Introduction to File Handling in Python\n",
    "[![image](https://colab.research.google.com/assets/colab-badge.svg)](https://colab.research.google.com/github/chaitanyaj14/geoquanta/blob/main/docs/python/12_file_handling.ipynb)\n",
    "\n",
    "File handling is an essential aspect of programming in Python, allowing you to work with files on your computer's file system. Python provides built-in functions and methods to perform various operations on files, such as reading, writing, appending, and deleting.\n",
    "\n",
    "In this tutorial, we will explore how to perform these operations using Python's file handling capabilities. We will learn how to create, open, read, write, append, and delete files, as well as check for file existence. Understanding file handling in Python is crucial for tasks that involve data storage, manipulation, and processing."
   ]
  },
  {
   "cell_type": "markdown",
   "metadata": {},
   "source": [
    "```python\n",
    "\n",
    "# Creating a new file\n",
    "file_path = 'data/example.txt'\n",
    "with open(file_path, 'w') as file:\n",
    "    file.write('Hello, this is a test.')\n",
    "\n",
    "# Reading from a file\n",
    "with open(file_path, 'r') as file:\n",
    "    content = file.read()\n",
    "    print(content)\n",
    "\n",
    "# Appending to a file\n",
    "with open(file_path, 'a') as file:\n",
    "    file.write('\\nThis is a new line appended.')\n",
    "\n",
    "# Reading line by line\n",
    "with open(file_path, 'r') as file:\n",
    "    for line in file:\n",
    "        print(line.strip())\n",
    "\n",
    "# Checking file existence\n",
    "import os\n",
    "if os.path.exists(file_path):\n",
    "    print('File exists!')\n",
    "else:\n",
    "    print('File does not exist!')\n",
    "\n",
    "# Deleting a file\n",
    "os.remove(file_path)\n",
    "print('File deleted!')\n"
   ]
  }
 ],
 "metadata": {
  "kernelspec": {
   "display_name": "geo",
   "language": "python",
   "name": "python3"
  },
  "language_info": {
   "codemirror_mode": {
    "name": "ipython",
    "version": 3
   },
   "file_extension": ".py",
   "mimetype": "text/x-python",
   "name": "python",
   "nbconvert_exporter": "python",
   "pygments_lexer": "ipython3",
   "version": "3.11.8"
  }
 },
 "nbformat": 4,
 "nbformat_minor": 2
}
