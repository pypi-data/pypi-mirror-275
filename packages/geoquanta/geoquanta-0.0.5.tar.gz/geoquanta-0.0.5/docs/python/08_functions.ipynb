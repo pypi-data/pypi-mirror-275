{
 "cells": [
  {
   "cell_type": "markdown",
   "metadata": {},
   "source": [
    "## Functions\n",
    "[![image](https://colab.research.google.com/assets/colab-badge.svg)](https://colab.research.google.com/github/chaitanyaj14/geoquanta/blob/main/docs/python/08_functions.ipynb)\n",
    "\n",
    "Functions are reusable blocks of code that perform a specific task. They allow you to break your code into smaller, more manageable pieces and avoid repetition. In this notebook, we will explore how to define and use functions in Python.\n",
    "\n",
    "## Defining a Function\n",
    "\n",
    "You can define a function in Python using the `def` keyword, followed by the function name and parentheses. You can also specify parameters inside the parentheses."
   ]
  },
  {
   "cell_type": "code",
   "execution_count": 1,
   "metadata": {},
   "outputs": [],
   "source": [
    "# Example of defining a function\n",
    "def greet(name):\n",
    "    print(\"Hello, \" + name + \"!\")"
   ]
  },
  {
   "cell_type": "markdown",
   "metadata": {},
   "source": [
    "## Calling a Function\n",
    "To call a function, simply write the function name followed by parentheses and any arguments that the function requires."
   ]
  },
  {
   "cell_type": "code",
   "execution_count": 2,
   "metadata": {},
   "outputs": [
    {
     "name": "stdout",
     "output_type": "stream",
     "text": [
      "Hello, Alice!\n"
     ]
    }
   ],
   "source": [
    "# Example of calling a function\n",
    "greet(\"Alice\")"
   ]
  },
  {
   "cell_type": "markdown",
   "metadata": {},
   "source": [
    "## Return Statement\n",
    "Functions can return a value using the `return` statement. This allows the function to pass data back to the caller."
   ]
  },
  {
   "cell_type": "code",
   "execution_count": 3,
   "metadata": {},
   "outputs": [
    {
     "name": "stdout",
     "output_type": "stream",
     "text": [
      "Result: 8\n"
     ]
    }
   ],
   "source": [
    "# Example of a function with a return statement\n",
    "def add(a, b):\n",
    "    return a + b\n",
    "\n",
    "result = add(3, 5)\n",
    "print(\"Result:\", result)"
   ]
  },
  {
   "cell_type": "markdown",
   "metadata": {},
   "source": [
    "## Default Arguments\n",
    "You can specify default values for function parameters. If the caller does not provide a value for the parameter, the default value will be used."
   ]
  },
  {
   "cell_type": "code",
   "execution_count": 4,
   "metadata": {},
   "outputs": [
    {
     "name": "stdout",
     "output_type": "stream",
     "text": [
      "Hello, World!\n",
      "Hello, Alice!\n"
     ]
    }
   ],
   "source": [
    "# Example of default arguments\n",
    "def greet(name=\"World\"):\n",
    "    print(\"Hello, \" + name + \"!\")\n",
    "\n",
    "greet()\n",
    "greet(\"Alice\")"
   ]
  },
  {
   "cell_type": "markdown",
   "metadata": {},
   "source": [
    "## Variable Number of Arguments\n",
    "You can use `*args` and `**kwargs` to pass a variable number of arguments to a function."
   ]
  },
  {
   "cell_type": "code",
   "execution_count": 5,
   "metadata": {},
   "outputs": [
    {
     "name": "stdout",
     "output_type": "stream",
     "text": [
      "Result: 15\n"
     ]
    }
   ],
   "source": [
    "# Example of variable number of arguments\n",
    "def add(*args):\n",
    "    total = 0\n",
    "    for num in args:\n",
    "        total += num\n",
    "    return total\n",
    "\n",
    "result = add(1, 2, 3, 4, 5)\n",
    "print(\"Result:\", result)"
   ]
  },
  {
   "cell_type": "markdown",
   "metadata": {},
   "source": [
    "## Lambda Functions\n",
    "Lambda functions are small, anonymous functions defined using the `lambda` keyword. They can have any number of arguments but can only have one expression."
   ]
  },
  {
   "cell_type": "code",
   "execution_count": 7,
   "metadata": {},
   "outputs": [
    {
     "name": "stdout",
     "output_type": "stream",
     "text": [
      "Square of 5: 25\n"
     ]
    }
   ],
   "source": [
    "# Example of a lambda function\n",
    "square = lambda x: x ** 2\n",
    "print(\"Square of 5:\", square(5))"
   ]
  },
  {
   "cell_type": "markdown",
   "metadata": {},
   "source": [
    "Functions are a fundamental concept in Python programming. They allow you to write modular and reusable code, making your programs more readable and maintainable. "
   ]
  }
 ],
 "metadata": {
  "kernelspec": {
   "display_name": "geo",
   "language": "python",
   "name": "python3"
  },
  "language_info": {
   "codemirror_mode": {
    "name": "ipython",
    "version": 3
   },
   "file_extension": ".py",
   "mimetype": "text/x-python",
   "name": "python",
   "nbconvert_exporter": "python",
   "pygments_lexer": "ipython3",
   "version": "3.11.8"
  }
 },
 "nbformat": 4,
 "nbformat_minor": 2
}
