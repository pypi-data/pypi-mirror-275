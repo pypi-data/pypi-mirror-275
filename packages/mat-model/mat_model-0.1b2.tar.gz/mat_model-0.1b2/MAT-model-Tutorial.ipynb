{
 "cells": [
  {
   "cell_type": "markdown",
   "metadata": {},
   "source": [
    "# MAT-model: Model Classes for Multiple Aspect Trajectory Data Mining \\[MAT-Tools Framework\\]\n",
    "\n",
    "Sample Code in python notebook to use `mat-model` as a python library.\n",
    "\n",
    "The present package offers a tool, to support the user in the task of modeling multiple aspect trajectories. It integrates into a unique framework for multiple aspects trajectories and in general for multidimensional sequence data mining methods.\n",
    "\n",
    "Created on Apr, 2024\n",
    "Copyright (C) 2023, License GPL Version 3 or superior (see LICENSE file)"
   ]
  },
  {
   "cell_type": "code",
   "execution_count": 2,
   "metadata": {
    "collapsed": true,
    "jupyter": {
     "outputs_hidden": true
    },
    "tags": []
   },
   "outputs": [
    {
     "name": "stdout",
     "output_type": "stream",
     "text": [
      "Help on function load_ds in module matdata.dataset:\n",
      "\n",
      "load_ds(dataset='mat.FoursquareNYC', prefix='', missing=None, sample_size=1, random_num=1)\n",
      "    Load a dataset for training or testing from a GitHub repository.\n",
      "    \n",
      "    Parameters:\n",
      "    -----------\n",
      "    dataset : str, optional\n",
      "        The name of the dataset to load (default 'mat.FoursquareNYC').\n",
      "    prefix : str, optional\n",
      "        The prefix to be added to the dataset file name (default '').\n",
      "    missing : str, optional\n",
      "        The placeholder value used to denote missing data (default '-999').\n",
      "    sample_size : float, optional\n",
      "        The proportion of the dataset to include in the sample (default 1, i.e., use the entire dataset).\n",
      "    random_num : int, optional\n",
      "        Random seed for reproducibility (default 1).\n",
      "    \n",
      "    Returns:\n",
      "    --------\n",
      "    pandas.DataFrame\n",
      "        The loaded dataset with optional sampling.\n",
      "\n"
     ]
    }
   ],
   "source": [
    "#!pip install mat-model\n",
    "#!pip install --upgrade mat-model"
   ]
  },
  {
   "cell_type": "code",
   "execution_count": 1,
   "metadata": {
    "tags": []
   },
   "outputs": [
    {
     "name": "stdout",
     "output_type": "stream",
     "text": [
      "Loading dataset file: https://github.com/mat-analysis/datasets/tree/main/mat/FoursquareNYC/\n"
     ]
    },
    {
     "name": "stderr",
     "output_type": "stream",
     "text": [
      "  % Total    % Received % Xferd  Average Speed   Time    Time     Time  Current\n",
      "                                 Dload  Upload   Total   Spent    Left  Speed\n",
      "100 1055k  100 1055k    0     0  1575k      0 --:--:-- --:--:-- --:--:-- 1582k\n"
     ]
    },
    {
     "data": {
      "application/vnd.jupyter.widget-view+json": {
       "model_id": "2b54894624e24d838979df4dfee2b65f",
       "version_major": 2,
       "version_minor": 0
      },
      "text/plain": [
       "Spliting Data (class-balanced):   0%|          | 0/193 [00:00<?, ?it/s]"
      ]
     },
     "metadata": {},
     "output_type": "display_data"
    },
    {
     "data": {
      "text/html": [
       "<div>\n",
       "<style scoped>\n",
       "    .dataframe tbody tr th:only-of-type {\n",
       "        vertical-align: middle;\n",
       "    }\n",
       "\n",
       "    .dataframe tbody tr th {\n",
       "        vertical-align: top;\n",
       "    }\n",
       "\n",
       "    .dataframe thead th {\n",
       "        text-align: right;\n",
       "    }\n",
       "</style>\n",
       "<table border=\"1\" class=\"dataframe\">\n",
       "  <thead>\n",
       "    <tr style=\"text-align: right;\">\n",
       "      <th></th>\n",
       "      <th>space</th>\n",
       "      <th>time</th>\n",
       "      <th>day</th>\n",
       "      <th>poi</th>\n",
       "      <th>type</th>\n",
       "      <th>root_type</th>\n",
       "      <th>rating</th>\n",
       "      <th>weather</th>\n",
       "      <th>tid</th>\n",
       "      <th>label</th>\n",
       "    </tr>\n",
       "  </thead>\n",
       "  <tbody>\n",
       "    <tr>\n",
       "      <th>0</th>\n",
       "      <td>40.6604738351670 -73.8302910891864</td>\n",
       "      <td>1042</td>\n",
       "      <td>Monday</td>\n",
       "      <td>MTA Subway - Howard Beach/JFK Airport (A)</td>\n",
       "      <td>Metro Station</td>\n",
       "      <td>Travel &amp; Transport</td>\n",
       "      <td>-1.0</td>\n",
       "      <td>Clear</td>\n",
       "      <td>128</td>\n",
       "      <td>6</td>\n",
       "    </tr>\n",
       "    <tr>\n",
       "      <th>1</th>\n",
       "      <td>40.6086420833785 -73.8190376758575</td>\n",
       "      <td>1179</td>\n",
       "      <td>Monday</td>\n",
       "      <td>MTA Bus - Q53</td>\n",
       "      <td>Beach</td>\n",
       "      <td>Outdoors &amp; Recreation</td>\n",
       "      <td>-1.0</td>\n",
       "      <td>Clear</td>\n",
       "      <td>128</td>\n",
       "      <td>6</td>\n",
       "    </tr>\n",
       "    <tr>\n",
       "      <th>2</th>\n",
       "      <td>40.7340555764763 -73.8708472251892</td>\n",
       "      <td>1208</td>\n",
       "      <td>Monday</td>\n",
       "      <td>Queens Center Mall</td>\n",
       "      <td>Shopping Mall</td>\n",
       "      <td>Shop &amp; Service</td>\n",
       "      <td>7.5</td>\n",
       "      <td>Clear</td>\n",
       "      <td>128</td>\n",
       "      <td>6</td>\n",
       "    </tr>\n",
       "    <tr>\n",
       "      <th>3</th>\n",
       "      <td>40.7333724746837 -73.8711404741537</td>\n",
       "      <td>1210</td>\n",
       "      <td>Monday</td>\n",
       "      <td>MTA Bus - Q11/Q21/Q29/Q52LTD/Q53LTD/Q59/Q60 - ...</td>\n",
       "      <td>Bus Line</td>\n",
       "      <td>Travel &amp; Transport</td>\n",
       "      <td>-1.0</td>\n",
       "      <td>Clear</td>\n",
       "      <td>128</td>\n",
       "      <td>6</td>\n",
       "    </tr>\n",
       "    <tr>\n",
       "      <th>4</th>\n",
       "      <td>40.7631337910326 -73.8752118314646</td>\n",
       "      <td>1273</td>\n",
       "      <td>Monday</td>\n",
       "      <td>MTABus Q19, Q49 (Astoria Blvd/94th St)</td>\n",
       "      <td>Bus Station</td>\n",
       "      <td>Travel &amp; Transport</td>\n",
       "      <td>-1.0</td>\n",
       "      <td>Clear</td>\n",
       "      <td>128</td>\n",
       "      <td>6</td>\n",
       "    </tr>\n",
       "    <tr>\n",
       "      <th>...</th>\n",
       "      <td>...</td>\n",
       "      <td>...</td>\n",
       "      <td>...</td>\n",
       "      <td>...</td>\n",
       "      <td>...</td>\n",
       "      <td>...</td>\n",
       "      <td>...</td>\n",
       "      <td>...</td>\n",
       "      <td>...</td>\n",
       "      <td>...</td>\n",
       "    </tr>\n",
       "    <tr>\n",
       "      <th>15267</th>\n",
       "      <td>40.7047332789043 -73.9877378940582</td>\n",
       "      <td>939</td>\n",
       "      <td>Thursday</td>\n",
       "      <td>Miami Ad School Brooklyn</td>\n",
       "      <td>General College &amp; University</td>\n",
       "      <td>College &amp; University</td>\n",
       "      <td>-1.0</td>\n",
       "      <td>Clear</td>\n",
       "      <td>29559</td>\n",
       "      <td>1070</td>\n",
       "    </tr>\n",
       "    <tr>\n",
       "      <th>15268</th>\n",
       "      <td>40.6978026652822 -73.9941451630314</td>\n",
       "      <td>483</td>\n",
       "      <td>Friday</td>\n",
       "      <td>Eastern Athletic Club</td>\n",
       "      <td>Gym</td>\n",
       "      <td>Outdoors &amp; Recreation</td>\n",
       "      <td>6.9</td>\n",
       "      <td>Clear</td>\n",
       "      <td>29559</td>\n",
       "      <td>1070</td>\n",
       "    </tr>\n",
       "    <tr>\n",
       "      <th>15269</th>\n",
       "      <td>40.6946728967503 -73.9940820360805</td>\n",
       "      <td>794</td>\n",
       "      <td>Friday</td>\n",
       "      <td>Starbucks</td>\n",
       "      <td>Coffee Shop</td>\n",
       "      <td>Food</td>\n",
       "      <td>7.0</td>\n",
       "      <td>Clear</td>\n",
       "      <td>29559</td>\n",
       "      <td>1070</td>\n",
       "    </tr>\n",
       "    <tr>\n",
       "      <th>15270</th>\n",
       "      <td>40.7023694709909 -73.9875124790989</td>\n",
       "      <td>1261</td>\n",
       "      <td>Friday</td>\n",
       "      <td>Superfine</td>\n",
       "      <td>American Restaurant</td>\n",
       "      <td>Food</td>\n",
       "      <td>7.6</td>\n",
       "      <td>Clear</td>\n",
       "      <td>29559</td>\n",
       "      <td>1070</td>\n",
       "    </tr>\n",
       "    <tr>\n",
       "      <th>15271</th>\n",
       "      <td>40.6977207397189 -73.9930203524269</td>\n",
       "      <td>56</td>\n",
       "      <td>Saturday</td>\n",
       "      <td>EHS St. George Residence</td>\n",
       "      <td>College Residence Hall</td>\n",
       "      <td>College &amp; University</td>\n",
       "      <td>-1.0</td>\n",
       "      <td>Clouds</td>\n",
       "      <td>29559</td>\n",
       "      <td>1070</td>\n",
       "    </tr>\n",
       "  </tbody>\n",
       "</table>\n",
       "<p>15272 rows × 10 columns</p>\n",
       "</div>"
      ],
      "text/plain": [
       "                                    space  time       day  \\\n",
       "0      40.6604738351670 -73.8302910891864  1042    Monday   \n",
       "1      40.6086420833785 -73.8190376758575  1179    Monday   \n",
       "2      40.7340555764763 -73.8708472251892  1208    Monday   \n",
       "3      40.7333724746837 -73.8711404741537  1210    Monday   \n",
       "4      40.7631337910326 -73.8752118314646  1273    Monday   \n",
       "...                                   ...   ...       ...   \n",
       "15267  40.7047332789043 -73.9877378940582   939  Thursday   \n",
       "15268  40.6978026652822 -73.9941451630314   483    Friday   \n",
       "15269  40.6946728967503 -73.9940820360805   794    Friday   \n",
       "15270  40.7023694709909 -73.9875124790989  1261    Friday   \n",
       "15271  40.6977207397189 -73.9930203524269    56  Saturday   \n",
       "\n",
       "                                                     poi  \\\n",
       "0              MTA Subway - Howard Beach/JFK Airport (A)   \n",
       "1                                          MTA Bus - Q53   \n",
       "2                                     Queens Center Mall   \n",
       "3      MTA Bus - Q11/Q21/Q29/Q52LTD/Q53LTD/Q59/Q60 - ...   \n",
       "4                 MTABus Q19, Q49 (Astoria Blvd/94th St)   \n",
       "...                                                  ...   \n",
       "15267                           Miami Ad School Brooklyn   \n",
       "15268                              Eastern Athletic Club   \n",
       "15269                                          Starbucks   \n",
       "15270                                          Superfine   \n",
       "15271                           EHS St. George Residence   \n",
       "\n",
       "                               type              root_type  rating weather  \\\n",
       "0                     Metro Station     Travel & Transport    -1.0   Clear   \n",
       "1                             Beach  Outdoors & Recreation    -1.0   Clear   \n",
       "2                     Shopping Mall         Shop & Service     7.5   Clear   \n",
       "3                          Bus Line     Travel & Transport    -1.0   Clear   \n",
       "4                       Bus Station     Travel & Transport    -1.0   Clear   \n",
       "...                             ...                    ...     ...     ...   \n",
       "15267  General College & University   College & University    -1.0   Clear   \n",
       "15268                           Gym  Outdoors & Recreation     6.9   Clear   \n",
       "15269                   Coffee Shop                   Food     7.0   Clear   \n",
       "15270           American Restaurant                   Food     7.6   Clear   \n",
       "15271        College Residence Hall   College & University    -1.0  Clouds   \n",
       "\n",
       "         tid  label  \n",
       "0        128      6  \n",
       "1        128      6  \n",
       "2        128      6  \n",
       "3        128      6  \n",
       "4        128      6  \n",
       "...      ...    ...  \n",
       "15267  29559   1070  \n",
       "15268  29559   1070  \n",
       "15269  29559   1070  \n",
       "15270  29559   1070  \n",
       "15271  29559   1070  \n",
       "\n",
       "[15272 rows x 10 columns]"
      ]
     },
     "execution_count": 1,
     "metadata": {},
     "output_type": "execute_result"
    }
   ],
   "source": [
    "from matdata.dataset import *\n",
    "ds = 'mat.FoursquareNYC'\n",
    "df = load_ds(ds, sample_size=0.25)\n",
    "df"
   ]
  },
  {
   "cell_type": "markdown",
   "metadata": {},
   "source": [
    "#### Trajectory Objects\n",
    "\n",
    "Alternatively, you can convert the dataframe into Trajectory objects:"
   ]
  },
  {
   "cell_type": "code",
   "execution_count": 3,
   "metadata": {},
   "outputs": [
    {
     "data": {
      "application/vnd.jupyter.widget-view+json": {
       "model_id": "c93e99f9d33541d9871f7fd3d71ce9cb",
       "version_major": 2,
       "version_minor": 0
      },
      "text/plain": [
       "Converting Trajectories:   0%|          | 0/694 [00:00<?, ?it/s]"
      ]
     },
     "metadata": {},
     "output_type": "display_data"
    }
   ],
   "source": [
    "from matmodel.util.parsers import df2trajectory\n",
    "\n",
    "T = df2trajectory(df)"
   ]
  },
  {
   "cell_type": "code",
   "execution_count": 4,
   "metadata": {},
   "outputs": [
    {
     "name": "stdout",
     "output_type": "stream",
     "text": [
      "𝘛𐄁135 \t𝘱1⟨(40.690 -73.982), 145.0, Monday, NYCT Transit Survey Unit, Office, Professional & Other Places, -1.0, Clouds⟩↴\n",
      "\t𝘱2⟨(40.709 -73.991), 201.0, Monday, MTA Subway - Manhattan Bridge (B/D/N/Q), Train, Travel & Transport, -1.0, Clouds⟩↴\n",
      "\t𝘱3⟨(40.828 -73.926), 1382.0, Monday, MTA Subway - 161st St/Yankee Stadium (4/B/D), Metro Station, Travel & Transport, -1.0, Clouds⟩↴\n",
      "\t𝘱4⟨(40.709 -73.991), 100.0, Tuesday, MTA Subway - Manhattan Bridge (B/D/N/Q), Train, Travel & Transport, -1.0, Clouds⟩↴\n",
      "\t𝘱5⟨(40.690 -73.982), 145.0, Tuesday, NYCT Transit Survey Unit, Office, Professional & Other Places, -1.0, Rain⟩↴\n",
      "\t𝘱6⟨(40.759 -73.988), 247.0, Tuesday, MTA Bus - 8 Av & W 46 St (M20/M104), Bus Stop, Travel & Transport, -1.0, Rain⟩↴\n",
      "\t𝘱7⟨(40.653 -74.002), 307.0, Wednesday, MTA Regional Bus Depot - Jackie Gleason, Bus Station, Travel & Transport, -1.0, Clouds⟩↴\n",
      "\t𝘱8⟨(40.638 -73.979), 353.0, Wednesday, MTA B67, B69 (McDonald Ave/Cortelyou Road), Bus Station, Travel & Transport, -1.0, Clouds⟩↴\n",
      "\t𝘱9⟨(40.688 -73.981), 425.0, Wednesday, MTA Bus - Livingston St & Nevins St (B41/B41LTD/B45/B67/B103LTD), Bus Station, Travel & Transport, -1.0, Clouds⟩↴\n",
      "\t𝘱10⟨(40.647 -73.980), 475.0, Wednesday, MTA B67, B69, B103 (McDonald Ave/Caton Ave), Bus Station, Travel & Transport, -1.0, Rain⟩↴\n",
      "\t𝘱11⟨(40.654 -74.005), 559.0, Wednesday, MTA Subway - 36th St (D/N/R), Metro Station, Travel & Transport, -1.0, Rain⟩↴\n",
      "\t𝘱12⟨(40.690 -73.985), 194.0, Thursday, MTA Subway - Hoyt St (2/3), Metro Station, Travel & Transport, -1.0, Clear⟩↴\n",
      "\t𝘱13⟨(40.833 -73.942), 288.0, Thursday, The Lair Of Modern Strange Cowboy, Home (private), Residence, -1.0, Clouds⟩↴\n",
      "\t𝘱14⟨(40.651 -73.950), 44.0, Friday, MTA Subway - Church Ave (2/5), Metro Station, Travel & Transport, -1.0, Clouds⟩\n"
     ]
    }
   ],
   "source": [
    "traj = T[1]\n",
    "traj.display()"
   ]
  },
  {
   "cell_type": "code",
   "execution_count": 5,
   "metadata": {},
   "outputs": [
    {
     "data": {
      "text/plain": [
       "[1. space (space2d),\n",
       " 2. time (numeric),\n",
       " 3. day (nominal),\n",
       " 4. poi (nominal),\n",
       " 5. type (nominal),\n",
       " 6. root_type (nominal),\n",
       " 7. rating (numeric),\n",
       " 8. weather (nominal)]"
      ]
     },
     "execution_count": 5,
     "metadata": {},
     "output_type": "execute_result"
    }
   ],
   "source": [
    "traj.attributes"
   ]
  },
  {
   "cell_type": "code",
   "execution_count": 6,
   "metadata": {},
   "outputs": [
    {
     "name": "stdout",
     "output_type": "stream",
     "text": [
      "𝘛𐄁135 \t𝘱1⟨(40.690 -73.982), 145.0, Monday, NYCT Transit Survey Unit, Office, Professional & Other Places, -1.0, Clouds⟩↴\n",
      "\t𝘱2⟨(40.709 -73.991), 201.0, Monday, MTA Subway - Manhattan Bridge (B/D/N/Q), Train, Travel & Transport, -1.0, Clouds⟩↴\n",
      "\t𝘱3⟨(40.828 -73.926), 1382.0, Monday, MTA Subway - 161st St/Yankee Stadium (4/B/D), Metro Station, Travel & Transport, -1.0, Clouds⟩↴\n",
      "\t𝘱4⟨(40.709 -73.991), 100.0, Tuesday, MTA Subway - Manhattan Bridge (B/D/N/Q), Train, Travel & Transport, -1.0, Clouds⟩↴\n",
      "\t𝘱5⟨(40.690 -73.982), 145.0, Tuesday, NYCT Transit Survey Unit, Office, Professional & Other Places, -1.0, Rain⟩↴\n",
      "\t𝘱6⟨(40.759 -73.988), 247.0, Tuesday, MTA Bus - 8 Av & W 46 St (M20/M104), Bus Stop, Travel & Transport, -1.0, Rain⟩↴\n",
      "\t𝘱7⟨(40.653 -74.002), 307.0, Wednesday, MTA Regional Bus Depot - Jackie Gleason, Bus Station, Travel & Transport, -1.0, Clouds⟩↴\n",
      "\t𝘱8⟨(40.638 -73.979), 353.0, Wednesday, MTA B67, B69 (McDonald Ave/Cortelyou Road), Bus Station, Travel & Transport, -1.0, Clouds⟩↴\n",
      "\t𝘱9⟨(40.688 -73.981), 425.0, Wednesday, MTA Bus - Livingston St & Nevins St (B41/B41LTD/B45/B67/B103LTD), Bus Station, Travel & Transport, -1.0, Clouds⟩↴\n",
      "\t𝘱10⟨(40.647 -73.980), 475.0, Wednesday, MTA B67, B69, B103 (McDonald Ave/Caton Ave), Bus Station, Travel & Transport, -1.0, Rain⟩↴\n",
      "\t𝘱11⟨(40.654 -74.005), 559.0, Wednesday, MTA Subway - 36th St (D/N/R), Metro Station, Travel & Transport, -1.0, Rain⟩↴\n",
      "\t𝘱12⟨(40.690 -73.985), 194.0, Thursday, MTA Subway - Hoyt St (2/3), Metro Station, Travel & Transport, -1.0, Clear⟩↴\n",
      "\t𝘱13⟨(40.833 -73.942), 288.0, Thursday, The Lair Of Modern Strange Cowboy, Home (private), Residence, -1.0, Clouds⟩↴\n",
      "\t𝘱14⟨(40.651 -73.950), 44.0, Friday, MTA Subway - Church Ave (2/5), Metro Station, Travel & Transport, -1.0, Clouds⟩\n"
     ]
    }
   ],
   "source": [
    "traj.display()"
   ]
  },
  {
   "cell_type": "code",
   "execution_count": 7,
   "metadata": {},
   "outputs": [
    {
     "data": {
      "text/plain": [
       "𝘱1⟨(40.690 -73.982), 145.0, Monday, NYCT Transit Survey Unit, Office, Professional & Other Places, -1.0, Clouds⟩"
      ]
     },
     "execution_count": 7,
     "metadata": {},
     "output_type": "execute_result"
    }
   ],
   "source": [
    "traj.points[0]"
   ]
  },
  {
   "cell_type": "code",
   "execution_count": 9,
   "metadata": {},
   "outputs": [
    {
     "data": {
      "text/plain": [
       "(Monday, NYCT Transit Survey Unit)"
      ]
     },
     "execution_count": 9,
     "metadata": {},
     "output_type": "execute_result"
    }
   ],
   "source": [
    "traj.points[0].aspects[2], traj.points[0].aspects[3]"
   ]
  },
  {
   "cell_type": "code",
   "execution_count": 10,
   "metadata": {},
   "outputs": [
    {
     "data": {
      "text/plain": [
       "[1. space (space2d),\n",
       " 2. time (numeric),\n",
       " 3. day (nominal),\n",
       " 4. poi (nominal),\n",
       " 5. type (nominal),\n",
       " 6. root_type (nominal),\n",
       " 7. rating (numeric),\n",
       " 8. weather (nominal)]"
      ]
     },
     "execution_count": 10,
     "metadata": {},
     "output_type": "execute_result"
    }
   ],
   "source": [
    "traj.attributes"
   ]
  },
  {
   "cell_type": "code",
   "execution_count": 11,
   "metadata": {},
   "outputs": [
    {
     "data": {
      "text/plain": [
       "('poi', NYCT Transit Survey Unit)"
      ]
     },
     "execution_count": 11,
     "metadata": {},
     "output_type": "execute_result"
    }
   ],
   "source": [
    "traj.attributes[3].text, traj.points[0].aspects[3]"
   ]
  },
  {
   "cell_type": "code",
   "execution_count": 21,
   "metadata": {},
   "outputs": [
    {
     "data": {
      "text/plain": [
       "False"
      ]
     },
     "execution_count": 21,
     "metadata": {},
     "output_type": "execute_result"
    }
   ],
   "source": [
    "a = traj.points[0].aspects[2]\n",
    "from matmodel.base import Space2D\n",
    "isinstance(a, Space2D)"
   ]
  },
  {
   "cell_type": "code",
   "execution_count": 22,
   "metadata": {},
   "outputs": [
    {
     "data": {
      "text/plain": [
       "('Monday', str)"
      ]
     },
     "execution_count": 22,
     "metadata": {},
     "output_type": "execute_result"
    }
   ],
   "source": [
    "a.value, type(a.value)"
   ]
  },
  {
   "cell_type": "code",
   "execution_count": null,
   "metadata": {},
   "outputs": [],
   "source": [
    "traj.attributes_desc.attributes"
   ]
  },
  {
   "cell_type": "code",
   "execution_count": null,
   "metadata": {},
   "outputs": [],
   "source": [
    "print(traj.attributes_desc.idDesc)\n",
    "print(traj.attributes_desc.labelDesc)"
   ]
  },
  {
   "cell_type": "code",
   "execution_count": null,
   "metadata": {},
   "outputs": [],
   "source": [
    "a1 = traj.attributes[0]\n",
    "print(a1.order, a1.text, a1.dtype, sep=' -- ')\n",
    "\n",
    "print('Comparator:', a1.comparator)"
   ]
  },
  {
   "cell_type": "code",
   "execution_count": null,
   "metadata": {},
   "outputs": [],
   "source": [
    "# Calcular a distancia do p1 com p2, no atributo 1 (São iguais)\n",
    "a1.comparator.distance(traj.points[0].aspects[0], traj.points[1].aspects[0])"
   ]
  },
  {
   "cell_type": "code",
   "execution_count": null,
   "metadata": {},
   "outputs": [],
   "source": [
    "# Calcular a distancia do p1 com p6, no atributo 1 (São diferentes)\n",
    "a1.comparator.distance(traj.points[0].aspects[0], traj.points[5].aspects[0])"
   ]
  },
  {
   "cell_type": "code",
   "execution_count": null,
   "metadata": {},
   "outputs": [],
   "source": [
    "d1 = 2\n",
    "d2 = 10\n",
    "\n",
    "# isso era uma função que o Andres usava para aumentar a diferença proporcionalmente quanto maior fosse a distancia,\n",
    "# vai até o max_value do comparador (se for setado)\n",
    "a1.comparator.enhance(d1), a1.comparator.enhance(d2)"
   ]
  },
  {
   "cell_type": "code",
   "execution_count": null,
   "metadata": {},
   "outputs": [],
   "source": [
    "d1 = 25\n",
    "d2 = 75\n",
    "\n",
    "# Se tiver valores de distância que quiser normalizar de 0 a 1, dá pra atribuir o maior valor de distância possível:\n",
    "a1.comparator.max_value = 100\n",
    "a1.comparator.normalize(d1), a1.comparator.normalize(d2)"
   ]
  },
  {
   "cell_type": "code",
   "execution_count": null,
   "metadata": {},
   "outputs": [],
   "source": [
    "help(a1.comparator.distance)"
   ]
  },
  {
   "cell_type": "code",
   "execution_count": null,
   "metadata": {},
   "outputs": [],
   "source": [
    "# Eu posso criar outros comparadores, ou trocar:\n",
    "from matmodel.distance.comparator import LcsDistance, EditlcsDistance\n",
    "\n",
    "a1.comparator = LcsDistance()\n",
    "print(traj.points[0].aspects[0], traj.points[2].aspects[0], a1.comparator.distance(traj.points[0].aspects[0], traj.points[2].aspects[0]))\n",
    "print(traj.points[0].aspects[0], traj.points[5].aspects[0], a1.comparator.distance(traj.points[0].aspects[0], traj.points[5].aspects[0]))\n",
    "\n",
    "a1.comparator = EditlcsDistance()\n",
    "print(traj.points[0].aspects[0], traj.points[2].aspects[0], a1.comparator.distance(traj.points[0].aspects[0], traj.points[2].aspects[0]))\n",
    "print(traj.points[0].aspects[0], traj.points[5].aspects[0], a1.comparator.distance(traj.points[0].aspects[0], traj.points[5].aspects[0]))"
   ]
  },
  {
   "cell_type": "code",
   "execution_count": null,
   "metadata": {},
   "outputs": [],
   "source": [
    "# Com descritor já pronto:\n",
    "from matmodel.util.parsers import df2trajectory\n",
    "T = df2trajectory(df, attributes_desc='../datasets/mat/descriptors/FoursquareNYC_hp.json')\n",
    "traj = T[73]"
   ]
  },
  {
   "cell_type": "code",
   "execution_count": null,
   "metadata": {},
   "outputs": [],
   "source": [
    "for attr in traj.attributes:\n",
    "    print(attr, attr.comparator)"
   ]
  },
  {
   "cell_type": "markdown",
   "metadata": {},
   "source": [
    "---"
   ]
  },
  {
   "cell_type": "markdown",
   "metadata": {
    "jp-MarkdownHeadingCollapsed": true,
    "tags": []
   },
   "source": [
    "# --"
   ]
  },
  {
   "cell_type": "code",
   "execution_count": null,
   "metadata": {},
   "outputs": [],
   "source": [
    "sel_attributes = ['poi', 'day', 'category', 'weather']\n",
    "attributes = [{'order': 1, 'type': 'space2d', 'text': 'lat_lon', 'comparator': {'distance': 'euclidean'}}, {'order': 2, 'type': 'nominal', 'text': 'day', 'comparator': {'distance': 'equals'}},{'order': 1, 'type': 'space2d', 'text': 'lat_lon', 'comparator': {'distance': 'euclidean'}}, {'order': 2, 'type': 'nominal', 'text': 'day', 'comparator': {'distance': 'equals'}}]\n",
    "\n",
    "dict(map(lambda item: (item['text'], item), attributes))"
   ]
  },
  {
   "cell_type": "code",
   "execution_count": null,
   "metadata": {},
   "outputs": [],
   "source": [
    "from matmodel.method import MethodWrapper\n",
    "\n",
    "MethodWrapper.providedMethods()"
   ]
  },
  {
   "cell_type": "code",
   "execution_count": null,
   "metadata": {},
   "outputs": [],
   "source": [
    "from matmodel.method.MethodWrapper import Param\n",
    "\n",
    "Param.TYPE_TEXT"
   ]
  },
  {
   "cell_type": "markdown",
   "metadata": {},
   "source": [
    "\\# By Tarlis Portela (2023)"
   ]
  }
 ],
 "metadata": {
  "kernelspec": {
   "display_name": "Python 3 (ipykernel)",
   "language": "python",
   "name": "python3"
  },
  "language_info": {
   "codemirror_mode": {
    "name": "ipython",
    "version": 3
   },
   "file_extension": ".py",
   "mimetype": "text/x-python",
   "name": "python",
   "nbconvert_exporter": "python",
   "pygments_lexer": "ipython3",
   "version": "3.9.13"
  }
 },
 "nbformat": 4,
 "nbformat_minor": 4
}
