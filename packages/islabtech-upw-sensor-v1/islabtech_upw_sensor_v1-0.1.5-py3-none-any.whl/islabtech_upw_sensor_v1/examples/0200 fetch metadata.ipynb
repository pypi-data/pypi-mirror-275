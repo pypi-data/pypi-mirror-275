{
 "cells": [
  {
   "cell_type": "markdown",
   "metadata": {},
   "source": [
    "# Fetch Metadata\n",
    "\n",
    "This example demonstrates fetching metadata from the device via a network connection."
   ]
  },
  {
   "cell_type": "markdown",
   "metadata": {},
   "source": [
    "First, import the [client library](https://pypi.org/project/islabtech-upw-sensor-v1/):"
   ]
  },
  {
   "cell_type": "code",
   "execution_count": 1,
   "metadata": {},
   "outputs": [],
   "source": [
    "import islabtech_upw_sensor_v1 as upw"
   ]
  },
  {
   "cell_type": "markdown",
   "metadata": {},
   "source": [
    "Then, establish a connection the you sensor. The device shows its IP address(es) on its home screen. The API port is `80`."
   ]
  },
  {
   "cell_type": "code",
   "execution_count": 2,
   "metadata": {},
   "outputs": [],
   "source": [
    "sensor = upw.Device.connect_via_network(\"192.168.1.123\", 80)  # insert sensor IP address"
   ]
  },
  {
   "cell_type": "markdown",
   "metadata": {},
   "source": [
    "Fetch the system status:"
   ]
  },
  {
   "cell_type": "code",
   "execution_count": 3,
   "metadata": {},
   "outputs": [
    {
     "name": "stdout",
     "output_type": "stream",
     "text": [
      "SystemStatus(firmware=FirmwareSystemStatus(version='0.1.1', updates={'enabled': True, 'last_check_epoch_timestamp': 15708}), hardware=HardwareSystemStatus(version='1.5', serial_number='internal-use-only'), time=TimeSystemStatus(milliseconds_since_boot=3818616, seconds_since_boot=3818, current_time=datetime.datetime(2024, 5, 21, 18, 43, 6, tzinfo=datetime.timezone.utc)))\n"
     ]
    }
   ],
   "source": [
    "status = sensor.system_status()\n",
    "print(status)"
   ]
  },
  {
   "cell_type": "markdown",
   "metadata": {},
   "source": [
    "Print specific information:"
   ]
  },
  {
   "cell_type": "code",
   "execution_count": 5,
   "metadata": {},
   "outputs": [
    {
     "name": "stdout",
     "output_type": "stream",
     "text": [
      "hardware version : 1.5\n",
      "firmware version : 0.1.1\n",
      "sensor clock     : 2024-05-21 20:43:06+02:00\n"
     ]
    }
   ],
   "source": [
    "print(\"hardware version :\",status.hardware.version)\n",
    "print(\"firmware version :\",status.firmware.version)\n",
    "print(\"sensor clock     :\",status.time.current_time.astimezone())"
   ]
  }
 ],
 "metadata": {
  "kernelspec": {
   "display_name": "Python 3",
   "language": "python",
   "name": "python3"
  },
  "language_info": {
   "codemirror_mode": {
    "name": "ipython",
    "version": 3
   },
   "file_extension": ".py",
   "mimetype": "text/x-python",
   "name": "python",
   "nbconvert_exporter": "python",
   "pygments_lexer": "ipython3",
   "version": "3.11.2"
  }
 },
 "nbformat": 4,
 "nbformat_minor": 2
}
