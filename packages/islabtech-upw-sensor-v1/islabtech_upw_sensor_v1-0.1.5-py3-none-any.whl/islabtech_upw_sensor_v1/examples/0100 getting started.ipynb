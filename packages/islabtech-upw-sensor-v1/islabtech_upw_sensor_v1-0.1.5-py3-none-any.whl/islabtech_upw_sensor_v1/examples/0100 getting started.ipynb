{
    "cells": [
        {
            "cell_type": "markdown",
            "metadata": {},
            "source": [
                "# Getting Started\n",
                "\n",
                "This example demostrates reading measurements from the sensor via a network connection. You can either use WiFi or Ethernet."
            ]
        },
        {
            "cell_type": "markdown",
            "metadata": {},
            "source": [
                "First, import the [client library](https://pypi.org/project/islabtech-upw-sensor-v1/):"
            ]
        },
        {
            "cell_type": "code",
            "execution_count": 1,
            "metadata": {},
            "outputs": [],
            "source": [
                "import islabtech_upw_sensor_v1 as upw\n",
                "from time import sleep"
            ]
        },
        {
            "cell_type": "markdown",
            "metadata": {},
            "source": [
                "Then, establish a connection the your sensor. The device shows its IP address(es) on its home screen. The API port is `80`."
            ]
        },
        {
            "cell_type": "code",
            "execution_count": 2,
            "metadata": {},
            "outputs": [],
            "source": [
                "sensor = upw.Device.connect_via_network(\"192.168.1.123\", 80)  # insert sensor IP address"
            ]
        },
        {
            "cell_type": "markdown",
            "metadata": {},
            "source": [
                "Alternatively, you can run the [mock api](https://gitlab.com/islabtech/upw-sensor/api) locally and connect to it. You can also connect to as many sensors as you want simultaneously."
            ]
        },
        {
            "cell_type": "code",
            "execution_count": null,
            "metadata": {},
            "outputs": [],
            "source": [
                "mock_sensor = upw.Device.connect_via_network(\"localhost\", 5000)  # connecting to mock API on localhost"
            ]
        },
        {
            "cell_type": "markdown",
            "metadata": {},
            "source": [
                "Now, the `sensor` object holds the connection and you can read from it:"
            ]
        },
        {
            "cell_type": "code",
            "execution_count": 4,
            "metadata": {},
            "outputs": [
                {
                    "name": "stdout",
                    "output_type": "stream",
                    "text": [
                        "Measurement(timestamp=\"2024/05/21, 19:59:09\", conductivity=0.15022, temperature=None)\n",
                        "Measurement(timestamp=\"2024/05/21, 19:59:09\", conductivity=0.14708, temperature=None)\n",
                        "Measurement(timestamp=\"2024/05/21, 19:59:11\", conductivity=0.14654, temperature=None)\n",
                        "Measurement(timestamp=\"2024/05/21, 19:59:12\", conductivity=0.15082, temperature=None)\n"
                    ]
                }
            ],
            "source": [
                "while True:\n",
                "    print(sensor.latest_measurement())\n",
                "    sleep(1)"
            ]
        }
    ],
    "metadata": {
        "kernelspec": {
            "display_name": "Python 3",
            "language": "python",
            "name": "python3"
        },
        "language_info": {
            "codemirror_mode": {
                "name": "ipython",
                "version": 3
            },
            "file_extension": ".py",
            "mimetype": "text/x-python",
            "name": "python",
            "nbconvert_exporter": "python",
            "pygments_lexer": "ipython3",
            "version": "3.11.2"
        }
    },
    "nbformat": 4,
    "nbformat_minor": 2
}
