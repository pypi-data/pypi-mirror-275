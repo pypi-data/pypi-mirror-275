{
 "cells": [
  {
   "cell_type": "code",
   "execution_count": 17,
   "id": "initial_id",
   "metadata": {
    "collapsed": true,
    "ExecuteTime": {
     "end_time": "2024-05-19T02:17:42.675749Z",
     "start_time": "2024-05-19T02:17:41.733042Z"
    }
   },
   "outputs": [
    {
     "name": "stdout",
     "output_type": "stream",
     "text": [
      "sending messages: [{'role': 'system', 'content': '\\nYou are an expert in providing a Natural Language Interface that converts questions and/or instructions into terminal commands.        \\nYou are renowned for your ability to take a user\\'s question or instruction and create a valid terminal command that works every time.\\nYou do not use preamble, explanation, or pleasantries.  You only respond with valid terminal commands that work with the user\\'s operating system.\\nIf there is no way to create a valid terminal command, simply say \\'No terminal command can facilitate your request\\'.\\nDo not surround the terminal command with any string indicators, like `, \\', or \".\\nHere are some example question/command and what your response should look like:\\n\\nMac OS Example 1:\\nQuestion/Command: Show me the contents of my Documents folder.\\nResponse: ls ~/Documents\\n\\nMac OS Example 2:\\nQuestion/Command: Create a new directory called \\'Projects\\' in my home folder.\\nResponse: mkdir ~/Projects\\n\\nMac OS Example 3:\\nQuestion/Command: Delete the file named \\'old_report.pdf\\' from my Desktop.\\nResponse: rm ~/Desktop/old_report.pdf\\n\\nMac OS Example 4:\\nQuestion/Command: Find all files containing the word \\'budget\\' in my Documents folder.\\nResponse: grep -r \"budget\" ~/Documents\\n\\nMac OS Example 5:\\nQuestion/Command: Check the current available disk space.\\nResponse: df -h\\n\\nMac OS Example 6:\\nQuestion/Command: Fetch the webpage at \\'https://example.com\\' and save it to a file.\\nResponse: curl -o webpage.html https://example.com\\n\\nMac OS Example 7:\\nQuestion/Command: Rename the file \\'draft.txt\\' to \\'final_draft.txt\\'.\\nResponse: mv draft.txt final_draft.txt\\n\\nMac OS Example 8:\\nQuestion/Command: Search for a file named \\'notes.txt\\' in my home folder.\\nResponse: find ~ -name \"notes.txt\"\\n\\nWindows Example 1:\\nQuestion/Command: Show me the contents of my Documents folder.\\nResponse: dir %USERPROFILE%\\\\Documents\\n\\nWindows Example 2:\\nQuestion/Command: Create a new directory called \\'Projects\\' in my home folder.\\nResponse: mkdir %USERPROFILE%\\\\Projects\\n\\nWindows Example 3:\\nQuestion/Command: Delete the file named \\'old_report.pdf\\' from my Desktop.\\nResponse: del %USERPROFILE%\\\\Desktop\\\\old_report.pdf\\n\\nWindows Example 4:\\nQuestion/Command: Find all files containing the word \\'budget\\' in my Documents folder.\\nResponse: findstr /s /i \"budget\" %USERPROFILE%\\\\Documents*\\n\\nWindows Example 5:\\nQuestion/Command: Check the current available disk space.\\nResponse: wmic logicaldisk get size,freespace,caption\\n\\nWindows Example 6:\\nQuestion/Command: Fetch the webpage at \\'https://example.com\\' and save it to a file.\\nResponse: curl -o webpage.html https://example.com\\n\\nWindows Example 7:\\nQuestion/Command: Rename the file \\'draft.txt\\' to \\'final_draft.txt\\'.\\nResponse: ren draft.txt final_draft.txt\\n\\nWindows Example 8:\\nQuestion/Command: Search for a file named \\'notes.txt\\' in my home folder.\\nResponse: dir %USERPROFILE% /s /p | findstr \"notes.txt\"\\n\\nThe user\\'s Operating System is: \\n        System: Mac , macOS: Monterey, osVersion: 12.4'}, {'role': 'user', 'content': \"create a file named 'test_please_delete.tx' and have the contents of it be: Hello Jason how are you?\"}]\n",
      "Invalid JSON: Expecting value: line 1 column 1 (char 0)\n",
      "touch test_please_delete.txt && echo \"Hello Jason how are you?\" >> test_please_delete.txt\n",
      "touch test_please_delete.txt && echo \"Hello Jason how are you?\" >> test_please_delete.txt\n",
      "response is touch test_please_delete.txt && echo \"Hello Jason how are you?\" >> test_please_delete.txt\n"
     ]
    }
   ],
   "source": [
    "from dotenv import load_dotenv\n",
    "load_dotenv()\n",
    "from src.agents.terminal_llama_agent import TerminalLlamaAgent\n",
    "from src.config.config import config\n",
    "\n",
    "\n",
    "import openai\n",
    "\n",
    "openai_client = openai.OpenAI(\n",
    "    base_url=\"http://192.168.0.209:8080/v1\", # \"THIS MUST BE 127.0.0.1, not localhost\n",
    "    api_key = \"sk-no-key-required\"\n",
    "    # api_key=config.get_open_ai_key()\n",
    ")\n",
    "\n",
    "llm_functions_agent = TerminalLlamaAgent(openai_client=openai_client)\n",
    "response = llm_functions_agent.inference(\"create a file named 'test_please_delete.tx' and have the contents of it be: Hello Jason how are you?\")\n",
    "print(f\"response is {response}\")\n",
    "\n",
    "\n",
    "import subprocess\n",
    "import os\n",
    "def run_terminal_command(command):\n",
    "    home_directory = os.path.expanduser(\"~\")\n",
    "    # # Execute the command\n",
    "    # result = subprocess.run(command, shell=True, capture_output=True, text=True, cwd=home_directory)\n",
    "    # # Print the output\n",
    "    # print(result.stdout)\n",
    "    process = subprocess.Popen(command, shell=True, stdout=subprocess.PIPE, stderr=subprocess.PIPE, text=True, cwd=home_directory)\n",
    "\n",
    "    # Stream the output line by line\n",
    "    for line in process.stdout:\n",
    "        print(line, end='')  # 'end' to avoid double newlines\n",
    "    \n",
    "    # Wait for the process to finish and get the return code\n",
    "    return_code = process.wait()\n",
    "    \n",
    "    # Check if there were any errors\n",
    "    if return_code != 0:\n",
    "        for line in process.stderr:\n",
    "            print(line, end='')\n",
    "    \n",
    "run_terminal_command(response)    "
   ]
  },
  {
   "cell_type": "code",
   "execution_count": 2,
   "outputs": [],
   "source": [],
   "metadata": {
    "collapsed": false,
    "ExecuteTime": {
     "end_time": "2024-05-19T02:00:05.448440Z",
     "start_time": "2024-05-19T02:00:05.439819Z"
    }
   },
   "id": "9a3ebd1904328c49"
  },
  {
   "cell_type": "code",
   "execution_count": null,
   "outputs": [],
   "source": [],
   "metadata": {
    "collapsed": false
   },
   "id": "50c81fc5867dfab6"
  }
 ],
 "metadata": {
  "kernelspec": {
   "display_name": "Python 3",
   "language": "python",
   "name": "python3"
  },
  "language_info": {
   "codemirror_mode": {
    "name": "ipython",
    "version": 2
   },
   "file_extension": ".py",
   "mimetype": "text/x-python",
   "name": "python",
   "nbconvert_exporter": "python",
   "pygments_lexer": "ipython2",
   "version": "2.7.6"
  }
 },
 "nbformat": 4,
 "nbformat_minor": 5
}
