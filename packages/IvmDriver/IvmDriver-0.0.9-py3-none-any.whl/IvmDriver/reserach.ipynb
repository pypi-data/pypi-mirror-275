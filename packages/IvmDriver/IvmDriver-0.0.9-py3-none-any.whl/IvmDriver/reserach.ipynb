{
 "cells": [
  {
   "cell_type": "code",
   "execution_count": 85,
   "metadata": {},
   "outputs": [],
   "source": [
    "import os \n",
    "os.chdir('C:\\\\Users\\\\harkum\\\\Documents\\\\6311\\\\Software')"
   ]
  },
  {
   "cell_type": "markdown",
   "metadata": {},
   "source": []
  },
  {
   "cell_type": "code",
   "execution_count": 86,
   "metadata": {},
   "outputs": [
    {
     "name": "stdout",
     "output_type": "stream",
     "text": [
      "{'0': {\"{'Source': {'High': 'SDWN', 'Low': 'GND_S'}, 'Destination': {'High': 'Battery Emulator (BE)', 'Low': 'GND (BE-)'}}\": {'deviceAddr': '0x20', 'relay': {'row': 1, 'col': 1}}, \"{'Source': {'High': 'SDWN', 'Low': 'GND_S'}, 'Destination': {'High': 'Voltmeter (VM)', 'Low': 'GND (VM-)'}}\": {'deviceAddr': '0x20', 'relay': {'row': 1, 'col': 2}}, \"{'Source': {'High': 'SDWN', 'Low': 'GND_S'}, 'Destination': {'High': 'SUPPLY 5V->12V', 'Low': 'GND'}}\": {'deviceAddr': '0x20', 'relay': {'row': 1, 'col': 3}}, \"{'Source': {'High': 'SDWN', 'Low': 'GND_S'}, 'Destination': {'High': 'SUPPLY 3.6V ->11V ->19V', 'Low': 'GND'}}\": {'deviceAddr': '0x20', 'relay': {'row': 1, 'col': 4}}, \"{'Source': {'High': 'SDWN', 'Low': 'GND_S'}, 'Destination': {'High': 'Supply 1.8V', 'Low': 'GND'}}\": {'deviceAddr': '0x20', 'relay': {'row': 1, 'col': 5}}, \"{'Source': {'High': 'VBSO_S', 'Low': 'GND_S'}, 'Destination': {'High': 'Battery Emulator (BE)', 'Low': 'GND (BE-)'}}\": {'deviceAddr': '0x20', 'relay': {'row': 2, 'col': 1}}, \"{'Source': {'High': 'VBSO_S', 'Low': 'GND_S'}, 'Destination': {'High': 'Voltmeter (VM)', 'Low': 'GND (VM-)'}}\": {'deviceAddr': '0x20', 'relay': {'row': 2, 'col': 2}}, \"{'Source': {'High': 'VBSO_S', 'Low': 'GND_S'}, 'Destination': {'High': 'SUPPLY 5V->12V', 'Low': 'GND'}}\": {'deviceAddr': '0x20', 'relay': {'row': 2, 'col': 3}}, \"{'Source': {'High': 'VBSO_S', 'Low': 'GND_S'}, 'Destination': {'High': 'SUPPLY 3.6V ->11V ->19V', 'Low': 'GND'}}\": {'deviceAddr': '0x20', 'relay': {'row': 2, 'col': 4}}, \"{'Source': {'High': 'VBSO_S', 'Low': 'GND_S'}, 'Destination': {'High': 'Supply 1.8V', 'Low': 'GND'}}\": {'deviceAddr': '0x20', 'relay': {'row': 2, 'col': 5}}, \"{'Source': {'High': 'VBAT_S', 'Low': 'GND_S'}, 'Destination': {'High': 'Battery Emulator (BE)', 'Low': 'GND (BE-)'}}\": {'deviceAddr': '0x21', 'relay': {'row': 3, 'col': 1}}, \"{'Source': {'High': 'VBAT_S', 'Low': 'GND_S'}, 'Destination': {'High': 'Voltmeter (VM)', 'Low': 'GND (VM-)'}}\": {'deviceAddr': '0x21', 'relay': {'row': 3, 'col': 2}}, \"{'Source': {'High': 'VBAT_S', 'Low': 'GND_S'}, 'Destination': {'High': 'SUPPLY 5V->12V', 'Low': 'GND'}}\": {'deviceAddr': '0x21', 'relay': {'row': 3, 'col': 3}}, \"{'Source': {'High': 'VBAT_S', 'Low': 'GND_S'}, 'Destination': {'High': 'SUPPLY 3.6V ->11V ->19V', 'Low': 'GND'}}\": {'deviceAddr': '0x21', 'relay': {'row': 3, 'col': 4}}, \"{'Source': {'High': 'VBAT_S', 'Low': 'GND_S'}, 'Destination': {'High': 'Supply 1.8V', 'Low': 'GND'}}\": {'deviceAddr': '0x21', 'relay': {'row': 3, 'col': 5}}, \"{'Source': {'High': 'SW_S', 'Low': 'GND_S'}, 'Destination': {'High': 'Battery Emulator (BE)', 'Low': 'GND (BE-)'}}\": {'deviceAddr': '0x21', 'relay': {'row': 4, 'col': 1}}, \"{'Source': {'High': 'SW_S', 'Low': 'GND_S'}, 'Destination': {'High': 'Voltmeter (VM)', 'Low': 'GND (VM-)'}}\": {'deviceAddr': '0x21', 'relay': {'row': 4, 'col': 2}}, \"{'Source': {'High': 'SW_S', 'Low': 'GND_S'}, 'Destination': {'High': 'SUPPLY 5V->12V', 'Low': 'GND'}}\": {'deviceAddr': '0x21', 'relay': {'row': 4, 'col': 3}}, \"{'Source': {'High': 'SW_S', 'Low': 'GND_S'}, 'Destination': {'High': 'SUPPLY 3.6V ->11V ->19V', 'Low': 'GND'}}\": {'deviceAddr': '0x21', 'relay': {'row': 4, 'col': 4}}, \"{'Source': {'High': 'SW_S', 'Low': 'GND_S'}, 'Destination': {'High': 'Supply 1.8V', 'Low': 'GND'}}\": {'deviceAddr': '0x21', 'relay': {'row': 4, 'col': 5}}, \"{'Source': {'High': 'BIAS_S', 'Low': 'GND_S'}, 'Destination': {'High': 'Battery Emulator (BE)', 'Low': 'GND (BE-)'}}\": {'deviceAddr': '0x22', 'relay': {'row': 5, 'col': 1}}, \"{'Source': {'High': 'BIAS_S', 'Low': 'GND_S'}, 'Destination': {'High': 'Voltmeter (VM)', 'Low': 'GND (VM-)'}}\": {'deviceAddr': '0x22', 'relay': {'row': 5, 'col': 2}}, \"{'Source': {'High': 'BIAS_S', 'Low': 'GND_S'}, 'Destination': {'High': 'SUPPLY 5V->12V', 'Low': 'GND'}}\": {'deviceAddr': '0x22', 'relay': {'row': 5, 'col': 3}}, \"{'Source': {'High': 'BIAS_S', 'Low': 'GND_S'}, 'Destination': {'High': 'SUPPLY 3.6V ->11V ->19V', 'Low': 'GND'}}\": {'deviceAddr': '0x22', 'relay': {'row': 5, 'col': 4}}, \"{'Source': {'High': 'BIAS_S', 'Low': 'GND_S'}, 'Destination': {'High': 'Supply 1.8V', 'Low': 'GND'}}\": {'deviceAddr': '0x22', 'relay': {'row': 5, 'col': 5}}, \"{'Source': {'High': 'BIAS_F', 'Low': 'GND_S'}, 'Destination': {'High': 'Battery Emulator (BE)', 'Low': 'GND (BE-)'}}\": {'deviceAddr': '0x22', 'relay': {'row': 6, 'col': 1}}, \"{'Source': {'High': 'BIAS_F', 'Low': 'GND_S'}, 'Destination': {'High': 'Voltmeter (VM)', 'Low': 'GND (VM-)'}}\": {'deviceAddr': '0x22', 'relay': {'row': 6, 'col': 2}}, \"{'Source': {'High': 'BIAS_F', 'Low': 'GND_S'}, 'Destination': {'High': 'SUPPLY 5V->12V', 'Low': 'GND'}}\": {'deviceAddr': '0x22', 'relay': {'row': 6, 'col': 3}}, \"{'Source': {'High': 'BIAS_F', 'Low': 'GND_S'}, 'Destination': {'High': 'SUPPLY 3.6V ->11V ->19V', 'Low': 'GND'}}\": {'deviceAddr': '0x22', 'relay': {'row': 6, 'col': 4}}, \"{'Source': {'High': 'BIAS_F', 'Low': 'GND_S'}, 'Destination': {'High': 'Supply 1.8V', 'Low': 'GND'}}\": {'deviceAddr': '0x22', 'relay': {'row': 6, 'col': 5}}, \"{'Source': {'High': 'BSO_F', 'Low': 'GND_S'}, 'Destination': {'High': 'Battery Emulator (BE)', 'Low': 'GND (BE-)'}}\": {'deviceAddr': '0x23', 'relay': {'row': 7, 'col': 1}}, \"{'Source': {'High': 'BSO_F', 'Low': 'GND_S'}, 'Destination': {'High': 'Voltmeter (VM)', 'Low': 'GND (VM-)'}}\": {'deviceAddr': '0x23', 'relay': {'row': 7, 'col': 2}}, \"{'Source': {'High': 'BSO_F', 'Low': 'GND_S'}, 'Destination': {'High': 'SUPPLY 5V->12V', 'Low': 'GND'}}\": {'deviceAddr': '0x23', 'relay': {'row': 7, 'col': 3}}, \"{'Source': {'High': 'BSO_F', 'Low': 'GND_S'}, 'Destination': {'High': 'SUPPLY 3.6V ->11V ->19V', 'Low': 'GND'}}\": {'deviceAddr': '0x23', 'relay': {'row': 7, 'col': 4}}, \"{'Source': {'High': 'BSO_F', 'Low': 'GND_S'}, 'Destination': {'High': 'Supply 1.8V', 'Low': 'GND'}}\": {'deviceAddr': '0x23', 'relay': {'row': 7, 'col': 5}}, \"{'Source': {'High': 'SW_F_PIN', 'Low': 'GND_S'}, 'Destination': {'High': 'Battery Emulator (BE)', 'Low': 'GND (BE-)'}}\": {'deviceAddr': '0x23', 'relay': {'row': 8, 'col': 1}}, \"{'Source': {'High': 'SW_F_PIN', 'Low': 'GND_S'}, 'Destination': {'High': 'Voltmeter (VM)', 'Low': 'GND (VM-)'}}\": {'deviceAddr': '0x23', 'relay': {'row': 8, 'col': 2}}, \"{'Source': {'High': 'SW_F_PIN', 'Low': 'GND_S'}, 'Destination': {'High': 'SUPPLY 5V->12V', 'Low': 'GND'}}\": {'deviceAddr': '0x23', 'relay': {'row': 8, 'col': 3}}, \"{'Source': {'High': 'SW_F_PIN', 'Low': 'GND_S'}, 'Destination': {'High': 'SUPPLY 3.6V ->11V ->19V', 'Low': 'GND'}}\": {'deviceAddr': '0x23', 'relay': {'row': 8, 'col': 4}}, \"{'Source': {'High': 'SW_F_PIN', 'Low': 'GND_S'}, 'Destination': {'High': 'Supply 1.8V', 'Low': 'GND'}}\": {'deviceAddr': '0x23', 'relay': {'row': 8, 'col': 5}}}, '1': {\"{'Source': {'High': 'BCLK', 'Low': 'SDI'}, 'Destination': {'High': 'FSYN AP', 'Low': 'GND'}}\": {'deviceAddr': '0x24', 'relay': {'row': 1, 'col': 1}}, \"{'Source': {'High': 'BCLK', 'Low': 'SDI'}, 'Destination': {'High': 'BCLK AP', 'Low': 'SDOAP'}}\": {'deviceAddr': '0x24', 'relay': {'row': 1, 'col': 2}}, \"{'Source': {'High': 'BCLK', 'Low': 'SDI'}, 'Destination': {'High': 'PDMCLK AP', 'Low': 'PDM DATA AP'}}\": {'deviceAddr': '0x24', 'relay': {'row': 1, 'col': 3}}, \"{'Source': {'High': 'BCLK', 'Low': 'SDI'}, 'Destination': {'High': 'ANA OUT N AP', 'Low': 'ANA OUTP AP AC'}}\": {'deviceAddr': '0x24', 'relay': {'row': 1, 'col': 4}}, \"{'Source': {'High': 'BCLK', 'Low': 'SDI'}, 'Destination': {'High': 'ANA OUT N AP', 'Low': 'ANA OUTP AP DC'}}\": {'deviceAddr': '0x24', 'relay': {'row': 1, 'col': 5}}, \"{'Source': {'High': 'BCLK', 'Low': 'SDI'}, 'Destination': {'High': 'VDD_EXT', 'Low': 'GND'}}\": {'deviceAddr': '0x24', 'relay': {'row': 1, 'col': 6}}, \"{'Source': {'High': 'BCLK', 'Low': 'SDI'}, 'Destination': {'High': 'VBAT_PWR_EXT', 'Low': 'GND'}}\": {'deviceAddr': '0x24', 'relay': {'row': 1, 'col': 7}}, \"{'Source': {'High': 'BCLK', 'Low': 'SDI'}, 'Destination': {'High': 'Voltmeter', 'Low': 'GND'}}\": {'deviceAddr': '0x24', 'relay': {'row': 1, 'col': 8}}, \"{'Source': {'High': 'FSYN', 'Low': 'GND'}, 'Destination': {'High': 'FSYN AP', 'Low': 'GND'}}\": {'deviceAddr': '0x24', 'relay': {'row': 2, 'col': 1}}, \"{'Source': {'High': 'FSYN', 'Low': 'GND'}, 'Destination': {'High': 'BCLK AP', 'Low': 'SDOAP'}}\": {'deviceAddr': '0x24', 'relay': {'row': 2, 'col': 2}}, \"{'Source': {'High': 'FSYN', 'Low': 'GND'}, 'Destination': {'High': 'PDMCLK AP', 'Low': 'PDM DATA AP'}}\": {'deviceAddr': '0x24', 'relay': {'row': 2, 'col': 3}}, \"{'Source': {'High': 'FSYN', 'Low': 'GND'}, 'Destination': {'High': 'ANA OUT N AP', 'Low': 'ANA OUTP AP AC'}}\": {'deviceAddr': '0x24', 'relay': {'row': 2, 'col': 4}}, \"{'Source': {'High': 'FSYN', 'Low': 'GND'}, 'Destination': {'High': 'ANA OUT N AP', 'Low': 'ANA OUTP AP DC'}}\": {'deviceAddr': '0x24', 'relay': {'row': 2, 'col': 5}}, \"{'Source': {'High': 'FSYN', 'Low': 'GND'}, 'Destination': {'High': 'VDD_EXT', 'Low': 'GND'}}\": {'deviceAddr': '0x24', 'relay': {'row': 2, 'col': 6}}, \"{'Source': {'High': 'FSYN', 'Low': 'GND'}, 'Destination': {'High': 'VBAT_PWR_EXT', 'Low': 'GND'}}\": {'deviceAddr': '0x24', 'relay': {'row': 2, 'col': 7}}, \"{'Source': {'High': 'FSYN', 'Low': 'GND'}, 'Destination': {'High': 'Voltmeter', 'Low': 'GND'}}\": {'deviceAddr': '0x24', 'relay': {'row': 2, 'col': 8}}, \"{'Source': {'High': 'SDA', 'Low': 'GND'}, 'Destination': {'High': 'FSYN AP', 'Low': 'GND'}}\": {'deviceAddr': '0x25', 'relay': {'row': 3, 'col': 1}}, \"{'Source': {'High': 'SDA', 'Low': 'GND'}, 'Destination': {'High': 'BCLK AP', 'Low': 'SDOAP'}}\": {'deviceAddr': '0x25', 'relay': {'row': 3, 'col': 2}}, \"{'Source': {'High': 'SDA', 'Low': 'GND'}, 'Destination': {'High': 'PDMCLK AP', 'Low': 'PDM DATA AP'}}\": {'deviceAddr': '0x25', 'relay': {'row': 3, 'col': 3}}, \"{'Source': {'High': 'SDA', 'Low': 'GND'}, 'Destination': {'High': 'ANA OUT N AP', 'Low': 'ANA OUTP AP AC'}}\": {'deviceAddr': '0x25', 'relay': {'row': 3, 'col': 4}}, \"{'Source': {'High': 'SDA', 'Low': 'GND'}, 'Destination': {'High': 'ANA OUT N AP', 'Low': 'ANA OUTP AP DC'}}\": {'deviceAddr': '0x25', 'relay': {'row': 3, 'col': 5}}, \"{'Source': {'High': 'SDA', 'Low': 'GND'}, 'Destination': {'High': 'VDD_EXT', 'Low': 'GND'}}\": {'deviceAddr': '0x25', 'relay': {'row': 3, 'col': 6}}, \"{'Source': {'High': 'SDA', 'Low': 'GND'}, 'Destination': {'High': 'VBAT_PWR_EXT', 'Low': 'GND'}}\": {'deviceAddr': '0x25', 'relay': {'row': 3, 'col': 7}}, \"{'Source': {'High': 'SDA', 'Low': 'GND'}, 'Destination': {'High': 'Voltmeter', 'Low': 'GND'}}\": {'deviceAddr': '0x25', 'relay': {'row': 3, 'col': 8}}, \"{'Source': {'High': 'SCL', 'Low': 'GND'}, 'Destination': {'High': 'FSYN AP', 'Low': 'GND'}}\": {'deviceAddr': '0x25', 'relay': {'row': 4, 'col': 1}}, \"{'Source': {'High': 'SCL', 'Low': 'GND'}, 'Destination': {'High': 'BCLK AP', 'Low': 'SDOAP'}}\": {'deviceAddr': '0x25', 'relay': {'row': 4, 'col': 2}}, \"{'Source': {'High': 'SCL', 'Low': 'GND'}, 'Destination': {'High': 'PDMCLK AP', 'Low': 'PDM DATA AP'}}\": {'deviceAddr': '0x25', 'relay': {'row': 4, 'col': 3}}, \"{'Source': {'High': 'SCL', 'Low': 'GND'}, 'Destination': {'High': 'ANA OUT N AP', 'Low': 'ANA OUTP AP AC'}}\": {'deviceAddr': '0x25', 'relay': {'row': 4, 'col': 4}}, \"{'Source': {'High': 'SCL', 'Low': 'GND'}, 'Destination': {'High': 'ANA OUT N AP', 'Low': 'ANA OUTP AP DC'}}\": {'deviceAddr': '0x25', 'relay': {'row': 4, 'col': 5}}, \"{'Source': {'High': 'SCL', 'Low': 'GND'}, 'Destination': {'High': 'VDD_EXT', 'Low': 'GND'}}\": {'deviceAddr': '0x25', 'relay': {'row': 4, 'col': 6}}, \"{'Source': {'High': 'SCL', 'Low': 'GND'}, 'Destination': {'High': 'VBAT_PWR_EXT', 'Low': 'GND'}}\": {'deviceAddr': '0x25', 'relay': {'row': 4, 'col': 7}}, \"{'Source': {'High': 'SCL', 'Low': 'GND'}, 'Destination': {'High': 'Voltmeter', 'Low': 'GND'}}\": {'deviceAddr': '0x25', 'relay': {'row': 4, 'col': 8}}, \"{'Source': {'High': 'BCLK', 'Low': 'GND'}, 'Destination': {'High': 'FSYN AP', 'Low': 'GND'}}\": {'deviceAddr': '0x26', 'relay': {'row': 5, 'col': 1}}, \"{'Source': {'High': 'BCLK', 'Low': 'GND'}, 'Destination': {'High': 'BCLK AP', 'Low': 'SDOAP'}}\": {'deviceAddr': '0x26', 'relay': {'row': 5, 'col': 2}}, \"{'Source': {'High': 'BCLK', 'Low': 'GND'}, 'Destination': {'High': 'PDMCLK AP', 'Low': 'PDM DATA AP'}}\": {'deviceAddr': '0x26', 'relay': {'row': 5, 'col': 3}}, \"{'Source': {'High': 'BCLK', 'Low': 'GND'}, 'Destination': {'High': 'ANA OUT N AP', 'Low': 'ANA OUTP AP AC'}}\": {'deviceAddr': '0x26', 'relay': {'row': 5, 'col': 4}}, \"{'Source': {'High': 'BCLK', 'Low': 'GND'}, 'Destination': {'High': 'ANA OUT N AP', 'Low': 'ANA OUTP AP DC'}}\": {'deviceAddr': '0x26', 'relay': {'row': 5, 'col': 5}}, \"{'Source': {'High': 'BCLK', 'Low': 'GND'}, 'Destination': {'High': 'VDD_EXT', 'Low': 'GND'}}\": {'deviceAddr': '0x26', 'relay': {'row': 5, 'col': 6}}, \"{'Source': {'High': 'BCLK', 'Low': 'GND'}, 'Destination': {'High': 'VBAT_PWR_EXT', 'Low': 'GND'}}\": {'deviceAddr': '0x26', 'relay': {'row': 5, 'col': 7}}, \"{'Source': {'High': 'BCLK', 'Low': 'GND'}, 'Destination': {'High': 'Voltmeter', 'Low': 'GND'}}\": {'deviceAddr': '0x26', 'relay': {'row': 5, 'col': 8}}, \"{'Source': {'High': 'SDI', 'Low': 'GND'}, 'Destination': {'High': 'FSYN AP', 'Low': 'GND'}}\": {'deviceAddr': '0x26', 'relay': {'row': 6, 'col': 1}}, \"{'Source': {'High': 'SDI', 'Low': 'GND'}, 'Destination': {'High': 'BCLK AP', 'Low': 'SDOAP'}}\": {'deviceAddr': '0x26', 'relay': {'row': 6, 'col': 2}}, \"{'Source': {'High': 'SDI', 'Low': 'GND'}, 'Destination': {'High': 'PDMCLK AP', 'Low': 'PDM DATA AP'}}\": {'deviceAddr': '0x26', 'relay': {'row': 6, 'col': 3}}, \"{'Source': {'High': 'SDI', 'Low': 'GND'}, 'Destination': {'High': 'ANA OUT N AP', 'Low': 'ANA OUTP AP AC'}}\": {'deviceAddr': '0x26', 'relay': {'row': 6, 'col': 4}}, \"{'Source': {'High': 'SDI', 'Low': 'GND'}, 'Destination': {'High': 'ANA OUT N AP', 'Low': 'ANA OUTP AP DC'}}\": {'deviceAddr': '0x26', 'relay': {'row': 6, 'col': 5}}, \"{'Source': {'High': 'SDI', 'Low': 'GND'}, 'Destination': {'High': 'VDD_EXT', 'Low': 'GND'}}\": {'deviceAddr': '0x26', 'relay': {'row': 6, 'col': 6}}, \"{'Source': {'High': 'SDI', 'Low': 'GND'}, 'Destination': {'High': 'VBAT_PWR_EXT', 'Low': 'GND'}}\": {'deviceAddr': '0x26', 'relay': {'row': 6, 'col': 7}}, \"{'Source': {'High': 'SDI', 'Low': 'GND'}, 'Destination': {'High': 'Voltmeter', 'Low': 'GND'}}\": {'deviceAddr': '0x26', 'relay': {'row': 6, 'col': 8}}, \"{'Source': {'High': 'VDD', 'Low': 'GND'}, 'Destination': {'High': 'FSYN AP', 'Low': 'GND'}}\": {'deviceAddr': '0x27', 'relay': {'row': 7, 'col': 1}}, \"{'Source': {'High': 'VDD', 'Low': 'GND'}, 'Destination': {'High': 'BCLK AP', 'Low': 'SDOAP'}}\": {'deviceAddr': '0x27', 'relay': {'row': 7, 'col': 2}}, \"{'Source': {'High': 'VDD', 'Low': 'GND'}, 'Destination': {'High': 'PDMCLK AP', 'Low': 'PDM DATA AP'}}\": {'deviceAddr': '0x27', 'relay': {'row': 7, 'col': 3}}, \"{'Source': {'High': 'VDD', 'Low': 'GND'}, 'Destination': {'High': 'ANA OUT N AP', 'Low': 'ANA OUTP AP AC'}}\": {'deviceAddr': '0x27', 'relay': {'row': 7, 'col': 4}}, \"{'Source': {'High': 'VDD', 'Low': 'GND'}, 'Destination': {'High': 'ANA OUT N AP', 'Low': 'ANA OUTP AP DC'}}\": {'deviceAddr': '0x27', 'relay': {'row': 7, 'col': 5}}, \"{'Source': {'High': 'VDD', 'Low': 'GND'}, 'Destination': {'High': 'VDD_EXT', 'Low': 'GND'}}\": {'deviceAddr': '0x27', 'relay': {'row': 7, 'col': 6}}, \"{'Source': {'High': 'VDD', 'Low': 'GND'}, 'Destination': {'High': 'VBAT_PWR_EXT', 'Low': 'GND'}}\": {'deviceAddr': '0x27', 'relay': {'row': 7, 'col': 7}}, \"{'Source': {'High': 'VDD', 'Low': 'GND'}, 'Destination': {'High': 'Voltmeter', 'Low': 'GND'}}\": {'deviceAddr': '0x27', 'relay': {'row': 7, 'col': 8}}, \"{'Source': {'High': 'SW_F', 'Low': 'GND'}, 'Destination': {'High': 'FSYN AP', 'Low': 'GND'}}\": {'deviceAddr': '0x27', 'relay': {'row': 8, 'col': 1}}, \"{'Source': {'High': 'SW_F', 'Low': 'GND'}, 'Destination': {'High': 'BCLK AP', 'Low': 'SDOAP'}}\": {'deviceAddr': '0x27', 'relay': {'row': 8, 'col': 2}}, \"{'Source': {'High': 'SW_F', 'Low': 'GND'}, 'Destination': {'High': 'PDMCLK AP', 'Low': 'PDM DATA AP'}}\": {'deviceAddr': '0x27', 'relay': {'row': 8, 'col': 3}}, \"{'Source': {'High': 'SW_F', 'Low': 'GND'}, 'Destination': {'High': 'ANA OUT N AP', 'Low': 'ANA OUTP AP AC'}}\": {'deviceAddr': '0x27', 'relay': {'row': 8, 'col': 4}}, \"{'Source': {'High': 'SW_F', 'Low': 'GND'}, 'Destination': {'High': 'ANA OUT N AP', 'Low': 'ANA OUTP AP DC'}}\": {'deviceAddr': '0x27', 'relay': {'row': 8, 'col': 5}}, \"{'Source': {'High': 'SW_F', 'Low': 'GND'}, 'Destination': {'High': 'VDD_EXT', 'Low': 'GND'}}\": {'deviceAddr': '0x27', 'relay': {'row': 8, 'col': 6}}, \"{'Source': {'High': 'SW_F', 'Low': 'GND'}, 'Destination': {'High': 'VBAT_PWR_EXT', 'Low': 'GND'}}\": {'deviceAddr': '0x27', 'relay': {'row': 8, 'col': 7}}, \"{'Source': {'High': 'SW_F', 'Low': 'GND'}, 'Destination': {'High': 'Voltmeter', 'Low': 'GND'}}\": {'deviceAddr': '0x27', 'relay': {'row': 8, 'col': 8}}}}\n"
     ]
    }
   ],
   "source": [
    "import json \n",
    "\n",
    "rows = ['SDWN','VBSO_S','VBAT_S','SW_S','BIAS_S','BIAS_F','BSO_F','SW_F_PIN']\n",
    "cols = ['Battery Emulator (BE)','Voltmeter (VM)','SUPPLY 5V->12V','SUPPLY 3.6V ->11V ->19V','Supply 1.8V']\n",
    "with open('driver\\signals\\SignalConfig.json', 'r') as file :\n",
    "    data = json.load(file)\n",
    "    \n",
    "signalMatrix = {}\n",
    "base_addr = 0x20\n",
    "for matrix, signalMap in data.items() :\n",
    "    signalroot = {}\n",
    "    for row, Signal in enumerate(signalMap.get('rowsHigh')):\n",
    "        row = row + 1\n",
    "        for col, instrument in enumerate(signalMap.get('colsHigh')) :\n",
    "            col = col + 1\n",
    "            if  1 <= row  < 3:\n",
    "                device_addr = base_addr + int(matrix) * 4\n",
    "            elif 3 <= row  < 5:\n",
    "                device_addr = base_addr + int(matrix) * 4 + 1\n",
    "            elif 5 <= row  < 7:\n",
    "                device_addr = base_addr + int(matrix) * 4 + 2\n",
    "            elif 7 <= row  < 9:\n",
    "                device_addr = base_addr + int(matrix) * 4 + 3\n",
    "            signalroot.update(\n",
    "                {\n",
    "                    str({\"Source\":{\"High\":Signal,\"Low\":signalMap.get('rowsLow')[row-1] }, \"Destination\" : {\"High\":instrument,\"Low\":signalMap.get('colsLow')[col-1] }}) : {\n",
    "                    \"deviceAddr\" : hex(device_addr),\n",
    "                    \"relay\":{\n",
    "                        \"row\" : row ,\n",
    "                        \"col\":col                    \n",
    "                        }\n",
    "                    }\n",
    "                }\n",
    "            )\n",
    "    signalMatrix.update({\n",
    "        matrix : signalroot\n",
    "    })\n",
    "print(signalMatrix)\n",
    "with open('driver/signals/signalroot_matrix.json','w') as file :\n",
    "    json.dump(signalMatrix ,file,)"
   ]
  },
  {
   "cell_type": "code",
   "execution_count": 87,
   "metadata": {},
   "outputs": [
    {
     "data": {
      "text/plain": [
       "dict"
      ]
     },
     "execution_count": 87,
     "metadata": {},
     "output_type": "execute_result"
    }
   ],
   "source": [
    "# evaluvating the literals\n",
    "from ast import literal_eval\n",
    "x=literal_eval(\"{'source': {'High': 'SDWN', 'Low': 'GND_S'}, 'destination': {'High': 'Battery Emulator (BE)', 'Low': 'GND (BE-)'}}\")\n",
    "type(x)"
   ]
  },
  {
   "cell_type": "markdown",
   "metadata": {},
   "source": [
    "### Signal Identifying pattren"
   ]
  },
  {
   "cell_type": "code",
   "execution_count": 89,
   "metadata": {},
   "outputs": [
    {
     "data": {
      "text/plain": [
       "{'deviceAddr': '0x20', 'relay': {'row': 1, 'col': 2}}"
      ]
     },
     "execution_count": 89,
     "metadata": {},
     "output_type": "execute_result"
    }
   ],
   "source": [
    "from ast import literal_eval\n",
    "from pathlib import Path\n",
    "from typing import List \n",
    "import json \n",
    "import warnings\n",
    "\n",
    "def signalConfig(Source:dict, Destination: dict, Signalroot_file : str) -> dict:\n",
    "    signal_root ={}\n",
    "    with open(Path(Signalroot_file),'r') as file :\n",
    "        signals = json.load(file,)\n",
    "    for  matrix, path_data in signals.items():\n",
    "        \n",
    "        for signal, data in path_data.items():\n",
    "            signal = literal_eval(signal)\n",
    "            if signal.get('Source').get('High') == Source.get('High') and \\\n",
    "                signal.get('Source').get('Low') == Source.get('Low') :\n",
    "                if signal.get('Destination').get('High') == Destination.get('High') and \\\n",
    "                    signal.get('Destination').get('Low') == Destination.get('Low') :\n",
    "                        signal_root = data\n",
    "            #     else:\n",
    "            #         warnings.warn('Destination Path is Wrong .......!')\n",
    "            # else:\n",
    "            #     warnings.warn('Source Path is Wrong .......!')\n",
    "    \n",
    "    return signal_root\n",
    "\n",
    "source = {'High': 'SDWN', 'Low': 'GND_S'}\n",
    "destination = {'High': 'Voltmeter (VM)', 'Low': 'GND (VM-)'}\n",
    "signalConfig(Source=source, Destination=destination,Signalroot_file='driver/signals/signalroot_matrix.json')"
   ]
  }
 ],
 "metadata": {
  "kernelspec": {
   "display_name": "env",
   "language": "python",
   "name": "python3"
  },
  "language_info": {
   "codemirror_mode": {
    "name": "ipython",
    "version": 3
   },
   "file_extension": ".py",
   "mimetype": "text/x-python",
   "name": "python",
   "nbconvert_exporter": "python",
   "pygments_lexer": "ipython3",
   "version": "3.11.5"
  }
 },
 "nbformat": 4,
 "nbformat_minor": 2
}
